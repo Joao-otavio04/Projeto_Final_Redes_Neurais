{
 "cells": [
  {
   "cell_type": "markdown",
   "id": "256d03e0-d373-4468-9f90-907ca268ab63",
   "metadata": {},
   "source": [
    "# Projeto Final Redes Neurais\n",
    "\n",
    "<b> Alunos: </b> João Otávio de Ávila Nascimento, Emelyn Alves e Kayllanny Lara da Silva Oliveira\n",
    "\\\n",
    "<b> Professor: </b> Daniel Cassar"
   ]
  },
  {
   "cell_type": "code",
   "execution_count": 279,
   "id": "cd9a0e90-2997-499e-bfa0-e65cc902c689",
   "metadata": {},
   "outputs": [],
   "source": [
    "import argparse\n",
    "import os\n",
    "from typing import List\n",
    "from typing import Optional\n",
    "\n",
    "import pandas as pd\n",
    "import numpy as np\n",
    "import random\n",
    "import matplotlib.pyplot as plt\n",
    "import seaborn as sns\n",
    "import pickle\n",
    "import torch\n",
    "import pytorch_lightning as pl\n",
    "import lightning as L\n",
    "from lightning.pytorch.callbacks.early_stopping import EarlyStopping\n",
    "import torch.nn as nn\n",
    "import torch.optim as optim\n",
    "from sklearn.metrics import accuracy_score\n",
    "from scipy import stats\n",
    "from sklearn.metrics import mean_squared_error\n",
    "from sklearn.model_selection import train_test_split\n",
    "from sklearn.preprocessing import MaxAbsScaler\n",
    "from torch.nn import functional as F\n",
    "from torch.utils.data import DataLoader, TensorDataset\n",
    "import optuna\n",
    "from optuna import create_study, Trial\n",
    "from optuna.integration import PyTorchLightningPruningCallback\n",
    "from packaging import version"
   ]
  },
  {
   "cell_type": "code",
   "execution_count": 40,
   "id": "4c80cd00-527b-4d15-af88-2b7f0b0b4df8",
   "metadata": {},
   "outputs": [],
   "source": [
    "features = ['Soil_Quality', 'Seed_Variety', 'Fertilizer_Amount_kg_per_hectare', 'Sunny_Days', 'Rainfall_mm', 'Irrigation_Schedule']\n",
    "target = ['Yield_kg_per_hectare']\n",
    "\n",
    "df_teste = pd.read_csv(\"agricultural_yield_test.csv\")\n",
    "df_treino = pd.read_csv(\"agricultural_yield_train.csv\")\n",
    "\n",
    "df_teste = df_teste.reindex(features + target, axis=1)\n",
    "df_teste = df_teste.dropna()\n",
    "\n",
    "df_treino = df_treino.reindex(features + target, axis=1)\n",
    "df_treino = df_treino.dropna()"
   ]
  },
  {
   "cell_type": "code",
   "execution_count": 41,
   "id": "33dbfa1a-6b52-4ea7-b476-09ffc96188fb",
   "metadata": {},
   "outputs": [
    {
     "data": {
      "text/html": [
       "<div>\n",
       "<style scoped>\n",
       "    .dataframe tbody tr th:only-of-type {\n",
       "        vertical-align: middle;\n",
       "    }\n",
       "\n",
       "    .dataframe tbody tr th {\n",
       "        vertical-align: top;\n",
       "    }\n",
       "\n",
       "    .dataframe thead th {\n",
       "        text-align: right;\n",
       "    }\n",
       "</style>\n",
       "<table border=\"1\" class=\"dataframe\">\n",
       "  <thead>\n",
       "    <tr style=\"text-align: right;\">\n",
       "      <th></th>\n",
       "      <th>Soil_Quality</th>\n",
       "      <th>Seed_Variety</th>\n",
       "      <th>Fertilizer_Amount_kg_per_hectare</th>\n",
       "      <th>Sunny_Days</th>\n",
       "      <th>Rainfall_mm</th>\n",
       "      <th>Irrigation_Schedule</th>\n",
       "      <th>Yield_kg_per_hectare</th>\n",
       "    </tr>\n",
       "  </thead>\n",
       "  <tbody>\n",
       "    <tr>\n",
       "      <th>0</th>\n",
       "      <td>93.304721</td>\n",
       "      <td>0</td>\n",
       "      <td>132.522218</td>\n",
       "      <td>96.670922</td>\n",
       "      <td>602.386237</td>\n",
       "      <td>3</td>\n",
       "      <td>278.986563</td>\n",
       "    </tr>\n",
       "    <tr>\n",
       "      <th>1</th>\n",
       "      <td>83.674653</td>\n",
       "      <td>1</td>\n",
       "      <td>57.283997</td>\n",
       "      <td>99.007556</td>\n",
       "      <td>466.518251</td>\n",
       "      <td>8</td>\n",
       "      <td>836.434840</td>\n",
       "    </tr>\n",
       "    <tr>\n",
       "      <th>2</th>\n",
       "      <td>65.963033</td>\n",
       "      <td>1</td>\n",
       "      <td>227.895479</td>\n",
       "      <td>104.844272</td>\n",
       "      <td>510.320495</td>\n",
       "      <td>4</td>\n",
       "      <td>785.881787</td>\n",
       "    </tr>\n",
       "    <tr>\n",
       "      <th>3</th>\n",
       "      <td>78.692834</td>\n",
       "      <td>1</td>\n",
       "      <td>176.314126</td>\n",
       "      <td>90.136191</td>\n",
       "      <td>354.350914</td>\n",
       "      <td>5</td>\n",
       "      <td>807.884526</td>\n",
       "    </tr>\n",
       "    <tr>\n",
       "      <th>4</th>\n",
       "      <td>72.415684</td>\n",
       "      <td>1</td>\n",
       "      <td>160.070418</td>\n",
       "      <td>101.221668</td>\n",
       "      <td>443.993788</td>\n",
       "      <td>10</td>\n",
       "      <td>1064.542374</td>\n",
       "    </tr>\n",
       "    <tr>\n",
       "      <th>...</th>\n",
       "      <td>...</td>\n",
       "      <td>...</td>\n",
       "      <td>...</td>\n",
       "      <td>...</td>\n",
       "      <td>...</td>\n",
       "      <td>...</td>\n",
       "      <td>...</td>\n",
       "    </tr>\n",
       "    <tr>\n",
       "      <th>3995</th>\n",
       "      <td>95.094714</td>\n",
       "      <td>1</td>\n",
       "      <td>124.108262</td>\n",
       "      <td>98.970659</td>\n",
       "      <td>496.705800</td>\n",
       "      <td>5</td>\n",
       "      <td>802.209345</td>\n",
       "    </tr>\n",
       "    <tr>\n",
       "      <th>3996</th>\n",
       "      <td>53.256984</td>\n",
       "      <td>0</td>\n",
       "      <td>100.310322</td>\n",
       "      <td>111.448947</td>\n",
       "      <td>667.056391</td>\n",
       "      <td>8</td>\n",
       "      <td>509.646540</td>\n",
       "    </tr>\n",
       "    <tr>\n",
       "      <th>3997</th>\n",
       "      <td>94.145522</td>\n",
       "      <td>1</td>\n",
       "      <td>196.473704</td>\n",
       "      <td>110.003474</td>\n",
       "      <td>458.241408</td>\n",
       "      <td>3</td>\n",
       "      <td>776.013634</td>\n",
       "    </tr>\n",
       "    <tr>\n",
       "      <th>3998</th>\n",
       "      <td>61.452120</td>\n",
       "      <td>1</td>\n",
       "      <td>80.618357</td>\n",
       "      <td>97.815517</td>\n",
       "      <td>778.652540</td>\n",
       "      <td>4</td>\n",
       "      <td>502.319484</td>\n",
       "    </tr>\n",
       "    <tr>\n",
       "      <th>3999</th>\n",
       "      <td>55.195906</td>\n",
       "      <td>0</td>\n",
       "      <td>122.473239</td>\n",
       "      <td>90.311720</td>\n",
       "      <td>582.999003</td>\n",
       "      <td>4</td>\n",
       "      <td>257.032544</td>\n",
       "    </tr>\n",
       "  </tbody>\n",
       "</table>\n",
       "<p>4000 rows × 7 columns</p>\n",
       "</div>"
      ],
      "text/plain": [
       "      Soil_Quality  Seed_Variety  Fertilizer_Amount_kg_per_hectare  \\\n",
       "0        93.304721             0                        132.522218   \n",
       "1        83.674653             1                         57.283997   \n",
       "2        65.963033             1                        227.895479   \n",
       "3        78.692834             1                        176.314126   \n",
       "4        72.415684             1                        160.070418   \n",
       "...            ...           ...                               ...   \n",
       "3995     95.094714             1                        124.108262   \n",
       "3996     53.256984             0                        100.310322   \n",
       "3997     94.145522             1                        196.473704   \n",
       "3998     61.452120             1                         80.618357   \n",
       "3999     55.195906             0                        122.473239   \n",
       "\n",
       "      Sunny_Days  Rainfall_mm  Irrigation_Schedule  Yield_kg_per_hectare  \n",
       "0      96.670922   602.386237                    3            278.986563  \n",
       "1      99.007556   466.518251                    8            836.434840  \n",
       "2     104.844272   510.320495                    4            785.881787  \n",
       "3      90.136191   354.350914                    5            807.884526  \n",
       "4     101.221668   443.993788                   10           1064.542374  \n",
       "...          ...          ...                  ...                   ...  \n",
       "3995   98.970659   496.705800                    5            802.209345  \n",
       "3996  111.448947   667.056391                    8            509.646540  \n",
       "3997  110.003474   458.241408                    3            776.013634  \n",
       "3998   97.815517   778.652540                    4            502.319484  \n",
       "3999   90.311720   582.999003                    4            257.032544  \n",
       "\n",
       "[4000 rows x 7 columns]"
      ]
     },
     "execution_count": 41,
     "metadata": {},
     "output_type": "execute_result"
    }
   ],
   "source": [
    "df_teste"
   ]
  },
  {
   "cell_type": "code",
   "execution_count": 42,
   "id": "06febe8a-5d14-441f-8fb0-0b3d2f750a2b",
   "metadata": {},
   "outputs": [
    {
     "data": {
      "text/html": [
       "<div>\n",
       "<style scoped>\n",
       "    .dataframe tbody tr th:only-of-type {\n",
       "        vertical-align: middle;\n",
       "    }\n",
       "\n",
       "    .dataframe tbody tr th {\n",
       "        vertical-align: top;\n",
       "    }\n",
       "\n",
       "    .dataframe thead th {\n",
       "        text-align: right;\n",
       "    }\n",
       "</style>\n",
       "<table border=\"1\" class=\"dataframe\">\n",
       "  <thead>\n",
       "    <tr style=\"text-align: right;\">\n",
       "      <th></th>\n",
       "      <th>Soil_Quality</th>\n",
       "      <th>Seed_Variety</th>\n",
       "      <th>Fertilizer_Amount_kg_per_hectare</th>\n",
       "      <th>Sunny_Days</th>\n",
       "      <th>Rainfall_mm</th>\n",
       "      <th>Irrigation_Schedule</th>\n",
       "      <th>Yield_kg_per_hectare</th>\n",
       "    </tr>\n",
       "  </thead>\n",
       "  <tbody>\n",
       "    <tr>\n",
       "      <th>0</th>\n",
       "      <td>96.415657</td>\n",
       "      <td>1</td>\n",
       "      <td>147.853040</td>\n",
       "      <td>94.593926</td>\n",
       "      <td>444.267569</td>\n",
       "      <td>3</td>\n",
       "      <td>683.759119</td>\n",
       "    </tr>\n",
       "    <tr>\n",
       "      <th>1</th>\n",
       "      <td>92.352626</td>\n",
       "      <td>0</td>\n",
       "      <td>281.565396</td>\n",
       "      <td>90.504644</td>\n",
       "      <td>517.585491</td>\n",
       "      <td>7</td>\n",
       "      <td>678.714861</td>\n",
       "    </tr>\n",
       "    <tr>\n",
       "      <th>2</th>\n",
       "      <td>63.714785</td>\n",
       "      <td>1</td>\n",
       "      <td>137.864940</td>\n",
       "      <td>97.329340</td>\n",
       "      <td>420.310945</td>\n",
       "      <td>8</td>\n",
       "      <td>934.691975</td>\n",
       "    </tr>\n",
       "    <tr>\n",
       "      <th>3</th>\n",
       "      <td>90.084256</td>\n",
       "      <td>1</td>\n",
       "      <td>100.946659</td>\n",
       "      <td>113.404828</td>\n",
       "      <td>547.817646</td>\n",
       "      <td>7</td>\n",
       "      <td>905.842541</td>\n",
       "    </tr>\n",
       "    <tr>\n",
       "      <th>4</th>\n",
       "      <td>81.600341</td>\n",
       "      <td>1</td>\n",
       "      <td>223.088908</td>\n",
       "      <td>83.048176</td>\n",
       "      <td>434.726333</td>\n",
       "      <td>6</td>\n",
       "      <td>897.584665</td>\n",
       "    </tr>\n",
       "    <tr>\n",
       "      <th>...</th>\n",
       "      <td>...</td>\n",
       "      <td>...</td>\n",
       "      <td>...</td>\n",
       "      <td>...</td>\n",
       "      <td>...</td>\n",
       "      <td>...</td>\n",
       "      <td>...</td>\n",
       "    </tr>\n",
       "    <tr>\n",
       "      <th>15995</th>\n",
       "      <td>77.053550</td>\n",
       "      <td>1</td>\n",
       "      <td>154.189768</td>\n",
       "      <td>103.115855</td>\n",
       "      <td>319.915079</td>\n",
       "      <td>7</td>\n",
       "      <td>956.781949</td>\n",
       "    </tr>\n",
       "    <tr>\n",
       "      <th>15996</th>\n",
       "      <td>99.795631</td>\n",
       "      <td>1</td>\n",
       "      <td>282.295839</td>\n",
       "      <td>123.598354</td>\n",
       "      <td>647.292136</td>\n",
       "      <td>4</td>\n",
       "      <td>879.682714</td>\n",
       "    </tr>\n",
       "    <tr>\n",
       "      <th>15997</th>\n",
       "      <td>67.478487</td>\n",
       "      <td>1</td>\n",
       "      <td>120.017122</td>\n",
       "      <td>102.308627</td>\n",
       "      <td>514.372747</td>\n",
       "      <td>8</td>\n",
       "      <td>932.829561</td>\n",
       "    </tr>\n",
       "    <tr>\n",
       "      <th>15998</th>\n",
       "      <td>85.176890</td>\n",
       "      <td>1</td>\n",
       "      <td>247.847389</td>\n",
       "      <td>114.956634</td>\n",
       "      <td>695.035801</td>\n",
       "      <td>6</td>\n",
       "      <td>889.738438</td>\n",
       "    </tr>\n",
       "    <tr>\n",
       "      <th>15999</th>\n",
       "      <td>87.838280</td>\n",
       "      <td>0</td>\n",
       "      <td>244.216536</td>\n",
       "      <td>98.313738</td>\n",
       "      <td>590.794915</td>\n",
       "      <td>6</td>\n",
       "      <td>554.698389</td>\n",
       "    </tr>\n",
       "  </tbody>\n",
       "</table>\n",
       "<p>16000 rows × 7 columns</p>\n",
       "</div>"
      ],
      "text/plain": [
       "       Soil_Quality  Seed_Variety  Fertilizer_Amount_kg_per_hectare  \\\n",
       "0         96.415657             1                        147.853040   \n",
       "1         92.352626             0                        281.565396   \n",
       "2         63.714785             1                        137.864940   \n",
       "3         90.084256             1                        100.946659   \n",
       "4         81.600341             1                        223.088908   \n",
       "...             ...           ...                               ...   \n",
       "15995     77.053550             1                        154.189768   \n",
       "15996     99.795631             1                        282.295839   \n",
       "15997     67.478487             1                        120.017122   \n",
       "15998     85.176890             1                        247.847389   \n",
       "15999     87.838280             0                        244.216536   \n",
       "\n",
       "       Sunny_Days  Rainfall_mm  Irrigation_Schedule  Yield_kg_per_hectare  \n",
       "0       94.593926   444.267569                    3            683.759119  \n",
       "1       90.504644   517.585491                    7            678.714861  \n",
       "2       97.329340   420.310945                    8            934.691975  \n",
       "3      113.404828   547.817646                    7            905.842541  \n",
       "4       83.048176   434.726333                    6            897.584665  \n",
       "...           ...          ...                  ...                   ...  \n",
       "15995  103.115855   319.915079                    7            956.781949  \n",
       "15996  123.598354   647.292136                    4            879.682714  \n",
       "15997  102.308627   514.372747                    8            932.829561  \n",
       "15998  114.956634   695.035801                    6            889.738438  \n",
       "15999   98.313738   590.794915                    6            554.698389  \n",
       "\n",
       "[16000 rows x 7 columns]"
      ]
     },
     "execution_count": 42,
     "metadata": {},
     "output_type": "execute_result"
    }
   ],
   "source": [
    "df_treino"
   ]
  },
  {
   "cell_type": "code",
   "execution_count": 43,
   "id": "b5c64276-2d3e-4cb5-84a0-5af7849d3968",
   "metadata": {},
   "outputs": [
    {
     "data": {
      "image/png": "[encoded data removed]",
      "text/plain": [
       "<Figure size 1000x800 with 2 Axes>"
      ]
     },
     "metadata": {},
     "output_type": "display_data"
    }
   ],
   "source": [
    "correlation_matrix = df_treino.corr()\n",
    "\n",
    "plt.figure(figsize=(10, 8))\n",
    "sns.heatmap(correlation_matrix, annot=True, cmap='coolwarm', fmt=\".2f\", linewidths=.5)\n",
    "plt.title('Mapa de Calor da Matriz de Correlação')\n",
    "plt.show()"
   ]
  },
  {
   "cell_type": "code",
   "execution_count": 44,
   "id": "17cfaec4-771d-470a-91a9-b9a707267352",
   "metadata": {},
   "outputs": [],
   "source": [
    "TAMANHO_VALIDACAO = 0.1\n",
    "\n",
    "SEMENTE_ALEATORIA = 61455"
   ]
  },
  {
   "cell_type": "code",
   "execution_count": 45,
   "id": "a929186a-5a9d-464d-8ce2-3934bc857092",
   "metadata": {},
   "outputs": [],
   "source": [
    "X_teste = df_teste.reindex(features, axis=1).values\n",
    "y_teste = df_teste.reindex(target, axis=1).values\n",
    "\n",
    "X_treino = df_treino.reindex(features, axis=1).values\n",
    "y_treino = df_treino.reindex(target, axis=1).values"
   ]
  },
  {
   "cell_type": "code",
   "execution_count": 46,
   "id": "81985628-8b4a-489a-bf64-c73a86997d06",
   "metadata": {},
   "outputs": [
    {
     "name": "stdout",
     "output_type": "stream",
     "text": [
      "RangeIndex(start=0, stop=16000, step=1) 16000\n",
      "Int64Index([ 2519, 11035,  3934, 14982,  4078, 12245, 12217,  9147, 11629,\n",
      "             3768,\n",
      "            ...\n",
      "             6255,  7971, 13014,  6321, 12691,  2256, 10672,  6652, 11166,\n",
      "            13937],\n",
      "           dtype='int64', length=14400) 14400\n",
      "\n",
      "Int64Index([ 8987,  4178,  4313,  1666,  6784, 12065, 10246,  8625,  9889,\n",
      "             6176,\n",
      "            ...\n",
      "             4452, 12565, 12620, 13756, 14945,    97,  8368, 10148, 12993,\n",
      "             5542],\n",
      "           dtype='int64', length=1600) 1600\n"
     ]
    }
   ],
   "source": [
    "indices = df_treino.index\n",
    "print(indices, len(indices))\n",
    "indices_treino, indices_val = train_test_split(\n",
    "    indices, test_size=TAMANHO_VALIDACAO, random_state=SEMENTE_ALEATORIA\n",
    ")\n",
    "\n",
    "print(indices_treino, len(indices_treino))\n",
    "print()\n",
    "print(indices_val, len(indices_val))\n",
    "\n",
    "df_val = df_treino.loc[indices_val]\n",
    "df_treino = df_treino.loc[indices_treino]\n",
    "\n",
    "\n",
    "X_treino = df_treino.reindex(features, axis=1).values\n",
    "y_treino = df_treino.reindex(target, axis=1).values\n",
    "\n",
    "X_val = df_val.reindex(features, axis=1).values\n",
    "y_val = df_val.reindex(target, axis=1).values"
   ]
  },
  {
   "cell_type": "code",
   "execution_count": 47,
   "id": "3013eecc-8daf-45aa-bbc4-12856e5d514d",
   "metadata": {},
   "outputs": [],
   "source": [
    "x_scaler = MaxAbsScaler()\n",
    "x_scaler.fit(X_treino)\n",
    "\n",
    "y_scaler = MaxAbsScaler()\n",
    "y_scaler.fit(y_treino)\n",
    "\n",
    "X_treino = x_scaler.transform(X_treino)\n",
    "y_treino = y_scaler.transform(y_treino)\n",
    "\n",
    "X_val = x_scaler.transform(X_val)\n",
    "y_val = y_scaler.transform(y_val)\n",
    "\n",
    "X_teste = x_scaler.transform(X_teste)\n",
    "y_teste = y_scaler.transform(y_teste)"
   ]
  },
  {
   "cell_type": "code",
   "execution_count": 48,
   "id": "3f409ace-6aff-4971-b0b5-c922900ea9f5",
   "metadata": {},
   "outputs": [],
   "source": [
    "X_treino = torch.tensor(X_treino, dtype=torch.float32)\n",
    "y_treino = torch.tensor(y_treino, dtype=torch.float32)\n",
    "\n",
    "X_val = torch.tensor(X_val, dtype=torch.float32)\n",
    "y_val = torch.tensor(y_val, dtype=torch.float32)\n",
    "\n",
    "X_teste = torch.tensor(X_teste, dtype=torch.float32)\n",
    "y_teste = torch.tensor(y_teste, dtype=torch.float32)"
   ]
  },
  {
   "cell_type": "code",
   "execution_count": 49,
   "id": "7649c343-57d7-4f4e-be34-027770d04625",
   "metadata": {},
   "outputs": [
    {
     "data": {
      "text/plain": [
       "tensor([[0.9331, 0.0000, 0.4418, 0.6788, 0.6905, 0.2000],\n",
       "        [0.8368, 1.0000, 0.1910, 0.6952, 0.5348, 0.5333],\n",
       "        [0.6596, 1.0000, 0.7597, 0.7362, 0.5850, 0.2667],\n",
       "        ...,\n",
       "        [0.9415, 1.0000, 0.6549, 0.7724, 0.5253, 0.2000],\n",
       "        [0.6145, 1.0000, 0.2687, 0.6868, 0.8926, 0.2667],\n",
       "        [0.5520, 0.0000, 0.4083, 0.6341, 0.6683, 0.2667]])"
      ]
     },
     "execution_count": 49,
     "metadata": {},
     "output_type": "execute_result"
    }
   ],
   "source": [
    "X_teste"
   ]
  },
  {
   "cell_type": "code",
   "execution_count": 50,
   "id": "31eba1c4-9937-40be-85b6-46e87456ed3d",
   "metadata": {},
   "outputs": [
    {
     "data": {
      "text/plain": [
       "tensor([[0.2014],\n",
       "        [0.6039],\n",
       "        [0.5674],\n",
       "        ...,\n",
       "        [0.5603],\n",
       "        [0.3627],\n",
       "        [0.1856]])"
      ]
     },
     "execution_count": 50,
     "metadata": {},
     "output_type": "execute_result"
    }
   ],
   "source": [
    "y_teste"
   ]
  },
  {
   "cell_type": "code",
   "execution_count": 51,
   "id": "ab0553d8-586e-4670-b5d5-e4d365b71e97",
   "metadata": {},
   "outputs": [
    {
     "data": {
      "text/plain": [
       "tensor([[0.9795, 0.0000, 0.7640, 0.7867, 0.4237, 0.2000],\n",
       "        [0.9797, 0.0000, 0.9775, 0.5857, 0.6576, 0.2667],\n",
       "        [0.9986, 1.0000, 0.4590, 0.6481, 0.5381, 0.1333],\n",
       "        ...,\n",
       "        [0.6414, 1.0000, 0.9437, 0.7126, 0.5219, 0.3333],\n",
       "        [0.6388, 1.0000, 0.4695, 0.6392, 0.3804, 0.2667],\n",
       "        [0.9902, 1.0000, 0.5284, 0.7755, 0.6688, 0.3333]])"
      ]
     },
     "execution_count": 51,
     "metadata": {},
     "output_type": "execute_result"
    }
   ],
   "source": [
    "X_treino"
   ]
  },
  {
   "cell_type": "code",
   "execution_count": 52,
   "id": "2e45534e-df83-4626-9501-76fbead97e54",
   "metadata": {},
   "outputs": [
    {
     "data": {
      "text/plain": [
       "tensor([[0.3213],\n",
       "        [0.3385],\n",
       "        [0.4438],\n",
       "        ...,\n",
       "        [0.6514],\n",
       "        [0.4705],\n",
       "        [0.5933]])"
      ]
     },
     "execution_count": 52,
     "metadata": {},
     "output_type": "execute_result"
    }
   ],
   "source": [
    "y_treino"
   ]
  },
  {
   "cell_type": "code",
   "execution_count": 53,
   "id": "40d0f187-0813-49e6-99f4-a9b1c09a332a",
   "metadata": {},
   "outputs": [
    {
     "data": {
      "text/plain": [
       "tensor([[0.6182, 1.0000, 0.3226, 0.7208, 0.6738, 0.5333],\n",
       "        [0.9165, 0.0000, 0.1888, 0.6953, 0.4263, 0.0667],\n",
       "        [0.6729, 1.0000, 0.5926, 0.7751, 0.6263, 0.2667],\n",
       "        ...,\n",
       "        [0.7481, 1.0000, 0.2723, 0.6990, 0.4905, 0.4667],\n",
       "        [0.5995, 1.0000, 0.7954, 0.6793, 0.6092, 0.5333],\n",
       "        [0.5068, 1.0000, 0.8737, 0.7273, 0.5378, 0.5333]])"
      ]
     },
     "execution_count": 53,
     "metadata": {},
     "output_type": "execute_result"
    }
   ],
   "source": [
    "X_val"
   ]
  },
  {
   "cell_type": "code",
   "execution_count": 54,
   "id": "8472311b-4833-4f37-81d4-bb53aa3ac334",
   "metadata": {},
   "outputs": [
    {
     "data": {
      "text/plain": [
       "tensor([[0.6336],\n",
       "        [0.1526],\n",
       "        [0.5981],\n",
       "        ...,\n",
       "        [0.5879],\n",
       "        [0.7066],\n",
       "        [0.6803]])"
      ]
     },
     "execution_count": 54,
     "metadata": {},
     "output_type": "execute_result"
    }
   ],
   "source": [
    "y_val"
   ]
  },
  {
   "cell_type": "markdown",
   "id": "762d5e51-fa6f-412d-835a-a9f9c942f2c5",
   "metadata": {},
   "source": [
    "## Treinando a rede com uma arquitetura aleatória"
   ]
  },
  {
   "cell_type": "code",
   "execution_count": 55,
   "id": "fe8e9ebc-f24b-4b74-857c-6f957a345e4f",
   "metadata": {},
   "outputs": [],
   "source": [
    "class DataModule(L.LightningDataModule):\n",
    "    def __init__(\n",
    "        self,\n",
    "        X_treino,\n",
    "        y_treino,\n",
    "        X_val,\n",
    "        y_val,\n",
    "        X_teste,\n",
    "        y_teste,\n",
    "        tamanho_lote = 256,\n",
    "        num_trabalhadores = 2,\n",
    "    ):\n",
    "        super().__init__()\n",
    "\n",
    "        self.tamanho_lote = tamanho_lote\n",
    "        self.num_trabalhadores = num_trabalhadores\n",
    "\n",
    "        self.X_treino = X_treino\n",
    "        self.y_treino = y_treino\n",
    "        self.X_val = X_val\n",
    "        self.y_val = y_val\n",
    "        self.X_teste = X_teste\n",
    "        self.y_teste = y_teste\n",
    "\n",
    "    def train_dataloader(self):\n",
    "        return DataLoader(\n",
    "            TensorDataset(self.X_treino, self.y_treino),\n",
    "            batch_size=self.tamanho_lote,\n",
    "            num_workers=self.num_trabalhadores,\n",
    "        )\n",
    "\n",
    "    def val_dataloader(self):\n",
    "        return DataLoader(\n",
    "            TensorDataset(self.X_val, self.y_val),\n",
    "            batch_size=self.tamanho_lote,\n",
    "            num_workers=self.num_trabalhadores,\n",
    "        )\n",
    "\n",
    "    def test_dataloader(self):\n",
    "        return DataLoader(\n",
    "            TensorDataset(self.X_teste, self.y_teste),\n",
    "            batch_size=self.tamanho_lote,\n",
    "            num_workers=self.num_trabalhadores,\n",
    "        )"
   ]
  },
  {
   "cell_type": "code",
   "execution_count": 79,
   "id": "8135d55a-b982-4dc1-a021-5fa41bdba646",
   "metadata": {},
   "outputs": [],
   "source": [
    "class MLP_teste(L.LightningModule):\n",
    "    def __init__(\n",
    "        self, num_dados_entrada, neuronios_c1, neuronios_c2, num_targets\n",
    "    ):\n",
    "        super().__init__()\n",
    "\n",
    "        self.camadas = nn.Sequential(\n",
    "            nn.Linear(num_dados_entrada, neuronios_c1),\n",
    "            nn.Sigmoid(),\n",
    "            nn.Linear(neuronios_c1, neuronios_c2),\n",
    "            nn.Sigmoid(),\n",
    "            nn.Linear(neuronios_c2, num_targets),\n",
    "        )  \n",
    "        \n",
    "\n",
    "        self.fun_perda = F.mse_loss\n",
    "\n",
    "        self.perdas_treino = []\n",
    "        self.perdas_val = []\n",
    "\n",
    "        self.curva_aprendizado_treino = []\n",
    "        self.curva_aprendizado_val = []\n",
    "\n",
    "    def forward(self, x):\n",
    "        x = self.camadas(x)\n",
    "        return x\n",
    "\n",
    "    def training_step(self, batch, batch_idx):\n",
    "        x, y = batch\n",
    "        y_pred = self(x)\n",
    "        loss = self.fun_perda(y, y_pred)\n",
    "\n",
    "        self.log(\"loss\", loss, prog_bar=True)\n",
    "        self.perdas_treino.append(loss)\n",
    "\n",
    "        return loss\n",
    "\n",
    "    def validation_step(self, batch, batch_idx):\n",
    "        x, y = batch\n",
    "        y_pred = self(x)\n",
    "        loss = self.fun_perda(y, y_pred)\n",
    "\n",
    "        self.log(\"val_loss\", loss, prog_bar=True)\n",
    "        self.perdas_val.append(loss)\n",
    "\n",
    "        return loss\n",
    "\n",
    "    def test_step(self, batch, batch_idx):\n",
    "        x, y = batch\n",
    "        y_pred = self(x)\n",
    "        loss = self.fun_perda(y, y_pred)\n",
    "\n",
    "        self.log(\"test_loss\", loss)\n",
    "\n",
    "        return loss\n",
    "\n",
    "    def on_train_epoch_end(self):\n",
    "        # Atualiza curva de aprendizado\n",
    "        perda_media = torch.stack(self.perdas_treino).mean()\n",
    "        self.curva_aprendizado_treino.append(float(perda_media))\n",
    "        self.perdas_treino.clear()\n",
    "\n",
    "    def on_validation_epoch_end(self):\n",
    "        # Atualiza curva de aprendizado\n",
    "        perda_media = torch.stack(self.perdas_val).mean()\n",
    "        self.curva_aprendizado_val.append(float(perda_media))\n",
    "        self.perdas_val.clear()\n",
    "\n",
    "    def configure_optimizers(self):\n",
    "        optimizer = optim.SGD(self.parameters(), lr=1e-3)\n",
    "        return optimizer"
   ]
  },
  {
   "cell_type": "code",
   "execution_count": 67,
   "id": "0b66d44c-22a5-4c32-ab72-268d61cdfec9",
   "metadata": {},
   "outputs": [
    {
     "name": "stderr",
     "output_type": "stream",
     "text": [
      "GPU available: False, used: False\n",
      "TPU available: False, using: 0 TPU cores\n",
      "IPU available: False, using: 0 IPUs\n",
      "HPU available: False, using: 0 HPUs\n"
     ]
    }
   ],
   "source": [
    "NUM_EPOCAS = 20\n",
    "\n",
    "treinador = L.Trainer(max_epochs=NUM_EPOCAS)"
   ]
  },
  {
   "cell_type": "markdown",
   "id": "807b12a2-3753-446a-9a7b-26e0e31e53c2",
   "metadata": {},
   "source": [
    "Precisamos também criar uma instância da classe `DataModule` que definimos acima.\n",
    "\n"
   ]
  },
  {
   "cell_type": "code",
   "execution_count": 68,
   "id": "65e1650f-3f20-44c4-a4ad-dc8e02d90595",
   "metadata": {},
   "outputs": [],
   "source": [
    "dm = DataModule(X_treino, y_treino, X_val, y_val, X_teste, y_teste)"
   ]
  },
  {
   "cell_type": "markdown",
   "id": "601d792d-489a-4520-8ca0-5843fbf1cf0f",
   "metadata": {},
   "source": [
    "Antes de treinar, precisamos também criar uma instância da rede neural.\n",
    "\n"
   ]
  },
  {
   "cell_type": "code",
   "execution_count": 282,
   "id": "8048c9b8-04e2-4096-980d-7c70dde1ff08",
   "metadata": {},
   "outputs": [
    {
     "name": "stdout",
     "output_type": "stream",
     "text": [
      "30\n"
     ]
    },
    {
     "ename": "NameError",
     "evalue": "name 'MLP_teste' is not defined",
     "output_type": "error",
     "traceback": [
      "\u001b[1;31m---------------------------------------------------------------------------\u001b[0m",
      "\u001b[1;31mNameError\u001b[0m                                 Traceback (most recent call last)",
      "Cell \u001b[1;32mIn [282], line 7\u001b[0m\n\u001b[0;32m      4\u001b[0m \u001b[38;5;28mprint\u001b[39m(neuronios_c1)\n\u001b[0;32m      5\u001b[0m neuronios_c2 \u001b[38;5;241m=\u001b[39m \u001b[38;5;241m2\u001b[39m\n\u001b[1;32m----> 7\u001b[0m mlp_teste \u001b[38;5;241m=\u001b[39m \u001b[43mMLP_teste\u001b[49m(\n\u001b[0;32m      8\u001b[0m     num_dados_de_entrada, neuronios_c1, neuronios_c2, num_dados_de_saida\n\u001b[0;32m      9\u001b[0m )\n",
      "\u001b[1;31mNameError\u001b[0m: name 'MLP_teste' is not defined"
     ]
    }
   ],
   "source": [
    "num_dados_de_entrada = 6\n",
    "num_dados_de_saida = 1\n",
    "neuronios_c1 = random.randint(1, 120)\n",
    "neuronios_c2 = random.randint(1, 120)\n",
    "\n",
    "mlp_teste = MLP_teste(\n",
    "    num_dados_de_entrada, neuronios_c1, neuronios_c2, num_dados_de_saida\n",
    ")"
   ]
  },
  {
   "cell_type": "markdown",
   "id": "59a7c6bf-1dca-4d7a-984c-e4c62978b8cf",
   "metadata": {},
   "source": [
    "Finalmente, temos tudo que precisamos. Podemos rodar o método `fit` do nosso treinador na nossa instância da rede neural, fornecendo também uma instância do `DataModule` como argumento.\n",
    "\n"
   ]
  },
  {
   "cell_type": "code",
   "execution_count": 72,
   "id": "329f537f-7c9c-4ea0-a5c7-e198794bb157",
   "metadata": {},
   "outputs": [
    {
     "name": "stderr",
     "output_type": "stream",
     "text": [
      "\n",
      "  | Name    | Type       | Params\n",
      "---------------------------------------\n",
      "0 | camadas | Sequential | 32    \n",
      "---------------------------------------\n",
      "32        Trainable params\n",
      "0         Non-trainable params\n",
      "32        Total params\n",
      "0.000     Total estimated model params size (MB)\n"
     ]
    },
    {
     "data": {
      "application/vnd.jupyter.widget-view+json": {
       "model_id": "",
       "version_major": 2,
       "version_minor": 0
      },
      "text/plain": [
       "Sanity Checking: |                                                                               | 0/? [00:00<…"
      ]
     },
     "metadata": {},
     "output_type": "display_data"
    },
    {
     "name": "stderr",
     "output_type": "stream",
     "text": [
      "c:\\venv\\ilumpy\\lib\\site-packages\\lightning\\pytorch\\trainer\\connectors\\data_connector.py:436: Consider setting `persistent_workers=True` in 'train_dataloader' to speed up the dataloader worker initialization.\n"
     ]
    },
    {
     "data": {
      "application/vnd.jupyter.widget-view+json": {
       "model_id": "6dcb9795c1f1462dab0cdde1592d76cb",
       "version_major": 2,
       "version_minor": 0
      },
      "text/plain": [
       "Training: |                                                                                      | 0/? [00:00<…"
      ]
     },
     "metadata": {},
     "output_type": "display_data"
    },
    {
     "data": {
      "application/vnd.jupyter.widget-view+json": {
       "model_id": "",
       "version_major": 2,
       "version_minor": 0
      },
      "text/plain": [
       "Validation: |                                                                                    | 0/? [00:00<…"
      ]
     },
     "metadata": {},
     "output_type": "display_data"
    },
    {
     "data": {
      "application/vnd.jupyter.widget-view+json": {
       "model_id": "",
       "version_major": 2,
       "version_minor": 0
      },
      "text/plain": [
       "Validation: |                                                                                    | 0/? [00:00<…"
      ]
     },
     "metadata": {},
     "output_type": "display_data"
    },
    {
     "data": {
      "application/vnd.jupyter.widget-view+json": {
       "model_id": "",
       "version_major": 2,
       "version_minor": 0
      },
      "text/plain": [
       "Validation: |                                                                                    | 0/? [00:00<…"
      ]
     },
     "metadata": {},
     "output_type": "display_data"
    },
    {
     "data": {
      "application/vnd.jupyter.widget-view+json": {
       "model_id": "",
       "version_major": 2,
       "version_minor": 0
      },
      "text/plain": [
       "Validation: |                                                                                    | 0/? [00:00<…"
      ]
     },
     "metadata": {},
     "output_type": "display_data"
    },
    {
     "data": {
      "application/vnd.jupyter.widget-view+json": {
       "model_id": "",
       "version_major": 2,
       "version_minor": 0
      },
      "text/plain": [
       "Validation: |                                                                                    | 0/? [00:00<…"
      ]
     },
     "metadata": {},
     "output_type": "display_data"
    },
    {
     "data": {
      "application/vnd.jupyter.widget-view+json": {
       "model_id": "",
       "version_major": 2,
       "version_minor": 0
      },
      "text/plain": [
       "Validation: |                                                                                    | 0/? [00:00<…"
      ]
     },
     "metadata": {},
     "output_type": "display_data"
    },
    {
     "data": {
      "application/vnd.jupyter.widget-view+json": {
       "model_id": "",
       "version_major": 2,
       "version_minor": 0
      },
      "text/plain": [
       "Validation: |                                                                                    | 0/? [00:00<…"
      ]
     },
     "metadata": {},
     "output_type": "display_data"
    },
    {
     "data": {
      "application/vnd.jupyter.widget-view+json": {
       "model_id": "",
       "version_major": 2,
       "version_minor": 0
      },
      "text/plain": [
       "Validation: |                                                                                    | 0/? [00:00<…"
      ]
     },
     "metadata": {},
     "output_type": "display_data"
    },
    {
     "data": {
      "application/vnd.jupyter.widget-view+json": {
       "model_id": "",
       "version_major": 2,
       "version_minor": 0
      },
      "text/plain": [
       "Validation: |                                                                                    | 0/? [00:00<…"
      ]
     },
     "metadata": {},
     "output_type": "display_data"
    },
    {
     "data": {
      "application/vnd.jupyter.widget-view+json": {
       "model_id": "",
       "version_major": 2,
       "version_minor": 0
      },
      "text/plain": [
       "Validation: |                                                                                    | 0/? [00:00<…"
      ]
     },
     "metadata": {},
     "output_type": "display_data"
    },
    {
     "data": {
      "application/vnd.jupyter.widget-view+json": {
       "model_id": "",
       "version_major": 2,
       "version_minor": 0
      },
      "text/plain": [
       "Validation: |                                                                                    | 0/? [00:00<…"
      ]
     },
     "metadata": {},
     "output_type": "display_data"
    },
    {
     "data": {
      "application/vnd.jupyter.widget-view+json": {
       "model_id": "",
       "version_major": 2,
       "version_minor": 0
      },
      "text/plain": [
       "Validation: |                                                                                    | 0/? [00:00<…"
      ]
     },
     "metadata": {},
     "output_type": "display_data"
    },
    {
     "data": {
      "application/vnd.jupyter.widget-view+json": {
       "model_id": "",
       "version_major": 2,
       "version_minor": 0
      },
      "text/plain": [
       "Validation: |                                                                                    | 0/? [00:00<…"
      ]
     },
     "metadata": {},
     "output_type": "display_data"
    },
    {
     "data": {
      "application/vnd.jupyter.widget-view+json": {
       "model_id": "",
       "version_major": 2,
       "version_minor": 0
      },
      "text/plain": [
       "Validation: |                                                                                    | 0/? [00:00<…"
      ]
     },
     "metadata": {},
     "output_type": "display_data"
    },
    {
     "data": {
      "application/vnd.jupyter.widget-view+json": {
       "model_id": "",
       "version_major": 2,
       "version_minor": 0
      },
      "text/plain": [
       "Validation: |                                                                                    | 0/? [00:00<…"
      ]
     },
     "metadata": {},
     "output_type": "display_data"
    },
    {
     "data": {
      "application/vnd.jupyter.widget-view+json": {
       "model_id": "",
       "version_major": 2,
       "version_minor": 0
      },
      "text/plain": [
       "Validation: |                                                                                    | 0/? [00:00<…"
      ]
     },
     "metadata": {},
     "output_type": "display_data"
    },
    {
     "data": {
      "application/vnd.jupyter.widget-view+json": {
       "model_id": "",
       "version_major": 2,
       "version_minor": 0
      },
      "text/plain": [
       "Validation: |                                                                                    | 0/? [00:00<…"
      ]
     },
     "metadata": {},
     "output_type": "display_data"
    },
    {
     "data": {
      "application/vnd.jupyter.widget-view+json": {
       "model_id": "",
       "version_major": 2,
       "version_minor": 0
      },
      "text/plain": [
       "Validation: |                                                                                    | 0/? [00:00<…"
      ]
     },
     "metadata": {},
     "output_type": "display_data"
    },
    {
     "data": {
      "application/vnd.jupyter.widget-view+json": {
       "model_id": "",
       "version_major": 2,
       "version_minor": 0
      },
      "text/plain": [
       "Validation: |                                                                                    | 0/? [00:00<…"
      ]
     },
     "metadata": {},
     "output_type": "display_data"
    },
    {
     "data": {
      "application/vnd.jupyter.widget-view+json": {
       "model_id": "",
       "version_major": 2,
       "version_minor": 0
      },
      "text/plain": [
       "Validation: |                                                                                    | 0/? [00:00<…"
      ]
     },
     "metadata": {},
     "output_type": "display_data"
    },
    {
     "name": "stderr",
     "output_type": "stream",
     "text": [
      "`Trainer.fit` stopped: `max_epochs=20` reached.\n"
     ]
    }
   ],
   "source": [
    "treinador.fit(mlp_teste, dm)"
   ]
  },
  {
   "cell_type": "code",
   "execution_count": 73,
   "id": "445ad222-a14e-494c-9114-4a0c676c4d96",
   "metadata": {},
   "outputs": [
    {
     "data": {
      "image/png": "[encoded data removed]",
      "text/plain": [
       "<Figure size 640x480 with 1 Axes>"
      ]
     },
     "metadata": {},
     "output_type": "display_data"
    }
   ],
   "source": [
    "figura, eixo = plt.subplots()\n",
    "\n",
    "ca_treino = mlp_teste.curva_aprendizado_treino\n",
    "ca_val = mlp_teste.curva_aprendizado_val\n",
    "\n",
    "eixo.plot(ca_treino, label=\"Treino\")\n",
    "eixo.plot(ca_val, label=\"Validação\")\n",
    "\n",
    "eixo.legend()\n",
    "\n",
    "eixo.set_xlim(left=0)\n",
    "\n",
    "eixo.set_title(\"Curva de aprendizado\")\n",
    "eixo.set_xlabel(\"Época\")\n",
    "eixo.set_ylabel(\"Loss\")"
   ]
  },
  {
   "cell_type": "markdown",
   "id": "4996fce8-190f-492a-b517-49043cfe1cef",
   "metadata": {},
   "source": [
    "## Testando a rede com a arquitetura aleatória"
   ]
  },
  {
   "cell_type": "markdown",
   "id": "87f18a02-c1ce-483f-82a9-18a5efc5b0e9",
   "metadata": {},
   "source": [
    "Antes de testar a rede neural que treinamos precisamos deixá-la no modo de avaliação.\n",
    "\n"
   ]
  },
  {
   "cell_type": "code",
   "execution_count": 74,
   "id": "754349b6-49ae-444e-a56b-f2d7fc10b38d",
   "metadata": {},
   "outputs": [
    {
     "data": {
      "text/plain": [
       "MLP(\n",
       "  (camadas): Sequential(\n",
       "    (0): Linear(in_features=6, out_features=3, bias=True)\n",
       "    (1): Sigmoid()\n",
       "    (2): Linear(in_features=3, out_features=2, bias=True)\n",
       "    (3): Sigmoid()\n",
       "    (4): Linear(in_features=2, out_features=1, bias=True)\n",
       "  )\n",
       ")"
      ]
     },
     "execution_count": 74,
     "metadata": {},
     "output_type": "execute_result"
    }
   ],
   "source": [
    "minha_mlp.eval()"
   ]
  },
  {
   "cell_type": "markdown",
   "id": "c7154a3e-5275-4f7c-ac31-07ec39523c81",
   "metadata": {},
   "source": [
    "Antes de computar a métrica, temos que configurar a instância do `DataModule` no modo teste, criar um ambiente onde não computamos os gradientes locais (ambiente `no_grad`), computar os valores previstos do target e, finalmente, desnormalizar os dados com o `inverse_transform`.\n",
    "\n"
   ]
  },
  {
   "cell_type": "code",
   "execution_count": 78,
   "id": "8130a115-b378-41a7-8783-582edad636ed",
   "metadata": {},
   "outputs": [
    {
     "name": "stdout",
     "output_type": "stream",
     "text": [
      "203.8281770691316\n"
     ]
    }
   ],
   "source": [
    "dm.setup(\"test\")\n",
    "\n",
    "with torch.no_grad():\n",
    "    X_true = dm.X_teste\n",
    "\n",
    "    y_true = dm.y_teste\n",
    "    y_true = y_scaler.inverse_transform(y_true)\n",
    "\n",
    "    y_pred = minha_mlp(X_true)\n",
    "    y_pred = y_scaler.inverse_transform(y_pred)\n",
    "\n",
    "    RMSE = mean_squared_error(y_true, y_pred, squared=False)\n",
    "\n",
    "    print(RMSE)"
   ]
  },
  {
   "cell_type": "markdown",
   "id": "736a76ac-5aa6-4eb3-9c92-0679a68d665c",
   "metadata": {},
   "source": [
    "## Treinando diferentes MLPs\n",
    "\n",
    "Hiperparâmetros: neurônios (cada camada), camadas e dropout."
   ]
  },
  {
   "cell_type": "code",
   "execution_count": 200,
   "id": "90cb5c54-4094-49a0-905b-fda5915ba54c",
   "metadata": {},
   "outputs": [],
   "source": [
    "class MLP(L.LightningModule):\n",
    "    def __init__(\n",
    "        self, num_dados_entrada, num_targets, neuronios, dropouts\n",
    "    ):\n",
    "        super().__init__()    \n",
    "        \n",
    "        camadas = []   \n",
    "        \n",
    "        neuronios = [num_dados_entrada]+neuronios\n",
    "    \n",
    "        for k in range(len(neuronios)-1):\n",
    "            camadas.append(nn.Linear(neuronios[k], neuronios[k+1]))\n",
    "            camadas.append(nn.ReLU())\n",
    "            camadas.append(nn.Dropout(dropouts[k]))\n",
    "        \n",
    "        camadas.append(nn.Linear(neuronios[-1], 1))\n",
    "        \n",
    "        self.camadas = nn.Sequential(*camadas) \n",
    "        \n",
    "\n",
    "        self.fun_perda = F.mse_loss\n",
    "\n",
    "        self.perdas_treino = []\n",
    "        self.perdas_val = []\n",
    "\n",
    "        self.curva_aprendizado_treino = []\n",
    "        self.curva_aprendizado_val = []\n",
    "\n",
    "    def forward(self, x):\n",
    "        x = self.camadas(x)\n",
    "        return x\n",
    "\n",
    "    def training_step(self, batch, batch_idx):\n",
    "        x, y = batch\n",
    "        y_pred = self(x)\n",
    "        loss = self.fun_perda(y, y_pred)\n",
    "\n",
    "        self.log(\"loss\", loss, prog_bar=True)\n",
    "        self.perdas_treino.append(loss)\n",
    "\n",
    "        return loss\n",
    "\n",
    "    def validation_step(self, batch, batch_idx):\n",
    "        x, y = batch\n",
    "        y_pred = self(x)\n",
    "        loss = self.fun_perda(y, y_pred)\n",
    "\n",
    "        self.log(\"val_loss\", loss, prog_bar=True)\n",
    "        self.perdas_val.append(loss)\n",
    "\n",
    "        return loss\n",
    "\n",
    "    def test_step(self, batch, batch_idx):\n",
    "        x, y = batch\n",
    "        y_pred = self(x)\n",
    "        loss = self.fun_perda(y, y_pred)\n",
    "\n",
    "        self.log(\"test_loss\", loss)\n",
    "\n",
    "        return loss\n",
    "\n",
    "    def on_train_epoch_end(self):\n",
    "        # Atualiza curva de aprendizado\n",
    "        perda_media = torch.stack(self.perdas_treino).mean()\n",
    "        self.curva_aprendizado_treino.append(float(perda_media))\n",
    "        self.perdas_treino.clear()\n",
    "\n",
    "    def on_validation_epoch_end(self):\n",
    "        # Atualiza curva de aprendizado\n",
    "        perda_media = torch.stack(self.perdas_val).mean()\n",
    "        self.curva_aprendizado_val.append(float(perda_media))\n",
    "        self.perdas_val.clear()\n",
    "\n",
    "    def configure_optimizers(self):\n",
    "        optimizer = optim.SGD(self.parameters(), lr=1e-3)\n",
    "        return optimizer"
   ]
  },
  {
   "cell_type": "code",
   "execution_count": 265,
   "id": "f99a8e55-cc3a-4df6-ba99-ece7f574bc06",
   "metadata": {},
   "outputs": [],
   "source": [
    "def objective(trial: optuna.trial.Trial) -> float:\n",
    "    \n",
    "    MAX_EPOCHS = 100\n",
    "\n",
    "    # We optimize the number of layers, hidden units in each layer and dropouts.\n",
    "    num_dados_entrada = 6\n",
    "    num_targets = 1\n",
    "    \n",
    "    neuronios = []   \n",
    "    dropouts = []\n",
    "    \n",
    "    n_camadas = trial.suggest_int(\"n_layers\", 1, 5)\n",
    "        \n",
    "    for i in range(n_camadas):\n",
    "        neuronio = trial.suggest_int(f'n_units{i}', 4, 120)\n",
    "        neuronios.append(neuronio)\n",
    "        dropout = trial.suggest_float(\"dropout\", 0.2, 0.5)\n",
    "        dropouts.append(dropout)\n",
    "        \n",
    "    print(neuronios, dropouts)\n",
    "\n",
    "    model = MLP(num_dados_entrada, num_targets, neuronios, dropouts)\n",
    "    datamodule = DataModule(X_treino, y_treino, X_val, y_val, X_teste, y_teste)\n",
    "    \n",
    "    early_stop_callback = EarlyStopping(monitor=\"val_loss\", mode=\"min\", patience=3)\n",
    "    treinador= L.Trainer(max_epochs=MAX_EPOCHS, callbacks=[early_stop_callback]) \n",
    "    \n",
    "    treinador.fit(model, datamodule=datamodule)\n",
    "\n",
    "    return trainer.callback_metrics[\"val_loss\"].item()"
   ]
  },
  {
   "cell_type": "code",
   "execution_count": 276,
   "id": "298c8369-36e2-48d2-9649-836308aeedfa",
   "metadata": {},
   "outputs": [
    {
     "name": "stderr",
     "output_type": "stream",
     "text": [
      "\u001b[32m[I 2024-05-16 09:22:13,892]\u001b[0m A new study created in memory with name: no-name-0bfdfca6-57fb-4261-9903-cbfec566386c\u001b[0m\n",
      "GPU available: False, used: False\n"
     ]
    },
    {
     "name": "stdout",
     "output_type": "stream",
     "text": [
      "[54, 80, 106, 72] [0.43261592689633366, 0.43261592689633366, 0.43261592689633366, 0.43261592689633366]\n"
     ]
    },
    {
     "name": "stderr",
     "output_type": "stream",
     "text": [
      "TPU available: False, using: 0 TPU cores\n",
      "IPU available: False, using: 0 IPUs\n",
      "HPU available: False, using: 0 HPUs\n",
      "\n",
      "  | Name    | Type       | Params\n",
      "---------------------------------------\n",
      "0 | camadas | Sequential | 21.1 K\n",
      "---------------------------------------\n",
      "21.1 K    Trainable params\n",
      "0         Non-trainable params\n",
      "21.1 K    Total params\n",
      "0.085     Total estimated model params size (MB)\n"
     ]
    },
    {
     "data": {
      "application/vnd.jupyter.widget-view+json": {
       "model_id": "",
       "version_major": 2,
       "version_minor": 0
      },
      "text/plain": [
       "Sanity Checking: |                                                                               | 0/? [00:00<…"
      ]
     },
     "metadata": {},
     "output_type": "display_data"
    },
    {
     "data": {
      "application/vnd.jupyter.widget-view+json": {
       "model_id": "f2c11505bf884111bea063f6f88c1e65",
       "version_major": 2,
       "version_minor": 0
      },
      "text/plain": [
       "Training: |                                                                                      | 0/? [00:00<…"
      ]
     },
     "metadata": {},
     "output_type": "display_data"
    },
    {
     "data": {
      "application/vnd.jupyter.widget-view+json": {
       "model_id": "",
       "version_major": 2,
       "version_minor": 0
      },
      "text/plain": [
       "Validation: |                                                                                    | 0/? [00:00<…"
      ]
     },
     "metadata": {},
     "output_type": "display_data"
    },
    {
     "data": {
      "application/vnd.jupyter.widget-view+json": {
       "model_id": "",
       "version_major": 2,
       "version_minor": 0
      },
      "text/plain": [
       "Validation: |                                                                                    | 0/? [00:00<…"
      ]
     },
     "metadata": {},
     "output_type": "display_data"
    },
    {
     "name": "stderr",
     "output_type": "stream",
     "text": [
      "`Trainer.fit` stopped: `max_epochs=2` reached.\n",
      "\u001b[32m[I 2024-05-16 09:22:34,191]\u001b[0m Trial 0 finished with value: 0.10472174733877182 and parameters: {'n_layers': 4, 'n_units0': 54, 'dropout': 0.43261592689633366, 'n_units1': 80, 'n_units2': 106, 'n_units3': 72}. Best is trial 0 with value: 0.10472174733877182.\u001b[0m\n",
      "GPU available: False, used: False\n"
     ]
    },
    {
     "name": "stdout",
     "output_type": "stream",
     "text": [
      "Best trial:\n",
      "  Value: 0.10472174733877182\n",
      "  Params: \n",
      "    n_layers: 4\n",
      "    n_units0: 54\n",
      "    dropout: 0.43261592689633366\n",
      "    n_units1: 80\n",
      "    n_units2: 106\n",
      "    n_units3: 72\n",
      "dict_keys(['n_layers', 'n_units0', 'dropout', 'n_units1', 'n_units2', 'n_units3'])\n",
      "['n_units0', 'n_units1', 'n_units2', 'n_units3']\n",
      "[0.43261592689633366, 0.43261592689633366, 0.43261592689633366, 0.43261592689633366]\n"
     ]
    },
    {
     "name": "stderr",
     "output_type": "stream",
     "text": [
      "TPU available: False, using: 0 TPU cores\n",
      "IPU available: False, using: 0 IPUs\n",
      "HPU available: False, using: 0 HPUs\n",
      "\n",
      "  | Name    | Type       | Params\n",
      "---------------------------------------\n",
      "0 | camadas | Sequential | 21.1 K\n",
      "---------------------------------------\n",
      "21.1 K    Trainable params\n",
      "0         Non-trainable params\n",
      "21.1 K    Total params\n",
      "0.085     Total estimated model params size (MB)\n"
     ]
    },
    {
     "data": {
      "application/vnd.jupyter.widget-view+json": {
       "model_id": "",
       "version_major": 2,
       "version_minor": 0
      },
      "text/plain": [
       "Sanity Checking: |                                                                               | 0/? [00:00<…"
      ]
     },
     "metadata": {},
     "output_type": "display_data"
    },
    {
     "data": {
      "application/vnd.jupyter.widget-view+json": {
       "model_id": "2fc091d302064fd89536aa1c8e358f9f",
       "version_major": 2,
       "version_minor": 0
      },
      "text/plain": [
       "Training: |                                                                                      | 0/? [00:00<…"
      ]
     },
     "metadata": {},
     "output_type": "display_data"
    },
    {
     "data": {
      "application/vnd.jupyter.widget-view+json": {
       "model_id": "",
       "version_major": 2,
       "version_minor": 0
      },
      "text/plain": [
       "Validation: |                                                                                    | 0/? [00:00<…"
      ]
     },
     "metadata": {},
     "output_type": "display_data"
    },
    {
     "data": {
      "application/vnd.jupyter.widget-view+json": {
       "model_id": "",
       "version_major": 2,
       "version_minor": 0
      },
      "text/plain": [
       "Validation: |                                                                                    | 0/? [00:00<…"
      ]
     },
     "metadata": {},
     "output_type": "display_data"
    },
    {
     "data": {
      "application/vnd.jupyter.widget-view+json": {
       "model_id": "",
       "version_major": 2,
       "version_minor": 0
      },
      "text/plain": [
       "Validation: |                                                                                    | 0/? [00:00<…"
      ]
     },
     "metadata": {},
     "output_type": "display_data"
    },
    {
     "name": "stderr",
     "output_type": "stream",
     "text": [
      "`Trainer.fit` stopped: `max_epochs=3` reached.\n"
     ]
    },
    {
     "data": {
      "image/png": "[encoded data removed]",
      "text/plain": [
       "<Figure size 640x480 with 1 Axes>"
      ]
     },
     "metadata": {},
     "output_type": "display_data"
    }
   ],
   "source": [
    "N_TRIALS = 150\n",
    "num_dados_entrada = 6\n",
    "num_targets = 1\n",
    "\n",
    "if __name__ == \"__main__\":\n",
    "    study = optuna.create_study(direction=\"maximize\")\n",
    "    study.optimize(objective, n_trials=N_TRIALS)\n",
    "\n",
    "    print(\"Best trial:\")\n",
    "    trial = study.best_trial\n",
    "    print(f\"  Value: {trial.value}\")\n",
    "    print(\"  Params: \")\n",
    "    for key, value in trial.params.items():\n",
    "        print(f\"    {key}: {value}\")\n",
    "\n",
    "    # Criar DataModule\n",
    "    datamodule = DataModule(X_treino, y_treino, X_val, y_val, X_teste, y_teste)\n",
    "\n",
    "    # Extrair os dataloaders do DataModule\n",
    "    train_dataloader = datamodule.train_dataloader()\n",
    "    val_dataloader = datamodule.val_dataloader()\n",
    "    test_dataloader = datamodule.test_dataloader()\n",
    "    \n",
    "#   print(trial.params.keys())\n",
    " \n",
    "    camadas = [key for key in trial.params.keys() if key.startswith('n_units')]\n",
    "    \n",
    "    neuronios = []\n",
    "    \n",
    "    for k in camadas:\n",
    "        neuronios.append(trial.params[f'{k}'])\n",
    "    \n",
    "    dropouts = [trial.params.get('dropout')] * len(camadas)\n",
    "    \n",
    "#   print(camadas)\n",
    "#   print(dropouts)\n",
    "    \n",
    "    # Criar o modelo com os parâmetros do melhor teste\n",
    "    melhor_modelo = MLP(num_dados_entrada, num_targets, neuronios, dropouts)\n",
    "\n",
    "    # Treinar o modelo com o Trainer\n",
    "    treinador = L.Trainer(max_epochs=3)\n",
    "    treinador.fit(melhor_modelo, train_dataloaders=train_dataloader, val_dataloaders=val_dataloader)\n",
    "    \n",
    "    # Plot treino e validação\n",
    "    \n",
    "    figura, eixo = plt.subplots()\n",
    "\n",
    "    ca_treino_melhor_modelo = melhor_modelo.curva_aprendizado_treino\n",
    "    ca_val_melhor_modelo = melhor_modelo.curva_aprendizado_val\n",
    "\n",
    "    eixo.plot(ca_treino_melhor_modelo, label=\"Treino\")\n",
    "    eixo.plot(ca_val_melhor_modelo, label=\"Validação\")\n",
    "\n",
    "    eixo.legend()\n",
    "\n",
    "    eixo.set_xlim(left=0)\n",
    "\n",
    "    eixo.set_title(\"Curva de aprendizado\")\n",
    "    eixo.set_xlabel(\"Época\")\n",
    "    eixo.set_ylabel(\"Loss\")"
   ]
  },
  {
   "cell_type": "markdown",
   "id": "378fd70e-9f6f-45ac-808a-0d95fd19c5ee",
   "metadata": {},
   "source": [
    "## Testando o melhor modelo encontrado"
   ]
  },
  {
   "cell_type": "markdown",
   "id": "80cd7171-ea51-4c62-91cf-8a090aaa6a81",
   "metadata": {},
   "source": [
    "Antes de testar a rede neural que treinamos precisamos deixá-la no modo de avaliação.\n",
    "\n"
   ]
  },
  {
   "cell_type": "code",
   "execution_count": 74,
   "id": "69fe9771-04e6-4488-9da3-3c4529e845e5",
   "metadata": {},
   "outputs": [
    {
     "data": {
      "text/plain": [
       "MLP(\n",
       "  (camadas): Sequential(\n",
       "    (0): Linear(in_features=6, out_features=3, bias=True)\n",
       "    (1): Sigmoid()\n",
       "    (2): Linear(in_features=3, out_features=2, bias=True)\n",
       "    (3): Sigmoid()\n",
       "    (4): Linear(in_features=2, out_features=1, bias=True)\n",
       "  )\n",
       ")"
      ]
     },
     "execution_count": 74,
     "metadata": {},
     "output_type": "execute_result"
    }
   ],
   "source": [
    "melhor_modelo.eval()"
   ]
  },
  {
   "cell_type": "markdown",
   "id": "ff09ed16-7e00-46d4-8382-5136c79018f7",
   "metadata": {},
   "source": [
    "Antes de computar a métrica, temos que configurar a instância do `DataModule` no modo teste, criar um ambiente onde não computamos os gradientes locais (ambiente `no_grad`), computar os valores previstos do target e, finalmente, desnormalizar os dados com o `inverse_transform`.\n",
    "\n"
   ]
  },
  {
   "cell_type": "code",
   "execution_count": 78,
   "id": "bc11d536-b329-4876-86dd-14ee9f802a48",
   "metadata": {},
   "outputs": [
    {
     "name": "stdout",
     "output_type": "stream",
     "text": [
      "203.8281770691316\n"
     ]
    }
   ],
   "source": [
    "datamodule.setup(\"test\")\n",
    "\n",
    "with torch.no_grad():\n",
    "    X_true = datamodule.X_teste\n",
    "\n",
    "    y_true = datamodule.y_teste\n",
    "    y_true = y_scaler.inverse_transform(y_true)\n",
    "\n",
    "    y_pred = melhor_modelo(X_true)\n",
    "    y_pred = y_scaler.inverse_transform(y_pred)\n",
    "\n",
    "    RMSE = mean_squared_error(y_true, y_pred, squared=False)\n",
    "\n",
    "    print(RMSE)"
   ]
  },
  {
   "cell_type": "markdown",
   "id": "e62258da-6006-41a9-96c8-c8d7f4ea127d",
   "metadata": {},
   "source": [
    "## Playground"
   ]
  },
  {
   "cell_type": "code",
   "execution_count": 272,
   "id": "9883ad1f-5be4-4baf-9f4b-83c07b79fa35",
   "metadata": {},
   "outputs": [
    {
     "data": {
      "text/plain": [
       "[3, 3, 3]"
      ]
     },
     "execution_count": 272,
     "metadata": {},
     "output_type": "execute_result"
    }
   ],
   "source": [
    "dic = {'n_layers': 2, 'n_units0': 100, 'dropout': 0.28392562152905326, 'n_units1': 66}\n",
    "\n",
    "#len(dic)\n",
    "\n",
    "# n_units_keys = [key for key in dic.keys() if key.startswith('n_units')]\n",
    "\n",
    "# for k in n_units_keys:\n",
    "#     print(dic[f'{k}'])\n",
    "\n",
    "\n",
    "# dic[list(dic.keys())[1]]\n",
    "\n",
    "# dic.get('dropout')\n",
    "\n",
    "# l = [3] * 3\n",
    "# l"
   ]
  },
  {
   "cell_type": "code",
   "execution_count": 277,
   "id": "a837772c-82be-4249-b4e6-6667bf577871",
   "metadata": {},
   "outputs": [
    {
     "name": "stderr",
     "output_type": "stream",
     "text": [
      "\u001b[32m[I 2024-05-16 13:14:17,661]\u001b[0m A new study created in memory with name: no-name-fb25d6ed-d5ea-4147-b66b-c9d643581198\u001b[0m\n",
      "\u001b[33m[W 2024-05-16 13:14:17,777]\u001b[0m Trial 0 failed because of the following error: The number of the values 4 did not match the number of the objectives 1.\u001b[0m\n",
      "\u001b[33m[W 2024-05-16 13:14:17,793]\u001b[0m Trial 1 failed because of the following error: The number of the values 5 did not match the number of the objectives 1.\u001b[0m\n",
      "\u001b[33m[W 2024-05-16 13:14:17,811]\u001b[0m Trial 2 failed because of the following error: The number of the values 3 did not match the number of the objectives 1.\u001b[0m\n",
      "\u001b[33m[W 2024-05-16 13:14:17,831]\u001b[0m Trial 3 failed because of the following error: The number of the values 5 did not match the number of the objectives 1.\u001b[0m\n",
      "\u001b[32m[I 2024-05-16 13:14:17,843]\u001b[0m Trial 4 finished with value: 107.0 and parameters: {'n_layers': 1, 'n_units0': 107}. Best is trial 4 with value: 107.0.\u001b[0m\n",
      "\u001b[33m[W 2024-05-16 13:14:17,861]\u001b[0m Trial 5 failed because of the following error: The number of the values 2 did not match the number of the objectives 1.\u001b[0m\n",
      "\u001b[33m[W 2024-05-16 13:14:17,872]\u001b[0m Trial 6 failed because of the following error: The number of the values 5 did not match the number of the objectives 1.\u001b[0m\n",
      "\u001b[33m[W 2024-05-16 13:14:17,883]\u001b[0m Trial 7 failed because of the following error: The number of the values 3 did not match the number of the objectives 1.\u001b[0m\n",
      "\u001b[33m[W 2024-05-16 13:14:17,902]\u001b[0m Trial 8 failed because of the following error: The number of the values 3 did not match the number of the objectives 1.\u001b[0m\n",
      "\u001b[33m[W 2024-05-16 13:14:17,916]\u001b[0m Trial 9 failed because of the following error: The number of the values 3 did not match the number of the objectives 1.\u001b[0m\n"
     ]
    },
    {
     "name": "stdout",
     "output_type": "stream",
     "text": [
      "camadas= 4\n",
      "Layer 1:\n",
      "Saida: 4\n",
      "[4]\n",
      "\n",
      "\n",
      "Layer 2:\n",
      "Saida: 4\n",
      "[4, 4]\n",
      "\n",
      "\n",
      "Layer 3:\n",
      "Saida: 45\n",
      "[4, 4, 45]\n",
      "\n",
      "\n",
      "Layer 4:\n",
      "Saida: 22\n",
      "[4, 4, 45, 22]\n",
      "\n",
      "\n",
      "sequential-> Sequential(\n",
      "  (0): Linear(in_features=4, out_features=4, bias=True)\n",
      "  (1): Sigmoid()\n",
      "  (2): Linear(in_features=4, out_features=45, bias=True)\n",
      "  (3): Sigmoid()\n",
      "  (4): Linear(in_features=45, out_features=22, bias=True)\n",
      "  (5): Sigmoid()\n",
      "  (6): Linear(in_features=22, out_features=1, bias=True)\n",
      ")\n",
      "camadas= 5\n",
      "Layer 1:\n",
      "Saida: 32\n",
      "[32]\n",
      "\n",
      "\n",
      "Layer 2:\n",
      "Saida: 4\n",
      "[32, 4]\n",
      "\n",
      "\n",
      "Layer 3:\n",
      "Saida: 4\n",
      "[32, 4, 4]\n",
      "\n",
      "\n",
      "Layer 4:\n",
      "Saida: 34\n",
      "[32, 4, 4, 34]\n",
      "\n",
      "\n",
      "Layer 5:\n",
      "Saida: 5\n",
      "[32, 4, 4, 34, 5]\n",
      "\n",
      "\n",
      "sequential-> Sequential(\n",
      "  (0): Linear(in_features=32, out_features=4, bias=True)\n",
      "  (1): Sigmoid()\n",
      "  (2): Linear(in_features=4, out_features=4, bias=True)\n",
      "  (3): Sigmoid()\n",
      "  (4): Linear(in_features=4, out_features=34, bias=True)\n",
      "  (5): Sigmoid()\n",
      "  (6): Linear(in_features=34, out_features=5, bias=True)\n",
      "  (7): Sigmoid()\n",
      "  (8): Linear(in_features=5, out_features=1, bias=True)\n",
      ")\n",
      "camadas= 3\n",
      "Layer 1:\n",
      "Saida: 37\n",
      "[37]\n",
      "\n",
      "\n",
      "Layer 2:\n",
      "Saida: 4\n",
      "[37, 4]\n",
      "\n",
      "\n",
      "Layer 3:\n",
      "Saida: 8\n",
      "[37, 4, 8]\n",
      "\n",
      "\n",
      "sequential-> Sequential(\n",
      "  (0): Linear(in_features=37, out_features=4, bias=True)\n",
      "  (1): Sigmoid()\n",
      "  (2): Linear(in_features=4, out_features=8, bias=True)\n",
      "  (3): Sigmoid()\n",
      "  (4): Linear(in_features=8, out_features=1, bias=True)\n",
      ")\n",
      "camadas= 5\n",
      "Layer 1:\n",
      "Saida: 95\n",
      "[95]\n",
      "\n",
      "\n",
      "Layer 2:\n",
      "Saida: 59\n",
      "[95, 59]\n",
      "\n",
      "\n",
      "Layer 3:\n",
      "Saida: 91\n",
      "[95, 59, 91]\n",
      "\n",
      "\n",
      "Layer 4:\n",
      "Saida: 57\n",
      "[95, 59, 91, 57]\n",
      "\n",
      "\n",
      "Layer 5:\n",
      "Saida: 13\n",
      "[95, 59, 91, 57, 13]\n",
      "\n",
      "\n",
      "sequential-> Sequential(\n",
      "  (0): Linear(in_features=95, out_features=59, bias=True)\n",
      "  (1): Sigmoid()\n",
      "  (2): Linear(in_features=59, out_features=91, bias=True)\n",
      "  (3): Sigmoid()\n",
      "  (4): Linear(in_features=91, out_features=57, bias=True)\n",
      "  (5): Sigmoid()\n",
      "  (6): Linear(in_features=57, out_features=13, bias=True)\n",
      "  (7): Sigmoid()\n",
      "  (8): Linear(in_features=13, out_features=1, bias=True)\n",
      ")\n",
      "camadas= 1\n",
      "Layer 1:\n",
      "Saida: 107\n",
      "[107]\n",
      "\n",
      "\n",
      "sequential-> Sequential(\n",
      "  (0): Linear(in_features=107, out_features=1, bias=True)\n",
      ")\n",
      "camadas= 2\n",
      "Layer 1:\n",
      "Saida: 17\n",
      "[17]\n",
      "\n",
      "\n",
      "Layer 2:\n",
      "Saida: 11\n",
      "[17, 11]\n",
      "\n",
      "\n",
      "sequential-> Sequential(\n",
      "  (0): Linear(in_features=17, out_features=11, bias=True)\n",
      "  (1): Sigmoid()\n",
      "  (2): Linear(in_features=11, out_features=1, bias=True)\n",
      ")\n",
      "camadas= 5\n",
      "Layer 1:\n",
      "Saida: 7\n",
      "[7]\n",
      "\n",
      "\n",
      "Layer 2:\n",
      "Saida: 118\n",
      "[7, 118]\n",
      "\n",
      "\n",
      "Layer 3:\n",
      "Saida: 57\n",
      "[7, 118, 57]\n",
      "\n",
      "\n",
      "Layer 4:\n",
      "Saida: 5\n",
      "[7, 118, 57, 5]\n",
      "\n",
      "\n",
      "Layer 5:\n",
      "Saida: 27\n",
      "[7, 118, 57, 5, 27]\n",
      "\n",
      "\n",
      "sequential-> Sequential(\n",
      "  (0): Linear(in_features=7, out_features=118, bias=True)\n",
      "  (1): Sigmoid()\n",
      "  (2): Linear(in_features=118, out_features=57, bias=True)\n",
      "  (3): Sigmoid()\n",
      "  (4): Linear(in_features=57, out_features=5, bias=True)\n",
      "  (5): Sigmoid()\n",
      "  (6): Linear(in_features=5, out_features=27, bias=True)\n",
      "  (7): Sigmoid()\n",
      "  (8): Linear(in_features=27, out_features=1, bias=True)\n",
      ")\n",
      "camadas= 3\n",
      "Layer 1:\n",
      "Saida: 20\n",
      "[20]\n",
      "\n",
      "\n",
      "Layer 2:\n",
      "Saida: 9\n",
      "[20, 9]\n",
      "\n",
      "\n",
      "Layer 3:\n",
      "Saida: 10\n",
      "[20, 9, 10]\n",
      "\n",
      "\n",
      "sequential-> Sequential(\n",
      "  (0): Linear(in_features=20, out_features=9, bias=True)\n",
      "  (1): Sigmoid()\n",
      "  (2): Linear(in_features=9, out_features=10, bias=True)\n",
      "  (3): Sigmoid()\n",
      "  (4): Linear(in_features=10, out_features=1, bias=True)\n",
      ")\n",
      "camadas= 3\n",
      "Layer 1:\n",
      "Saida: 4\n",
      "[4]\n",
      "\n",
      "\n",
      "Layer 2:\n",
      "Saida: 4\n",
      "[4, 4]\n",
      "\n",
      "\n",
      "Layer 3:\n",
      "Saida: 60\n",
      "[4, 4, 60]\n",
      "\n",
      "\n",
      "sequential-> Sequential(\n",
      "  (0): Linear(in_features=4, out_features=4, bias=True)\n",
      "  (1): Sigmoid()\n",
      "  (2): Linear(in_features=4, out_features=60, bias=True)\n",
      "  (3): Sigmoid()\n",
      "  (4): Linear(in_features=60, out_features=1, bias=True)\n",
      ")\n",
      "camadas= 3\n",
      "Layer 1:\n",
      "Saida: 96\n",
      "[96]\n",
      "\n",
      "\n",
      "Layer 2:\n",
      "Saida: 53\n",
      "[96, 53]\n",
      "\n",
      "\n",
      "Layer 3:\n",
      "Saida: 18\n",
      "[96, 53, 18]\n",
      "\n",
      "\n",
      "sequential-> Sequential(\n",
      "  (0): Linear(in_features=96, out_features=53, bias=True)\n",
      "  (1): Sigmoid()\n",
      "  (2): Linear(in_features=53, out_features=18, bias=True)\n",
      "  (3): Sigmoid()\n",
      "  (4): Linear(in_features=18, out_features=1, bias=True)\n",
      ")\n",
      "Best trial:\n",
      "  Value: 107.0\n",
      "  Params: \n",
      "    n_layers: 1\n",
      "    n_units0: 107\n"
     ]
    }
   ],
   "source": [
    "# num_dados_de_entrada = 6\n",
    "# num_dados_de_saida = 1\n",
    "   \n",
    "# minha_mlp = MLP(num_dados_de_entrada, num_dados_de_saida, [2, 5, 4])\n",
    "    \n",
    "# minha_mlp\n",
    "\n",
    "def objective(trial):\n",
    "    num_dados_entrada = 6\n",
    "    num_targets = 1\n",
    "    camadas = []   \n",
    "    \n",
    "    n_camadas = trial.suggest_int(\"n_layers\", 1, 5)\n",
    "    print('camadas=', n_camadas)\n",
    "        \n",
    "    for i in range(n_camadas):\n",
    "        neuronio = trial.suggest_int(f'n_units{i}', 4, 120, log=True)\n",
    "        camadas.append(neuronio)\n",
    "        \n",
    "    \n",
    "    \n",
    "        print(f\"Layer {i+1}:\")\n",
    "        print(f\"Saida: {neuronio}\")\n",
    "        print(camadas)\n",
    "        print()\n",
    "        print()\n",
    "    \n",
    "    camadas_seq = []   \n",
    "    \n",
    "    for k in range(len(camadas)-1):\n",
    "        camadas_seq.append(nn.Linear(camadas[k], camadas[k+1]))\n",
    "        camadas_seq.append(nn.Sigmoid())\n",
    "        \n",
    "    camadas_seq.append(nn.Linear(camadas[-1], 1))\n",
    "    camadas_seq = nn.Sequential(*camadas_seq)\n",
    "    print('sequential->', camadas_seq)\n",
    "    \n",
    "    return camadas\n",
    "\n",
    "if __name__ == \"__main__\":\n",
    "    study = optuna.create_study(direction=\"maximize\")\n",
    "    study.optimize(objective, n_trials=10)\n",
    "\n",
    "    print(\"Best trial:\")\n",
    "    trial = study.best_trial\n",
    "    print(f\"  Value: {trial.value}\")\n",
    "    print(\"  Params: \")\n",
    "    for key, value in trial.params.items():\n",
    "        print(f\"    {key}: {value}\")\n",
    "\n"
   ]
  }
 ],
 "metadata": {
  "kernelspec": {
   "display_name": "ilumpy",
   "language": "python",
   "name": "ilumpy"
  },
  "language_info": {
   "codemirror_mode": {
    "name": "ipython",
    "version": 3
   },
   "file_extension": ".py",
   "mimetype": "text/x-python",
   "name": "python",
   "nbconvert_exporter": "python",
   "pygments_lexer": "ipython3",
   "version": "3.10.8"
  }
 },
 "nbformat": 4,
 "nbformat_minor": 5
}
