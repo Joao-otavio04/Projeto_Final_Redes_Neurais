{
 "cells": [
  {
   "cell_type": "markdown",
   "id": "256d03e0-d373-4468-9f90-907ca268ab63",
   "metadata": {},
   "source": [
    "# Projeto final 1 - Previsão de rendimento agrícola por redes neurais tipo MLP\n",
    "\n",
    "<b> Grupo: </b> João O. de A. Nascimento, Emelyn Alves e Kayllanny L. da S. Oliveira\n",
    "\\\n",
    "<b> Professor: </b> Daniel R. Cassar\n",
    "\\\n",
    "<b> Disciplina: </b> Redes Neurais e Algoritmos Genéticos"
   ]
  },
  {
   "cell_type": "markdown",
   "id": "4d99d41e-69e8-47fd-a440-38791f7a09bf",
   "metadata": {
    "tags": []
   },
   "source": [
    "## Importando bibliotecas"
   ]
  },
  {
   "cell_type": "markdown",
   "id": "216a47e8-002e-430a-8461-65f82337663a",
   "metadata": {},
   "source": [
    "Inicialmente, é necessária a importação das bibliotecas (contidas na célula abaixo). Isso garante que todas as dependências e ferramentas essenciais estejam disponíveis para execução correta e eficiente do código. "
   ]
  },
  {
   "cell_type": "code",
   "execution_count": 1,
   "id": "cd9a0e90-2997-499e-bfa0-e65cc902c689",
   "metadata": {},
   "outputs": [
    {
     "name": "stderr",
     "output_type": "stream",
     "text": [
      "/home/joao23022/anaconda3/envs/redes/lib/python3.12/site-packages/tqdm/auto.py:21: TqdmWarning: IProgress not found. Please update jupyter and ipywidgets. See https://ipywidgets.readthedocs.io/en/stable/user_install.html\n",
      "  from .autonotebook import tqdm as notebook_tqdm\n"
     ]
    }
   ],
   "source": [
    "import pandas as pd\n",
    "import random\n",
    "import matplotlib.pyplot as plt\n",
    "import seaborn as sns\n",
    "import torch\n",
    "from lightning.pytorch.callbacks.early_stopping import EarlyStopping\n",
    "import torch.nn as nn\n",
    "import torch.optim as optim\n",
    "from sklearn.metrics import mean_squared_error\n",
    "from sklearn.model_selection import train_test_split\n",
    "from sklearn.preprocessing import MaxAbsScaler\n",
    "from torch.nn import functional as F\n",
    "from torch.utils.data import DataLoader, TensorDataset\n",
    "import optuna\n",
    "import lightning as L"
   ]
  },
  {
   "cell_type": "markdown",
   "id": "34bb2aff-037f-4765-89ea-4a5e1aaf7fa0",
   "metadata": {},
   "source": [
    "## Importando e tratando conjunto de dados "
   ]
  },
  {
   "cell_type": "markdown",
   "id": "8ec07d9b-e255-4c2c-81a0-5bf898fbed6d",
   "metadata": {},
   "source": [
    "Agora, carregamos nosso conjunto de dados por meio da biblioteca `pandas`. A partir dessa tabela será possível criar um modelo capaz de prever o rendimento de acordo com seus atributos (saiba mais sobre o dataset no [README](https://github.com/Joao-otavio04/Projeto_Final_Redes_Neurais/blob/main/README.md)).  \n",
    "\n",
    "* Importante ressaltar: os dados tabulados foram obtidos já separados em conjunto de treino (agricultural_yield_teste.csv) e teste (agricultural_yield_train.csv). "
   ]
  },
  {
   "cell_type": "code",
   "execution_count": 2,
   "id": "4c80cd00-527b-4d15-af88-2b7f0b0b4df8",
   "metadata": {},
   "outputs": [],
   "source": [
    "features = ['Soil_Quality', 'Seed_Variety', 'Fertilizer_Amount_kg_per_hectare', 'Sunny_Days', 'Rainfall_mm', 'Irrigation_Schedule']\n",
    "target = ['Yield_kg_per_hectare']\n",
    "\n",
    "df_teste = pd.read_csv(\"agricultural_yield_test.csv\")\n",
    "df_treino = pd.read_csv(\"agricultural_yield_train.csv\")\n",
    "\n",
    "df_teste = df_teste.reindex(features + target, axis=1) \n",
    "df_teste = df_teste.dropna()\n",
    "\n",
    "df_treino = df_treino.reindex(features + target, axis=1)\n",
    "df_treino = df_treino.dropna()"
   ]
  },
  {
   "cell_type": "markdown",
   "id": "eb7fb31c-9354-4b96-ad90-ea56e41f8609",
   "metadata": {},
   "source": [
    "Após importar dados e remover valores ausentes,  podemos verificar os dois conjuntos de dados a seguir, teste e treino, respectivamente: "
   ]
  },
  {
   "cell_type": "markdown",
   "id": "86236085-b616-4b11-a5f0-5a53941ecc6f",
   "metadata": {},
   "source": [
    "### Conjunto de dados de treino "
   ]
  },
  {
   "cell_type": "code",
   "execution_count": 3,
   "id": "33dbfa1a-6b52-4ea7-b476-09ffc96188fb",
   "metadata": {},
   "outputs": [
    {
     "data": {
      "text/html": [
       "<div>\n",
       "<style scoped>\n",
       "    .dataframe tbody tr th:only-of-type {\n",
       "        vertical-align: middle;\n",
       "    }\n",
       "\n",
       "    .dataframe tbody tr th {\n",
       "        vertical-align: top;\n",
       "    }\n",
       "\n",
       "    .dataframe thead th {\n",
       "        text-align: right;\n",
       "    }\n",
       "</style>\n",
       "<table border=\"1\" class=\"dataframe\">\n",
       "  <thead>\n",
       "    <tr style=\"text-align: right;\">\n",
       "      <th></th>\n",
       "      <th>Soil_Quality</th>\n",
       "      <th>Seed_Variety</th>\n",
       "      <th>Fertilizer_Amount_kg_per_hectare</th>\n",
       "      <th>Sunny_Days</th>\n",
       "      <th>Rainfall_mm</th>\n",
       "      <th>Irrigation_Schedule</th>\n",
       "      <th>Yield_kg_per_hectare</th>\n",
       "    </tr>\n",
       "  </thead>\n",
       "  <tbody>\n",
       "    <tr>\n",
       "      <th>0</th>\n",
       "      <td>93.304721</td>\n",
       "      <td>0</td>\n",
       "      <td>132.522218</td>\n",
       "      <td>96.670922</td>\n",
       "      <td>602.386237</td>\n",
       "      <td>3</td>\n",
       "      <td>278.986563</td>\n",
       "    </tr>\n",
       "    <tr>\n",
       "      <th>1</th>\n",
       "      <td>83.674653</td>\n",
       "      <td>1</td>\n",
       "      <td>57.283997</td>\n",
       "      <td>99.007556</td>\n",
       "      <td>466.518251</td>\n",
       "      <td>8</td>\n",
       "      <td>836.434840</td>\n",
       "    </tr>\n",
       "    <tr>\n",
       "      <th>2</th>\n",
       "      <td>65.963033</td>\n",
       "      <td>1</td>\n",
       "      <td>227.895479</td>\n",
       "      <td>104.844272</td>\n",
       "      <td>510.320495</td>\n",
       "      <td>4</td>\n",
       "      <td>785.881787</td>\n",
       "    </tr>\n",
       "    <tr>\n",
       "      <th>3</th>\n",
       "      <td>78.692834</td>\n",
       "      <td>1</td>\n",
       "      <td>176.314126</td>\n",
       "      <td>90.136191</td>\n",
       "      <td>354.350914</td>\n",
       "      <td>5</td>\n",
       "      <td>807.884526</td>\n",
       "    </tr>\n",
       "    <tr>\n",
       "      <th>4</th>\n",
       "      <td>72.415684</td>\n",
       "      <td>1</td>\n",
       "      <td>160.070418</td>\n",
       "      <td>101.221668</td>\n",
       "      <td>443.993788</td>\n",
       "      <td>10</td>\n",
       "      <td>1064.542374</td>\n",
       "    </tr>\n",
       "    <tr>\n",
       "      <th>...</th>\n",
       "      <td>...</td>\n",
       "      <td>...</td>\n",
       "      <td>...</td>\n",
       "      <td>...</td>\n",
       "      <td>...</td>\n",
       "      <td>...</td>\n",
       "      <td>...</td>\n",
       "    </tr>\n",
       "    <tr>\n",
       "      <th>3995</th>\n",
       "      <td>95.094714</td>\n",
       "      <td>1</td>\n",
       "      <td>124.108262</td>\n",
       "      <td>98.970659</td>\n",
       "      <td>496.705800</td>\n",
       "      <td>5</td>\n",
       "      <td>802.209345</td>\n",
       "    </tr>\n",
       "    <tr>\n",
       "      <th>3996</th>\n",
       "      <td>53.256984</td>\n",
       "      <td>0</td>\n",
       "      <td>100.310322</td>\n",
       "      <td>111.448947</td>\n",
       "      <td>667.056391</td>\n",
       "      <td>8</td>\n",
       "      <td>509.646540</td>\n",
       "    </tr>\n",
       "    <tr>\n",
       "      <th>3997</th>\n",
       "      <td>94.145522</td>\n",
       "      <td>1</td>\n",
       "      <td>196.473704</td>\n",
       "      <td>110.003474</td>\n",
       "      <td>458.241408</td>\n",
       "      <td>3</td>\n",
       "      <td>776.013634</td>\n",
       "    </tr>\n",
       "    <tr>\n",
       "      <th>3998</th>\n",
       "      <td>61.452120</td>\n",
       "      <td>1</td>\n",
       "      <td>80.618357</td>\n",
       "      <td>97.815517</td>\n",
       "      <td>778.652540</td>\n",
       "      <td>4</td>\n",
       "      <td>502.319484</td>\n",
       "    </tr>\n",
       "    <tr>\n",
       "      <th>3999</th>\n",
       "      <td>55.195906</td>\n",
       "      <td>0</td>\n",
       "      <td>122.473239</td>\n",
       "      <td>90.311720</td>\n",
       "      <td>582.999003</td>\n",
       "      <td>4</td>\n",
       "      <td>257.032544</td>\n",
       "    </tr>\n",
       "  </tbody>\n",
       "</table>\n",
       "<p>4000 rows × 7 columns</p>\n",
       "</div>"
      ],
      "text/plain": [
       "      Soil_Quality  Seed_Variety  Fertilizer_Amount_kg_per_hectare  \\\n",
       "0        93.304721             0                        132.522218   \n",
       "1        83.674653             1                         57.283997   \n",
       "2        65.963033             1                        227.895479   \n",
       "3        78.692834             1                        176.314126   \n",
       "4        72.415684             1                        160.070418   \n",
       "...            ...           ...                               ...   \n",
       "3995     95.094714             1                        124.108262   \n",
       "3996     53.256984             0                        100.310322   \n",
       "3997     94.145522             1                        196.473704   \n",
       "3998     61.452120             1                         80.618357   \n",
       "3999     55.195906             0                        122.473239   \n",
       "\n",
       "      Sunny_Days  Rainfall_mm  Irrigation_Schedule  Yield_kg_per_hectare  \n",
       "0      96.670922   602.386237                    3            278.986563  \n",
       "1      99.007556   466.518251                    8            836.434840  \n",
       "2     104.844272   510.320495                    4            785.881787  \n",
       "3      90.136191   354.350914                    5            807.884526  \n",
       "4     101.221668   443.993788                   10           1064.542374  \n",
       "...          ...          ...                  ...                   ...  \n",
       "3995   98.970659   496.705800                    5            802.209345  \n",
       "3996  111.448947   667.056391                    8            509.646540  \n",
       "3997  110.003474   458.241408                    3            776.013634  \n",
       "3998   97.815517   778.652540                    4            502.319484  \n",
       "3999   90.311720   582.999003                    4            257.032544  \n",
       "\n",
       "[4000 rows x 7 columns]"
      ]
     },
     "execution_count": 3,
     "metadata": {},
     "output_type": "execute_result"
    }
   ],
   "source": [
    "df_teste"
   ]
  },
  {
   "cell_type": "markdown",
   "id": "ba859593-dcde-49c5-a5f2-507d0af1736a",
   "metadata": {},
   "source": [
    "### Conjunto de dados de teste "
   ]
  },
  {
   "cell_type": "code",
   "execution_count": 4,
   "id": "06febe8a-5d14-441f-8fb0-0b3d2f750a2b",
   "metadata": {},
   "outputs": [
    {
     "data": {
      "text/html": [
       "<div>\n",
       "<style scoped>\n",
       "    .dataframe tbody tr th:only-of-type {\n",
       "        vertical-align: middle;\n",
       "    }\n",
       "\n",
       "    .dataframe tbody tr th {\n",
       "        vertical-align: top;\n",
       "    }\n",
       "\n",
       "    .dataframe thead th {\n",
       "        text-align: right;\n",
       "    }\n",
       "</style>\n",
       "<table border=\"1\" class=\"dataframe\">\n",
       "  <thead>\n",
       "    <tr style=\"text-align: right;\">\n",
       "      <th></th>\n",
       "      <th>Soil_Quality</th>\n",
       "      <th>Seed_Variety</th>\n",
       "      <th>Fertilizer_Amount_kg_per_hectare</th>\n",
       "      <th>Sunny_Days</th>\n",
       "      <th>Rainfall_mm</th>\n",
       "      <th>Irrigation_Schedule</th>\n",
       "      <th>Yield_kg_per_hectare</th>\n",
       "    </tr>\n",
       "  </thead>\n",
       "  <tbody>\n",
       "    <tr>\n",
       "      <th>0</th>\n",
       "      <td>96.415657</td>\n",
       "      <td>1</td>\n",
       "      <td>147.853040</td>\n",
       "      <td>94.593926</td>\n",
       "      <td>444.267569</td>\n",
       "      <td>3</td>\n",
       "      <td>683.759119</td>\n",
       "    </tr>\n",
       "    <tr>\n",
       "      <th>1</th>\n",
       "      <td>92.352626</td>\n",
       "      <td>0</td>\n",
       "      <td>281.565396</td>\n",
       "      <td>90.504644</td>\n",
       "      <td>517.585491</td>\n",
       "      <td>7</td>\n",
       "      <td>678.714861</td>\n",
       "    </tr>\n",
       "    <tr>\n",
       "      <th>2</th>\n",
       "      <td>63.714785</td>\n",
       "      <td>1</td>\n",
       "      <td>137.864940</td>\n",
       "      <td>97.329340</td>\n",
       "      <td>420.310945</td>\n",
       "      <td>8</td>\n",
       "      <td>934.691975</td>\n",
       "    </tr>\n",
       "    <tr>\n",
       "      <th>3</th>\n",
       "      <td>90.084256</td>\n",
       "      <td>1</td>\n",
       "      <td>100.946659</td>\n",
       "      <td>113.404828</td>\n",
       "      <td>547.817646</td>\n",
       "      <td>7</td>\n",
       "      <td>905.842541</td>\n",
       "    </tr>\n",
       "    <tr>\n",
       "      <th>4</th>\n",
       "      <td>81.600341</td>\n",
       "      <td>1</td>\n",
       "      <td>223.088908</td>\n",
       "      <td>83.048176</td>\n",
       "      <td>434.726333</td>\n",
       "      <td>6</td>\n",
       "      <td>897.584665</td>\n",
       "    </tr>\n",
       "    <tr>\n",
       "      <th>...</th>\n",
       "      <td>...</td>\n",
       "      <td>...</td>\n",
       "      <td>...</td>\n",
       "      <td>...</td>\n",
       "      <td>...</td>\n",
       "      <td>...</td>\n",
       "      <td>...</td>\n",
       "    </tr>\n",
       "    <tr>\n",
       "      <th>15995</th>\n",
       "      <td>77.053550</td>\n",
       "      <td>1</td>\n",
       "      <td>154.189768</td>\n",
       "      <td>103.115855</td>\n",
       "      <td>319.915079</td>\n",
       "      <td>7</td>\n",
       "      <td>956.781949</td>\n",
       "    </tr>\n",
       "    <tr>\n",
       "      <th>15996</th>\n",
       "      <td>99.795631</td>\n",
       "      <td>1</td>\n",
       "      <td>282.295839</td>\n",
       "      <td>123.598354</td>\n",
       "      <td>647.292136</td>\n",
       "      <td>4</td>\n",
       "      <td>879.682714</td>\n",
       "    </tr>\n",
       "    <tr>\n",
       "      <th>15997</th>\n",
       "      <td>67.478487</td>\n",
       "      <td>1</td>\n",
       "      <td>120.017122</td>\n",
       "      <td>102.308627</td>\n",
       "      <td>514.372747</td>\n",
       "      <td>8</td>\n",
       "      <td>932.829561</td>\n",
       "    </tr>\n",
       "    <tr>\n",
       "      <th>15998</th>\n",
       "      <td>85.176890</td>\n",
       "      <td>1</td>\n",
       "      <td>247.847389</td>\n",
       "      <td>114.956634</td>\n",
       "      <td>695.035801</td>\n",
       "      <td>6</td>\n",
       "      <td>889.738438</td>\n",
       "    </tr>\n",
       "    <tr>\n",
       "      <th>15999</th>\n",
       "      <td>87.838280</td>\n",
       "      <td>0</td>\n",
       "      <td>244.216536</td>\n",
       "      <td>98.313738</td>\n",
       "      <td>590.794915</td>\n",
       "      <td>6</td>\n",
       "      <td>554.698389</td>\n",
       "    </tr>\n",
       "  </tbody>\n",
       "</table>\n",
       "<p>16000 rows × 7 columns</p>\n",
       "</div>"
      ],
      "text/plain": [
       "       Soil_Quality  Seed_Variety  Fertilizer_Amount_kg_per_hectare  \\\n",
       "0         96.415657             1                        147.853040   \n",
       "1         92.352626             0                        281.565396   \n",
       "2         63.714785             1                        137.864940   \n",
       "3         90.084256             1                        100.946659   \n",
       "4         81.600341             1                        223.088908   \n",
       "...             ...           ...                               ...   \n",
       "15995     77.053550             1                        154.189768   \n",
       "15996     99.795631             1                        282.295839   \n",
       "15997     67.478487             1                        120.017122   \n",
       "15998     85.176890             1                        247.847389   \n",
       "15999     87.838280             0                        244.216536   \n",
       "\n",
       "       Sunny_Days  Rainfall_mm  Irrigation_Schedule  Yield_kg_per_hectare  \n",
       "0       94.593926   444.267569                    3            683.759119  \n",
       "1       90.504644   517.585491                    7            678.714861  \n",
       "2       97.329340   420.310945                    8            934.691975  \n",
       "3      113.404828   547.817646                    7            905.842541  \n",
       "4       83.048176   434.726333                    6            897.584665  \n",
       "...           ...          ...                  ...                   ...  \n",
       "15995  103.115855   319.915079                    7            956.781949  \n",
       "15996  123.598354   647.292136                    4            879.682714  \n",
       "15997  102.308627   514.372747                    8            932.829561  \n",
       "15998  114.956634   695.035801                    6            889.738438  \n",
       "15999   98.313738   590.794915                    6            554.698389  \n",
       "\n",
       "[16000 rows x 7 columns]"
      ]
     },
     "execution_count": 4,
     "metadata": {},
     "output_type": "execute_result"
    }
   ],
   "source": [
    "df_treino"
   ]
  },
  {
   "cell_type": "markdown",
   "id": "222e12e0-e8f1-482a-bad6-569b5b1a0b5d",
   "metadata": {},
   "source": [
    "### Vamos analisar? "
   ]
  },
  {
   "cell_type": "markdown",
   "id": "9a58bca7-a071-4ef9-8f34-308d31c82cce",
   "metadata": {},
   "source": [
    "Para ter uma noção melhor da dimensão de nossos dados, vamos verificar os valores mínimo e máximo de nosso target (rendimento): "
   ]
  },
  {
   "cell_type": "code",
   "execution_count": 5,
   "id": "3fe8e9ab-410e-4d93-8876-5f9517e8d10d",
   "metadata": {},
   "outputs": [
    {
     "name": "stdout",
     "output_type": "stream",
     "text": [
      "Mínimo rendimento: 57.51489114958822\n",
      "Máximo rendimento: 1385.1136002632345\n",
      "A diferença entre eles é: 1327.5987091136462\n"
     ]
    }
   ],
   "source": [
    "minimo = min(df_treino['Yield_kg_per_hectare'])\n",
    "maximo = max(df_treino['Yield_kg_per_hectare'])\n",
    "\n",
    "print(\"Mínimo rendimento:\", minimo)\n",
    "print(\"Máximo rendimento:\", maximo)\n",
    "print(\"A diferença entre eles é:\", maximo - minimo)"
   ]
  },
  {
   "cell_type": "markdown",
   "id": "d2c090d1-0f40-480f-a6ed-2acf134157e4",
   "metadata": {},
   "source": [
    "Além disso, uma matriz de correlação é uma boa ferramenta para analisar a relação entre os atributos (colunas) do conjunto de dados. Vejamos: "
   ]
  },
  {
   "cell_type": "code",
   "execution_count": 6,
   "id": "c7482f4c-5881-45b8-99b6-01c4faeca22e",
   "metadata": {},
   "outputs": [
    {
     "data": {
      "image/png": "[encoded data removed]",
      "text/plain": [
       "<Figure size 1000x800 with 2 Axes>"
      ]
     },
     "metadata": {},
     "output_type": "display_data"
    }
   ],
   "source": [
    "correlation_matrix = df_treino.corr()\n",
    "\n",
    "plt.figure(figsize=(10, 8))\n",
    "sns.heatmap(correlation_matrix, annot=True, cmap='coolwarm', fmt=\".2f\", linewidths=.5)\n",
    "plt.title('Mapa de Calor da Matriz de Correlação')\n",
    "plt.show()"
   ]
  },
  {
   "cell_type": "markdown",
   "id": "1571d2ad-2839-4ed4-9db9-36b87c8636da",
   "metadata": {},
   "source": [
    "A partir da matriz de correlação é claro que os atributos que se correlacionam positivamente com o rendimento são: 1. Seed_variety (variedade de semente), com correlação de 0.68 e 2. Irrigation_Schedule (cronograma de irrigação), com 0.56 de correlação. E o que se relaciona negativamente é Rainfall_mm (precipitação) com correlação de -0.25. \n",
    "\n",
    "Ou seja, para esse conjunto de dados o tipo de semente e a frequência de irrigação influenciam mais o rendimento do que a precipitação. Isso é interessante, já que a precipitação, em geral, apresenta grandíssima influência em sistemas agrícolas reais. "
   ]
  },
  {
   "cell_type": "markdown",
   "id": "7cc5212c-a9f8-4f35-b123-539c0f8b9e67",
   "metadata": {},
   "source": [
    "### Definindo parâmetros"
   ]
  },
  {
   "cell_type": "markdown",
   "id": "d7761704-37e4-4849-904a-54444abb6ad5",
   "metadata": {},
   "source": [
    "Os parâmetros a seguir serão utilizados posteriormente: "
   ]
  },
  {
   "cell_type": "code",
   "execution_count": 7,
   "id": "17cfaec4-771d-470a-91a9-b9a707267352",
   "metadata": {},
   "outputs": [],
   "source": [
    "TAMANHO_VALIDACAO = 0.1\n",
    "\n",
    "SEMENTE_ALEATORIA = 61455"
   ]
  },
  {
   "cell_type": "markdown",
   "id": "618e838e-908e-41fc-a078-4fab4bf6cd07",
   "metadata": {},
   "source": [
    "### Separação do target"
   ]
  },
  {
   "cell_type": "markdown",
   "id": "15fb04c3-a15d-4165-a31f-6138fc968eb6",
   "metadata": {},
   "source": [
    "Agora é possível separar o target dos atributos que serão utilizados para prevê-lo. O target será a variável: `Yield_kg_per_hectare` (rendimento em quilos por hectare). \n",
    "\n",
    "*Lembrando:* O target é a variável que será prevista e, nesse caso, quantificada/estimada. "
   ]
  },
  {
   "cell_type": "code",
   "execution_count": 8,
   "id": "a929186a-5a9d-464d-8ce2-3934bc857092",
   "metadata": {},
   "outputs": [],
   "source": [
    "X_teste = df_teste.reindex(features, axis=1).values\n",
    "y_teste = df_teste.reindex(target, axis=1).values\n",
    "\n",
    "X_treino = df_treino.reindex(features, axis=1).values\n",
    "y_treino = df_treino.reindex(target, axis=1).values"
   ]
  },
  {
   "cell_type": "markdown",
   "id": "05044d77-0756-493f-a866-643a117ce8db",
   "metadata": {},
   "source": [
    "### Split treino-validação"
   ]
  },
  {
   "cell_type": "markdown",
   "id": "e1ad5df6-4d74-4654-96c9-b6711ad939ec",
   "metadata": {},
   "source": [
    "Para verificar se a o modelo criado é bom teremos que, posteriormente, comparar o rendimento predito pelo rendimento da validação. Desse modo, devemos realizar um split do conjunto de treino em subconjuntos: 1. de treino; 2. validação. "
   ]
  },
  {
   "cell_type": "code",
   "execution_count": 9,
   "id": "81985628-8b4a-489a-bf64-c73a86997d06",
   "metadata": {},
   "outputs": [
    {
     "name": "stdout",
     "output_type": "stream",
     "text": [
      "RangeIndex(start=0, stop=16000, step=1) 16000\n",
      "Index([ 2519, 11035,  3934, 14982,  4078, 12245, 12217,  9147, 11629,  3768,\n",
      "       ...\n",
      "        6255,  7971, 13014,  6321, 12691,  2256, 10672,  6652, 11166, 13937],\n",
      "      dtype='int64', length=14400) 14400\n",
      "\n",
      "Index([ 8987,  4178,  4313,  1666,  6784, 12065, 10246,  8625,  9889,  6176,\n",
      "       ...\n",
      "        4452, 12565, 12620, 13756, 14945,    97,  8368, 10148, 12993,  5542],\n",
      "      dtype='int64', length=1600) 1600\n"
     ]
    }
   ],
   "source": [
    "indices = df_treino.index\n",
    "print(indices, len(indices))\n",
    "indices_treino, indices_val = train_test_split(\n",
    "    indices, test_size=TAMANHO_VALIDACAO, random_state=SEMENTE_ALEATORIA\n",
    ")\n",
    "\n",
    "print(indices_treino, len(indices_treino))\n",
    "print()\n",
    "print(indices_val, len(indices_val))\n",
    "\n",
    "df_val = df_treino.loc[indices_val]\n",
    "df_treino = df_treino.loc[indices_treino]\n",
    "\n",
    "\n",
    "X_treino = df_treino.reindex(features, axis=1).values\n",
    "y_treino = df_treino.reindex(target, axis=1).values\n",
    "\n",
    "X_val = df_val.reindex(features, axis=1).values\n",
    "y_val = df_val.reindex(target, axis=1).values"
   ]
  },
  {
   "cell_type": "markdown",
   "id": "295fe784-b024-4e1b-b344-c7d865e5c0ba",
   "metadata": {},
   "source": [
    "### Normalização e transformação de dados"
   ]
  },
  {
   "cell_type": "markdown",
   "id": "ef89d174-4101-4b27-84c0-c10281999d97",
   "metadata": {},
   "source": [
    "Nas células abaixo: \n",
    "1. Realizamos a normalização de dados por máximo absoluto, a fim de reduzir a dimensionalidade de cada um dos atributos. *É interessante lembrar que: as redes neurais trabalham melhor entre -1 e 1.* \n",
    "\n",
    "2. Transformamos os dados para treinar e testar a rede neural. A conversão dos dados de números para tensores é necessária pois o PyTorch trabalha somente com esse tipo de objeto. "
   ]
  },
  {
   "cell_type": "markdown",
   "id": "62c1ebe3-3119-4e1f-afad-221012596c72",
   "metadata": {},
   "source": [
    "#### Normalização por máximo absoluto"
   ]
  },
  {
   "cell_type": "code",
   "execution_count": 10,
   "id": "3013eecc-8daf-45aa-bbc4-12856e5d514d",
   "metadata": {},
   "outputs": [],
   "source": [
    "x_scaler = MaxAbsScaler()\n",
    "x_scaler.fit(X_treino)\n",
    "\n",
    "y_scaler = MaxAbsScaler()\n",
    "y_scaler.fit(y_treino)\n",
    "\n",
    "X_treino = x_scaler.transform(X_treino)\n",
    "y_treino = y_scaler.transform(y_treino)\n",
    "\n",
    "X_val = x_scaler.transform(X_val)\n",
    "y_val = y_scaler.transform(y_val)\n",
    "\n",
    "X_teste = x_scaler.transform(X_teste)\n",
    "y_teste = y_scaler.transform(y_teste)"
   ]
  },
  {
   "cell_type": "markdown",
   "id": "2210840c-46b0-4d0a-b54c-0f01b46c1be9",
   "metadata": {},
   "source": [
    "#### Conversão para tensores"
   ]
  },
  {
   "cell_type": "code",
   "execution_count": 11,
   "id": "3f409ace-6aff-4971-b0b5-c922900ea9f5",
   "metadata": {},
   "outputs": [],
   "source": [
    "X_treino = torch.tensor(X_treino, dtype=torch.float32)\n",
    "y_treino = torch.tensor(y_treino, dtype=torch.float32)\n",
    "\n",
    "X_val = torch.tensor(X_val, dtype=torch.float32)\n",
    "y_val = torch.tensor(y_val, dtype=torch.float32)\n",
    "\n",
    "X_teste = torch.tensor(X_teste, dtype=torch.float32)\n",
    "y_teste = torch.tensor(y_teste, dtype=torch.float32)"
   ]
  },
  {
   "cell_type": "markdown",
   "id": "ee676a85-bfdc-4ca8-8c62-030a493676f8",
   "metadata": {},
   "source": [
    "##### Tensores de teste"
   ]
  },
  {
   "cell_type": "code",
   "execution_count": 12,
   "id": "7649c343-57d7-4f4e-be34-027770d04625",
   "metadata": {},
   "outputs": [
    {
     "data": {
      "text/plain": [
       "tensor([[0.9331, 0.0000, 0.4418, 0.6788, 0.6905, 0.2000],\n",
       "        [0.8368, 1.0000, 0.1910, 0.6952, 0.5348, 0.5333],\n",
       "        [0.6596, 1.0000, 0.7597, 0.7362, 0.5850, 0.2667],\n",
       "        ...,\n",
       "        [0.9415, 1.0000, 0.6549, 0.7724, 0.5253, 0.2000],\n",
       "        [0.6145, 1.0000, 0.2687, 0.6868, 0.8926, 0.2667],\n",
       "        [0.5520, 0.0000, 0.4083, 0.6341, 0.6683, 0.2667]])"
      ]
     },
     "execution_count": 12,
     "metadata": {},
     "output_type": "execute_result"
    }
   ],
   "source": [
    "X_teste"
   ]
  },
  {
   "cell_type": "code",
   "execution_count": 13,
   "id": "31eba1c4-9937-40be-85b6-46e87456ed3d",
   "metadata": {},
   "outputs": [
    {
     "data": {
      "text/plain": [
       "tensor([[0.2014],\n",
       "        [0.6039],\n",
       "        [0.5674],\n",
       "        ...,\n",
       "        [0.5603],\n",
       "        [0.3627],\n",
       "        [0.1856]])"
      ]
     },
     "execution_count": 13,
     "metadata": {},
     "output_type": "execute_result"
    }
   ],
   "source": [
    "y_teste"
   ]
  },
  {
   "cell_type": "markdown",
   "id": "1f2a7ae5-958d-4552-ace8-e27111c94901",
   "metadata": {},
   "source": [
    "##### Tensores de treino"
   ]
  },
  {
   "cell_type": "code",
   "execution_count": 14,
   "id": "ab0553d8-586e-4670-b5d5-e4d365b71e97",
   "metadata": {},
   "outputs": [
    {
     "data": {
      "text/plain": [
       "tensor([[0.9795, 0.0000, 0.7640, 0.7867, 0.4237, 0.2000],\n",
       "        [0.9797, 0.0000, 0.9775, 0.5857, 0.6576, 0.2667],\n",
       "        [0.9986, 1.0000, 0.4590, 0.6481, 0.5381, 0.1333],\n",
       "        ...,\n",
       "        [0.6414, 1.0000, 0.9437, 0.7126, 0.5219, 0.3333],\n",
       "        [0.6388, 1.0000, 0.4695, 0.6392, 0.3804, 0.2667],\n",
       "        [0.9902, 1.0000, 0.5284, 0.7755, 0.6688, 0.3333]])"
      ]
     },
     "execution_count": 14,
     "metadata": {},
     "output_type": "execute_result"
    }
   ],
   "source": [
    "X_treino"
   ]
  },
  {
   "cell_type": "code",
   "execution_count": 15,
   "id": "2e45534e-df83-4626-9501-76fbead97e54",
   "metadata": {},
   "outputs": [
    {
     "data": {
      "text/plain": [
       "tensor([[0.3213],\n",
       "        [0.3385],\n",
       "        [0.4438],\n",
       "        ...,\n",
       "        [0.6514],\n",
       "        [0.4705],\n",
       "        [0.5933]])"
      ]
     },
     "execution_count": 15,
     "metadata": {},
     "output_type": "execute_result"
    }
   ],
   "source": [
    "y_treino"
   ]
  },
  {
   "cell_type": "markdown",
   "id": "3e2aa536-0506-46b9-99d3-b669bcd517ad",
   "metadata": {
    "tags": []
   },
   "source": [
    "##### Tensores de validação "
   ]
  },
  {
   "cell_type": "code",
   "execution_count": 16,
   "id": "40d0f187-0813-49e6-99f4-a9b1c09a332a",
   "metadata": {},
   "outputs": [
    {
     "data": {
      "text/plain": [
       "tensor([[0.6182, 1.0000, 0.3226, 0.7208, 0.6738, 0.5333],\n",
       "        [0.9165, 0.0000, 0.1888, 0.6953, 0.4263, 0.0667],\n",
       "        [0.6729, 1.0000, 0.5926, 0.7751, 0.6263, 0.2667],\n",
       "        ...,\n",
       "        [0.7481, 1.0000, 0.2723, 0.6990, 0.4905, 0.4667],\n",
       "        [0.5995, 1.0000, 0.7954, 0.6793, 0.6092, 0.5333],\n",
       "        [0.5068, 1.0000, 0.8737, 0.7273, 0.5378, 0.5333]])"
      ]
     },
     "execution_count": 16,
     "metadata": {},
     "output_type": "execute_result"
    }
   ],
   "source": [
    "X_val"
   ]
  },
  {
   "cell_type": "code",
   "execution_count": 17,
   "id": "8472311b-4833-4f37-81d4-bb53aa3ac334",
   "metadata": {},
   "outputs": [
    {
     "data": {
      "text/plain": [
       "tensor([[0.6336],\n",
       "        [0.1526],\n",
       "        [0.5981],\n",
       "        ...,\n",
       "        [0.5879],\n",
       "        [0.7066],\n",
       "        [0.6803]])"
      ]
     },
     "execution_count": 17,
     "metadata": {},
     "output_type": "execute_result"
    }
   ],
   "source": [
    "y_val"
   ]
  },
  {
   "cell_type": "markdown",
   "id": "762d5e51-fa6f-412d-835a-a9f9c942f2c5",
   "metadata": {},
   "source": [
    "## Treinando a rede com uma arquitetura aleatória"
   ]
  },
  {
   "cell_type": "markdown",
   "id": "b975cda7-679e-4dcb-bf91-15f0566c21ea",
   "metadata": {},
   "source": [
    "Esta célula é o passo inicial para criarmos e treinarmos nosso modelo. Utiliza a classe mãe, o `DataModule` do `Lightning`, que encapsula diversas informações necessárias para preparar nossos dados e futuramente usar o `Lightning` no treinamento.\n",
    "\n",
    "Obs: o número de trabalhadores foi selecionado como 8, pois o código foi trabalhado em um computador de alto desempenho (HPC).\n",
    "\n",
    "Devemos criar uma classe para a MLP, a qual herda de `L.LightningModule` e registrar como proceder durante as etapas de treino, validação e teste."
   ]
  },
  {
   "cell_type": "code",
   "execution_count": 18,
   "id": "fe8e9ebc-f24b-4b74-857c-6f957a345e4f",
   "metadata": {},
   "outputs": [],
   "source": [
    "class DataModule(L.LightningDataModule):\n",
    "    def __init__(\n",
    "        self,\n",
    "        X_treino,\n",
    "        y_treino,\n",
    "        X_val,\n",
    "        y_val,\n",
    "        X_teste,\n",
    "        y_teste,\n",
    "        tamanho_lote = 256,\n",
    "        num_trabalhadores = 8,\n",
    "    ):\n",
    "        super().__init__()\n",
    "\n",
    "        self.tamanho_lote = tamanho_lote\n",
    "        self.num_trabalhadores = num_trabalhadores\n",
    "\n",
    "        self.X_treino = X_treino\n",
    "        self.y_treino = y_treino\n",
    "        self.X_val = X_val\n",
    "        self.y_val = y_val\n",
    "        self.X_teste = X_teste\n",
    "        self.y_teste = y_teste\n",
    "\n",
    "    def train_dataloader(self):\n",
    "        return DataLoader(\n",
    "            TensorDataset(self.X_treino, self.y_treino),\n",
    "            batch_size=self.tamanho_lote,\n",
    "            num_workers=self.num_trabalhadores,\n",
    "            persistent_workers=True\n",
    "        )\n",
    "\n",
    "    def val_dataloader(self):\n",
    "        return DataLoader(\n",
    "            TensorDataset(self.X_val, self.y_val),\n",
    "            batch_size=self.tamanho_lote,\n",
    "            num_workers=self.num_trabalhadores,\n",
    "            persistent_workers=True\n",
    "        )\n",
    "\n",
    "    def test_dataloader(self):\n",
    "        return DataLoader(\n",
    "            TensorDataset(self.X_teste, self.y_teste),\n",
    "            batch_size=self.tamanho_lote,\n",
    "            num_workers=self.num_trabalhadores,\n",
    "            persistent_workers=True\n",
    "        )"
   ]
  },
  {
   "cell_type": "markdown",
   "id": "aec5e5eb-03e7-4875-be46-9a24c2e797ce",
   "metadata": {},
   "source": [
    "Para verificar se os dados estavam devidamente tratados e se funcionariam em nossa MLP (Multilayer Perceptron), criamos uma MLP de teste com arquitetura aleatória. Veja:  "
   ]
  },
  {
   "cell_type": "code",
   "execution_count": 19,
   "id": "8135d55a-b982-4dc1-a021-5fa41bdba646",
   "metadata": {},
   "outputs": [],
   "source": [
    "class MLP_teste(L.LightningModule):\n",
    "    def __init__(\n",
    "        self, num_dados_entrada, neuronios_c1, neuronios_c2, num_targets\n",
    "    ):\n",
    "        super().__init__()\n",
    "\n",
    "        self.camadas = nn.Sequential(\n",
    "            nn.Linear(num_dados_entrada, neuronios_c1),\n",
    "            nn.Sigmoid(),\n",
    "            nn.Linear(neuronios_c1, neuronios_c2),\n",
    "            nn.Sigmoid(),\n",
    "            nn.Linear(neuronios_c2, num_targets),\n",
    "        )  \n",
    "        \n",
    "\n",
    "        self.fun_perda = F.mse_loss\n",
    "\n",
    "        self.perdas_treino = []\n",
    "        self.perdas_val = []\n",
    "\n",
    "        self.curva_aprendizado_treino = []\n",
    "        self.curva_aprendizado_val = []\n",
    "\n",
    "    def forward(self, x):\n",
    "        x = self.camadas(x)\n",
    "        return x\n",
    "\n",
    "    def training_step(self, batch, batch_idx):\n",
    "        x, y = batch\n",
    "        y_pred = self(x)\n",
    "        loss = self.fun_perda(y, y_pred)\n",
    "\n",
    "        self.log(\"loss\", loss, prog_bar=True)\n",
    "        self.perdas_treino.append(loss)\n",
    "\n",
    "        return loss\n",
    "\n",
    "    def validation_step(self, batch, batch_idx):\n",
    "        x, y = batch\n",
    "        y_pred = self(x)\n",
    "        loss = self.fun_perda(y, y_pred)\n",
    "\n",
    "        self.log(\"val_loss\", loss, prog_bar=True)\n",
    "        self.perdas_val.append(loss)\n",
    "\n",
    "        return loss\n",
    "\n",
    "    def test_step(self, batch, batch_idx):\n",
    "        x, y = batch\n",
    "        y_pred = self(x)\n",
    "        loss = self.fun_perda(y, y_pred)\n",
    "\n",
    "        self.log(\"test_loss\", loss)\n",
    "\n",
    "        return loss\n",
    "\n",
    "    def on_train_epoch_end(self):\n",
    "        # Atualiza curva de aprendizado\n",
    "        perda_media = torch.stack(self.perdas_treino).mean()\n",
    "        self.curva_aprendizado_treino.append(float(perda_media))\n",
    "        self.perdas_treino.clear()\n",
    "\n",
    "    def on_validation_epoch_end(self):\n",
    "        # Atualiza curva de aprendizado\n",
    "        perda_media = torch.stack(self.perdas_val).mean()\n",
    "        self.curva_aprendizado_val.append(float(perda_media))\n",
    "        self.perdas_val.clear()\n",
    "\n",
    "    def configure_optimizers(self):\n",
    "        optimizer = optim.SGD(self.parameters(), lr=1e-3)\n",
    "        return optimizer"
   ]
  },
  {
   "cell_type": "markdown",
   "id": "401e83e4-9a94-4fcb-9884-6a1d36e6a305",
   "metadata": {},
   "source": [
    "Com a MLP teste criada, definimos o número de épocas e criamos o treinador, que executará o treinamento pela quantidade de épocas especificada."
   ]
  },
  {
   "cell_type": "code",
   "execution_count": 20,
   "id": "0b66d44c-22a5-4c32-ab72-268d61cdfec9",
   "metadata": {},
   "outputs": [
    {
     "name": "stderr",
     "output_type": "stream",
     "text": [
      "GPU available: True (cuda), used: True\n",
      "TPU available: False, using: 0 TPU cores\n",
      "IPU available: False, using: 0 IPUs\n",
      "HPU available: False, using: 0 HPUs\n",
      "/home/joao23022/anaconda3/envs/redes/lib/python3.12/site-packages/lightning/pytorch/trainer/connectors/logger_connector/logger_connector.py:75: Starting from v1.9.0, `tensorboardX` has been removed as a dependency of the `lightning.pytorch` package, due to potential conflicts with other packages in the ML ecosystem. For this reason, `logger=True` will use `CSVLogger` as the default logger, unless the `tensorboard` or `tensorboardX` packages are found. Please `pip install lightning[extra]` or one of them to enable TensorBoard support by default\n"
     ]
    }
   ],
   "source": [
    "NUM_EPOCAS = 20\n",
    "\n",
    "treinador = L.Trainer(max_epochs=NUM_EPOCAS)"
   ]
  },
  {
   "cell_type": "markdown",
   "id": "807b12a2-3753-446a-9a7b-26e0e31e53c2",
   "metadata": {},
   "source": [
    "Precisamos também criar uma instância da classe `DataModule` que definimos acima.\n",
    "\n"
   ]
  },
  {
   "cell_type": "code",
   "execution_count": 21,
   "id": "65e1650f-3f20-44c4-a4ad-dc8e02d90595",
   "metadata": {},
   "outputs": [],
   "source": [
    "dm = DataModule(X_treino, y_treino, X_val, y_val, X_teste, y_teste)"
   ]
  },
  {
   "cell_type": "markdown",
   "id": "601d792d-489a-4520-8ca0-5843fbf1cf0f",
   "metadata": {},
   "source": [
    "Antes de treinar, precisamos também criar uma instância da rede neural.\n",
    "\n"
   ]
  },
  {
   "cell_type": "code",
   "execution_count": 22,
   "id": "8048c9b8-04e2-4096-980d-7c70dde1ff08",
   "metadata": {},
   "outputs": [],
   "source": [
    "num_dados_de_entrada = 6\n",
    "num_dados_de_saida = 1\n",
    "neuronios_c1 = random.randint(1, 120)\n",
    "neuronios_c2 = random.randint(1, 120)\n",
    "\n",
    "mlp_teste = MLP_teste(\n",
    "    num_dados_de_entrada, neuronios_c1, neuronios_c2, num_dados_de_saida\n",
    ")"
   ]
  },
  {
   "cell_type": "markdown",
   "id": "59a7c6bf-1dca-4d7a-984c-e4c62978b8cf",
   "metadata": {},
   "source": [
    "Finalmente, temos tudo que precisamos. Podemos rodar o método `fit` do nosso treinador na nossa instância da rede neural, fornecendo também uma instância do `DataModule` como argumento.\n",
    "\n"
   ]
  },
  {
   "cell_type": "code",
   "execution_count": 23,
   "id": "329f537f-7c9c-4ea0-a5c7-e198794bb157",
   "metadata": {},
   "outputs": [
    {
     "name": "stderr",
     "output_type": "stream",
     "text": [
      "LOCAL_RANK: 0 - CUDA_VISIBLE_DEVICES: [0]\n",
      "\n",
      "  | Name    | Type       | Params\n",
      "---------------------------------------\n",
      "0 | camadas | Sequential | 1.3 K \n",
      "---------------------------------------\n",
      "1.3 K     Trainable params\n",
      "0         Non-trainable params\n",
      "1.3 K     Total params\n",
      "0.005     Total estimated model params size (MB)\n",
      "SLURM auto-requeueing enabled. Setting signal handlers.\n"
     ]
    },
    {
     "name": "stdout",
     "output_type": "stream",
     "text": [
      "Epoch 0: 100%|██████████| 57/57 [00:00<00:00, 182.22it/s, v_num=486, loss=0.0171]\n",
      "Validation: |          | 0/? [00:00<?, ?it/s]\u001b[A\n",
      "Validation:   0%|          | 0/7 [00:00<?, ?it/s]\u001b[A\n",
      "Validation DataLoader 0:   0%|          | 0/7 [00:00<?, ?it/s]\u001b[A\n",
      "Validation DataLoader 0:  14%|█▍        | 1/7 [00:00<00:00, 300.22it/s]\u001b[A\n",
      "Validation DataLoader 0:  29%|██▊       | 2/7 [00:00<00:00, 381.91it/s]\u001b[A\n",
      "Validation DataLoader 0:  43%|████▎     | 3/7 [00:00<00:00, 420.24it/s]\u001b[A\n",
      "Validation DataLoader 0:  57%|█████▋    | 4/7 [00:00<00:00, 443.51it/s]\u001b[A\n",
      "Validation DataLoader 0:  71%|███████▏  | 5/7 [00:00<00:00, 455.00it/s]\u001b[A\n",
      "Validation DataLoader 0:  86%|████████▌ | 6/7 [00:00<00:00, 450.63it/s]\u001b[A\n",
      "Validation DataLoader 0: 100%|██████████| 7/7 [00:00<00:00, 461.19it/s]\u001b[A\n",
      "Epoch 1: 100%|██████████| 57/57 [00:00<00:00, 289.58it/s, v_num=486, loss=0.0163, val_loss=0.0216]\n",
      "Validation: |          | 0/? [00:00<?, ?it/s]\u001b[A\n",
      "Validation:   0%|          | 0/7 [00:00<?, ?it/s]\u001b[A\n",
      "Validation DataLoader 0:   0%|          | 0/7 [00:00<?, ?it/s]\u001b[A\n",
      "Validation DataLoader 0:  14%|█▍        | 1/7 [00:00<00:00, 337.68it/s]\u001b[A\n",
      "Validation DataLoader 0:  29%|██▊       | 2/7 [00:00<00:00, 423.39it/s]\u001b[A\n",
      "Validation DataLoader 0:  43%|████▎     | 3/7 [00:00<00:00, 415.79it/s]\u001b[A\n",
      "Validation DataLoader 0:  57%|█████▋    | 4/7 [00:00<00:00, 449.43it/s]\u001b[A\n",
      "Validation DataLoader 0:  71%|███████▏  | 5/7 [00:00<00:00, 443.57it/s]\u001b[A\n",
      "Validation DataLoader 0:  86%|████████▌ | 6/7 [00:00<00:00, 459.02it/s]\u001b[A\n",
      "Validation DataLoader 0: 100%|██████████| 7/7 [00:00<00:00, 470.82it/s]\u001b[A\n",
      "Epoch 2: 100%|██████████| 57/57 [00:00<00:00, 292.67it/s, v_num=486, loss=0.0163, val_loss=0.0215]\n",
      "Validation: |          | 0/? [00:00<?, ?it/s]\u001b[A\n",
      "Validation:   0%|          | 0/7 [00:00<?, ?it/s]\u001b[A\n",
      "Validation DataLoader 0:   0%|          | 0/7 [00:00<?, ?it/s]\u001b[A\n",
      "Validation DataLoader 0:  14%|█▍        | 1/7 [00:00<00:00, 430.72it/s]\u001b[A\n",
      "Validation DataLoader 0:  29%|██▊       | 2/7 [00:00<00:00, 452.78it/s]\u001b[A\n",
      "Validation DataLoader 0:  43%|████▎     | 3/7 [00:00<00:00, 376.17it/s]\u001b[A\n",
      "Validation DataLoader 0:  57%|█████▋    | 4/7 [00:00<00:00, 421.91it/s]\u001b[A\n",
      "Validation DataLoader 0:  71%|███████▏  | 5/7 [00:00<00:00, 456.85it/s]\u001b[A\n",
      "Validation DataLoader 0:  86%|████████▌ | 6/7 [00:00<00:00, 480.74it/s]\u001b[A\n",
      "Validation DataLoader 0: 100%|██████████| 7/7 [00:00<00:00, 481.99it/s]\u001b[A\n",
      "Epoch 3: 100%|██████████| 57/57 [00:00<00:00, 321.83it/s, v_num=486, loss=0.0163, val_loss=0.0215]\n",
      "Validation: |          | 0/? [00:00<?, ?it/s]\u001b[A\n",
      "Validation:   0%|          | 0/7 [00:00<?, ?it/s]\u001b[A\n",
      "Validation DataLoader 0:   0%|          | 0/7 [00:00<?, ?it/s]\u001b[A\n",
      "Validation DataLoader 0:  14%|█▍        | 1/7 [00:00<00:00, 414.91it/s]\u001b[A\n",
      "Validation DataLoader 0:  29%|██▊       | 2/7 [00:00<00:00, 316.28it/s]\u001b[A\n",
      "Validation DataLoader 0:  43%|████▎     | 3/7 [00:00<00:00, 382.37it/s]\u001b[A\n",
      "Validation DataLoader 0:  57%|█████▋    | 4/7 [00:00<00:00, 430.22it/s]\u001b[A\n",
      "Validation DataLoader 0:  71%|███████▏  | 5/7 [00:00<00:00, 461.36it/s]\u001b[A\n",
      "Validation DataLoader 0:  86%|████████▌ | 6/7 [00:00<00:00, 482.30it/s]\u001b[A\n",
      "Validation DataLoader 0: 100%|██████████| 7/7 [00:00<00:00, 507.34it/s]\u001b[A\n",
      "Epoch 4: 100%|██████████| 57/57 [00:00<00:00, 314.13it/s, v_num=486, loss=0.0163, val_loss=0.0215]\n",
      "Validation: |          | 0/? [00:00<?, ?it/s]\u001b[A\n",
      "Validation:   0%|          | 0/7 [00:00<?, ?it/s]\u001b[A\n",
      "Validation DataLoader 0:   0%|          | 0/7 [00:00<?, ?it/s]\u001b[A\n",
      "Validation DataLoader 0:  14%|█▍        | 1/7 [00:00<00:00, 400.37it/s]\u001b[A\n",
      "Validation DataLoader 0:  29%|██▊       | 2/7 [00:00<00:00, 487.26it/s]\u001b[A\n",
      "Validation DataLoader 0:  43%|████▎     | 3/7 [00:00<00:00, 396.55it/s]\u001b[A\n",
      "Validation DataLoader 0:  57%|█████▋    | 4/7 [00:00<00:00, 440.72it/s]\u001b[A\n",
      "Validation DataLoader 0:  71%|███████▏  | 5/7 [00:00<00:00, 472.19it/s]\u001b[A\n",
      "Validation DataLoader 0:  86%|████████▌ | 6/7 [00:00<00:00, 497.24it/s]\u001b[A\n",
      "Validation DataLoader 0: 100%|██████████| 7/7 [00:00<00:00, 517.19it/s]\u001b[A\n",
      "Epoch 5: 100%|██████████| 57/57 [00:00<00:00, 322.05it/s, v_num=486, loss=0.0163, val_loss=0.0215]\n",
      "Validation: |          | 0/? [00:00<?, ?it/s]\u001b[A\n",
      "Validation:   0%|          | 0/7 [00:00<?, ?it/s]\u001b[A\n",
      "Validation DataLoader 0:   0%|          | 0/7 [00:00<?, ?it/s]\u001b[A\n",
      "Validation DataLoader 0:  14%|█▍        | 1/7 [00:00<00:00, 440.67it/s]\u001b[A\n",
      "Validation DataLoader 0:  29%|██▊       | 2/7 [00:00<00:00, 385.70it/s]\u001b[A\n",
      "Validation DataLoader 0:  43%|████▎     | 3/7 [00:00<00:00, 389.58it/s]\u001b[A\n",
      "Validation DataLoader 0:  57%|█████▋    | 4/7 [00:00<00:00, 433.71it/s]\u001b[A\n",
      "Validation DataLoader 0:  71%|███████▏  | 5/7 [00:00<00:00, 471.69it/s]\u001b[A\n",
      "Validation DataLoader 0:  86%|████████▌ | 6/7 [00:00<00:00, 494.27it/s]\u001b[A\n",
      "Validation DataLoader 0: 100%|██████████| 7/7 [00:00<00:00, 518.16it/s]\u001b[A\n",
      "Epoch 6: 100%|██████████| 57/57 [00:00<00:00, 320.29it/s, v_num=486, loss=0.0163, val_loss=0.0215]\n",
      "Validation: |          | 0/? [00:00<?, ?it/s]\u001b[A\n",
      "Validation:   0%|          | 0/7 [00:00<?, ?it/s]\u001b[A\n",
      "Validation DataLoader 0:   0%|          | 0/7 [00:00<?, ?it/s]\u001b[A\n",
      "Validation DataLoader 0:  14%|█▍        | 1/7 [00:00<00:00, 359.96it/s]\u001b[A\n",
      "Validation DataLoader 0:  29%|██▊       | 2/7 [00:00<00:00, 387.04it/s]\u001b[A\n",
      "Validation DataLoader 0:  43%|████▎     | 3/7 [00:00<00:00, 346.50it/s]\u001b[A\n",
      "Validation DataLoader 0:  57%|█████▋    | 4/7 [00:00<00:00, 366.09it/s]\u001b[A\n",
      "Validation DataLoader 0:  71%|███████▏  | 5/7 [00:00<00:00, 396.92it/s]\u001b[A\n",
      "Validation DataLoader 0:  86%|████████▌ | 6/7 [00:00<00:00, 420.13it/s]\u001b[A\n",
      "Validation DataLoader 0: 100%|██████████| 7/7 [00:00<00:00, 423.04it/s]\u001b[A\n",
      "Epoch 7: 100%|██████████| 57/57 [00:00<00:00, 305.98it/s, v_num=486, loss=0.0163, val_loss=0.0215]\n",
      "Validation: |          | 0/? [00:00<?, ?it/s]\u001b[A\n",
      "Validation:   0%|          | 0/7 [00:00<?, ?it/s]\u001b[A\n",
      "Validation DataLoader 0:   0%|          | 0/7 [00:00<?, ?it/s]\u001b[A\n",
      "Validation DataLoader 0:  14%|█▍        | 1/7 [00:00<00:00, 398.70it/s]\u001b[A\n",
      "Validation DataLoader 0:  29%|██▊       | 2/7 [00:00<00:00, 493.80it/s]\u001b[A\n",
      "Validation DataLoader 0:  43%|████▎     | 3/7 [00:00<00:00, 533.65it/s]\u001b[A\n",
      "Validation DataLoader 0:  57%|█████▋    | 4/7 [00:00<00:00, 570.81it/s]\u001b[A\n",
      "Validation DataLoader 0:  71%|███████▏  | 5/7 [00:00<00:00, 590.81it/s]\u001b[A\n",
      "Validation DataLoader 0:  86%|████████▌ | 6/7 [00:00<00:00, 606.55it/s]\u001b[A\n",
      "Validation DataLoader 0: 100%|██████████| 7/7 [00:00<00:00, 618.04it/s]\u001b[A\n",
      "Epoch 8: 100%|██████████| 57/57 [00:00<00:00, 315.27it/s, v_num=486, loss=0.0163, val_loss=0.0215]\n",
      "Validation: |          | 0/? [00:00<?, ?it/s]\u001b[A\n",
      "Validation:   0%|          | 0/7 [00:00<?, ?it/s]\u001b[A\n",
      "Validation DataLoader 0:   0%|          | 0/7 [00:00<?, ?it/s]\u001b[A\n",
      "Validation DataLoader 0:  14%|█▍        | 1/7 [00:00<00:00, 418.93it/s]\u001b[A\n",
      "Validation DataLoader 0:  29%|██▊       | 2/7 [00:00<00:00, 448.76it/s]\u001b[A\n",
      "Validation DataLoader 0:  43%|████▎     | 3/7 [00:00<00:00, 379.24it/s]\u001b[A\n",
      "Validation DataLoader 0:  57%|█████▋    | 4/7 [00:00<00:00, 425.97it/s]\u001b[A\n",
      "Validation DataLoader 0:  71%|███████▏  | 5/7 [00:00<00:00, 462.07it/s]\u001b[A\n",
      "Validation DataLoader 0:  86%|████████▌ | 6/7 [00:00<00:00, 489.82it/s]\u001b[A\n",
      "Validation DataLoader 0: 100%|██████████| 7/7 [00:00<00:00, 509.77it/s]\u001b[A\n",
      "Epoch 9: 100%|██████████| 57/57 [00:00<00:00, 329.75it/s, v_num=486, loss=0.0162, val_loss=0.0214]\n",
      "Validation: |          | 0/? [00:00<?, ?it/s]\u001b[A\n",
      "Validation:   0%|          | 0/7 [00:00<?, ?it/s]\u001b[A\n",
      "Validation DataLoader 0:   0%|          | 0/7 [00:00<?, ?it/s]\u001b[A\n",
      "Validation DataLoader 0:  14%|█▍        | 1/7 [00:00<00:00, 392.03it/s]\u001b[A\n",
      "Validation DataLoader 0:  29%|██▊       | 2/7 [00:00<00:00, 483.10it/s]\u001b[A\n",
      "Validation DataLoader 0:  43%|████▎     | 3/7 [00:00<00:00, 415.83it/s]\u001b[A\n",
      "Validation DataLoader 0:  57%|█████▋    | 4/7 [00:00<00:00, 459.15it/s]\u001b[A\n",
      "Validation DataLoader 0:  71%|███████▏  | 5/7 [00:00<00:00, 490.73it/s]\u001b[A\n",
      "Validation DataLoader 0:  86%|████████▌ | 6/7 [00:00<00:00, 514.64it/s]\u001b[A\n",
      "Validation DataLoader 0: 100%|██████████| 7/7 [00:00<00:00, 533.87it/s]\u001b[A\n",
      "Epoch 10: 100%|██████████| 57/57 [00:00<00:00, 316.72it/s, v_num=486, loss=0.0162, val_loss=0.0214]\n",
      "Validation: |          | 0/? [00:00<?, ?it/s]\u001b[A\n",
      "Validation:   0%|          | 0/7 [00:00<?, ?it/s]\u001b[A\n",
      "Validation DataLoader 0:   0%|          | 0/7 [00:00<?, ?it/s]\u001b[A\n",
      "Validation DataLoader 0:  14%|█▍        | 1/7 [00:00<00:00, 441.69it/s]\u001b[A\n",
      "Validation DataLoader 0:  29%|██▊       | 2/7 [00:00<00:00, 418.59it/s]\u001b[A\n",
      "Validation DataLoader 0:  43%|████▎     | 3/7 [00:00<00:00, 440.42it/s]\u001b[A\n",
      "Validation DataLoader 0:  57%|█████▋    | 4/7 [00:00<00:00, 455.49it/s]\u001b[A\n",
      "Validation DataLoader 0:  71%|███████▏  | 5/7 [00:00<00:00, 460.61it/s]\u001b[A\n",
      "Validation DataLoader 0:  86%|████████▌ | 6/7 [00:00<00:00, 490.49it/s]\u001b[A\n",
      "Validation DataLoader 0: 100%|██████████| 7/7 [00:00<00:00, 512.63it/s]\u001b[A\n",
      "Epoch 11: 100%|██████████| 57/57 [00:00<00:00, 316.97it/s, v_num=486, loss=0.0162, val_loss=0.0214]\n",
      "Validation: |          | 0/? [00:00<?, ?it/s]\u001b[A\n",
      "Validation:   0%|          | 0/7 [00:00<?, ?it/s]\u001b[A\n",
      "Validation DataLoader 0:   0%|          | 0/7 [00:00<?, ?it/s]\u001b[A\n",
      "Validation DataLoader 0:  14%|█▍        | 1/7 [00:00<00:00, 377.32it/s]\u001b[A\n",
      "Validation DataLoader 0:  29%|██▊       | 2/7 [00:00<00:00, 472.73it/s]\u001b[A\n",
      "Validation DataLoader 0:  43%|████▎     | 3/7 [00:00<00:00, 403.47it/s]\u001b[A\n",
      "Validation DataLoader 0:  57%|█████▋    | 4/7 [00:00<00:00, 446.74it/s]\u001b[A\n",
      "Validation DataLoader 0:  71%|███████▏  | 5/7 [00:00<00:00, 475.64it/s]\u001b[A\n",
      "Validation DataLoader 0:  86%|████████▌ | 6/7 [00:00<00:00, 495.81it/s]\u001b[A\n",
      "Validation DataLoader 0: 100%|██████████| 7/7 [00:00<00:00, 506.93it/s]\u001b[A\n",
      "Epoch 12: 100%|██████████| 57/57 [00:00<00:00, 317.14it/s, v_num=486, loss=0.0162, val_loss=0.0214]\n",
      "Validation: |          | 0/? [00:00<?, ?it/s]\u001b[A\n",
      "Validation:   0%|          | 0/7 [00:00<?, ?it/s]\u001b[A\n",
      "Validation DataLoader 0:   0%|          | 0/7 [00:00<?, ?it/s]\u001b[A\n",
      "Validation DataLoader 0:  14%|█▍        | 1/7 [00:00<00:00, 372.17it/s]\u001b[A\n",
      "Validation DataLoader 0:  29%|██▊       | 2/7 [00:00<00:00, 406.23it/s]\u001b[A\n",
      "Validation DataLoader 0:  43%|████▎     | 3/7 [00:00<00:00, 416.96it/s]\u001b[A\n",
      "Validation DataLoader 0:  57%|█████▋    | 4/7 [00:00<00:00, 361.91it/s]\u001b[A\n",
      "Validation DataLoader 0:  71%|███████▏  | 5/7 [00:00<00:00, 395.95it/s]\u001b[A\n",
      "Validation DataLoader 0:  86%|████████▌ | 6/7 [00:00<00:00, 422.81it/s]\u001b[A\n",
      "Validation DataLoader 0: 100%|██████████| 7/7 [00:00<00:00, 441.51it/s]\u001b[A\n",
      "Epoch 13: 100%|██████████| 57/57 [00:00<00:00, 322.87it/s, v_num=486, loss=0.0162, val_loss=0.0214]\n",
      "Validation: |          | 0/? [00:00<?, ?it/s]\u001b[A\n",
      "Validation:   0%|          | 0/7 [00:00<?, ?it/s]\u001b[A\n",
      "Validation DataLoader 0:   0%|          | 0/7 [00:00<?, ?it/s]\u001b[A\n",
      "Validation DataLoader 0:  14%|█▍        | 1/7 [00:00<00:00, 376.41it/s]\u001b[A\n",
      "Validation DataLoader 0:  29%|██▊       | 2/7 [00:00<00:00, 464.43it/s]\u001b[A\n",
      "Validation DataLoader 0:  43%|████▎     | 3/7 [00:00<00:00, 507.17it/s]\u001b[A\n",
      "Validation DataLoader 0:  57%|█████▋    | 4/7 [00:00<00:00, 534.60it/s]\u001b[A\n",
      "Validation DataLoader 0:  71%|███████▏  | 5/7 [00:00<00:00, 484.92it/s]\u001b[A\n",
      "Validation DataLoader 0:  86%|████████▌ | 6/7 [00:00<00:00, 474.47it/s]\u001b[A\n",
      "Validation DataLoader 0: 100%|██████████| 7/7 [00:00<00:00, 494.48it/s]\u001b[A\n",
      "Epoch 14: 100%|██████████| 57/57 [00:00<00:00, 311.74it/s, v_num=486, loss=0.0162, val_loss=0.0214]\n",
      "Validation: |          | 0/? [00:00<?, ?it/s]\u001b[A\n",
      "Validation:   0%|          | 0/7 [00:00<?, ?it/s]\u001b[A\n",
      "Validation DataLoader 0:   0%|          | 0/7 [00:00<?, ?it/s]\u001b[A\n",
      "Validation DataLoader 0:  14%|█▍        | 1/7 [00:00<00:00, 398.09it/s]\u001b[A\n",
      "Validation DataLoader 0:  29%|██▊       | 2/7 [00:00<00:00, 326.86it/s]\u001b[A\n",
      "Validation DataLoader 0:  43%|████▎     | 3/7 [00:00<00:00, 392.88it/s]\u001b[A\n",
      "Validation DataLoader 0:  57%|█████▋    | 4/7 [00:00<00:00, 436.54it/s]\u001b[A\n",
      "Validation DataLoader 0:  71%|███████▏  | 5/7 [00:00<00:00, 446.48it/s]\u001b[A\n",
      "Validation DataLoader 0:  86%|████████▌ | 6/7 [00:00<00:00, 472.76it/s]\u001b[A\n",
      "Validation DataLoader 0: 100%|██████████| 7/7 [00:00<00:00, 492.95it/s]\u001b[A\n",
      "Epoch 15: 100%|██████████| 57/57 [00:00<00:00, 301.21it/s, v_num=486, loss=0.0162, val_loss=0.0214]\n",
      "Validation: |          | 0/? [00:00<?, ?it/s]\u001b[A\n",
      "Validation:   0%|          | 0/7 [00:00<?, ?it/s]\u001b[A\n",
      "Validation DataLoader 0:   0%|          | 0/7 [00:00<?, ?it/s]\u001b[A\n",
      "Validation DataLoader 0:  14%|█▍        | 1/7 [00:00<00:00, 403.76it/s]\u001b[A\n",
      "Validation DataLoader 0:  29%|██▊       | 2/7 [00:00<00:00, 330.69it/s]\u001b[A\n",
      "Validation DataLoader 0:  43%|████▎     | 3/7 [00:00<00:00, 398.77it/s]\u001b[A\n",
      "Validation DataLoader 0:  57%|█████▋    | 4/7 [00:00<00:00, 446.16it/s]\u001b[A\n",
      "Validation DataLoader 0:  71%|███████▏  | 5/7 [00:00<00:00, 480.05it/s]\u001b[A\n",
      "Validation DataLoader 0:  86%|████████▌ | 6/7 [00:00<00:00, 483.83it/s]\u001b[A\n",
      "Validation DataLoader 0: 100%|██████████| 7/7 [00:00<00:00, 504.43it/s]\u001b[A\n",
      "Epoch 16: 100%|██████████| 57/57 [00:00<00:00, 322.61it/s, v_num=486, loss=0.0162, val_loss=0.0214]\n",
      "Validation: |          | 0/? [00:00<?, ?it/s]\u001b[A\n",
      "Validation:   0%|          | 0/7 [00:00<?, ?it/s]\u001b[A\n",
      "Validation DataLoader 0:   0%|          | 0/7 [00:00<?, ?it/s]\u001b[A\n",
      "Validation DataLoader 0:  14%|█▍        | 1/7 [00:00<00:00, 425.99it/s]\u001b[A\n",
      "Validation DataLoader 0:  29%|██▊       | 2/7 [00:00<00:00, 514.73it/s]\u001b[A\n",
      "Validation DataLoader 0:  43%|████▎     | 3/7 [00:00<00:00, 466.95it/s]\u001b[A\n",
      "Validation DataLoader 0:  57%|█████▋    | 4/7 [00:00<00:00, 507.09it/s]\u001b[A\n",
      "Validation DataLoader 0:  71%|███████▏  | 5/7 [00:00<00:00, 506.68it/s]\u001b[A\n",
      "Validation DataLoader 0:  86%|████████▌ | 6/7 [00:00<00:00, 527.47it/s]\u001b[A\n",
      "Validation DataLoader 0: 100%|██████████| 7/7 [00:00<00:00, 539.78it/s]\u001b[A\n",
      "Epoch 17: 100%|██████████| 57/57 [00:00<00:00, 307.92it/s, v_num=486, loss=0.0162, val_loss=0.0214]\n",
      "Validation: |          | 0/? [00:00<?, ?it/s]\u001b[A\n",
      "Validation:   0%|          | 0/7 [00:00<?, ?it/s]\u001b[A\n",
      "Validation DataLoader 0:   0%|          | 0/7 [00:00<?, ?it/s]\u001b[A\n",
      "Validation DataLoader 0:  14%|█▍        | 1/7 [00:00<00:00, 411.29it/s]\u001b[A\n",
      "Validation DataLoader 0:  29%|██▊       | 2/7 [00:00<00:00, 493.36it/s]\u001b[A\n",
      "Validation DataLoader 0:  43%|████▎     | 3/7 [00:00<00:00, 494.32it/s]\u001b[A\n",
      "Validation DataLoader 0:  57%|█████▋    | 4/7 [00:00<00:00, 486.90it/s]\u001b[A\n",
      "Validation DataLoader 0:  71%|███████▏  | 5/7 [00:00<00:00, 488.76it/s]\u001b[A\n",
      "Validation DataLoader 0:  86%|████████▌ | 6/7 [00:00<00:00, 510.21it/s]\u001b[A\n",
      "Validation DataLoader 0: 100%|██████████| 7/7 [00:00<00:00, 527.45it/s]\u001b[A\n",
      "Epoch 18: 100%|██████████| 57/57 [00:00<00:00, 320.64it/s, v_num=486, loss=0.0162, val_loss=0.0214]\n",
      "Validation: |          | 0/? [00:00<?, ?it/s]\u001b[A\n",
      "Validation:   0%|          | 0/7 [00:00<?, ?it/s]\u001b[A\n",
      "Validation DataLoader 0:   0%|          | 0/7 [00:00<?, ?it/s]\u001b[A\n",
      "Validation DataLoader 0:  14%|█▍        | 1/7 [00:00<00:00, 431.73it/s]\u001b[A\n",
      "Validation DataLoader 0:  29%|██▊       | 2/7 [00:00<00:00, 529.75it/s]\u001b[A\n",
      "Validation DataLoader 0:  43%|████▎     | 3/7 [00:00<00:00, 477.91it/s]\u001b[A\n",
      "Validation DataLoader 0:  57%|█████▋    | 4/7 [00:00<00:00, 517.75it/s]\u001b[A\n",
      "Validation DataLoader 0:  71%|███████▏  | 5/7 [00:00<00:00, 513.72it/s]\u001b[A\n",
      "Validation DataLoader 0:  86%|████████▌ | 6/7 [00:00<00:00, 535.08it/s]\u001b[A\n",
      "Validation DataLoader 0: 100%|██████████| 7/7 [00:00<00:00, 553.06it/s]\u001b[A\n",
      "Epoch 19: 100%|██████████| 57/57 [00:00<00:00, 295.45it/s, v_num=486, loss=0.0162, val_loss=0.0214]\n",
      "Validation: |          | 0/? [00:00<?, ?it/s]\u001b[A\n",
      "Validation:   0%|          | 0/7 [00:00<?, ?it/s]\u001b[A\n",
      "Validation DataLoader 0:   0%|          | 0/7 [00:00<?, ?it/s]\u001b[A\n",
      "Validation DataLoader 0:  14%|█▍        | 1/7 [00:00<00:00, 437.00it/s]\u001b[A\n",
      "Validation DataLoader 0:  29%|██▊       | 2/7 [00:00<00:00, 533.36it/s]\u001b[A\n",
      "Validation DataLoader 0:  43%|████▎     | 3/7 [00:00<00:00, 578.84it/s]\u001b[A\n",
      "Validation DataLoader 0:  57%|█████▋    | 4/7 [00:00<00:00, 602.95it/s]\u001b[A\n",
      "Validation DataLoader 0:  71%|███████▏  | 5/7 [00:00<00:00, 618.81it/s]\u001b[A\n",
      "Validation DataLoader 0:  86%|████████▌ | 6/7 [00:00<00:00, 631.02it/s]\u001b[A\n",
      "Validation DataLoader 0: 100%|██████████| 7/7 [00:00<00:00, 633.98it/s]\u001b[A\n",
      "Epoch 19: 100%|██████████| 57/57 [00:00<00:00, 261.08it/s, v_num=486, loss=0.0162, val_loss=0.0214]"
     ]
    },
    {
     "name": "stderr",
     "output_type": "stream",
     "text": [
      "`Trainer.fit` stopped: `max_epochs=20` reached.\n"
     ]
    },
    {
     "name": "stdout",
     "output_type": "stream",
     "text": [
      "Epoch 19: 100%|██████████| 57/57 [00:00<00:00, 255.64it/s, v_num=486, loss=0.0162, val_loss=0.0214]\n"
     ]
    }
   ],
   "source": [
    "treinador.fit(mlp_teste, dm)"
   ]
  },
  {
   "cell_type": "markdown",
   "id": "3aa43798-2c7f-44e7-a1a8-ec54e4c5070e",
   "metadata": {},
   "source": [
    "### Curva de aprenzidado (MLP teste)"
   ]
  },
  {
   "cell_type": "markdown",
   "id": "e41a9525-8d63-4ccb-b361-a57ac7bf09be",
   "metadata": {},
   "source": [
    "O gráfico abaixo mostra a curva de aprendizado, comparando o treino com a validação. A partir dele verificamos que a curva de treino e validação convergem com o passar das épocas. Logo, o aprendizado é bom. "
   ]
  },
  {
   "cell_type": "code",
   "execution_count": 24,
   "id": "445ad222-a14e-494c-9114-4a0c676c4d96",
   "metadata": {},
   "outputs": [
    {
     "data": {
      "text/plain": [
       "Text(0, 0.5, 'Loss')"
      ]
     },
     "execution_count": 24,
     "metadata": {},
     "output_type": "execute_result"
    },
    {
     "data": {
      "image/png": "[encoded data removed]",
      "text/plain": [
       "<Figure size 640x480 with 1 Axes>"
      ]
     },
     "metadata": {},
     "output_type": "display_data"
    }
   ],
   "source": [
    "figura, eixo = plt.subplots()\n",
    "\n",
    "ca_treino = mlp_teste.curva_aprendizado_treino\n",
    "ca_val = mlp_teste.curva_aprendizado_val\n",
    "\n",
    "eixo.plot(ca_treino, label=\"Treino\")\n",
    "eixo.plot(ca_val, label=\"Validação\")\n",
    "\n",
    "eixo.legend()\n",
    "\n",
    "eixo.set_xlim(left=0)\n",
    "\n",
    "eixo.set_title(\"Curva de aprendizado\")\n",
    "eixo.set_xlabel(\"Época\")\n",
    "eixo.set_ylabel(\"Loss\")"
   ]
  },
  {
   "cell_type": "markdown",
   "id": "4996fce8-190f-492a-b517-49043cfe1cef",
   "metadata": {},
   "source": [
    "## Testando a rede com a arquitetura aleatória"
   ]
  },
  {
   "cell_type": "markdown",
   "id": "87f18a02-c1ce-483f-82a9-18a5efc5b0e9",
   "metadata": {},
   "source": [
    "Antes de testar a rede neural é preciso deixá-la no modo de avaliação do PyTorch. "
   ]
  },
  {
   "cell_type": "code",
   "execution_count": 25,
   "id": "754349b6-49ae-444e-a56b-f2d7fc10b38d",
   "metadata": {},
   "outputs": [
    {
     "data": {
      "text/plain": [
       "MLP_teste(\n",
       "  (camadas): Sequential(\n",
       "    (0): Linear(in_features=6, out_features=9, bias=True)\n",
       "    (1): Sigmoid()\n",
       "    (2): Linear(in_features=9, out_features=111, bias=True)\n",
       "    (3): Sigmoid()\n",
       "    (4): Linear(in_features=111, out_features=1, bias=True)\n",
       "  )\n",
       ")"
      ]
     },
     "execution_count": 25,
     "metadata": {},
     "output_type": "execute_result"
    }
   ],
   "source": [
    "mlp_teste.eval()"
   ]
  },
  {
   "cell_type": "markdown",
   "id": "6fe985a0-040b-485a-9b6c-c05c100b3309",
   "metadata": {},
   "source": [
    "### Calculando RMSE (MLP teste)"
   ]
  },
  {
   "cell_type": "markdown",
   "id": "c7154a3e-5275-4f7c-ac31-07ec39523c81",
   "metadata": {},
   "source": [
    "Antes de computar a métrica, temos que configurar a instância do `DataModule` no modo teste, criar um ambiente onde não computamos os gradientes locais (ambiente `no_grad`), computar os valores previstos do target e, finalmente, desnormalizar os dados com o `inverse_transform`.\n",
    "\n"
   ]
  },
  {
   "cell_type": "code",
   "execution_count": 26,
   "id": "8130a115-b378-41a7-8783-582edad636ed",
   "metadata": {},
   "outputs": [
    {
     "name": "stdout",
     "output_type": "stream",
     "text": [
      "O RMSE da MLP teste foi: {199.67125845383455}\n"
     ]
    },
    {
     "name": "stderr",
     "output_type": "stream",
     "text": [
      "/home/joao23022/anaconda3/envs/redes/lib/python3.12/site-packages/sklearn/metrics/_regression.py:483: FutureWarning: 'squared' is deprecated in version 1.4 and will be removed in 1.6. To calculate the root mean squared error, use the function'root_mean_squared_error'.\n",
      "  warnings.warn(\n"
     ]
    }
   ],
   "source": [
    "dm.setup(\"test\")\n",
    "\n",
    "with torch.no_grad():\n",
    "    X_true = dm.X_teste\n",
    "\n",
    "    y_true = dm.y_teste\n",
    "    y_true = y_scaler.inverse_transform(y_true)\n",
    "\n",
    "    y_pred = mlp_teste(X_true)\n",
    "    y_pred = y_scaler.inverse_transform(y_pred)\n",
    "\n",
    "    RMSE = mean_squared_error(y_true, y_pred, squared=False)\n",
    "\n",
    "    print(\"O RMSE da MLP teste foi:\", {RMSE})"
   ]
  },
  {
   "cell_type": "markdown",
   "id": "be941091-36c5-450c-9225-e2a23594d15b",
   "metadata": {},
   "source": [
    "O RMSE desse modelo de teste é razoável, se levarmos em consideração que o rendimento máximo dos dados fornecidos pelo conjunto de dados do treino é maior que 1300 kg/hec. \n",
    "\n",
    "Após todos esses passos, podemos observar que os dados estão adequados e podemos partir para o nosso modelo real. "
   ]
  },
  {
   "cell_type": "markdown",
   "id": "736a76ac-5aa6-4eb3-9c92-0679a68d665c",
   "metadata": {},
   "source": [
    "## Treinando diferentes MLPs"
   ]
  },
  {
   "cell_type": "markdown",
   "id": "63682ce0-4b82-4cd1-b08a-a0e7f2f21b13",
   "metadata": {},
   "source": [
    "*Hiperparâmetros:* neurônios (cada camada), camadas e dropout.\n",
    "\n",
    "A seguir criamos o modelo de rede que será treinado com diferentes arquiteturas, variando os hiperparâmetros listados acima."
   ]
  },
  {
   "cell_type": "code",
   "execution_count": 43,
   "id": "90cb5c54-4094-49a0-905b-fda5915ba54c",
   "metadata": {},
   "outputs": [],
   "source": [
    "class MLP(L.LightningModule):\n",
    "    def __init__(\n",
    "        self, num_dados_entrada, num_targets, neuronios, dropouts\n",
    "    ):\n",
    "        super().__init__()    \n",
    "        \n",
    "        camadas = []   \n",
    "        \n",
    "        neuronios = [num_dados_entrada]+neuronios\n",
    "    \n",
    "        for k in range(len(neuronios)-1): # Camada de entrada + camadas ocultas \n",
    "            camadas.append(nn.Linear(neuronios[k], neuronios[k+1]))\n",
    "            camadas.append(nn.ReLU())\n",
    "            camadas.append(nn.Dropout(dropouts[k]))\n",
    "        \n",
    "        camadas.append(nn.Linear(neuronios[-1], num_targets)) # Camada de saída\n",
    "        \n",
    "        self.camadas = nn.Sequential(*camadas) \n",
    "        \n",
    "\n",
    "        self.fun_perda = F.mse_loss\n",
    "\n",
    "        self.perdas_treino = []\n",
    "        self.perdas_val = []\n",
    "\n",
    "        self.curva_aprendizado_treino = []\n",
    "        self.curva_aprendizado_val = []\n",
    "\n",
    "    def forward(self, x):\n",
    "        x = self.camadas(x)\n",
    "        return x\n",
    "\n",
    "    def training_step(self, batch, batch_idx):\n",
    "        x, y = batch\n",
    "        y_pred = self(x)\n",
    "        loss = self.fun_perda(y, y_pred)\n",
    "\n",
    "        self.log(\"loss\", loss, prog_bar=True)\n",
    "        self.perdas_treino.append(loss)\n",
    "\n",
    "        return loss\n",
    "\n",
    "    def validation_step(self, batch, batch_idx):\n",
    "        x, y = batch\n",
    "        y_pred = self(x)\n",
    "        loss = self.fun_perda(y, y_pred)\n",
    "\n",
    "        self.log(\"val_loss\", loss, prog_bar=True)\n",
    "        self.perdas_val.append(loss)\n",
    "\n",
    "        return loss\n",
    "\n",
    "    def test_step(self, batch, batch_idx):\n",
    "        x, y = batch\n",
    "        y_pred = self(x)\n",
    "        loss = self.fun_perda(y, y_pred)\n",
    "\n",
    "        self.log(\"test_loss\", loss)\n",
    "\n",
    "        return loss\n",
    "\n",
    "    def on_train_epoch_end(self):\n",
    "        # Atualiza curva de aprendizado\n",
    "        perda_media = torch.stack(self.perdas_treino).mean()\n",
    "        self.curva_aprendizado_treino.append(float(perda_media))\n",
    "        self.perdas_treino.clear()\n",
    "\n",
    "    def on_validation_epoch_end(self):\n",
    "        # Atualiza curva de aprendizado\n",
    "        perda_media = torch.stack(self.perdas_val).mean()\n",
    "        self.curva_aprendizado_val.append(float(perda_media))\n",
    "        self.perdas_val.clear()\n",
    "\n",
    "    def configure_optimizers(self):\n",
    "        optimizer = optim.SGD(self.parameters(), lr=1e-3)\n",
    "        return optimizer"
   ]
  },
  {
   "cell_type": "markdown",
   "id": "d39f3134-1918-4f29-8efb-0f4870dbe6d1",
   "metadata": {},
   "source": [
    "### Função `objective`"
   ]
  },
  {
   "cell_type": "markdown",
   "id": "68594704-4bb3-4c40-9da8-168e7e2a1abd",
   "metadata": {},
   "source": [
    "A função `objective` é responsável por explorar as diferentes possíveis arquiteturas, variando os hiperparâmetros selecionados e utilizando o Optuna para encontrar o melhor modelo dentre as arquiteturas testadas, sendo estes treinados por 100 épocas, ou até a parada do early stopping."
   ]
  },
  {
   "cell_type": "code",
   "execution_count": 42,
   "id": "f99a8e55-cc3a-4df6-ba99-ece7f574bc06",
   "metadata": {},
   "outputs": [],
   "source": [
    "def objective(trial: optuna.trial.Trial) -> float:\n",
    "\n",
    "    \"\"\" Explora as diferentes arquiteturas, sugerindo número de camadas, neurônios e dropouts.\n",
    "        Em seguida, cria o modelo de rede, treina a rede e retorna a métrica 'val_loss'. \"\"\"\n",
    "    \n",
    "    MAX_EPOCHS = 100\n",
    "\n",
    "    # Otimizamos o número de camadas, neurônios em cada camada oculta e dropouts.\n",
    "    num_dados_entrada = 6\n",
    "    num_targets = 1\n",
    "    \n",
    "    neuronios = []   \n",
    "    dropouts = []\n",
    "    \n",
    "    n_camadas = trial.suggest_int(\"n_layers\", 1, 5)\n",
    "        \n",
    "    for i in range(n_camadas):\n",
    "        neuronio = trial.suggest_int(f'n_units{i}', 4, 120)\n",
    "        neuronios.append(neuronio)\n",
    "        dropout = trial.suggest_float(\"dropout\", 0.2, 0.5)\n",
    "        dropouts.append(dropout)\n",
    "        \n",
    "    print(neuronios, dropouts)\n",
    "\n",
    "    model = MLP(num_dados_entrada, num_targets, neuronios, dropouts)\n",
    "    datamodule = DataModule(X_treino, y_treino, X_val, y_val, X_teste, y_teste)\n",
    "    \n",
    "    early_stop_callback = EarlyStopping(monitor=\"val_loss\", mode=\"min\", patience=3)\n",
    "    treinador= L.Trainer(max_epochs=MAX_EPOCHS, callbacks=[early_stop_callback], enable_progress_bar=False) \n",
    "    \n",
    "    treinador.fit(model, datamodule=datamodule)\n",
    "\n",
    "    return treinador.callback_metrics[\"val_loss\"].item()"
   ]
  },
  {
   "cell_type": "markdown",
   "id": "2fa64809-4cc4-40c4-bd1b-c1d72ac03754",
   "metadata": {},
   "source": [
    "### Tentativas de otimização"
   ]
  },
  {
   "cell_type": "markdown",
   "id": "ae316c67-e98b-4bb8-8bdc-0834c3e2b0d1",
   "metadata": {},
   "source": [
    "Nesta célula, utilizamos a função e a classe definidas anteriormente para treinar diferentes arquiteturas. Levando em consideração que: a cada \"trial\" há uma tentativa de otimização e, teoricamete, uma arquitetura é treinada a cada tentativa. Então treinamos 150 diferentes arquiteturas. "
   ]
  },
  {
   "cell_type": "code",
   "execution_count": 29,
   "id": "0af1bb7a-baad-4b85-a37c-4a77364850dc",
   "metadata": {},
   "outputs": [
    {
     "name": "stderr",
     "output_type": "stream",
     "text": [
      "[I 2024-05-21 07:56:30,846] A new study created in memory with name: no-name-43b94f3f-950a-483c-b8c0-fcff22a47898\n",
      "GPU available: True (cuda), used: True\n",
      "TPU available: False, using: 0 TPU cores\n",
      "IPU available: False, using: 0 IPUs\n",
      "HPU available: False, using: 0 HPUs\n",
      "LOCAL_RANK: 0 - CUDA_VISIBLE_DEVICES: [0]\n",
      "\n",
      "  | Name    | Type       | Params\n",
      "---------------------------------------\n",
      "0 | camadas | Sequential | 8.4 K \n",
      "---------------------------------------\n",
      "8.4 K     Trainable params\n",
      "0         Non-trainable params\n",
      "8.4 K     Total params\n",
      "0.034     Total estimated model params size (MB)\n",
      "SLURM auto-requeueing enabled. Setting signal handlers.\n"
     ]
    },
    {
     "name": "stdout",
     "output_type": "stream",
     "text": [
      "[34, 53, 64, 43] [0.23339563357129495, 0.23339563357129495, 0.23339563357129495, 0.23339563357129495]\n"
     ]
    },
    {
     "name": "stderr",
     "output_type": "stream",
     "text": [
      "`Trainer.fit` stopped: `max_epochs=100` reached.\n",
      "[I 2024-05-21 07:56:49,134] Trial 0 finished with value: 0.01787455938756466 and parameters: {'n_layers': 4, 'n_units0': 34, 'dropout': 0.23339563357129495, 'n_units1': 53, 'n_units2': 64, 'n_units3': 43}. Best is trial 0 with value: 0.01787455938756466.\n",
      "GPU available: True (cuda), used: True\n",
      "TPU available: False, using: 0 TPU cores\n",
      "IPU available: False, using: 0 IPUs\n",
      "HPU available: False, using: 0 HPUs\n",
      "LOCAL_RANK: 0 - CUDA_VISIBLE_DEVICES: [0]\n",
      "\n",
      "  | Name    | Type       | Params\n",
      "---------------------------------------\n",
      "0 | camadas | Sequential | 14.7 K\n",
      "---------------------------------------\n",
      "14.7 K    Trainable params\n",
      "0         Non-trainable params\n",
      "14.7 K    Total params\n",
      "0.059     Total estimated model params size (MB)\n",
      "SLURM auto-requeueing enabled. Setting signal handlers.\n"
     ]
    },
    {
     "name": "stdout",
     "output_type": "stream",
     "text": [
      "[100, 50, 112, 28] [0.3309808115306765, 0.3309808115306765, 0.3309808115306765, 0.3309808115306765]\n"
     ]
    },
    {
     "name": "stderr",
     "output_type": "stream",
     "text": [
      "`Trainer.fit` stopped: `max_epochs=100` reached.\n",
      "[I 2024-05-21 07:57:07,332] Trial 1 finished with value: 0.018755203112959862 and parameters: {'n_layers': 4, 'n_units0': 100, 'dropout': 0.3309808115306765, 'n_units1': 50, 'n_units2': 112, 'n_units3': 28}. Best is trial 0 with value: 0.01787455938756466.\n",
      "GPU available: True (cuda), used: True\n",
      "TPU available: False, using: 0 TPU cores\n",
      "IPU available: False, using: 0 IPUs\n",
      "HPU available: False, using: 0 HPUs\n",
      "LOCAL_RANK: 0 - CUDA_VISIBLE_DEVICES: [0]\n",
      "\n",
      "  | Name    | Type       | Params\n",
      "---------------------------------------\n",
      "0 | camadas | Sequential | 4.6 K \n",
      "---------------------------------------\n",
      "4.6 K     Trainable params\n",
      "0         Non-trainable params\n",
      "4.6 K     Total params\n",
      "0.018     Total estimated model params size (MB)\n",
      "SLURM auto-requeueing enabled. Setting signal handlers.\n"
     ]
    },
    {
     "name": "stdout",
     "output_type": "stream",
     "text": [
      "[110, 11, 27, 49, 17] [0.4889404381801719, 0.4889404381801719, 0.4889404381801719, 0.4889404381801719, 0.4889404381801719]\n"
     ]
    },
    {
     "name": "stderr",
     "output_type": "stream",
     "text": [
      "[I 2024-05-21 07:57:17,231] Trial 2 finished with value: 0.021402480080723763 and parameters: {'n_layers': 5, 'n_units0': 110, 'dropout': 0.4889404381801719, 'n_units1': 11, 'n_units2': 27, 'n_units3': 49, 'n_units4': 17}. Best is trial 0 with value: 0.01787455938756466.\n",
      "GPU available: True (cuda), used: True\n",
      "TPU available: False, using: 0 TPU cores\n",
      "IPU available: False, using: 0 IPUs\n",
      "HPU available: False, using: 0 HPUs\n",
      "LOCAL_RANK: 0 - CUDA_VISIBLE_DEVICES: [0]\n",
      "\n",
      "  | Name    | Type       | Params\n",
      "---------------------------------------\n",
      "0 | camadas | Sequential | 6.5 K \n",
      "---------------------------------------\n",
      "6.5 K     Trainable params\n",
      "0         Non-trainable params\n",
      "6.5 K     Total params\n",
      "0.026     Total estimated model params size (MB)\n",
      "SLURM auto-requeueing enabled. Setting signal handlers.\n"
     ]
    },
    {
     "name": "stdout",
     "output_type": "stream",
     "text": [
      "[32, 62, 5, 108, 30] [0.2325896324008446, 0.2325896324008446, 0.2325896324008446, 0.2325896324008446, 0.2325896324008446]\n"
     ]
    },
    {
     "name": "stderr",
     "output_type": "stream",
     "text": [
      "[I 2024-05-21 07:57:24,210] Trial 3 finished with value: 0.021370356902480125 and parameters: {'n_layers': 5, 'n_units0': 32, 'dropout': 0.2325896324008446, 'n_units1': 62, 'n_units2': 5, 'n_units3': 108, 'n_units4': 30}. Best is trial 0 with value: 0.01787455938756466.\n",
      "GPU available: True (cuda), used: True\n",
      "TPU available: False, using: 0 TPU cores\n",
      "IPU available: False, using: 0 IPUs\n",
      "HPU available: False, using: 0 HPUs\n",
      "LOCAL_RANK: 0 - CUDA_VISIBLE_DEVICES: [0]\n",
      "\n",
      "  | Name    | Type       | Params\n",
      "---------------------------------------\n",
      "0 | camadas | Sequential | 14.3 K\n",
      "---------------------------------------\n",
      "14.3 K    Trainable params\n",
      "0         Non-trainable params\n",
      "14.3 K    Total params\n",
      "0.057     Total estimated model params size (MB)\n",
      "SLURM auto-requeueing enabled. Setting signal handlers.\n"
     ]
    },
    {
     "name": "stdout",
     "output_type": "stream",
     "text": [
      "[106, 94, 36] [0.4012981094657919, 0.4012981094657919, 0.4012981094657919]\n"
     ]
    },
    {
     "name": "stderr",
     "output_type": "stream",
     "text": [
      "[I 2024-05-21 07:57:32,731] Trial 4 finished with value: 0.015988856554031372 and parameters: {'n_layers': 3, 'n_units0': 106, 'dropout': 0.4012981094657919, 'n_units1': 94, 'n_units2': 36}. Best is trial 4 with value: 0.015988856554031372.\n",
      "GPU available: True (cuda), used: True\n",
      "TPU available: False, using: 0 TPU cores\n",
      "IPU available: False, using: 0 IPUs\n",
      "HPU available: False, using: 0 HPUs\n",
      "LOCAL_RANK: 0 - CUDA_VISIBLE_DEVICES: [0]\n",
      "\n",
      "  | Name    | Type       | Params\n",
      "---------------------------------------\n",
      "0 | camadas | Sequential | 193   \n",
      "---------------------------------------\n",
      "193       Trainable params\n",
      "0         Non-trainable params\n",
      "193       Total params\n",
      "0.001     Total estimated model params size (MB)\n",
      "SLURM auto-requeueing enabled. Setting signal handlers.\n"
     ]
    },
    {
     "name": "stdout",
     "output_type": "stream",
     "text": [
      "[24] [0.24982275973905424]\n"
     ]
    },
    {
     "name": "stderr",
     "output_type": "stream",
     "text": [
      "[I 2024-05-21 07:57:39,501] Trial 5 finished with value: 0.011712245643138885 and parameters: {'n_layers': 1, 'n_units0': 24, 'dropout': 0.24982275973905424}. Best is trial 5 with value: 0.011712245643138885.\n",
      "GPU available: True (cuda), used: True\n",
      "TPU available: False, using: 0 TPU cores\n",
      "IPU available: False, using: 0 IPUs\n",
      "HPU available: False, using: 0 HPUs\n",
      "LOCAL_RANK: 0 - CUDA_VISIBLE_DEVICES: [0]\n",
      "\n",
      "  | Name    | Type       | Params\n",
      "---------------------------------------\n",
      "0 | camadas | Sequential | 27.3 K\n",
      "---------------------------------------\n",
      "27.3 K    Trainable params\n",
      "0         Non-trainable params\n",
      "27.3 K    Total params\n",
      "0.109     Total estimated model params size (MB)\n",
      "SLURM auto-requeueing enabled. Setting signal handlers.\n"
     ]
    },
    {
     "name": "stdout",
     "output_type": "stream",
     "text": [
      "[120, 99, 64, 51, 89] [0.3008755408220767, 0.3008755408220767, 0.3008755408220767, 0.3008755408220767, 0.3008755408220767]\n"
     ]
    },
    {
     "name": "stderr",
     "output_type": "stream",
     "text": [
      "[I 2024-05-21 07:57:46,466] Trial 6 finished with value: 0.021224617958068848 and parameters: {'n_layers': 5, 'n_units0': 120, 'dropout': 0.3008755408220767, 'n_units1': 99, 'n_units2': 64, 'n_units3': 51, 'n_units4': 89}. Best is trial 5 with value: 0.011712245643138885.\n",
      "GPU available: True (cuda), used: True\n",
      "TPU available: False, using: 0 TPU cores\n",
      "IPU available: False, using: 0 IPUs\n",
      "HPU available: False, using: 0 HPUs\n",
      "LOCAL_RANK: 0 - CUDA_VISIBLE_DEVICES: [0]\n",
      "\n",
      "  | Name    | Type       | Params\n",
      "---------------------------------------\n",
      "0 | camadas | Sequential | 209   \n",
      "---------------------------------------\n",
      "209       Trainable params\n",
      "0         Non-trainable params\n",
      "209       Total params\n",
      "0.001     Total estimated model params size (MB)\n",
      "SLURM auto-requeueing enabled. Setting signal handlers.\n"
     ]
    },
    {
     "name": "stdout",
     "output_type": "stream",
     "text": [
      "[26] [0.22867190103360902]\n"
     ]
    },
    {
     "name": "stderr",
     "output_type": "stream",
     "text": [
      "`Trainer.fit` stopped: `max_epochs=100` reached.\n",
      "[I 2024-05-21 07:58:02,336] Trial 7 finished with value: 0.011175207793712616 and parameters: {'n_layers': 1, 'n_units0': 26, 'dropout': 0.22867190103360902}. Best is trial 7 with value: 0.011175207793712616.\n",
      "GPU available: True (cuda), used: True\n",
      "TPU available: False, using: 0 TPU cores\n",
      "IPU available: False, using: 0 IPUs\n",
      "HPU available: False, using: 0 HPUs\n",
      "LOCAL_RANK: 0 - CUDA_VISIBLE_DEVICES: [0]\n",
      "\n",
      "  | Name    | Type       | Params\n",
      "---------------------------------------\n",
      "0 | camadas | Sequential | 14.5 K\n",
      "---------------------------------------\n",
      "14.5 K    Trainable params\n",
      "0         Non-trainable params\n",
      "14.5 K    Total params\n",
      "0.058     Total estimated model params size (MB)\n",
      "SLURM auto-requeueing enabled. Setting signal handlers.\n"
     ]
    },
    {
     "name": "stdout",
     "output_type": "stream",
     "text": [
      "[65, 88, 92] [0.42804943107324356, 0.42804943107324356, 0.42804943107324356]\n"
     ]
    },
    {
     "name": "stderr",
     "output_type": "stream",
     "text": [
      "[I 2024-05-21 07:58:06,853] Trial 8 finished with value: 0.018003273755311966 and parameters: {'n_layers': 3, 'n_units0': 65, 'dropout': 0.42804943107324356, 'n_units1': 88, 'n_units2': 92}. Best is trial 7 with value: 0.011175207793712616.\n",
      "GPU available: True (cuda), used: True\n",
      "TPU available: False, using: 0 TPU cores\n",
      "IPU available: False, using: 0 IPUs\n",
      "HPU available: False, using: 0 HPUs\n",
      "LOCAL_RANK: 0 - CUDA_VISIBLE_DEVICES: [0]\n",
      "\n",
      "  | Name    | Type       | Params\n",
      "---------------------------------------\n",
      "0 | camadas | Sequential | 15.4 K\n",
      "---------------------------------------\n",
      "15.4 K    Trainable params\n",
      "0         Non-trainable params\n",
      "15.4 K    Total params\n",
      "0.061     Total estimated model params size (MB)\n",
      "SLURM auto-requeueing enabled. Setting signal handlers.\n"
     ]
    },
    {
     "name": "stdout",
     "output_type": "stream",
     "text": [
      "[108, 68, 38, 114] [0.23807522662524144, 0.23807522662524144, 0.23807522662524144, 0.23807522662524144]\n"
     ]
    },
    {
     "name": "stderr",
     "output_type": "stream",
     "text": [
      "`Trainer.fit` stopped: `max_epochs=100` reached.\n",
      "[I 2024-05-21 07:58:25,462] Trial 9 finished with value: 0.01765637844800949 and parameters: {'n_layers': 4, 'n_units0': 108, 'dropout': 0.23807522662524144, 'n_units1': 68, 'n_units2': 38, 'n_units3': 114}. Best is trial 7 with value: 0.011175207793712616.\n",
      "GPU available: True (cuda), used: True\n",
      "TPU available: False, using: 0 TPU cores\n",
      "IPU available: False, using: 0 IPUs\n",
      "HPU available: False, using: 0 HPUs\n",
      "LOCAL_RANK: 0 - CUDA_VISIBLE_DEVICES: [0]\n",
      "\n",
      "  | Name    | Type       | Params\n",
      "---------------------------------------\n",
      "0 | camadas | Sequential | 73    \n",
      "---------------------------------------\n",
      "73        Trainable params\n",
      "0         Non-trainable params\n",
      "73        Total params\n",
      "0.000     Total estimated model params size (MB)\n",
      "SLURM auto-requeueing enabled. Setting signal handlers.\n"
     ]
    },
    {
     "name": "stdout",
     "output_type": "stream",
     "text": [
      "[9] [0.2965456221629674]\n"
     ]
    },
    {
     "name": "stderr",
     "output_type": "stream",
     "text": [
      "`Trainer.fit` stopped: `max_epochs=100` reached.\n",
      "[I 2024-05-21 07:58:41,402] Trial 10 finished with value: 0.011710996739566326 and parameters: {'n_layers': 1, 'n_units0': 9, 'dropout': 0.2965456221629674}. Best is trial 7 with value: 0.011175207793712616.\n",
      "GPU available: True (cuda), used: True\n",
      "TPU available: False, using: 0 TPU cores\n",
      "IPU available: False, using: 0 IPUs\n",
      "HPU available: False, using: 0 HPUs\n",
      "LOCAL_RANK: 0 - CUDA_VISIBLE_DEVICES: [0]\n",
      "\n",
      "  | Name    | Type       | Params\n",
      "---------------------------------------\n",
      "0 | camadas | Sequential | 49    \n",
      "---------------------------------------\n",
      "49        Trainable params\n",
      "0         Non-trainable params\n",
      "49        Total params\n",
      "0.000     Total estimated model params size (MB)\n",
      "SLURM auto-requeueing enabled. Setting signal handlers.\n"
     ]
    },
    {
     "name": "stdout",
     "output_type": "stream",
     "text": [
      "[6] [0.29637798169934404]\n"
     ]
    },
    {
     "name": "stderr",
     "output_type": "stream",
     "text": [
      "`Trainer.fit` stopped: `max_epochs=100` reached.\n",
      "[I 2024-05-21 07:58:57,536] Trial 11 finished with value: 0.016578318551182747 and parameters: {'n_layers': 1, 'n_units0': 6, 'dropout': 0.29637798169934404}. Best is trial 7 with value: 0.011175207793712616.\n",
      "GPU available: True (cuda), used: True\n",
      "TPU available: False, using: 0 TPU cores\n",
      "IPU available: False, using: 0 IPUs\n",
      "HPU available: False, using: 0 HPUs\n",
      "LOCAL_RANK: 0 - CUDA_VISIBLE_DEVICES: [0]\n",
      "\n",
      "  | Name    | Type       | Params\n",
      "---------------------------------------\n",
      "0 | camadas | Sequential | 113   \n",
      "---------------------------------------\n",
      "113       Trainable params\n",
      "0         Non-trainable params\n",
      "113       Total params\n",
      "0.000     Total estimated model params size (MB)\n",
      "SLURM auto-requeueing enabled. Setting signal handlers.\n"
     ]
    },
    {
     "name": "stdout",
     "output_type": "stream",
     "text": [
      "[7, 7] [0.2843823518484094, 0.2843823518484094]\n"
     ]
    },
    {
     "name": "stderr",
     "output_type": "stream",
     "text": [
      "`Trainer.fit` stopped: `max_epochs=100` reached.\n",
      "[I 2024-05-21 07:59:14,905] Trial 12 finished with value: 0.019429057836532593 and parameters: {'n_layers': 2, 'n_units0': 7, 'dropout': 0.2843823518484094, 'n_units1': 7}. Best is trial 7 with value: 0.011175207793712616.\n",
      "GPU available: True (cuda), used: True\n",
      "TPU available: False, using: 0 TPU cores\n",
      "IPU available: False, using: 0 IPUs\n",
      "HPU available: False, using: 0 HPUs\n",
      "LOCAL_RANK: 0 - CUDA_VISIBLE_DEVICES: [0]\n",
      "\n",
      "  | Name    | Type       | Params\n",
      "---------------------------------------\n",
      "0 | camadas | Sequential | 2.0 K \n",
      "---------------------------------------\n",
      "2.0 K     Trainable params\n",
      "0         Non-trainable params\n",
      "2.0 K     Total params\n",
      "0.008     Total estimated model params size (MB)\n",
      "SLURM auto-requeueing enabled. Setting signal handlers.\n"
     ]
    },
    {
     "name": "stdout",
     "output_type": "stream",
     "text": [
      "[50, 31] [0.20320337763634364, 0.20320337763634364]\n"
     ]
    },
    {
     "name": "stderr",
     "output_type": "stream",
     "text": [
      "`Trainer.fit` stopped: `max_epochs=100` reached.\n",
      "[I 2024-05-21 07:59:32,383] Trial 13 finished with value: 0.012593289837241173 and parameters: {'n_layers': 2, 'n_units0': 50, 'dropout': 0.20320337763634364, 'n_units1': 31}. Best is trial 7 with value: 0.011175207793712616.\n",
      "GPU available: True (cuda), used: True\n",
      "TPU available: False, using: 0 TPU cores\n",
      "IPU available: False, using: 0 IPUs\n",
      "HPU available: False, using: 0 HPUs\n",
      "LOCAL_RANK: 0 - CUDA_VISIBLE_DEVICES: [0]\n",
      "\n",
      "  | Name    | Type       | Params\n",
      "---------------------------------------\n",
      "0 | camadas | Sequential | 569   \n",
      "---------------------------------------\n",
      "569       Trainable params\n",
      "0         Non-trainable params\n",
      "569       Total params\n",
      "0.002     Total estimated model params size (MB)\n",
      "SLURM auto-requeueing enabled. Setting signal handlers.\n"
     ]
    },
    {
     "name": "stdout",
     "output_type": "stream",
     "text": [
      "[71] [0.3659044726309845]\n"
     ]
    },
    {
     "name": "stderr",
     "output_type": "stream",
     "text": [
      "`Trainer.fit` stopped: `max_epochs=100` reached.\n",
      "[I 2024-05-21 07:59:48,125] Trial 14 finished with value: 0.008490750566124916 and parameters: {'n_layers': 1, 'n_units0': 71, 'dropout': 0.3659044726309845}. Best is trial 14 with value: 0.008490750566124916.\n",
      "GPU available: True (cuda), used: True\n",
      "TPU available: False, using: 0 TPU cores\n",
      "IPU available: False, using: 0 IPUs\n",
      "HPU available: False, using: 0 HPUs\n",
      "LOCAL_RANK: 0 - CUDA_VISIBLE_DEVICES: [0]\n",
      "\n",
      "  | Name    | Type       | Params\n",
      "---------------------------------------\n",
      "0 | camadas | Sequential | 9.8 K \n",
      "---------------------------------------\n",
      "9.8 K     Trainable params\n",
      "0         Non-trainable params\n",
      "9.8 K     Total params\n",
      "0.039     Total estimated model params size (MB)\n",
      "SLURM auto-requeueing enabled. Setting signal handlers.\n"
     ]
    },
    {
     "name": "stdout",
     "output_type": "stream",
     "text": [
      "[82, 110] [0.38390330947095386, 0.38390330947095386]\n"
     ]
    },
    {
     "name": "stderr",
     "output_type": "stream",
     "text": [
      "[I 2024-05-21 07:59:57,907] Trial 15 finished with value: 0.011499417945742607 and parameters: {'n_layers': 2, 'n_units0': 82, 'dropout': 0.38390330947095386, 'n_units1': 110}. Best is trial 14 with value: 0.008490750566124916.\n",
      "GPU available: True (cuda), used: True\n",
      "TPU available: False, using: 0 TPU cores\n",
      "IPU available: False, using: 0 IPUs\n",
      "HPU available: False, using: 0 HPUs\n",
      "LOCAL_RANK: 0 - CUDA_VISIBLE_DEVICES: [0]\n",
      "\n",
      "  | Name    | Type       | Params\n",
      "---------------------------------------\n",
      "0 | camadas | Sequential | 505   \n",
      "---------------------------------------\n",
      "505       Trainable params\n",
      "0         Non-trainable params\n",
      "505       Total params\n",
      "0.002     Total estimated model params size (MB)\n",
      "SLURM auto-requeueing enabled. Setting signal handlers.\n"
     ]
    },
    {
     "name": "stdout",
     "output_type": "stream",
     "text": [
      "[63] [0.34663327705089614]\n"
     ]
    },
    {
     "name": "stderr",
     "output_type": "stream",
     "text": [
      "`Trainer.fit` stopped: `max_epochs=100` reached.\n",
      "[I 2024-05-21 08:00:13,871] Trial 16 finished with value: 0.005485069938004017 and parameters: {'n_layers': 1, 'n_units0': 63, 'dropout': 0.34663327705089614}. Best is trial 16 with value: 0.005485069938004017.\n",
      "GPU available: True (cuda), used: True\n",
      "TPU available: False, using: 0 TPU cores\n",
      "IPU available: False, using: 0 IPUs\n",
      "HPU available: False, using: 0 HPUs\n",
      "LOCAL_RANK: 0 - CUDA_VISIBLE_DEVICES: [0]\n",
      "\n",
      "  | Name    | Type       | Params\n",
      "---------------------------------------\n",
      "0 | camadas | Sequential | 9.4 K \n",
      "---------------------------------------\n",
      "9.4 K     Trainable params\n",
      "0         Non-trainable params\n",
      "9.4 K     Total params\n",
      "0.037     Total estimated model params size (MB)\n",
      "SLURM auto-requeueing enabled. Setting signal handlers.\n"
     ]
    },
    {
     "name": "stdout",
     "output_type": "stream",
     "text": [
      "[73, 118] [0.35388298262239354, 0.35388298262239354]\n"
     ]
    },
    {
     "name": "stderr",
     "output_type": "stream",
     "text": [
      "`Trainer.fit` stopped: `max_epochs=100` reached.\n",
      "[I 2024-05-21 08:00:30,290] Trial 17 finished with value: 0.011434262618422508 and parameters: {'n_layers': 2, 'n_units0': 73, 'dropout': 0.35388298262239354, 'n_units1': 118}. Best is trial 16 with value: 0.005485069938004017.\n",
      "GPU available: True (cuda), used: True\n",
      "TPU available: False, using: 0 TPU cores\n",
      "IPU available: False, using: 0 IPUs\n",
      "HPU available: False, using: 0 HPUs\n",
      "LOCAL_RANK: 0 - CUDA_VISIBLE_DEVICES: [0]\n",
      "\n",
      "  | Name    | Type       | Params\n",
      "---------------------------------------\n",
      "0 | camadas | Sequential | 6.0 K \n",
      "---------------------------------------\n",
      "6.0 K     Trainable params\n",
      "0         Non-trainable params\n",
      "6.0 K     Total params\n",
      "0.024     Total estimated model params size (MB)\n",
      "SLURM auto-requeueing enabled. Setting signal handlers.\n"
     ]
    },
    {
     "name": "stdout",
     "output_type": "stream",
     "text": [
      "[52, 32, 117] [0.44718279412098405, 0.44718279412098405, 0.44718279412098405]\n"
     ]
    },
    {
     "name": "stderr",
     "output_type": "stream",
     "text": [
      "[I 2024-05-21 08:00:35,653] Trial 18 finished with value: 0.01994965597987175 and parameters: {'n_layers': 3, 'n_units0': 52, 'dropout': 0.44718279412098405, 'n_units1': 32, 'n_units2': 117}. Best is trial 16 with value: 0.005485069938004017.\n",
      "GPU available: True (cuda), used: True\n",
      "TPU available: False, using: 0 TPU cores\n",
      "IPU available: False, using: 0 IPUs\n",
      "HPU available: False, using: 0 HPUs\n",
      "LOCAL_RANK: 0 - CUDA_VISIBLE_DEVICES: [0]\n",
      "\n",
      "  | Name    | Type       | Params\n",
      "---------------------------------------\n",
      "0 | camadas | Sequential | 633   \n",
      "---------------------------------------\n",
      "633       Trainable params\n",
      "0         Non-trainable params\n",
      "633       Total params\n",
      "0.003     Total estimated model params size (MB)\n",
      "SLURM auto-requeueing enabled. Setting signal handlers.\n"
     ]
    },
    {
     "name": "stdout",
     "output_type": "stream",
     "text": [
      "[79] [0.3533172210648463]\n"
     ]
    },
    {
     "name": "stderr",
     "output_type": "stream",
     "text": [
      "`Trainer.fit` stopped: `max_epochs=100` reached.\n",
      "[I 2024-05-21 08:00:51,317] Trial 19 finished with value: 0.0063866861164569855 and parameters: {'n_layers': 1, 'n_units0': 79, 'dropout': 0.3533172210648463}. Best is trial 16 with value: 0.005485069938004017.\n",
      "GPU available: True (cuda), used: True\n",
      "TPU available: False, using: 0 TPU cores\n",
      "IPU available: False, using: 0 IPUs\n",
      "HPU available: False, using: 0 HPUs\n",
      "LOCAL_RANK: 0 - CUDA_VISIBLE_DEVICES: [0]\n",
      "\n",
      "  | Name    | Type       | Params\n",
      "---------------------------------------\n",
      "0 | camadas | Sequential | 7.7 K \n",
      "---------------------------------------\n",
      "7.7 K     Trainable params\n",
      "0         Non-trainable params\n",
      "7.7 K     Total params\n",
      "0.031     Total estimated model params size (MB)\n",
      "SLURM auto-requeueing enabled. Setting signal handlers.\n"
     ]
    },
    {
     "name": "stdout",
     "output_type": "stream",
     "text": [
      "[88, 79] [0.33152931593966545, 0.33152931593966545]\n"
     ]
    },
    {
     "name": "stderr",
     "output_type": "stream",
     "text": [
      "`Trainer.fit` stopped: `max_epochs=100` reached.\n",
      "[I 2024-05-21 08:01:07,433] Trial 20 finished with value: 0.009572252631187439 and parameters: {'n_layers': 2, 'n_units0': 88, 'dropout': 0.33152931593966545, 'n_units1': 79}. Best is trial 16 with value: 0.005485069938004017.\n",
      "GPU available: True (cuda), used: True\n",
      "TPU available: False, using: 0 TPU cores\n",
      "IPU available: False, using: 0 IPUs\n",
      "HPU available: False, using: 0 HPUs\n",
      "LOCAL_RANK: 0 - CUDA_VISIBLE_DEVICES: [0]\n",
      "\n",
      "  | Name    | Type       | Params\n",
      "---------------------------------------\n",
      "0 | camadas | Sequential | 457   \n",
      "---------------------------------------\n",
      "457       Trainable params\n",
      "0         Non-trainable params\n",
      "457       Total params\n",
      "0.002     Total estimated model params size (MB)\n",
      "SLURM auto-requeueing enabled. Setting signal handlers.\n"
     ]
    },
    {
     "name": "stdout",
     "output_type": "stream",
     "text": [
      "[57] [0.37060297783765495]\n"
     ]
    },
    {
     "name": "stderr",
     "output_type": "stream",
     "text": [
      "`Trainer.fit` stopped: `max_epochs=100` reached.\n",
      "[I 2024-05-21 08:01:23,522] Trial 21 finished with value: 0.007817590609192848 and parameters: {'n_layers': 1, 'n_units0': 57, 'dropout': 0.37060297783765495}. Best is trial 16 with value: 0.005485069938004017.\n",
      "GPU available: True (cuda), used: True\n",
      "TPU available: False, using: 0 TPU cores\n",
      "IPU available: False, using: 0 IPUs\n",
      "HPU available: False, using: 0 HPUs\n",
      "LOCAL_RANK: 0 - CUDA_VISIBLE_DEVICES: [0]\n",
      "\n",
      "  | Name    | Type       | Params\n",
      "---------------------------------------\n",
      "0 | camadas | Sequential | 425   \n",
      "---------------------------------------\n",
      "425       Trainable params\n",
      "0         Non-trainable params\n",
      "425       Total params\n",
      "0.002     Total estimated model params size (MB)\n",
      "SLURM auto-requeueing enabled. Setting signal handlers.\n"
     ]
    },
    {
     "name": "stdout",
     "output_type": "stream",
     "text": [
      "[53] [0.411249293219799]\n"
     ]
    },
    {
     "name": "stderr",
     "output_type": "stream",
     "text": [
      "`Trainer.fit` stopped: `max_epochs=100` reached.\n",
      "[I 2024-05-21 08:01:39,685] Trial 22 finished with value: 0.007643245626240969 and parameters: {'n_layers': 1, 'n_units0': 53, 'dropout': 0.411249293219799}. Best is trial 16 with value: 0.005485069938004017.\n",
      "GPU available: True (cuda), used: True\n",
      "TPU available: False, using: 0 TPU cores\n",
      "IPU available: False, using: 0 IPUs\n",
      "HPU available: False, using: 0 HPUs\n",
      "LOCAL_RANK: 0 - CUDA_VISIBLE_DEVICES: [0]\n",
      "\n",
      "  | Name    | Type       | Params\n",
      "---------------------------------------\n",
      "0 | camadas | Sequential | 337   \n",
      "---------------------------------------\n",
      "337       Trainable params\n",
      "0         Non-trainable params\n",
      "337       Total params\n",
      "0.001     Total estimated model params size (MB)\n",
      "SLURM auto-requeueing enabled. Setting signal handlers.\n"
     ]
    },
    {
     "name": "stdout",
     "output_type": "stream",
     "text": [
      "[42] [0.4211540083053013]\n"
     ]
    },
    {
     "name": "stderr",
     "output_type": "stream",
     "text": [
      "`Trainer.fit` stopped: `max_epochs=100` reached.\n",
      "[I 2024-05-21 08:01:55,270] Trial 23 finished with value: 0.009200628846883774 and parameters: {'n_layers': 1, 'n_units0': 42, 'dropout': 0.4211540083053013}. Best is trial 16 with value: 0.005485069938004017.\n",
      "GPU available: True (cuda), used: True\n",
      "TPU available: False, using: 0 TPU cores\n",
      "IPU available: False, using: 0 IPUs\n",
      "HPU available: False, using: 0 HPUs\n",
      "LOCAL_RANK: 0 - CUDA_VISIBLE_DEVICES: [0]\n",
      "\n",
      "  | Name    | Type       | Params\n",
      "---------------------------------------\n",
      "0 | camadas | Sequential | 3.2 K \n",
      "---------------------------------------\n",
      "3.2 K     Trainable params\n",
      "0         Non-trainable params\n",
      "3.2 K     Total params\n",
      "0.013     Total estimated model params size (MB)\n",
      "SLURM auto-requeueing enabled. Setting signal handlers.\n"
     ]
    },
    {
     "name": "stdout",
     "output_type": "stream",
     "text": [
      "[86, 30] [0.46025040231603775, 0.46025040231603775]\n"
     ]
    },
    {
     "name": "stderr",
     "output_type": "stream",
     "text": [
      "[I 2024-05-21 08:01:59,610] Trial 24 finished with value: 0.012951361946761608 and parameters: {'n_layers': 2, 'n_units0': 86, 'dropout': 0.46025040231603775, 'n_units1': 30}. Best is trial 16 with value: 0.005485069938004017.\n",
      "GPU available: True (cuda), used: True\n",
      "TPU available: False, using: 0 TPU cores\n",
      "IPU available: False, using: 0 IPUs\n",
      "HPU available: False, using: 0 HPUs\n",
      "LOCAL_RANK: 0 - CUDA_VISIBLE_DEVICES: [0]\n",
      "\n",
      "  | Name    | Type       | Params\n",
      "---------------------------------------\n",
      "0 | camadas | Sequential | 529   \n",
      "---------------------------------------\n",
      "529       Trainable params\n",
      "0         Non-trainable params\n",
      "529       Total params\n",
      "0.002     Total estimated model params size (MB)\n",
      "SLURM auto-requeueing enabled. Setting signal handlers.\n"
     ]
    },
    {
     "name": "stdout",
     "output_type": "stream",
     "text": [
      "[66] [0.39462746642105034]\n"
     ]
    },
    {
     "name": "stderr",
     "output_type": "stream",
     "text": [
      "`Trainer.fit` stopped: `max_epochs=100` reached.\n",
      "[I 2024-05-21 08:02:14,901] Trial 25 finished with value: 0.009526717476546764 and parameters: {'n_layers': 1, 'n_units0': 66, 'dropout': 0.39462746642105034}. Best is trial 16 with value: 0.005485069938004017.\n",
      "GPU available: True (cuda), used: True\n",
      "TPU available: False, using: 0 TPU cores\n",
      "IPU available: False, using: 0 IPUs\n",
      "HPU available: False, using: 0 HPUs\n",
      "LOCAL_RANK: 0 - CUDA_VISIBLE_DEVICES: [0]\n",
      "\n",
      "  | Name    | Type       | Params\n",
      "---------------------------------------\n",
      "0 | camadas | Sequential | 2.1 K \n",
      "---------------------------------------\n",
      "2.1 K     Trainable params\n",
      "0         Non-trainable params\n",
      "2.1 K     Total params\n",
      "0.008     Total estimated model params size (MB)\n",
      "SLURM auto-requeueing enabled. Setting signal handlers.\n"
     ]
    },
    {
     "name": "stdout",
     "output_type": "stream",
     "text": [
      "[81, 18] [0.3193198914852732, 0.3193198914852732]\n"
     ]
    },
    {
     "name": "stderr",
     "output_type": "stream",
     "text": [
      "`Trainer.fit` stopped: `max_epochs=100` reached.\n",
      "[I 2024-05-21 08:02:32,551] Trial 26 finished with value: 0.011914771981537342 and parameters: {'n_layers': 2, 'n_units0': 81, 'dropout': 0.3193198914852732, 'n_units1': 18}. Best is trial 16 with value: 0.005485069938004017.\n",
      "GPU available: True (cuda), used: True\n",
      "TPU available: False, using: 0 TPU cores\n",
      "IPU available: False, using: 0 IPUs\n",
      "HPU available: False, using: 0 HPUs\n",
      "LOCAL_RANK: 0 - CUDA_VISIBLE_DEVICES: [0]\n",
      "\n",
      "  | Name    | Type       | Params\n",
      "---------------------------------------\n",
      "0 | camadas | Sequential | 345   \n",
      "---------------------------------------\n",
      "345       Trainable params\n",
      "0         Non-trainable params\n",
      "345       Total params\n",
      "0.001     Total estimated model params size (MB)\n",
      "SLURM auto-requeueing enabled. Setting signal handlers.\n"
     ]
    },
    {
     "name": "stdout",
     "output_type": "stream",
     "text": [
      "[43] [0.3483442458633909]\n"
     ]
    },
    {
     "name": "stderr",
     "output_type": "stream",
     "text": [
      "`Trainer.fit` stopped: `max_epochs=100` reached.\n",
      "[I 2024-05-21 08:02:48,567] Trial 27 finished with value: 0.009842073544859886 and parameters: {'n_layers': 1, 'n_units0': 43, 'dropout': 0.3483442458633909}. Best is trial 16 with value: 0.005485069938004017.\n",
      "GPU available: True (cuda), used: True\n",
      "TPU available: False, using: 0 TPU cores\n",
      "IPU available: False, using: 0 IPUs\n",
      "HPU available: False, using: 0 HPUs\n",
      "LOCAL_RANK: 0 - CUDA_VISIBLE_DEVICES: [0]\n",
      "\n",
      "  | Name    | Type       | Params\n",
      "---------------------------------------\n",
      "0 | camadas | Sequential | 9.5 K \n",
      "---------------------------------------\n",
      "9.5 K     Trainable params\n",
      "0         Non-trainable params\n",
      "9.5 K     Total params\n",
      "0.038     Total estimated model params size (MB)\n",
      "SLURM auto-requeueing enabled. Setting signal handlers.\n"
     ]
    },
    {
     "name": "stdout",
     "output_type": "stream",
     "text": [
      "[92, 50, 81] [0.40732352756618656, 0.40732352756618656, 0.40732352756618656]\n"
     ]
    },
    {
     "name": "stderr",
     "output_type": "stream",
     "text": [
      "`Trainer.fit` stopped: `max_epochs=100` reached.\n",
      "[I 2024-05-21 08:03:05,988] Trial 28 finished with value: 0.01698215678334236 and parameters: {'n_layers': 3, 'n_units0': 92, 'dropout': 0.40732352756618656, 'n_units1': 50, 'n_units2': 81}. Best is trial 16 with value: 0.005485069938004017.\n",
      "GPU available: True (cuda), used: True\n",
      "TPU available: False, using: 0 TPU cores\n",
      "IPU available: False, using: 0 IPUs\n",
      "HPU available: False, using: 0 HPUs\n",
      "LOCAL_RANK: 0 - CUDA_VISIBLE_DEVICES: [0]\n",
      "\n",
      "  | Name    | Type       | Params\n",
      "---------------------------------------\n",
      "0 | camadas | Sequential | 585   \n",
      "---------------------------------------\n",
      "585       Trainable params\n",
      "0         Non-trainable params\n",
      "585       Total params\n",
      "0.002     Total estimated model params size (MB)\n",
      "SLURM auto-requeueing enabled. Setting signal handlers.\n"
     ]
    },
    {
     "name": "stdout",
     "output_type": "stream",
     "text": [
      "[73] [0.2661312867985638]\n"
     ]
    },
    {
     "name": "stderr",
     "output_type": "stream",
     "text": [
      "`Trainer.fit` stopped: `max_epochs=100` reached.\n",
      "[I 2024-05-21 08:03:22,402] Trial 29 finished with value: 0.004225536715239286 and parameters: {'n_layers': 1, 'n_units0': 73, 'dropout': 0.2661312867985638}. Best is trial 29 with value: 0.004225536715239286.\n",
      "GPU available: True (cuda), used: True\n",
      "TPU available: False, using: 0 TPU cores\n",
      "IPU available: False, using: 0 IPUs\n",
      "HPU available: False, using: 0 HPUs\n",
      "LOCAL_RANK: 0 - CUDA_VISIBLE_DEVICES: [0]\n",
      "\n",
      "  | Name    | Type       | Params\n",
      "---------------------------------------\n",
      "0 | camadas | Sequential | 6.5 K \n",
      "---------------------------------------\n",
      "6.5 K     Trainable params\n",
      "0         Non-trainable params\n",
      "6.5 K     Total params\n",
      "0.026     Total estimated model params size (MB)\n",
      "SLURM auto-requeueing enabled. Setting signal handlers.\n"
     ]
    },
    {
     "name": "stdout",
     "output_type": "stream",
     "text": [
      "[76, 76] [0.2681558403732305, 0.2681558403732305]\n"
     ]
    },
    {
     "name": "stderr",
     "output_type": "stream",
     "text": [
      "`Trainer.fit` stopped: `max_epochs=100` reached.\n",
      "[I 2024-05-21 08:03:41,238] Trial 30 finished with value: 0.013823816552758217 and parameters: {'n_layers': 2, 'n_units0': 76, 'dropout': 0.2681558403732305, 'n_units1': 76}. Best is trial 29 with value: 0.004225536715239286.\n",
      "GPU available: True (cuda), used: True\n",
      "TPU available: False, using: 0 TPU cores\n",
      "IPU available: False, using: 0 IPUs\n",
      "HPU available: False, using: 0 HPUs\n",
      "LOCAL_RANK: 0 - CUDA_VISIBLE_DEVICES: [0]\n",
      "\n",
      "  | Name    | Type       | Params\n",
      "---------------------------------------\n",
      "0 | camadas | Sequential | 481   \n",
      "---------------------------------------\n",
      "481       Trainable params\n",
      "0         Non-trainable params\n",
      "481       Total params\n",
      "0.002     Total estimated model params size (MB)\n",
      "SLURM auto-requeueing enabled. Setting signal handlers.\n"
     ]
    },
    {
     "name": "stdout",
     "output_type": "stream",
     "text": [
      "[60] [0.31750910850179626]\n"
     ]
    },
    {
     "name": "stderr",
     "output_type": "stream",
     "text": [
      "`Trainer.fit` stopped: `max_epochs=100` reached.\n",
      "[I 2024-05-21 08:03:57,281] Trial 31 finished with value: 0.0052921767346560955 and parameters: {'n_layers': 1, 'n_units0': 60, 'dropout': 0.31750910850179626}. Best is trial 29 with value: 0.004225536715239286.\n",
      "GPU available: True (cuda), used: True\n",
      "TPU available: False, using: 0 TPU cores\n",
      "IPU available: False, using: 0 IPUs\n",
      "HPU available: False, using: 0 HPUs\n",
      "LOCAL_RANK: 0 - CUDA_VISIBLE_DEVICES: [0]\n",
      "\n",
      "  | Name    | Type       | Params\n",
      "---------------------------------------\n",
      "0 | camadas | Sequential | 489   \n",
      "---------------------------------------\n",
      "489       Trainable params\n",
      "0         Non-trainable params\n",
      "489       Total params\n",
      "0.002     Total estimated model params size (MB)\n",
      "SLURM auto-requeueing enabled. Setting signal handlers.\n"
     ]
    },
    {
     "name": "stdout",
     "output_type": "stream",
     "text": [
      "[61] [0.3239567396786802]\n"
     ]
    },
    {
     "name": "stderr",
     "output_type": "stream",
     "text": [
      "`Trainer.fit` stopped: `max_epochs=100` reached.\n",
      "[I 2024-05-21 08:04:13,646] Trial 32 finished with value: 0.008411345072090626 and parameters: {'n_layers': 1, 'n_units0': 61, 'dropout': 0.3239567396786802}. Best is trial 29 with value: 0.004225536715239286.\n",
      "GPU available: True (cuda), used: True\n",
      "TPU available: False, using: 0 TPU cores\n",
      "IPU available: False, using: 0 IPUs\n",
      "HPU available: False, using: 0 HPUs\n",
      "LOCAL_RANK: 0 - CUDA_VISIBLE_DEVICES: [0]\n",
      "\n",
      "  | Name    | Type       | Params\n",
      "---------------------------------------\n",
      "0 | camadas | Sequential | 761   \n",
      "---------------------------------------\n",
      "761       Trainable params\n",
      "0         Non-trainable params\n",
      "761       Total params\n",
      "0.003     Total estimated model params size (MB)\n",
      "SLURM auto-requeueing enabled. Setting signal handlers.\n"
     ]
    },
    {
     "name": "stdout",
     "output_type": "stream",
     "text": [
      "[95] [0.26650797907456336]\n"
     ]
    },
    {
     "name": "stderr",
     "output_type": "stream",
     "text": [
      "`Trainer.fit` stopped: `max_epochs=100` reached.\n",
      "[I 2024-05-21 08:04:30,181] Trial 33 finished with value: 0.005993962287902832 and parameters: {'n_layers': 1, 'n_units0': 95, 'dropout': 0.26650797907456336}. Best is trial 29 with value: 0.004225536715239286.\n",
      "GPU available: True (cuda), used: True\n",
      "TPU available: False, using: 0 TPU cores\n",
      "IPU available: False, using: 0 IPUs\n",
      "HPU available: False, using: 0 HPUs\n",
      "LOCAL_RANK: 0 - CUDA_VISIBLE_DEVICES: [0]\n",
      "\n",
      "  | Name    | Type       | Params\n",
      "---------------------------------------\n",
      "0 | camadas | Sequential | 753   \n",
      "---------------------------------------\n",
      "753       Trainable params\n",
      "0         Non-trainable params\n",
      "753       Total params\n",
      "0.003     Total estimated model params size (MB)\n",
      "SLURM auto-requeueing enabled. Setting signal handlers.\n"
     ]
    },
    {
     "name": "stdout",
     "output_type": "stream",
     "text": [
      "[94] [0.26700800064013]\n"
     ]
    },
    {
     "name": "stderr",
     "output_type": "stream",
     "text": [
      "`Trainer.fit` stopped: `max_epochs=100` reached.\n",
      "[I 2024-05-21 08:04:45,907] Trial 34 finished with value: 0.005018271971493959 and parameters: {'n_layers': 1, 'n_units0': 94, 'dropout': 0.26700800064013}. Best is trial 29 with value: 0.004225536715239286.\n",
      "GPU available: True (cuda), used: True\n",
      "TPU available: False, using: 0 TPU cores\n",
      "IPU available: False, using: 0 IPUs\n",
      "HPU available: False, using: 0 HPUs\n",
      "LOCAL_RANK: 0 - CUDA_VISIBLE_DEVICES: [0]\n",
      "\n",
      "  | Name    | Type       | Params\n",
      "---------------------------------------\n",
      "0 | camadas | Sequential | 11.7 K\n",
      "---------------------------------------\n",
      "11.7 K    Trainable params\n",
      "0         Non-trainable params\n",
      "11.7 K    Total params\n",
      "0.047     Total estimated model params size (MB)\n",
      "SLURM auto-requeueing enabled. Setting signal handlers.\n"
     ]
    },
    {
     "name": "stdout",
     "output_type": "stream",
     "text": [
      "[99, 109] [0.262309718357495, 0.262309718357495]\n"
     ]
    },
    {
     "name": "stderr",
     "output_type": "stream",
     "text": [
      "`Trainer.fit` stopped: `max_epochs=100` reached.\n",
      "[I 2024-05-21 08:05:03,026] Trial 35 finished with value: 0.009292660281062126 and parameters: {'n_layers': 2, 'n_units0': 99, 'dropout': 0.262309718357495, 'n_units1': 109}. Best is trial 29 with value: 0.004225536715239286.\n",
      "GPU available: True (cuda), used: True\n",
      "TPU available: False, using: 0 TPU cores\n",
      "IPU available: False, using: 0 IPUs\n",
      "HPU available: False, using: 0 HPUs\n",
      "LOCAL_RANK: 0 - CUDA_VISIBLE_DEVICES: [0]\n",
      "\n",
      "  | Name    | Type       | Params\n",
      "---------------------------------------\n",
      "0 | camadas | Sequential | 561   \n",
      "---------------------------------------\n",
      "561       Trainable params\n",
      "0         Non-trainable params\n",
      "561       Total params\n",
      "0.002     Total estimated model params size (MB)\n",
      "SLURM auto-requeueing enabled. Setting signal handlers.\n"
     ]
    },
    {
     "name": "stdout",
     "output_type": "stream",
     "text": [
      "[70] [0.31227233735235893]\n"
     ]
    },
    {
     "name": "stderr",
     "output_type": "stream",
     "text": [
      "`Trainer.fit` stopped: `max_epochs=100` reached.\n",
      "[I 2024-05-21 08:05:19,089] Trial 36 finished with value: 0.007648652419447899 and parameters: {'n_layers': 1, 'n_units0': 70, 'dropout': 0.31227233735235893}. Best is trial 29 with value: 0.004225536715239286.\n",
      "GPU available: True (cuda), used: True\n",
      "TPU available: False, using: 0 TPU cores\n",
      "IPU available: False, using: 0 IPUs\n",
      "HPU available: False, using: 0 HPUs\n",
      "LOCAL_RANK: 0 - CUDA_VISIBLE_DEVICES: [0]\n",
      "\n",
      "  | Name    | Type       | Params\n",
      "---------------------------------------\n",
      "0 | camadas | Sequential | 4.1 K \n",
      "---------------------------------------\n",
      "4.1 K     Trainable params\n",
      "0         Non-trainable params\n",
      "4.1 K     Total params\n",
      "0.017     Total estimated model params size (MB)\n",
      "SLURM auto-requeueing enabled. Setting signal handlers.\n"
     ]
    },
    {
     "name": "stdout",
     "output_type": "stream",
     "text": [
      "[44, 42, 13, 92] [0.2777810598083093, 0.2777810598083093, 0.2777810598083093, 0.2777810598083093]\n"
     ]
    },
    {
     "name": "stderr",
     "output_type": "stream",
     "text": [
      "`Trainer.fit` stopped: `max_epochs=100` reached.\n",
      "[I 2024-05-21 08:05:40,101] Trial 37 finished with value: 0.020209548994898796 and parameters: {'n_layers': 4, 'n_units0': 44, 'dropout': 0.2777810598083093, 'n_units1': 42, 'n_units2': 13, 'n_units3': 92}. Best is trial 29 with value: 0.004225536715239286.\n",
      "GPU available: True (cuda), used: True\n",
      "TPU available: False, using: 0 TPU cores\n",
      "IPU available: False, using: 0 IPUs\n",
      "HPU available: False, using: 0 HPUs\n",
      "LOCAL_RANK: 0 - CUDA_VISIBLE_DEVICES: [0]\n",
      "\n",
      "  | Name    | Type       | Params\n",
      "---------------------------------------\n",
      "0 | camadas | Sequential | 473   \n",
      "---------------------------------------\n",
      "473       Trainable params\n",
      "0         Non-trainable params\n",
      "473       Total params\n",
      "0.002     Total estimated model params size (MB)\n",
      "SLURM auto-requeueing enabled. Setting signal handlers.\n"
     ]
    },
    {
     "name": "stdout",
     "output_type": "stream",
     "text": [
      "[59] [0.24559791398369163]\n"
     ]
    },
    {
     "name": "stderr",
     "output_type": "stream",
     "text": [
      "`Trainer.fit` stopped: `max_epochs=100` reached.\n",
      "[I 2024-05-21 08:05:56,045] Trial 38 finished with value: 0.00518670491874218 and parameters: {'n_layers': 1, 'n_units0': 59, 'dropout': 0.24559791398369163}. Best is trial 29 with value: 0.004225536715239286.\n",
      "GPU available: True (cuda), used: True\n",
      "TPU available: False, using: 0 TPU cores\n",
      "IPU available: False, using: 0 IPUs\n",
      "HPU available: False, using: 0 HPUs\n",
      "LOCAL_RANK: 0 - CUDA_VISIBLE_DEVICES: [0]\n",
      "\n",
      "  | Name    | Type       | Params\n",
      "---------------------------------------\n",
      "0 | camadas | Sequential | 18.4 K\n",
      "---------------------------------------\n",
      "18.4 K    Trainable params\n",
      "0         Non-trainable params\n",
      "18.4 K    Total params\n",
      "0.074     Total estimated model params size (MB)\n",
      "SLURM auto-requeueing enabled. Setting signal handlers.\n"
     ]
    },
    {
     "name": "stdout",
     "output_type": "stream",
     "text": [
      "[115, 84, 91] [0.21552194911220468, 0.21552194911220468, 0.21552194911220468]\n"
     ]
    },
    {
     "name": "stderr",
     "output_type": "stream",
     "text": [
      "`Trainer.fit` stopped: `max_epochs=100` reached.\n",
      "[I 2024-05-21 08:06:14,841] Trial 39 finished with value: 0.014275253750383854 and parameters: {'n_layers': 3, 'n_units0': 115, 'dropout': 0.21552194911220468, 'n_units1': 84, 'n_units2': 91}. Best is trial 29 with value: 0.004225536715239286.\n",
      "GPU available: True (cuda), used: True\n",
      "TPU available: False, using: 0 TPU cores\n",
      "IPU available: False, using: 0 IPUs\n",
      "HPU available: False, using: 0 HPUs\n",
      "LOCAL_RANK: 0 - CUDA_VISIBLE_DEVICES: [0]\n",
      "\n",
      "  | Name    | Type       | Params\n",
      "---------------------------------------\n",
      "0 | camadas | Sequential | 1.1 K \n",
      "---------------------------------------\n",
      "1.1 K     Trainable params\n",
      "0         Non-trainable params\n",
      "1.1 K     Total params\n",
      "0.004     Total estimated model params size (MB)\n",
      "SLURM auto-requeueing enabled. Setting signal handlers.\n"
     ]
    },
    {
     "name": "stdout",
     "output_type": "stream",
     "text": [
      "[35, 22] [0.24720139064482566, 0.24720139064482566]\n"
     ]
    },
    {
     "name": "stderr",
     "output_type": "stream",
     "text": [
      "`Trainer.fit` stopped: `max_epochs=100` reached.\n",
      "[I 2024-05-21 08:06:32,572] Trial 40 finished with value: 0.01351301558315754 and parameters: {'n_layers': 2, 'n_units0': 35, 'dropout': 0.24720139064482566, 'n_units1': 22}. Best is trial 29 with value: 0.004225536715239286.\n",
      "GPU available: True (cuda), used: True\n",
      "TPU available: False, using: 0 TPU cores\n",
      "IPU available: False, using: 0 IPUs\n",
      "HPU available: False, using: 0 HPUs\n",
      "LOCAL_RANK: 0 - CUDA_VISIBLE_DEVICES: [0]\n",
      "\n",
      "  | Name    | Type       | Params\n",
      "---------------------------------------\n",
      "0 | camadas | Sequential | 481   \n",
      "---------------------------------------\n",
      "481       Trainable params\n",
      "0         Non-trainable params\n",
      "481       Total params\n",
      "0.002     Total estimated model params size (MB)\n",
      "SLURM auto-requeueing enabled. Setting signal handlers.\n"
     ]
    },
    {
     "name": "stdout",
     "output_type": "stream",
     "text": [
      "[60] [0.2557488820390495]\n"
     ]
    },
    {
     "name": "stderr",
     "output_type": "stream",
     "text": [
      "`Trainer.fit` stopped: `max_epochs=100` reached.\n",
      "[I 2024-05-21 08:06:48,419] Trial 41 finished with value: 0.00742226280272007 and parameters: {'n_layers': 1, 'n_units0': 60, 'dropout': 0.2557488820390495}. Best is trial 29 with value: 0.004225536715239286.\n",
      "GPU available: True (cuda), used: True\n",
      "TPU available: False, using: 0 TPU cores\n",
      "IPU available: False, using: 0 IPUs\n",
      "HPU available: False, using: 0 HPUs\n",
      "LOCAL_RANK: 0 - CUDA_VISIBLE_DEVICES: [0]\n",
      "\n",
      "  | Name    | Type       | Params\n",
      "---------------------------------------\n",
      "0 | camadas | Sequential | 521   \n",
      "---------------------------------------\n",
      "521       Trainable params\n",
      "0         Non-trainable params\n",
      "521       Total params\n",
      "0.002     Total estimated model params size (MB)\n",
      "SLURM auto-requeueing enabled. Setting signal handlers.\n"
     ]
    },
    {
     "name": "stdout",
     "output_type": "stream",
     "text": [
      "[65] [0.23038579353671496]\n"
     ]
    },
    {
     "name": "stderr",
     "output_type": "stream",
     "text": [
      "`Trainer.fit` stopped: `max_epochs=100` reached.\n",
      "[I 2024-05-21 08:07:05,179] Trial 42 finished with value: 0.006173283327370882 and parameters: {'n_layers': 1, 'n_units0': 65, 'dropout': 0.23038579353671496}. Best is trial 29 with value: 0.004225536715239286.\n",
      "GPU available: True (cuda), used: True\n",
      "TPU available: False, using: 0 TPU cores\n",
      "IPU available: False, using: 0 IPUs\n",
      "HPU available: False, using: 0 HPUs\n",
      "LOCAL_RANK: 0 - CUDA_VISIBLE_DEVICES: [0]\n",
      "\n",
      "  | Name    | Type       | Params\n",
      "---------------------------------------\n",
      "0 | camadas | Sequential | 825   \n",
      "---------------------------------------\n",
      "825       Trainable params\n",
      "0         Non-trainable params\n",
      "825       Total params\n",
      "0.003     Total estimated model params size (MB)\n",
      "SLURM auto-requeueing enabled. Setting signal handlers.\n"
     ]
    },
    {
     "name": "stdout",
     "output_type": "stream",
     "text": [
      "[103] [0.3391584156541147]\n"
     ]
    },
    {
     "name": "stderr",
     "output_type": "stream",
     "text": [
      "`Trainer.fit` stopped: `max_epochs=100` reached.\n",
      "[I 2024-05-21 08:07:22,011] Trial 43 finished with value: 0.007288880180567503 and parameters: {'n_layers': 1, 'n_units0': 103, 'dropout': 0.3391584156541147}. Best is trial 29 with value: 0.004225536715239286.\n",
      "GPU available: True (cuda), used: True\n",
      "TPU available: False, using: 0 TPU cores\n",
      "IPU available: False, using: 0 IPUs\n",
      "HPU available: False, using: 0 HPUs\n",
      "LOCAL_RANK: 0 - CUDA_VISIBLE_DEVICES: [0]\n",
      "\n",
      "  | Name    | Type       | Params\n",
      "---------------------------------------\n",
      "0 | camadas | Sequential | 449   \n",
      "---------------------------------------\n",
      "449       Trainable params\n",
      "0         Non-trainable params\n",
      "449       Total params\n",
      "0.002     Total estimated model params size (MB)\n",
      "SLURM auto-requeueing enabled. Setting signal handlers.\n"
     ]
    },
    {
     "name": "stdout",
     "output_type": "stream",
     "text": [
      "[56] [0.2842080312074138]\n"
     ]
    },
    {
     "name": "stderr",
     "output_type": "stream",
     "text": [
      "`Trainer.fit` stopped: `max_epochs=100` reached.\n",
      "[I 2024-05-21 08:07:38,002] Trial 44 finished with value: 0.007697631139308214 and parameters: {'n_layers': 1, 'n_units0': 56, 'dropout': 0.2842080312074138}. Best is trial 29 with value: 0.004225536715239286.\n",
      "GPU available: True (cuda), used: True\n",
      "TPU available: False, using: 0 TPU cores\n",
      "IPU available: False, using: 0 IPUs\n",
      "HPU available: False, using: 0 HPUs\n",
      "LOCAL_RANK: 0 - CUDA_VISIBLE_DEVICES: [0]\n",
      "\n",
      "  | Name    | Type       | Params\n",
      "---------------------------------------\n",
      "0 | camadas | Sequential | 12.0 K\n",
      "---------------------------------------\n",
      "12.0 K    Trainable params\n",
      "0         Non-trainable params\n",
      "12.0 K    Total params\n",
      "0.048     Total estimated model params size (MB)\n",
      "SLURM auto-requeueing enabled. Setting signal handlers.\n"
     ]
    },
    {
     "name": "stdout",
     "output_type": "stream",
     "text": [
      "[68, 69, 56, 15, 118] [0.29928872061420936, 0.29928872061420936, 0.29928872061420936, 0.29928872061420936, 0.29928872061420936]\n"
     ]
    },
    {
     "name": "stderr",
     "output_type": "stream",
     "text": [
      "`Trainer.fit` stopped: `max_epochs=100` reached.\n",
      "[I 2024-05-21 08:07:58,284] Trial 45 finished with value: 0.021372666582465172 and parameters: {'n_layers': 5, 'n_units0': 68, 'dropout': 0.29928872061420936, 'n_units1': 69, 'n_units2': 56, 'n_units3': 15, 'n_units4': 118}. Best is trial 29 with value: 0.004225536715239286.\n",
      "GPU available: True (cuda), used: True\n",
      "TPU available: False, using: 0 TPU cores\n",
      "IPU available: False, using: 0 IPUs\n",
      "HPU available: False, using: 0 HPUs\n",
      "LOCAL_RANK: 0 - CUDA_VISIBLE_DEVICES: [0]\n",
      "\n",
      "  | Name    | Type       | Params\n",
      "---------------------------------------\n",
      "0 | camadas | Sequential | 601   \n",
      "---------------------------------------\n",
      "601       Trainable params\n",
      "0         Non-trainable params\n",
      "601       Total params\n",
      "0.002     Total estimated model params size (MB)\n",
      "SLURM auto-requeueing enabled. Setting signal handlers.\n"
     ]
    },
    {
     "name": "stdout",
     "output_type": "stream",
     "text": [
      "[75] [0.2148559837722439]\n"
     ]
    },
    {
     "name": "stderr",
     "output_type": "stream",
     "text": [
      "`Trainer.fit` stopped: `max_epochs=100` reached.\n",
      "[I 2024-05-21 08:08:14,488] Trial 46 finished with value: 0.0059786224737763405 and parameters: {'n_layers': 1, 'n_units0': 75, 'dropout': 0.2148559837722439}. Best is trial 29 with value: 0.004225536715239286.\n",
      "GPU available: True (cuda), used: True\n",
      "TPU available: False, using: 0 TPU cores\n",
      "IPU available: False, using: 0 IPUs\n",
      "HPU available: False, using: 0 HPUs\n",
      "LOCAL_RANK: 0 - CUDA_VISIBLE_DEVICES: [0]\n",
      "\n",
      "  | Name    | Type       | Params\n",
      "---------------------------------------\n",
      "0 | camadas | Sequential | 385   \n",
      "---------------------------------------\n",
      "385       Trainable params\n",
      "0         Non-trainable params\n",
      "385       Total params\n",
      "0.002     Total estimated model params size (MB)\n",
      "SLURM auto-requeueing enabled. Setting signal handlers.\n"
     ]
    },
    {
     "name": "stdout",
     "output_type": "stream",
     "text": [
      "[48] [0.3111373296488876]\n"
     ]
    },
    {
     "name": "stderr",
     "output_type": "stream",
     "text": [
      "`Trainer.fit` stopped: `max_epochs=100` reached.\n",
      "[I 2024-05-21 08:08:30,722] Trial 47 finished with value: 0.008926397189497948 and parameters: {'n_layers': 1, 'n_units0': 48, 'dropout': 0.3111373296488876}. Best is trial 29 with value: 0.004225536715239286.\n",
      "GPU available: True (cuda), used: True\n",
      "TPU available: False, using: 0 TPU cores\n",
      "IPU available: False, using: 0 IPUs\n",
      "HPU available: False, using: 0 HPUs\n",
      "LOCAL_RANK: 0 - CUDA_VISIBLE_DEVICES: [0]\n",
      "\n",
      "  | Name    | Type       | Params\n",
      "---------------------------------------\n",
      "0 | camadas | Sequential | 3.0 K \n",
      "---------------------------------------\n",
      "3.0 K     Trainable params\n",
      "0         Non-trainable params\n",
      "3.0 K     Total params\n",
      "0.012     Total estimated model params size (MB)\n",
      "SLURM auto-requeueing enabled. Setting signal handlers.\n"
     ]
    },
    {
     "name": "stdout",
     "output_type": "stream",
     "text": [
      "[61, 41] [0.24584118519166656, 0.24584118519166656]\n"
     ]
    },
    {
     "name": "stderr",
     "output_type": "stream",
     "text": [
      "`Trainer.fit` stopped: `max_epochs=100` reached.\n",
      "[I 2024-05-21 08:08:49,943] Trial 48 finished with value: 0.012763024307787418 and parameters: {'n_layers': 2, 'n_units0': 61, 'dropout': 0.24584118519166656, 'n_units1': 41}. Best is trial 29 with value: 0.004225536715239286.\n",
      "GPU available: True (cuda), used: True\n",
      "TPU available: False, using: 0 TPU cores\n",
      "IPU available: False, using: 0 IPUs\n",
      "HPU available: False, using: 0 HPUs\n",
      "LOCAL_RANK: 0 - CUDA_VISIBLE_DEVICES: [0]\n",
      "\n",
      "  | Name    | Type       | Params\n",
      "---------------------------------------\n",
      "0 | camadas | Sequential | 121   \n",
      "---------------------------------------\n",
      "121       Trainable params\n",
      "0         Non-trainable params\n",
      "121       Total params\n",
      "0.000     Total estimated model params size (MB)\n",
      "SLURM auto-requeueing enabled. Setting signal handlers.\n"
     ]
    },
    {
     "name": "stdout",
     "output_type": "stream",
     "text": [
      "[15] [0.2931369563009124]\n"
     ]
    },
    {
     "name": "stderr",
     "output_type": "stream",
     "text": [
      "[I 2024-05-21 08:08:55,660] Trial 49 finished with value: 0.005691898986697197 and parameters: {'n_layers': 1, 'n_units0': 15, 'dropout': 0.2931369563009124}. Best is trial 29 with value: 0.004225536715239286.\n",
      "GPU available: True (cuda), used: True\n",
      "TPU available: False, using: 0 TPU cores\n",
      "IPU available: False, using: 0 IPUs\n",
      "HPU available: False, using: 0 HPUs\n",
      "LOCAL_RANK: 0 - CUDA_VISIBLE_DEVICES: [0]\n",
      "\n",
      "  | Name    | Type       | Params\n",
      "---------------------------------------\n",
      "0 | camadas | Sequential | 681   \n",
      "---------------------------------------\n",
      "681       Trainable params\n",
      "0         Non-trainable params\n",
      "681       Total params\n",
      "0.003     Total estimated model params size (MB)\n",
      "SLURM auto-requeueing enabled. Setting signal handlers.\n"
     ]
    },
    {
     "name": "stdout",
     "output_type": "stream",
     "text": [
      "[85] [0.27796756420049473]\n"
     ]
    },
    {
     "name": "stderr",
     "output_type": "stream",
     "text": [
      "`Trainer.fit` stopped: `max_epochs=100` reached.\n",
      "[I 2024-05-21 08:09:12,069] Trial 50 finished with value: 0.004537991713732481 and parameters: {'n_layers': 1, 'n_units0': 85, 'dropout': 0.27796756420049473}. Best is trial 29 with value: 0.004225536715239286.\n",
      "GPU available: True (cuda), used: True\n",
      "TPU available: False, using: 0 TPU cores\n",
      "IPU available: False, using: 0 IPUs\n",
      "HPU available: False, using: 0 HPUs\n",
      "LOCAL_RANK: 0 - CUDA_VISIBLE_DEVICES: [0]\n",
      "\n",
      "  | Name    | Type       | Params\n",
      "---------------------------------------\n",
      "0 | camadas | Sequential | 705   \n",
      "---------------------------------------\n",
      "705       Trainable params\n",
      "0         Non-trainable params\n",
      "705       Total params\n",
      "0.003     Total estimated model params size (MB)\n",
      "SLURM auto-requeueing enabled. Setting signal handlers.\n"
     ]
    },
    {
     "name": "stdout",
     "output_type": "stream",
     "text": [
      "[88] [0.2762858745854496]\n"
     ]
    },
    {
     "name": "stderr",
     "output_type": "stream",
     "text": [
      "`Trainer.fit` stopped: `max_epochs=100` reached.\n",
      "[I 2024-05-21 08:09:28,328] Trial 51 finished with value: 0.005337315145879984 and parameters: {'n_layers': 1, 'n_units0': 88, 'dropout': 0.2762858745854496}. Best is trial 29 with value: 0.004225536715239286.\n",
      "GPU available: True (cuda), used: True\n",
      "TPU available: False, using: 0 TPU cores\n",
      "IPU available: False, using: 0 IPUs\n",
      "HPU available: False, using: 0 HPUs\n",
      "LOCAL_RANK: 0 - CUDA_VISIBLE_DEVICES: [0]\n",
      "\n",
      "  | Name    | Type       | Params\n",
      "---------------------------------------\n",
      "0 | camadas | Sequential | 713   \n",
      "---------------------------------------\n",
      "713       Trainable params\n",
      "0         Non-trainable params\n",
      "713       Total params\n",
      "0.003     Total estimated model params size (MB)\n",
      "SLURM auto-requeueing enabled. Setting signal handlers.\n"
     ]
    },
    {
     "name": "stdout",
     "output_type": "stream",
     "text": [
      "[89] [0.2756105735035097]\n"
     ]
    },
    {
     "name": "stderr",
     "output_type": "stream",
     "text": [
      "`Trainer.fit` stopped: `max_epochs=100` reached.\n",
      "[I 2024-05-21 08:09:44,285] Trial 52 finished with value: 0.006282808259129524 and parameters: {'n_layers': 1, 'n_units0': 89, 'dropout': 0.2756105735035097}. Best is trial 29 with value: 0.004225536715239286.\n",
      "GPU available: True (cuda), used: True\n",
      "TPU available: False, using: 0 TPU cores\n",
      "IPU available: False, using: 0 IPUs\n",
      "HPU available: False, using: 0 HPUs\n",
      "LOCAL_RANK: 0 - CUDA_VISIBLE_DEVICES: [0]\n",
      "\n",
      "  | Name    | Type       | Params\n",
      "---------------------------------------\n",
      "0 | camadas | Sequential | 777   \n",
      "---------------------------------------\n",
      "777       Trainable params\n",
      "0         Non-trainable params\n",
      "777       Total params\n",
      "0.003     Total estimated model params size (MB)\n",
      "SLURM auto-requeueing enabled. Setting signal handlers.\n"
     ]
    },
    {
     "name": "stdout",
     "output_type": "stream",
     "text": [
      "[97] [0.23975107851047733]\n"
     ]
    },
    {
     "name": "stderr",
     "output_type": "stream",
     "text": [
      "`Trainer.fit` stopped: `max_epochs=100` reached.\n",
      "[I 2024-05-21 08:10:01,042] Trial 53 finished with value: 0.004492805805057287 and parameters: {'n_layers': 1, 'n_units0': 97, 'dropout': 0.23975107851047733}. Best is trial 29 with value: 0.004225536715239286.\n",
      "GPU available: True (cuda), used: True\n",
      "TPU available: False, using: 0 TPU cores\n",
      "IPU available: False, using: 0 IPUs\n",
      "HPU available: False, using: 0 HPUs\n",
      "LOCAL_RANK: 0 - CUDA_VISIBLE_DEVICES: [0]\n",
      "\n",
      "  | Name    | Type       | Params\n",
      "---------------------------------------\n",
      "0 | camadas | Sequential | 809   \n",
      "---------------------------------------\n",
      "809       Trainable params\n",
      "0         Non-trainable params\n",
      "809       Total params\n",
      "0.003     Total estimated model params size (MB)\n",
      "SLURM auto-requeueing enabled. Setting signal handlers.\n"
     ]
    },
    {
     "name": "stdout",
     "output_type": "stream",
     "text": [
      "[101] [0.23906196024239193]\n"
     ]
    },
    {
     "name": "stderr",
     "output_type": "stream",
     "text": [
      "`Trainer.fit` stopped: `max_epochs=100` reached.\n",
      "[I 2024-05-21 08:10:17,804] Trial 54 finished with value: 0.004077245481312275 and parameters: {'n_layers': 1, 'n_units0': 101, 'dropout': 0.23906196024239193}. Best is trial 54 with value: 0.004077245481312275.\n",
      "GPU available: True (cuda), used: True\n",
      "TPU available: False, using: 0 TPU cores\n",
      "IPU available: False, using: 0 IPUs\n",
      "HPU available: False, using: 0 HPUs\n",
      "LOCAL_RANK: 0 - CUDA_VISIBLE_DEVICES: [0]\n",
      "\n",
      "  | Name    | Type       | Params\n",
      "---------------------------------------\n",
      "0 | camadas | Sequential | 12.1 K\n",
      "---------------------------------------\n",
      "12.1 K    Trainable params\n",
      "0         Non-trainable params\n",
      "12.1 K    Total params\n",
      "0.048     Total estimated model params size (MB)\n",
      "SLURM auto-requeueing enabled. Setting signal handlers.\n"
     ]
    },
    {
     "name": "stdout",
     "output_type": "stream",
     "text": [
      "[110, 101] [0.2183170827616798, 0.2183170827616798]\n"
     ]
    },
    {
     "name": "stderr",
     "output_type": "stream",
     "text": [
      "`Trainer.fit` stopped: `max_epochs=100` reached.\n",
      "[I 2024-05-21 08:10:35,731] Trial 55 finished with value: 0.008718015626072884 and parameters: {'n_layers': 2, 'n_units0': 110, 'dropout': 0.2183170827616798, 'n_units1': 101}. Best is trial 54 with value: 0.004077245481312275.\n",
      "GPU available: True (cuda), used: True\n",
      "TPU available: False, using: 0 TPU cores\n",
      "IPU available: False, using: 0 IPUs\n",
      "HPU available: False, using: 0 HPUs\n",
      "LOCAL_RANK: 0 - CUDA_VISIBLE_DEVICES: [0]\n",
      "\n",
      "  | Name    | Type       | Params\n",
      "---------------------------------------\n",
      "0 | camadas | Sequential | 785   \n",
      "---------------------------------------\n",
      "785       Trainable params\n",
      "0         Non-trainable params\n",
      "785       Total params\n",
      "0.003     Total estimated model params size (MB)\n",
      "SLURM auto-requeueing enabled. Setting signal handlers.\n"
     ]
    },
    {
     "name": "stdout",
     "output_type": "stream",
     "text": [
      "[98] [0.23836578703457229]\n"
     ]
    },
    {
     "name": "stderr",
     "output_type": "stream",
     "text": [
      "`Trainer.fit` stopped: `max_epochs=100` reached.\n",
      "[I 2024-05-21 08:10:52,249] Trial 56 finished with value: 0.005893982481211424 and parameters: {'n_layers': 1, 'n_units0': 98, 'dropout': 0.23836578703457229}. Best is trial 54 with value: 0.004077245481312275.\n",
      "GPU available: True (cuda), used: True\n",
      "TPU available: False, using: 0 TPU cores\n",
      "IPU available: False, using: 0 IPUs\n",
      "HPU available: False, using: 0 HPUs\n",
      "LOCAL_RANK: 0 - CUDA_VISIBLE_DEVICES: [0]\n",
      "\n",
      "  | Name    | Type       | Params\n",
      "---------------------------------------\n",
      "0 | camadas | Sequential | 7.2 K \n",
      "---------------------------------------\n",
      "7.2 K     Trainable params\n",
      "0         Non-trainable params\n",
      "7.2 K     Total params\n",
      "0.029     Total estimated model params size (MB)\n",
      "SLURM auto-requeueing enabled. Setting signal handlers.\n"
     ]
    },
    {
     "name": "stdout",
     "output_type": "stream",
     "text": [
      "[105, 60] [0.20101016415938144, 0.20101016415938144]\n"
     ]
    },
    {
     "name": "stderr",
     "output_type": "stream",
     "text": [
      "`Trainer.fit` stopped: `max_epochs=100` reached.\n",
      "[I 2024-05-21 08:11:08,458] Trial 57 finished with value: 0.007268030196428299 and parameters: {'n_layers': 2, 'n_units0': 105, 'dropout': 0.20101016415938144, 'n_units1': 60}. Best is trial 54 with value: 0.004077245481312275.\n",
      "GPU available: True (cuda), used: True\n",
      "TPU available: False, using: 0 TPU cores\n",
      "IPU available: False, using: 0 IPUs\n",
      "HPU available: False, using: 0 HPUs\n",
      "LOCAL_RANK: 0 - CUDA_VISIBLE_DEVICES: [0]\n",
      "\n",
      "  | Name    | Type       | Params\n",
      "---------------------------------------\n",
      "0 | camadas | Sequential | 665   \n",
      "---------------------------------------\n",
      "665       Trainable params\n",
      "0         Non-trainable params\n",
      "665       Total params\n",
      "0.003     Total estimated model params size (MB)\n",
      "SLURM auto-requeueing enabled. Setting signal handlers.\n"
     ]
    },
    {
     "name": "stdout",
     "output_type": "stream",
     "text": [
      "[83] [0.25406020540860974]\n"
     ]
    },
    {
     "name": "stderr",
     "output_type": "stream",
     "text": [
      "`Trainer.fit` stopped: `max_epochs=100` reached.\n",
      "[I 2024-05-21 08:11:24,644] Trial 58 finished with value: 0.004958427976816893 and parameters: {'n_layers': 1, 'n_units0': 83, 'dropout': 0.25406020540860974}. Best is trial 54 with value: 0.004077245481312275.\n",
      "GPU available: True (cuda), used: True\n",
      "TPU available: False, using: 0 TPU cores\n",
      "IPU available: False, using: 0 IPUs\n",
      "HPU available: False, using: 0 HPUs\n",
      "LOCAL_RANK: 0 - CUDA_VISIBLE_DEVICES: [0]\n",
      "\n",
      "  | Name    | Type       | Params\n",
      "---------------------------------------\n",
      "0 | camadas | Sequential | 20.4 K\n",
      "---------------------------------------\n",
      "20.4 K    Trainable params\n",
      "0         Non-trainable params\n",
      "20.4 K    Total params\n",
      "0.081     Total estimated model params size (MB)\n",
      "SLURM auto-requeueing enabled. Setting signal handlers.\n"
     ]
    },
    {
     "name": "stdout",
     "output_type": "stream",
     "text": [
      "[84, 119, 49, 74] [0.2257554065328972, 0.2257554065328972, 0.2257554065328972, 0.2257554065328972]\n"
     ]
    },
    {
     "name": "stderr",
     "output_type": "stream",
     "text": [
      "`Trainer.fit` stopped: `max_epochs=100` reached.\n",
      "[I 2024-05-21 08:11:44,168] Trial 59 finished with value: 0.01936795748770237 and parameters: {'n_layers': 4, 'n_units0': 84, 'dropout': 0.2257554065328972, 'n_units1': 119, 'n_units2': 49, 'n_units3': 74}. Best is trial 54 with value: 0.004077245481312275.\n",
      "GPU available: True (cuda), used: True\n",
      "TPU available: False, using: 0 TPU cores\n",
      "IPU available: False, using: 0 IPUs\n",
      "HPU available: False, using: 0 HPUs\n",
      "LOCAL_RANK: 0 - CUDA_VISIBLE_DEVICES: [0]\n",
      "\n",
      "  | Name    | Type       | Params\n",
      "---------------------------------------\n",
      "0 | camadas | Sequential | 753   \n",
      "---------------------------------------\n",
      "753       Trainable params\n",
      "0         Non-trainable params\n",
      "753       Total params\n",
      "0.003     Total estimated model params size (MB)\n",
      "SLURM auto-requeueing enabled. Setting signal handlers.\n"
     ]
    },
    {
     "name": "stdout",
     "output_type": "stream",
     "text": [
      "[94] [0.2546211560402143]\n"
     ]
    },
    {
     "name": "stderr",
     "output_type": "stream",
     "text": [
      "`Trainer.fit` stopped: `max_epochs=100` reached.\n",
      "[I 2024-05-21 08:12:00,037] Trial 60 finished with value: 0.0051060086116194725 and parameters: {'n_layers': 1, 'n_units0': 94, 'dropout': 0.2546211560402143}. Best is trial 54 with value: 0.004077245481312275.\n",
      "GPU available: True (cuda), used: True\n",
      "TPU available: False, using: 0 TPU cores\n",
      "IPU available: False, using: 0 IPUs\n",
      "HPU available: False, using: 0 HPUs\n",
      "LOCAL_RANK: 0 - CUDA_VISIBLE_DEVICES: [0]\n",
      "\n",
      "  | Name    | Type       | Params\n",
      "---------------------------------------\n",
      "0 | camadas | Sequential | 809   \n",
      "---------------------------------------\n",
      "809       Trainable params\n",
      "0         Non-trainable params\n",
      "809       Total params\n",
      "0.003     Total estimated model params size (MB)\n",
      "SLURM auto-requeueing enabled. Setting signal handlers.\n"
     ]
    },
    {
     "name": "stdout",
     "output_type": "stream",
     "text": [
      "[101] [0.25877649931198893]\n"
     ]
    },
    {
     "name": "stderr",
     "output_type": "stream",
     "text": [
      "`Trainer.fit` stopped: `max_epochs=100` reached.\n",
      "[I 2024-05-21 08:12:16,274] Trial 61 finished with value: 0.005718663800507784 and parameters: {'n_layers': 1, 'n_units0': 101, 'dropout': 0.25877649931198893}. Best is trial 54 with value: 0.004077245481312275.\n",
      "GPU available: True (cuda), used: True\n",
      "TPU available: False, using: 0 TPU cores\n",
      "IPU available: False, using: 0 IPUs\n",
      "HPU available: False, using: 0 HPUs\n",
      "LOCAL_RANK: 0 - CUDA_VISIBLE_DEVICES: [0]\n",
      "\n",
      "  | Name    | Type       | Params\n",
      "---------------------------------------\n",
      "0 | camadas | Sequential | 737   \n",
      "---------------------------------------\n",
      "737       Trainable params\n",
      "0         Non-trainable params\n",
      "737       Total params\n",
      "0.003     Total estimated model params size (MB)\n",
      "SLURM auto-requeueing enabled. Setting signal handlers.\n"
     ]
    },
    {
     "name": "stdout",
     "output_type": "stream",
     "text": [
      "[92] [0.23564162464540334]\n"
     ]
    },
    {
     "name": "stderr",
     "output_type": "stream",
     "text": [
      "`Trainer.fit` stopped: `max_epochs=100` reached.\n",
      "[I 2024-05-21 08:12:32,482] Trial 62 finished with value: 0.004845980554819107 and parameters: {'n_layers': 1, 'n_units0': 92, 'dropout': 0.23564162464540334}. Best is trial 54 with value: 0.004077245481312275.\n",
      "GPU available: True (cuda), used: True\n",
      "TPU available: False, using: 0 TPU cores\n",
      "IPU available: False, using: 0 IPUs\n",
      "HPU available: False, using: 0 HPUs\n",
      "LOCAL_RANK: 0 - CUDA_VISIBLE_DEVICES: [0]\n",
      "\n",
      "  | Name    | Type       | Params\n",
      "---------------------------------------\n",
      "0 | camadas | Sequential | 625   \n",
      "---------------------------------------\n",
      "625       Trainable params\n",
      "0         Non-trainable params\n",
      "625       Total params\n",
      "0.003     Total estimated model params size (MB)\n",
      "SLURM auto-requeueing enabled. Setting signal handlers.\n"
     ]
    },
    {
     "name": "stdout",
     "output_type": "stream",
     "text": [
      "[78] [0.2402048348207838]\n"
     ]
    },
    {
     "name": "stderr",
     "output_type": "stream",
     "text": [
      "`Trainer.fit` stopped: `max_epochs=100` reached.\n",
      "[I 2024-05-21 08:12:48,585] Trial 63 finished with value: 0.00508791022002697 and parameters: {'n_layers': 1, 'n_units0': 78, 'dropout': 0.2402048348207838}. Best is trial 54 with value: 0.004077245481312275.\n",
      "GPU available: True (cuda), used: True\n",
      "TPU available: False, using: 0 TPU cores\n",
      "IPU available: False, using: 0 IPUs\n",
      "HPU available: False, using: 0 HPUs\n",
      "LOCAL_RANK: 0 - CUDA_VISIBLE_DEVICES: [0]\n",
      "\n",
      "  | Name    | Type       | Params\n",
      "---------------------------------------\n",
      "0 | camadas | Sequential | 881   \n",
      "---------------------------------------\n",
      "881       Trainable params\n",
      "0         Non-trainable params\n",
      "881       Total params\n",
      "0.004     Total estimated model params size (MB)\n",
      "SLURM auto-requeueing enabled. Setting signal handlers.\n"
     ]
    },
    {
     "name": "stdout",
     "output_type": "stream",
     "text": [
      "[110] [0.2284927544345444]\n"
     ]
    },
    {
     "name": "stderr",
     "output_type": "stream",
     "text": [
      "`Trainer.fit` stopped: `max_epochs=100` reached.\n",
      "[I 2024-05-21 08:13:05,010] Trial 64 finished with value: 0.005055934190750122 and parameters: {'n_layers': 1, 'n_units0': 110, 'dropout': 0.2284927544345444}. Best is trial 54 with value: 0.004077245481312275.\n",
      "GPU available: True (cuda), used: True\n",
      "TPU available: False, using: 0 TPU cores\n",
      "IPU available: False, using: 0 IPUs\n",
      "HPU available: False, using: 0 HPUs\n",
      "LOCAL_RANK: 0 - CUDA_VISIBLE_DEVICES: [0]\n",
      "\n",
      "  | Name    | Type       | Params\n",
      "---------------------------------------\n",
      "0 | camadas | Sequential | 729   \n",
      "---------------------------------------\n",
      "729       Trainable params\n",
      "0         Non-trainable params\n",
      "729       Total params\n",
      "0.003     Total estimated model params size (MB)\n",
      "SLURM auto-requeueing enabled. Setting signal handlers.\n"
     ]
    },
    {
     "name": "stdout",
     "output_type": "stream",
     "text": [
      "[91] [0.2685236959443073]\n"
     ]
    },
    {
     "name": "stderr",
     "output_type": "stream",
     "text": [
      "`Trainer.fit` stopped: `max_epochs=100` reached.\n",
      "[I 2024-05-21 08:13:21,081] Trial 65 finished with value: 0.007097515277564526 and parameters: {'n_layers': 1, 'n_units0': 91, 'dropout': 0.2685236959443073}. Best is trial 54 with value: 0.004077245481312275.\n",
      "GPU available: True (cuda), used: True\n",
      "TPU available: False, using: 0 TPU cores\n",
      "IPU available: False, using: 0 IPUs\n",
      "HPU available: False, using: 0 HPUs\n",
      "LOCAL_RANK: 0 - CUDA_VISIBLE_DEVICES: [0]\n",
      "\n",
      "  | Name    | Type       | Params\n",
      "---------------------------------------\n",
      "0 | camadas | Sequential | 1.9 K \n",
      "---------------------------------------\n",
      "1.9 K     Trainable params\n",
      "0         Non-trainable params\n",
      "1.9 K     Total params\n",
      "0.008     Total estimated model params size (MB)\n",
      "SLURM auto-requeueing enabled. Setting signal handlers.\n"
     ]
    },
    {
     "name": "stdout",
     "output_type": "stream",
     "text": [
      "[83, 16] [0.2124971285268737, 0.2124971285268737]\n"
     ]
    },
    {
     "name": "stderr",
     "output_type": "stream",
     "text": [
      "`Trainer.fit` stopped: `max_epochs=100` reached.\n",
      "[I 2024-05-21 08:13:39,034] Trial 66 finished with value: 0.010094494558870792 and parameters: {'n_layers': 2, 'n_units0': 83, 'dropout': 0.2124971285268737, 'n_units1': 16}. Best is trial 54 with value: 0.004077245481312275.\n",
      "GPU available: True (cuda), used: True\n",
      "TPU available: False, using: 0 TPU cores\n",
      "IPU available: False, using: 0 IPUs\n",
      "HPU available: False, using: 0 HPUs\n",
      "LOCAL_RANK: 0 - CUDA_VISIBLE_DEVICES: [0]\n",
      "\n",
      "  | Name    | Type       | Params\n",
      "---------------------------------------\n",
      "0 | camadas | Sequential | 769   \n",
      "---------------------------------------\n",
      "769       Trainable params\n",
      "0         Non-trainable params\n",
      "769       Total params\n",
      "0.003     Total estimated model params size (MB)\n",
      "SLURM auto-requeueing enabled. Setting signal handlers.\n"
     ]
    },
    {
     "name": "stdout",
     "output_type": "stream",
     "text": [
      "[96] [0.289077032083817]\n"
     ]
    },
    {
     "name": "stderr",
     "output_type": "stream",
     "text": [
      "[I 2024-05-21 08:13:41,533] Trial 67 finished with value: 0.0067795212380588055 and parameters: {'n_layers': 1, 'n_units0': 96, 'dropout': 0.289077032083817}. Best is trial 54 with value: 0.004077245481312275.\n",
      "GPU available: True (cuda), used: True\n",
      "TPU available: False, using: 0 TPU cores\n",
      "IPU available: False, using: 0 IPUs\n",
      "HPU available: False, using: 0 HPUs\n",
      "LOCAL_RANK: 0 - CUDA_VISIBLE_DEVICES: [0]\n",
      "\n",
      "  | Name    | Type       | Params\n",
      "---------------------------------------\n",
      "0 | camadas | Sequential | 681   \n",
      "---------------------------------------\n",
      "681       Trainable params\n",
      "0         Non-trainable params\n",
      "681       Total params\n",
      "0.003     Total estimated model params size (MB)\n",
      "SLURM auto-requeueing enabled. Setting signal handlers.\n"
     ]
    },
    {
     "name": "stdout",
     "output_type": "stream",
     "text": [
      "[85] [0.22354885998988808]\n"
     ]
    },
    {
     "name": "stderr",
     "output_type": "stream",
     "text": [
      "`Trainer.fit` stopped: `max_epochs=100` reached.\n",
      "[I 2024-05-21 08:13:58,081] Trial 68 finished with value: 0.0056708138436079025 and parameters: {'n_layers': 1, 'n_units0': 85, 'dropout': 0.22354885998988808}. Best is trial 54 with value: 0.004077245481312275.\n",
      "GPU available: True (cuda), used: True\n",
      "TPU available: False, using: 0 TPU cores\n",
      "IPU available: False, using: 0 IPUs\n",
      "HPU available: False, using: 0 HPUs\n",
      "LOCAL_RANK: 0 - CUDA_VISIBLE_DEVICES: [0]\n",
      "\n",
      "  | Name    | Type       | Params\n",
      "---------------------------------------\n",
      "0 | camadas | Sequential | 913   \n",
      "---------------------------------------\n",
      "913       Trainable params\n",
      "0         Non-trainable params\n",
      "913       Total params\n",
      "0.004     Total estimated model params size (MB)\n",
      "SLURM auto-requeueing enabled. Setting signal handlers.\n"
     ]
    },
    {
     "name": "stdout",
     "output_type": "stream",
     "text": [
      "[114] [0.23719619505978362]\n"
     ]
    },
    {
     "name": "stderr",
     "output_type": "stream",
     "text": [
      "`Trainer.fit` stopped: `max_epochs=100` reached.\n",
      "[I 2024-05-21 08:14:14,332] Trial 69 finished with value: 0.004241899121552706 and parameters: {'n_layers': 1, 'n_units0': 114, 'dropout': 0.23719619505978362}. Best is trial 54 with value: 0.004077245481312275.\n",
      "GPU available: True (cuda), used: True\n",
      "TPU available: False, using: 0 TPU cores\n",
      "IPU available: False, using: 0 IPUs\n",
      "HPU available: False, using: 0 HPUs\n",
      "LOCAL_RANK: 0 - CUDA_VISIBLE_DEVICES: [0]\n",
      "\n",
      "  | Name    | Type       | Params\n",
      "---------------------------------------\n",
      "0 | camadas | Sequential | 921   \n",
      "---------------------------------------\n",
      "921       Trainable params\n",
      "0         Non-trainable params\n",
      "921       Total params\n",
      "0.004     Total estimated model params size (MB)\n",
      "SLURM auto-requeueing enabled. Setting signal handlers.\n"
     ]
    },
    {
     "name": "stdout",
     "output_type": "stream",
     "text": [
      "[115] [0.23474838449951785]\n"
     ]
    },
    {
     "name": "stderr",
     "output_type": "stream",
     "text": [
      "`Trainer.fit` stopped: `max_epochs=100` reached.\n",
      "[I 2024-05-21 08:14:30,649] Trial 70 finished with value: 0.005630291532725096 and parameters: {'n_layers': 1, 'n_units0': 115, 'dropout': 0.23474838449951785}. Best is trial 54 with value: 0.004077245481312275.\n",
      "GPU available: True (cuda), used: True\n",
      "TPU available: False, using: 0 TPU cores\n",
      "IPU available: False, using: 0 IPUs\n",
      "HPU available: False, using: 0 HPUs\n",
      "LOCAL_RANK: 0 - CUDA_VISIBLE_DEVICES: [0]\n",
      "\n",
      "  | Name    | Type       | Params\n",
      "---------------------------------------\n",
      "0 | camadas | Sequential | 937   \n",
      "---------------------------------------\n",
      "937       Trainable params\n",
      "0         Non-trainable params\n",
      "937       Total params\n",
      "0.004     Total estimated model params size (MB)\n",
      "SLURM auto-requeueing enabled. Setting signal handlers.\n"
     ]
    },
    {
     "name": "stdout",
     "output_type": "stream",
     "text": [
      "[117] [0.25537722756632736]\n"
     ]
    },
    {
     "name": "stderr",
     "output_type": "stream",
     "text": [
      "`Trainer.fit` stopped: `max_epochs=100` reached.\n",
      "[I 2024-05-21 08:14:47,362] Trial 71 finished with value: 0.004381642211228609 and parameters: {'n_layers': 1, 'n_units0': 117, 'dropout': 0.25537722756632736}. Best is trial 54 with value: 0.004077245481312275.\n",
      "GPU available: True (cuda), used: True\n",
      "TPU available: False, using: 0 TPU cores\n",
      "IPU available: False, using: 0 IPUs\n",
      "HPU available: False, using: 0 HPUs\n",
      "LOCAL_RANK: 0 - CUDA_VISIBLE_DEVICES: [0]\n",
      "\n",
      "  | Name    | Type       | Params\n",
      "---------------------------------------\n",
      "0 | camadas | Sequential | 961   \n",
      "---------------------------------------\n",
      "961       Trainable params\n",
      "0         Non-trainable params\n",
      "961       Total params\n",
      "0.004     Total estimated model params size (MB)\n",
      "SLURM auto-requeueing enabled. Setting signal handlers.\n"
     ]
    },
    {
     "name": "stdout",
     "output_type": "stream",
     "text": [
      "[120] [0.2072009074463136]\n"
     ]
    },
    {
     "name": "stderr",
     "output_type": "stream",
     "text": [
      "`Trainer.fit` stopped: `max_epochs=100` reached.\n",
      "[I 2024-05-21 08:15:04,254] Trial 72 finished with value: 0.0041441116482019424 and parameters: {'n_layers': 1, 'n_units0': 120, 'dropout': 0.2072009074463136}. Best is trial 54 with value: 0.004077245481312275.\n",
      "GPU available: True (cuda), used: True\n",
      "TPU available: False, using: 0 TPU cores\n",
      "IPU available: False, using: 0 IPUs\n",
      "HPU available: False, using: 0 HPUs\n",
      "LOCAL_RANK: 0 - CUDA_VISIBLE_DEVICES: [0]\n",
      "\n",
      "  | Name    | Type       | Params\n",
      "---------------------------------------\n",
      "0 | camadas | Sequential | 953   \n",
      "---------------------------------------\n",
      "953       Trainable params\n",
      "0         Non-trainable params\n",
      "953       Total params\n",
      "0.004     Total estimated model params size (MB)\n",
      "SLURM auto-requeueing enabled. Setting signal handlers.\n"
     ]
    },
    {
     "name": "stdout",
     "output_type": "stream",
     "text": [
      "[119] [0.20446471196186103]\n"
     ]
    },
    {
     "name": "stderr",
     "output_type": "stream",
     "text": [
      "`Trainer.fit` stopped: `max_epochs=100` reached.\n",
      "[I 2024-05-21 08:15:20,669] Trial 73 finished with value: 0.004789377097040415 and parameters: {'n_layers': 1, 'n_units0': 119, 'dropout': 0.20446471196186103}. Best is trial 54 with value: 0.004077245481312275.\n",
      "GPU available: True (cuda), used: True\n",
      "TPU available: False, using: 0 TPU cores\n",
      "IPU available: False, using: 0 IPUs\n",
      "HPU available: False, using: 0 HPUs\n",
      "LOCAL_RANK: 0 - CUDA_VISIBLE_DEVICES: [0]\n",
      "\n",
      "  | Name    | Type       | Params\n",
      "---------------------------------------\n",
      "0 | camadas | Sequential | 961   \n",
      "---------------------------------------\n",
      "961       Trainable params\n",
      "0         Non-trainable params\n",
      "961       Total params\n",
      "0.004     Total estimated model params size (MB)\n",
      "SLURM auto-requeueing enabled. Setting signal handlers.\n"
     ]
    },
    {
     "name": "stdout",
     "output_type": "stream",
     "text": [
      "[120] [0.20472347577518457]\n"
     ]
    },
    {
     "name": "stderr",
     "output_type": "stream",
     "text": [
      "`Trainer.fit` stopped: `max_epochs=100` reached.\n",
      "[I 2024-05-21 08:15:37,265] Trial 74 finished with value: 0.004477850627154112 and parameters: {'n_layers': 1, 'n_units0': 120, 'dropout': 0.20472347577518457}. Best is trial 54 with value: 0.004077245481312275.\n",
      "GPU available: True (cuda), used: True\n",
      "TPU available: False, using: 0 TPU cores\n",
      "IPU available: False, using: 0 IPUs\n",
      "HPU available: False, using: 0 HPUs\n",
      "LOCAL_RANK: 0 - CUDA_VISIBLE_DEVICES: [0]\n",
      "\n",
      "  | Name    | Type       | Params\n",
      "---------------------------------------\n",
      "0 | camadas | Sequential | 929   \n",
      "---------------------------------------\n",
      "929       Trainable params\n",
      "0         Non-trainable params\n",
      "929       Total params\n",
      "0.004     Total estimated model params size (MB)\n",
      "SLURM auto-requeueing enabled. Setting signal handlers.\n"
     ]
    },
    {
     "name": "stdout",
     "output_type": "stream",
     "text": [
      "[116] [0.22194601150252088]\n"
     ]
    },
    {
     "name": "stderr",
     "output_type": "stream",
     "text": [
      "`Trainer.fit` stopped: `max_epochs=100` reached.\n",
      "[I 2024-05-21 08:15:53,735] Trial 75 finished with value: 0.006125858519226313 and parameters: {'n_layers': 1, 'n_units0': 116, 'dropout': 0.22194601150252088}. Best is trial 54 with value: 0.004077245481312275.\n",
      "GPU available: True (cuda), used: True\n",
      "TPU available: False, using: 0 TPU cores\n",
      "IPU available: False, using: 0 IPUs\n",
      "HPU available: False, using: 0 HPUs\n",
      "LOCAL_RANK: 0 - CUDA_VISIBLE_DEVICES: [0]\n",
      "\n",
      "  | Name    | Type       | Params\n",
      "---------------------------------------\n",
      "0 | camadas | Sequential | 6.2 K \n",
      "---------------------------------------\n",
      "6.2 K     Trainable params\n",
      "0         Non-trainable params\n",
      "6.2 K     Total params\n",
      "0.025     Total estimated model params size (MB)\n",
      "SLURM auto-requeueing enabled. Setting signal handlers.\n"
     ]
    },
    {
     "name": "stdout",
     "output_type": "stream",
     "text": [
      "[119, 44] [0.20492248301252555, 0.20492248301252555]\n"
     ]
    },
    {
     "name": "stderr",
     "output_type": "stream",
     "text": [
      "`Trainer.fit` stopped: `max_epochs=100` reached.\n",
      "[I 2024-05-21 08:16:12,491] Trial 76 finished with value: 0.009142554365098476 and parameters: {'n_layers': 2, 'n_units0': 119, 'dropout': 0.20492248301252555, 'n_units1': 44}. Best is trial 54 with value: 0.004077245481312275.\n",
      "GPU available: True (cuda), used: True\n",
      "TPU available: False, using: 0 TPU cores\n",
      "IPU available: False, using: 0 IPUs\n",
      "HPU available: False, using: 0 HPUs\n",
      "LOCAL_RANK: 0 - CUDA_VISIBLE_DEVICES: [0]\n",
      "\n",
      "  | Name    | Type       | Params\n",
      "---------------------------------------\n",
      "0 | camadas | Sequential | 865   \n",
      "---------------------------------------\n",
      "865       Trainable params\n",
      "0         Non-trainable params\n",
      "865       Total params\n",
      "0.003     Total estimated model params size (MB)\n",
      "SLURM auto-requeueing enabled. Setting signal handlers.\n"
     ]
    },
    {
     "name": "stdout",
     "output_type": "stream",
     "text": [
      "[108] [0.21093491481784743]\n"
     ]
    },
    {
     "name": "stderr",
     "output_type": "stream",
     "text": [
      "`Trainer.fit` stopped: `max_epochs=100` reached.\n",
      "[I 2024-05-21 08:16:28,639] Trial 77 finished with value: 0.005464569199830294 and parameters: {'n_layers': 1, 'n_units0': 108, 'dropout': 0.21093491481784743}. Best is trial 54 with value: 0.004077245481312275.\n",
      "GPU available: True (cuda), used: True\n",
      "TPU available: False, using: 0 TPU cores\n",
      "IPU available: False, using: 0 IPUs\n",
      "HPU available: False, using: 0 HPUs\n",
      "LOCAL_RANK: 0 - CUDA_VISIBLE_DEVICES: [0]\n",
      "\n",
      "  | Name    | Type       | Params\n",
      "---------------------------------------\n",
      "0 | camadas | Sequential | 897   \n",
      "---------------------------------------\n",
      "897       Trainable params\n",
      "0         Non-trainable params\n",
      "897       Total params\n",
      "0.004     Total estimated model params size (MB)\n",
      "SLURM auto-requeueing enabled. Setting signal handlers.\n"
     ]
    },
    {
     "name": "stdout",
     "output_type": "stream",
     "text": [
      "[112] [0.2453226398417736]\n"
     ]
    },
    {
     "name": "stderr",
     "output_type": "stream",
     "text": [
      "`Trainer.fit` stopped: `max_epochs=100` reached.\n",
      "[I 2024-05-21 08:16:45,250] Trial 78 finished with value: 0.004607326351106167 and parameters: {'n_layers': 1, 'n_units0': 112, 'dropout': 0.2453226398417736}. Best is trial 54 with value: 0.004077245481312275.\n",
      "GPU available: True (cuda), used: True\n",
      "TPU available: False, using: 0 TPU cores\n",
      "IPU available: False, using: 0 IPUs\n",
      "HPU available: False, using: 0 HPUs\n",
      "LOCAL_RANK: 0 - CUDA_VISIBLE_DEVICES: [0]\n",
      "\n",
      "  | Name    | Type       | Params\n",
      "---------------------------------------\n",
      "0 | camadas | Sequential | 905   \n",
      "---------------------------------------\n",
      "905       Trainable params\n",
      "0         Non-trainable params\n",
      "905       Total params\n",
      "0.004     Total estimated model params size (MB)\n",
      "SLURM auto-requeueing enabled. Setting signal handlers.\n"
     ]
    },
    {
     "name": "stdout",
     "output_type": "stream",
     "text": [
      "[113] [0.22312699468005634]\n"
     ]
    },
    {
     "name": "stderr",
     "output_type": "stream",
     "text": [
      "`Trainer.fit` stopped: `max_epochs=100` reached.\n",
      "[I 2024-05-21 08:17:01,811] Trial 79 finished with value: 0.003380507230758667 and parameters: {'n_layers': 1, 'n_units0': 113, 'dropout': 0.22312699468005634}. Best is trial 79 with value: 0.003380507230758667.\n",
      "GPU available: True (cuda), used: True\n",
      "TPU available: False, using: 0 TPU cores\n",
      "IPU available: False, using: 0 IPUs\n",
      "HPU available: False, using: 0 HPUs\n",
      "LOCAL_RANK: 0 - CUDA_VISIBLE_DEVICES: [0]\n",
      "\n",
      "  | Name    | Type       | Params\n",
      "---------------------------------------\n",
      "0 | camadas | Sequential | 12.9 K\n",
      "---------------------------------------\n",
      "12.9 K    Trainable params\n",
      "0         Non-trainable params\n",
      "12.9 K    Total params\n",
      "0.052     Total estimated model params size (MB)\n",
      "SLURM auto-requeueing enabled. Setting signal handlers.\n"
     ]
    },
    {
     "name": "stdout",
     "output_type": "stream",
     "text": [
      "[113, 58, 78, 6, 57] [0.2092039366634537, 0.2092039366634537, 0.2092039366634537, 0.2092039366634537, 0.2092039366634537]\n"
     ]
    },
    {
     "name": "stderr",
     "output_type": "stream",
     "text": [
      "`Trainer.fit` stopped: `max_epochs=100` reached.\n",
      "[I 2024-05-21 08:17:22,264] Trial 80 finished with value: 0.02138218656182289 and parameters: {'n_layers': 5, 'n_units0': 113, 'dropout': 0.2092039366634537, 'n_units1': 58, 'n_units2': 78, 'n_units3': 6, 'n_units4': 57}. Best is trial 79 with value: 0.003380507230758667.\n",
      "GPU available: True (cuda), used: True\n",
      "TPU available: False, using: 0 TPU cores\n",
      "IPU available: False, using: 0 IPUs\n",
      "HPU available: False, using: 0 HPUs\n",
      "LOCAL_RANK: 0 - CUDA_VISIBLE_DEVICES: [0]\n",
      "\n",
      "  | Name    | Type       | Params\n",
      "---------------------------------------\n",
      "0 | camadas | Sequential | 833   \n",
      "---------------------------------------\n",
      "833       Trainable params\n",
      "0         Non-trainable params\n",
      "833       Total params\n",
      "0.003     Total estimated model params size (MB)\n",
      "SLURM auto-requeueing enabled. Setting signal handlers.\n"
     ]
    },
    {
     "name": "stdout",
     "output_type": "stream",
     "text": [
      "[104] [0.22984945227751072]\n"
     ]
    },
    {
     "name": "stderr",
     "output_type": "stream",
     "text": [
      "`Trainer.fit` stopped: `max_epochs=100` reached.\n",
      "[I 2024-05-21 08:17:38,822] Trial 81 finished with value: 0.004745045211166143 and parameters: {'n_layers': 1, 'n_units0': 104, 'dropout': 0.22984945227751072}. Best is trial 79 with value: 0.003380507230758667.\n",
      "GPU available: True (cuda), used: True\n",
      "TPU available: False, using: 0 TPU cores\n",
      "IPU available: False, using: 0 IPUs\n",
      "HPU available: False, using: 0 HPUs\n",
      "LOCAL_RANK: 0 - CUDA_VISIBLE_DEVICES: [0]\n",
      "\n",
      "  | Name    | Type       | Params\n",
      "---------------------------------------\n",
      "0 | camadas | Sequential | 857   \n",
      "---------------------------------------\n",
      "857       Trainable params\n",
      "0         Non-trainable params\n",
      "857       Total params\n",
      "0.003     Total estimated model params size (MB)\n",
      "SLURM auto-requeueing enabled. Setting signal handlers.\n"
     ]
    },
    {
     "name": "stdout",
     "output_type": "stream",
     "text": [
      "[107] [0.23984490331823546]\n"
     ]
    },
    {
     "name": "stderr",
     "output_type": "stream",
     "text": [
      "`Trainer.fit` stopped: `max_epochs=100` reached.\n",
      "[I 2024-05-21 08:17:56,026] Trial 82 finished with value: 0.0046233804896473885 and parameters: {'n_layers': 1, 'n_units0': 107, 'dropout': 0.23984490331823546}. Best is trial 79 with value: 0.003380507230758667.\n",
      "GPU available: True (cuda), used: True\n",
      "TPU available: False, using: 0 TPU cores\n",
      "IPU available: False, using: 0 IPUs\n",
      "HPU available: False, using: 0 HPUs\n",
      "LOCAL_RANK: 0 - CUDA_VISIBLE_DEVICES: [0]\n",
      "\n",
      "  | Name    | Type       | Params\n",
      "---------------------------------------\n",
      "0 | camadas | Sequential | 961   \n",
      "---------------------------------------\n",
      "961       Trainable params\n",
      "0         Non-trainable params\n",
      "961       Total params\n",
      "0.004     Total estimated model params size (MB)\n",
      "SLURM auto-requeueing enabled. Setting signal handlers.\n"
     ]
    },
    {
     "name": "stdout",
     "output_type": "stream",
     "text": [
      "[120] [0.48862009447077925]\n"
     ]
    },
    {
     "name": "stderr",
     "output_type": "stream",
     "text": [
      "`Trainer.fit` stopped: `max_epochs=100` reached.\n",
      "[I 2024-05-21 08:18:12,912] Trial 83 finished with value: 0.007314162328839302 and parameters: {'n_layers': 1, 'n_units0': 120, 'dropout': 0.48862009447077925}. Best is trial 79 with value: 0.003380507230758667.\n",
      "GPU available: True (cuda), used: True\n",
      "TPU available: False, using: 0 TPU cores\n",
      "IPU available: False, using: 0 IPUs\n",
      "HPU available: False, using: 0 HPUs\n",
      "LOCAL_RANK: 0 - CUDA_VISIBLE_DEVICES: [0]\n",
      "\n",
      "  | Name    | Type       | Params\n",
      "---------------------------------------\n",
      "0 | camadas | Sequential | 937   \n",
      "---------------------------------------\n",
      "937       Trainable params\n",
      "0         Non-trainable params\n",
      "937       Total params\n",
      "0.004     Total estimated model params size (MB)\n",
      "SLURM auto-requeueing enabled. Setting signal handlers.\n"
     ]
    },
    {
     "name": "stdout",
     "output_type": "stream",
     "text": [
      "[117] [0.22080934305414088]\n"
     ]
    },
    {
     "name": "stderr",
     "output_type": "stream",
     "text": [
      "`Trainer.fit` stopped: `max_epochs=100` reached.\n",
      "[I 2024-05-21 08:18:30,076] Trial 84 finished with value: 0.006145260762423277 and parameters: {'n_layers': 1, 'n_units0': 117, 'dropout': 0.22080934305414088}. Best is trial 79 with value: 0.003380507230758667.\n",
      "GPU available: True (cuda), used: True\n",
      "TPU available: False, using: 0 TPU cores\n",
      "IPU available: False, using: 0 IPUs\n",
      "HPU available: False, using: 0 HPUs\n",
      "LOCAL_RANK: 0 - CUDA_VISIBLE_DEVICES: [0]\n",
      "\n",
      "  | Name    | Type       | Params\n",
      "---------------------------------------\n",
      "0 | camadas | Sequential | 905   \n",
      "---------------------------------------\n",
      "905       Trainable params\n",
      "0         Non-trainable params\n",
      "905       Total params\n",
      "0.004     Total estimated model params size (MB)\n",
      "SLURM auto-requeueing enabled. Setting signal handlers.\n"
     ]
    },
    {
     "name": "stdout",
     "output_type": "stream",
     "text": [
      "[113] [0.20013316504168902]\n"
     ]
    },
    {
     "name": "stderr",
     "output_type": "stream",
     "text": [
      "`Trainer.fit` stopped: `max_epochs=100` reached.\n",
      "[I 2024-05-21 08:18:47,098] Trial 85 finished with value: 0.005376720800995827 and parameters: {'n_layers': 1, 'n_units0': 113, 'dropout': 0.20013316504168902}. Best is trial 79 with value: 0.003380507230758667.\n",
      "GPU available: True (cuda), used: True\n",
      "TPU available: False, using: 0 TPU cores\n",
      "IPU available: False, using: 0 IPUs\n",
      "HPU available: False, using: 0 HPUs\n",
      "LOCAL_RANK: 0 - CUDA_VISIBLE_DEVICES: [0]\n",
      "\n",
      "  | Name    | Type       | Params\n",
      "---------------------------------------\n",
      "0 | camadas | Sequential | 889   \n",
      "---------------------------------------\n",
      "889       Trainable params\n",
      "0         Non-trainable params\n",
      "889       Total params\n",
      "0.004     Total estimated model params size (MB)\n",
      "SLURM auto-requeueing enabled. Setting signal handlers.\n"
     ]
    },
    {
     "name": "stdout",
     "output_type": "stream",
     "text": [
      "[111] [0.25171788110008225]\n"
     ]
    },
    {
     "name": "stderr",
     "output_type": "stream",
     "text": [
      "`Trainer.fit` stopped: `max_epochs=100` reached.\n",
      "[I 2024-05-21 08:19:03,449] Trial 86 finished with value: 0.004663113504648209 and parameters: {'n_layers': 1, 'n_units0': 111, 'dropout': 0.25171788110008225}. Best is trial 79 with value: 0.003380507230758667.\n",
      "GPU available: True (cuda), used: True\n",
      "TPU available: False, using: 0 TPU cores\n",
      "IPU available: False, using: 0 IPUs\n",
      "HPU available: False, using: 0 HPUs\n",
      "LOCAL_RANK: 0 - CUDA_VISIBLE_DEVICES: [0]\n",
      "\n",
      "  | Name    | Type       | Params\n",
      "---------------------------------------\n",
      "0 | camadas | Sequential | 1.2 K \n",
      "---------------------------------------\n",
      "1.2 K     Trainable params\n",
      "0         Non-trainable params\n",
      "1.2 K     Total params\n",
      "0.005     Total estimated model params size (MB)\n",
      "SLURM auto-requeueing enabled. Setting signal handlers.\n"
     ]
    },
    {
     "name": "stdout",
     "output_type": "stream",
     "text": [
      "[106, 4] [0.23168085679542832, 0.23168085679542832]\n"
     ]
    },
    {
     "name": "stderr",
     "output_type": "stream",
     "text": [
      "`Trainer.fit` stopped: `max_epochs=100` reached.\n",
      "[I 2024-05-21 08:19:21,451] Trial 87 finished with value: 0.013937565498054028 and parameters: {'n_layers': 2, 'n_units0': 106, 'dropout': 0.23168085679542832, 'n_units1': 4}. Best is trial 79 with value: 0.003380507230758667.\n",
      "GPU available: True (cuda), used: True\n",
      "TPU available: False, using: 0 TPU cores\n",
      "IPU available: False, using: 0 IPUs\n",
      "HPU available: False, using: 0 HPUs\n",
      "LOCAL_RANK: 0 - CUDA_VISIBLE_DEVICES: [0]\n",
      "\n",
      "  | Name    | Type       | Params\n",
      "---------------------------------------\n",
      "0 | camadas | Sequential | 809   \n",
      "---------------------------------------\n",
      "809       Trainable params\n",
      "0         Non-trainable params\n",
      "809       Total params\n",
      "0.003     Total estimated model params size (MB)\n",
      "SLURM auto-requeueing enabled. Setting signal handlers.\n"
     ]
    },
    {
     "name": "stdout",
     "output_type": "stream",
     "text": [
      "[101] [0.262038456887592]\n"
     ]
    },
    {
     "name": "stderr",
     "output_type": "stream",
     "text": [
      "`Trainer.fit` stopped: `max_epochs=100` reached.\n",
      "[I 2024-05-21 08:19:38,873] Trial 88 finished with value: 0.005263869650661945 and parameters: {'n_layers': 1, 'n_units0': 101, 'dropout': 0.262038456887592}. Best is trial 79 with value: 0.003380507230758667.\n",
      "GPU available: True (cuda), used: True\n",
      "TPU available: False, using: 0 TPU cores\n",
      "IPU available: False, using: 0 IPUs\n",
      "HPU available: False, using: 0 HPUs\n",
      "LOCAL_RANK: 0 - CUDA_VISIBLE_DEVICES: [0]\n",
      "\n",
      "  | Name    | Type       | Params\n",
      "---------------------------------------\n",
      "0 | camadas | Sequential | 929   \n",
      "---------------------------------------\n",
      "929       Trainable params\n",
      "0         Non-trainable params\n",
      "929       Total params\n",
      "0.004     Total estimated model params size (MB)\n",
      "SLURM auto-requeueing enabled. Setting signal handlers.\n"
     ]
    },
    {
     "name": "stdout",
     "output_type": "stream",
     "text": [
      "[116] [0.24551292097835387]\n"
     ]
    },
    {
     "name": "stderr",
     "output_type": "stream",
     "text": [
      "`Trainer.fit` stopped: `max_epochs=100` reached.\n",
      "[I 2024-05-21 08:19:55,636] Trial 89 finished with value: 0.0038335134740918875 and parameters: {'n_layers': 1, 'n_units0': 116, 'dropout': 0.24551292097835387}. Best is trial 79 with value: 0.003380507230758667.\n",
      "GPU available: True (cuda), used: True\n",
      "TPU available: False, using: 0 TPU cores\n",
      "IPU available: False, using: 0 IPUs\n",
      "HPU available: False, using: 0 HPUs\n",
      "LOCAL_RANK: 0 - CUDA_VISIBLE_DEVICES: [0]\n",
      "\n",
      "  | Name    | Type       | Params\n",
      "---------------------------------------\n",
      "0 | camadas | Sequential | 937   \n",
      "---------------------------------------\n",
      "937       Trainable params\n",
      "0         Non-trainable params\n",
      "937       Total params\n",
      "0.004     Total estimated model params size (MB)\n",
      "SLURM auto-requeueing enabled. Setting signal handlers.\n"
     ]
    },
    {
     "name": "stdout",
     "output_type": "stream",
     "text": [
      "[117] [0.21682754555542796]\n"
     ]
    },
    {
     "name": "stderr",
     "output_type": "stream",
     "text": [
      "`Trainer.fit` stopped: `max_epochs=100` reached.\n",
      "[I 2024-05-21 08:20:12,038] Trial 90 finished with value: 0.006207684986293316 and parameters: {'n_layers': 1, 'n_units0': 117, 'dropout': 0.21682754555542796}. Best is trial 79 with value: 0.003380507230758667.\n",
      "GPU available: True (cuda), used: True\n",
      "TPU available: False, using: 0 TPU cores\n",
      "IPU available: False, using: 0 IPUs\n",
      "HPU available: False, using: 0 HPUs\n",
      "LOCAL_RANK: 0 - CUDA_VISIBLE_DEVICES: [0]\n",
      "\n",
      "  | Name    | Type       | Params\n",
      "---------------------------------------\n",
      "0 | camadas | Sequential | 873   \n",
      "---------------------------------------\n",
      "873       Trainable params\n",
      "0         Non-trainable params\n",
      "873       Total params\n",
      "0.003     Total estimated model params size (MB)\n",
      "SLURM auto-requeueing enabled. Setting signal handlers.\n"
     ]
    },
    {
     "name": "stdout",
     "output_type": "stream",
     "text": [
      "[109] [0.24485817078732325]\n"
     ]
    },
    {
     "name": "stderr",
     "output_type": "stream",
     "text": [
      "`Trainer.fit` stopped: `max_epochs=100` reached.\n",
      "[I 2024-05-21 08:20:28,289] Trial 91 finished with value: 0.00511532835662365 and parameters: {'n_layers': 1, 'n_units0': 109, 'dropout': 0.24485817078732325}. Best is trial 79 with value: 0.003380507230758667.\n",
      "GPU available: True (cuda), used: True\n",
      "TPU available: False, using: 0 TPU cores\n",
      "IPU available: False, using: 0 IPUs\n",
      "HPU available: False, using: 0 HPUs\n",
      "LOCAL_RANK: 0 - CUDA_VISIBLE_DEVICES: [0]\n",
      "\n",
      "  | Name    | Type       | Params\n",
      "---------------------------------------\n",
      "0 | camadas | Sequential | 913   \n",
      "---------------------------------------\n",
      "913       Trainable params\n",
      "0         Non-trainable params\n",
      "913       Total params\n",
      "0.004     Total estimated model params size (MB)\n",
      "SLURM auto-requeueing enabled. Setting signal handlers.\n"
     ]
    },
    {
     "name": "stdout",
     "output_type": "stream",
     "text": [
      "[114] [0.25066163267266595]\n"
     ]
    },
    {
     "name": "stderr",
     "output_type": "stream",
     "text": [
      "`Trainer.fit` stopped: `max_epochs=100` reached.\n",
      "[I 2024-05-21 08:20:44,765] Trial 92 finished with value: 0.005830768961459398 and parameters: {'n_layers': 1, 'n_units0': 114, 'dropout': 0.25066163267266595}. Best is trial 79 with value: 0.003380507230758667.\n",
      "GPU available: True (cuda), used: True\n",
      "TPU available: False, using: 0 TPU cores\n",
      "IPU available: False, using: 0 IPUs\n",
      "HPU available: False, using: 0 HPUs\n",
      "LOCAL_RANK: 0 - CUDA_VISIBLE_DEVICES: [0]\n",
      "\n",
      "  | Name    | Type       | Params\n",
      "---------------------------------------\n",
      "0 | camadas | Sequential | 945   \n",
      "---------------------------------------\n",
      "945       Trainable params\n",
      "0         Non-trainable params\n",
      "945       Total params\n",
      "0.004     Total estimated model params size (MB)\n",
      "SLURM auto-requeueing enabled. Setting signal handlers.\n"
     ]
    },
    {
     "name": "stdout",
     "output_type": "stream",
     "text": [
      "[118] [0.28020046892385364]\n"
     ]
    },
    {
     "name": "stderr",
     "output_type": "stream",
     "text": [
      "`Trainer.fit` stopped: `max_epochs=100` reached.\n",
      "[I 2024-05-21 08:21:00,265] Trial 93 finished with value: 0.005303707905113697 and parameters: {'n_layers': 1, 'n_units0': 118, 'dropout': 0.28020046892385364}. Best is trial 79 with value: 0.003380507230758667.\n",
      "GPU available: True (cuda), used: True\n",
      "TPU available: False, using: 0 TPU cores\n",
      "IPU available: False, using: 0 IPUs\n",
      "HPU available: False, using: 0 HPUs\n",
      "LOCAL_RANK: 0 - CUDA_VISIBLE_DEVICES: [0]\n",
      "\n",
      "  | Name    | Type       | Params\n",
      "---------------------------------------\n",
      "0 | camadas | Sequential | 817   \n",
      "---------------------------------------\n",
      "817       Trainable params\n",
      "0         Non-trainable params\n",
      "817       Total params\n",
      "0.003     Total estimated model params size (MB)\n",
      "SLURM auto-requeueing enabled. Setting signal handlers.\n"
     ]
    },
    {
     "name": "stdout",
     "output_type": "stream",
     "text": [
      "[102] [0.22395107247364815]\n"
     ]
    },
    {
     "name": "stderr",
     "output_type": "stream",
     "text": [
      "`Trainer.fit` stopped: `max_epochs=100` reached.\n",
      "[I 2024-05-21 08:21:17,544] Trial 94 finished with value: 0.004852889571338892 and parameters: {'n_layers': 1, 'n_units0': 102, 'dropout': 0.22395107247364815}. Best is trial 79 with value: 0.003380507230758667.\n",
      "GPU available: True (cuda), used: True\n",
      "TPU available: False, using: 0 TPU cores\n",
      "IPU available: False, using: 0 IPUs\n",
      "HPU available: False, using: 0 HPUs\n",
      "LOCAL_RANK: 0 - CUDA_VISIBLE_DEVICES: [0]\n",
      "\n",
      "  | Name    | Type       | Params\n",
      "---------------------------------------\n",
      "0 | camadas | Sequential | 961   \n",
      "---------------------------------------\n",
      "961       Trainable params\n",
      "0         Non-trainable params\n",
      "961       Total params\n",
      "0.004     Total estimated model params size (MB)\n",
      "SLURM auto-requeueing enabled. Setting signal handlers.\n"
     ]
    },
    {
     "name": "stdout",
     "output_type": "stream",
     "text": [
      "[120] [0.27343887613455004]\n"
     ]
    },
    {
     "name": "stderr",
     "output_type": "stream",
     "text": [
      "`Trainer.fit` stopped: `max_epochs=100` reached.\n",
      "[I 2024-05-21 08:21:34,571] Trial 95 finished with value: 0.0044617787934839725 and parameters: {'n_layers': 1, 'n_units0': 120, 'dropout': 0.27343887613455004}. Best is trial 79 with value: 0.003380507230758667.\n",
      "GPU available: True (cuda), used: True\n",
      "TPU available: False, using: 0 TPU cores\n",
      "IPU available: False, using: 0 IPUs\n",
      "HPU available: False, using: 0 HPUs\n",
      "LOCAL_RANK: 0 - CUDA_VISIBLE_DEVICES: [0]\n",
      "\n",
      "  | Name    | Type       | Params\n",
      "---------------------------------------\n",
      "0 | camadas | Sequential | 961   \n",
      "---------------------------------------\n",
      "961       Trainable params\n",
      "0         Non-trainable params\n",
      "961       Total params\n",
      "0.004     Total estimated model params size (MB)\n",
      "SLURM auto-requeueing enabled. Setting signal handlers.\n"
     ]
    },
    {
     "name": "stdout",
     "output_type": "stream",
     "text": [
      "[120] [0.26839579242426786]\n"
     ]
    },
    {
     "name": "stderr",
     "output_type": "stream",
     "text": [
      "`Trainer.fit` stopped: `max_epochs=100` reached.\n",
      "[I 2024-05-21 08:21:51,213] Trial 96 finished with value: 0.004068117588758469 and parameters: {'n_layers': 1, 'n_units0': 120, 'dropout': 0.26839579242426786}. Best is trial 79 with value: 0.003380507230758667.\n",
      "GPU available: True (cuda), used: True\n",
      "TPU available: False, using: 0 TPU cores\n",
      "IPU available: False, using: 0 IPUs\n",
      "HPU available: False, using: 0 HPUs\n",
      "LOCAL_RANK: 0 - CUDA_VISIBLE_DEVICES: [0]\n",
      "\n",
      "  | Name    | Type       | Params\n",
      "---------------------------------------\n",
      "0 | camadas | Sequential | 961   \n",
      "---------------------------------------\n",
      "961       Trainable params\n",
      "0         Non-trainable params\n",
      "961       Total params\n",
      "0.004     Total estimated model params size (MB)\n",
      "SLURM auto-requeueing enabled. Setting signal handlers.\n"
     ]
    },
    {
     "name": "stdout",
     "output_type": "stream",
     "text": [
      "[120] [0.2587082929310625]\n"
     ]
    },
    {
     "name": "stderr",
     "output_type": "stream",
     "text": [
      "`Trainer.fit` stopped: `max_epochs=100` reached.\n",
      "[I 2024-05-21 08:22:07,974] Trial 97 finished with value: 0.004322604741901159 and parameters: {'n_layers': 1, 'n_units0': 120, 'dropout': 0.2587082929310625}. Best is trial 79 with value: 0.003380507230758667.\n",
      "GPU available: True (cuda), used: True\n",
      "TPU available: False, using: 0 TPU cores\n",
      "IPU available: False, using: 0 IPUs\n",
      "HPU available: False, using: 0 HPUs\n",
      "LOCAL_RANK: 0 - CUDA_VISIBLE_DEVICES: [0]\n",
      "\n",
      "  | Name    | Type       | Params\n",
      "---------------------------------------\n",
      "0 | camadas | Sequential | 6.3 K \n",
      "---------------------------------------\n",
      "6.3 K     Trainable params\n",
      "0         Non-trainable params\n",
      "6.3 K     Total params\n",
      "0.025     Total estimated model params size (MB)\n",
      "SLURM auto-requeueing enabled. Setting signal handlers.\n"
     ]
    },
    {
     "name": "stdout",
     "output_type": "stream",
     "text": [
      "[115, 24, 104] [0.26554841257537576, 0.26554841257537576, 0.26554841257537576]\n"
     ]
    },
    {
     "name": "stderr",
     "output_type": "stream",
     "text": [
      "`Trainer.fit` stopped: `max_epochs=100` reached.\n",
      "[I 2024-05-21 08:22:27,146] Trial 98 finished with value: 0.014961962588131428 and parameters: {'n_layers': 3, 'n_units0': 115, 'dropout': 0.26554841257537576, 'n_units1': 24, 'n_units2': 104}. Best is trial 79 with value: 0.003380507230758667.\n",
      "GPU available: True (cuda), used: True\n",
      "TPU available: False, using: 0 TPU cores\n",
      "IPU available: False, using: 0 IPUs\n",
      "HPU available: False, using: 0 HPUs\n",
      "LOCAL_RANK: 0 - CUDA_VISIBLE_DEVICES: [0]\n",
      "\n",
      "  | Name    | Type       | Params\n",
      "---------------------------------------\n",
      "0 | camadas | Sequential | 897   \n",
      "---------------------------------------\n",
      "897       Trainable params\n",
      "0         Non-trainable params\n",
      "897       Total params\n",
      "0.004     Total estimated model params size (MB)\n",
      "SLURM auto-requeueing enabled. Setting signal handlers.\n"
     ]
    },
    {
     "name": "stdout",
     "output_type": "stream",
     "text": [
      "[112] [0.2702419581656348]\n"
     ]
    },
    {
     "name": "stderr",
     "output_type": "stream",
     "text": [
      "`Trainer.fit` stopped: `max_epochs=100` reached.\n",
      "[I 2024-05-21 08:22:43,648] Trial 99 finished with value: 0.003854893846437335 and parameters: {'n_layers': 1, 'n_units0': 112, 'dropout': 0.2702419581656348}. Best is trial 79 with value: 0.003380507230758667.\n",
      "GPU available: True (cuda), used: True\n",
      "TPU available: False, using: 0 TPU cores\n",
      "IPU available: False, using: 0 IPUs\n",
      "HPU available: False, using: 0 HPUs\n",
      "LOCAL_RANK: 0 - CUDA_VISIBLE_DEVICES: [0]\n",
      "\n",
      "  | Name    | Type       | Params\n",
      "---------------------------------------\n",
      "0 | camadas | Sequential | 11.1 K\n",
      "---------------------------------------\n",
      "11.1 K    Trainable params\n",
      "0         Non-trainable params\n",
      "11.1 K    Total params\n",
      "0.045     Total estimated model params size (MB)\n",
      "SLURM auto-requeueing enabled. Setting signal handlers.\n"
     ]
    },
    {
     "name": "stdout",
     "output_type": "stream",
     "text": [
      "[113, 90] [0.3071507912120635, 0.3071507912120635]\n"
     ]
    },
    {
     "name": "stderr",
     "output_type": "stream",
     "text": [
      "`Trainer.fit` stopped: `max_epochs=100` reached.\n",
      "[I 2024-05-21 08:23:00,854] Trial 100 finished with value: 0.009157435037195683 and parameters: {'n_layers': 2, 'n_units0': 113, 'dropout': 0.3071507912120635, 'n_units1': 90}. Best is trial 79 with value: 0.003380507230758667.\n",
      "GPU available: True (cuda), used: True\n",
      "TPU available: False, using: 0 TPU cores\n",
      "IPU available: False, using: 0 IPUs\n",
      "HPU available: False, using: 0 HPUs\n",
      "LOCAL_RANK: 0 - CUDA_VISIBLE_DEVICES: [0]\n",
      "\n",
      "  | Name    | Type       | Params\n",
      "---------------------------------------\n",
      "0 | camadas | Sequential | 937   \n",
      "---------------------------------------\n",
      "937       Trainable params\n",
      "0         Non-trainable params\n",
      "937       Total params\n",
      "0.004     Total estimated model params size (MB)\n",
      "SLURM auto-requeueing enabled. Setting signal handlers.\n"
     ]
    },
    {
     "name": "stdout",
     "output_type": "stream",
     "text": [
      "[117] [0.2734006184484247]\n"
     ]
    },
    {
     "name": "stderr",
     "output_type": "stream",
     "text": [
      "`Trainer.fit` stopped: `max_epochs=100` reached.\n",
      "[I 2024-05-21 08:23:18,080] Trial 101 finished with value: 0.0032901824451982975 and parameters: {'n_layers': 1, 'n_units0': 117, 'dropout': 0.2734006184484247}. Best is trial 101 with value: 0.0032901824451982975.\n",
      "GPU available: True (cuda), used: True\n",
      "TPU available: False, using: 0 TPU cores\n",
      "IPU available: False, using: 0 IPUs\n",
      "HPU available: False, using: 0 HPUs\n",
      "LOCAL_RANK: 0 - CUDA_VISIBLE_DEVICES: [0]\n",
      "\n",
      "  | Name    | Type       | Params\n",
      "---------------------------------------\n",
      "0 | camadas | Sequential | 937   \n",
      "---------------------------------------\n",
      "937       Trainable params\n",
      "0         Non-trainable params\n",
      "937       Total params\n",
      "0.004     Total estimated model params size (MB)\n",
      "SLURM auto-requeueing enabled. Setting signal handlers.\n"
     ]
    },
    {
     "name": "stdout",
     "output_type": "stream",
     "text": [
      "[117] [0.28718976431019383]\n"
     ]
    },
    {
     "name": "stderr",
     "output_type": "stream",
     "text": [
      "`Trainer.fit` stopped: `max_epochs=100` reached.\n",
      "[I 2024-05-21 08:23:34,440] Trial 102 finished with value: 0.0046319616958498955 and parameters: {'n_layers': 1, 'n_units0': 117, 'dropout': 0.28718976431019383}. Best is trial 101 with value: 0.0032901824451982975.\n",
      "GPU available: True (cuda), used: True\n",
      "TPU available: False, using: 0 TPU cores\n",
      "IPU available: False, using: 0 IPUs\n",
      "HPU available: False, using: 0 HPUs\n",
      "LOCAL_RANK: 0 - CUDA_VISIBLE_DEVICES: [0]\n",
      "\n",
      "  | Name    | Type       | Params\n",
      "---------------------------------------\n",
      "0 | camadas | Sequential | 873   \n",
      "---------------------------------------\n",
      "873       Trainable params\n",
      "0         Non-trainable params\n",
      "873       Total params\n",
      "0.003     Total estimated model params size (MB)\n",
      "SLURM auto-requeueing enabled. Setting signal handlers.\n"
     ]
    },
    {
     "name": "stdout",
     "output_type": "stream",
     "text": [
      "[109] [0.2712930855969473]\n"
     ]
    },
    {
     "name": "stderr",
     "output_type": "stream",
     "text": [
      "`Trainer.fit` stopped: `max_epochs=100` reached.\n",
      "[I 2024-05-21 08:23:51,101] Trial 103 finished with value: 0.0057451254688203335 and parameters: {'n_layers': 1, 'n_units0': 109, 'dropout': 0.2712930855969473}. Best is trial 101 with value: 0.0032901824451982975.\n",
      "GPU available: True (cuda), used: True\n",
      "TPU available: False, using: 0 TPU cores\n",
      "IPU available: False, using: 0 IPUs\n",
      "HPU available: False, using: 0 HPUs\n",
      "LOCAL_RANK: 0 - CUDA_VISIBLE_DEVICES: [0]\n",
      "\n",
      "  | Name    | Type       | Params\n",
      "---------------------------------------\n",
      "0 | camadas | Sequential | 897   \n",
      "---------------------------------------\n",
      "897       Trainable params\n",
      "0         Non-trainable params\n",
      "897       Total params\n",
      "0.004     Total estimated model params size (MB)\n",
      "SLURM auto-requeueing enabled. Setting signal handlers.\n"
     ]
    },
    {
     "name": "stdout",
     "output_type": "stream",
     "text": [
      "[112] [0.2562875782881737]\n"
     ]
    },
    {
     "name": "stderr",
     "output_type": "stream",
     "text": [
      "`Trainer.fit` stopped: `max_epochs=100` reached.\n",
      "[I 2024-05-21 08:24:07,537] Trial 104 finished with value: 0.003752407617866993 and parameters: {'n_layers': 1, 'n_units0': 112, 'dropout': 0.2562875782881737}. Best is trial 101 with value: 0.0032901824451982975.\n",
      "GPU available: True (cuda), used: True\n",
      "TPU available: False, using: 0 TPU cores\n",
      "IPU available: False, using: 0 IPUs\n",
      "HPU available: False, using: 0 HPUs\n",
      "LOCAL_RANK: 0 - CUDA_VISIBLE_DEVICES: [0]\n",
      "\n",
      "  | Name    | Type       | Params\n",
      "---------------------------------------\n",
      "0 | camadas | Sequential | 897   \n",
      "---------------------------------------\n",
      "897       Trainable params\n",
      "0         Non-trainable params\n",
      "897       Total params\n",
      "0.004     Total estimated model params size (MB)\n",
      "SLURM auto-requeueing enabled. Setting signal handlers.\n"
     ]
    },
    {
     "name": "stdout",
     "output_type": "stream",
     "text": [
      "[112] [0.2615075789918159]\n"
     ]
    },
    {
     "name": "stderr",
     "output_type": "stream",
     "text": [
      "`Trainer.fit` stopped: `max_epochs=100` reached.\n",
      "[I 2024-05-21 08:24:24,182] Trial 105 finished with value: 0.005541063379496336 and parameters: {'n_layers': 1, 'n_units0': 112, 'dropout': 0.2615075789918159}. Best is trial 101 with value: 0.0032901824451982975.\n",
      "GPU available: True (cuda), used: True\n",
      "TPU available: False, using: 0 TPU cores\n",
      "IPU available: False, using: 0 IPUs\n",
      "HPU available: False, using: 0 HPUs\n",
      "LOCAL_RANK: 0 - CUDA_VISIBLE_DEVICES: [0]\n",
      "\n",
      "  | Name    | Type       | Params\n",
      "---------------------------------------\n",
      "0 | camadas | Sequential | 849   \n",
      "---------------------------------------\n",
      "849       Trainable params\n",
      "0         Non-trainable params\n",
      "849       Total params\n",
      "0.003     Total estimated model params size (MB)\n",
      "SLURM auto-requeueing enabled. Setting signal handlers.\n"
     ]
    },
    {
     "name": "stdout",
     "output_type": "stream",
     "text": [
      "[106] [0.2827392802608635]\n"
     ]
    },
    {
     "name": "stderr",
     "output_type": "stream",
     "text": [
      "`Trainer.fit` stopped: `max_epochs=100` reached.\n",
      "[I 2024-05-21 08:24:40,833] Trial 106 finished with value: 0.004254249390214682 and parameters: {'n_layers': 1, 'n_units0': 106, 'dropout': 0.2827392802608635}. Best is trial 101 with value: 0.0032901824451982975.\n",
      "GPU available: True (cuda), used: True\n",
      "TPU available: False, using: 0 TPU cores\n",
      "IPU available: False, using: 0 IPUs\n",
      "HPU available: False, using: 0 HPUs\n",
      "LOCAL_RANK: 0 - CUDA_VISIBLE_DEVICES: [0]\n",
      "\n",
      "  | Name    | Type       | Params\n",
      "---------------------------------------\n",
      "0 | camadas | Sequential | 841   \n",
      "---------------------------------------\n",
      "841       Trainable params\n",
      "0         Non-trainable params\n",
      "841       Total params\n",
      "0.003     Total estimated model params size (MB)\n",
      "SLURM auto-requeueing enabled. Setting signal handlers.\n"
     ]
    },
    {
     "name": "stdout",
     "output_type": "stream",
     "text": [
      "[105] [0.293036020056862]\n"
     ]
    },
    {
     "name": "stderr",
     "output_type": "stream",
     "text": [
      "`Trainer.fit` stopped: `max_epochs=100` reached.\n",
      "[I 2024-05-21 08:24:57,294] Trial 107 finished with value: 0.004686141386628151 and parameters: {'n_layers': 1, 'n_units0': 105, 'dropout': 0.293036020056862}. Best is trial 101 with value: 0.0032901824451982975.\n",
      "GPU available: True (cuda), used: True\n",
      "TPU available: False, using: 0 TPU cores\n",
      "IPU available: False, using: 0 IPUs\n",
      "HPU available: False, using: 0 HPUs\n",
      "LOCAL_RANK: 0 - CUDA_VISIBLE_DEVICES: [0]\n",
      "\n",
      "  | Name    | Type       | Params\n",
      "---------------------------------------\n",
      "0 | camadas | Sequential | 857   \n",
      "---------------------------------------\n",
      "857       Trainable params\n",
      "0         Non-trainable params\n",
      "857       Total params\n",
      "0.003     Total estimated model params size (MB)\n",
      "SLURM auto-requeueing enabled. Setting signal handlers.\n"
     ]
    },
    {
     "name": "stdout",
     "output_type": "stream",
     "text": [
      "[107] [0.3040339166483569]\n"
     ]
    },
    {
     "name": "stderr",
     "output_type": "stream",
     "text": [
      "`Trainer.fit` stopped: `max_epochs=100` reached.\n",
      "[I 2024-05-21 08:25:13,737] Trial 108 finished with value: 0.005199620500206947 and parameters: {'n_layers': 1, 'n_units0': 107, 'dropout': 0.3040339166483569}. Best is trial 101 with value: 0.0032901824451982975.\n",
      "GPU available: True (cuda), used: True\n",
      "TPU available: False, using: 0 TPU cores\n",
      "IPU available: False, using: 0 IPUs\n",
      "HPU available: False, using: 0 HPUs\n",
      "LOCAL_RANK: 0 - CUDA_VISIBLE_DEVICES: [0]\n",
      "\n",
      "  | Name    | Type       | Params\n",
      "---------------------------------------\n",
      "0 | camadas | Sequential | 889   \n",
      "---------------------------------------\n",
      "889       Trainable params\n",
      "0         Non-trainable params\n",
      "889       Total params\n",
      "0.004     Total estimated model params size (MB)\n",
      "SLURM auto-requeueing enabled. Setting signal handlers.\n"
     ]
    },
    {
     "name": "stdout",
     "output_type": "stream",
     "text": [
      "[111] [0.2810697564122535]\n"
     ]
    },
    {
     "name": "stderr",
     "output_type": "stream",
     "text": [
      "`Trainer.fit` stopped: `max_epochs=100` reached.\n",
      "[I 2024-05-21 08:25:30,622] Trial 109 finished with value: 0.004254916682839394 and parameters: {'n_layers': 1, 'n_units0': 111, 'dropout': 0.2810697564122535}. Best is trial 101 with value: 0.0032901824451982975.\n",
      "GPU available: True (cuda), used: True\n",
      "TPU available: False, using: 0 TPU cores\n",
      "IPU available: False, using: 0 IPUs\n",
      "HPU available: False, using: 0 HPUs\n",
      "LOCAL_RANK: 0 - CUDA_VISIBLE_DEVICES: [0]\n",
      "\n",
      "  | Name    | Type       | Params\n",
      "---------------------------------------\n",
      "0 | camadas | Sequential | 825   \n",
      "---------------------------------------\n",
      "825       Trainable params\n",
      "0         Non-trainable params\n",
      "825       Total params\n",
      "0.003     Total estimated model params size (MB)\n",
      "SLURM auto-requeueing enabled. Setting signal handlers.\n"
     ]
    },
    {
     "name": "stdout",
     "output_type": "stream",
     "text": [
      "[103] [0.26979209572332946]\n"
     ]
    },
    {
     "name": "stderr",
     "output_type": "stream",
     "text": [
      "`Trainer.fit` stopped: `max_epochs=100` reached.\n",
      "[I 2024-05-21 08:25:47,630] Trial 110 finished with value: 0.005389079451560974 and parameters: {'n_layers': 1, 'n_units0': 103, 'dropout': 0.26979209572332946}. Best is trial 101 with value: 0.0032901824451982975.\n",
      "GPU available: True (cuda), used: True\n",
      "TPU available: False, using: 0 TPU cores\n",
      "IPU available: False, using: 0 IPUs\n",
      "HPU available: False, using: 0 HPUs\n",
      "LOCAL_RANK: 0 - CUDA_VISIBLE_DEVICES: [0]\n",
      "\n",
      "  | Name    | Type       | Params\n",
      "---------------------------------------\n",
      "0 | camadas | Sequential | 921   \n",
      "---------------------------------------\n",
      "921       Trainable params\n",
      "0         Non-trainable params\n",
      "921       Total params\n",
      "0.004     Total estimated model params size (MB)\n",
      "SLURM auto-requeueing enabled. Setting signal handlers.\n"
     ]
    },
    {
     "name": "stdout",
     "output_type": "stream",
     "text": [
      "[115] [0.27984105713791496]\n"
     ]
    },
    {
     "name": "stderr",
     "output_type": "stream",
     "text": [
      "`Trainer.fit` stopped: `max_epochs=100` reached.\n",
      "[I 2024-05-21 08:26:04,818] Trial 111 finished with value: 0.00637847138568759 and parameters: {'n_layers': 1, 'n_units0': 115, 'dropout': 0.27984105713791496}. Best is trial 101 with value: 0.0032901824451982975.\n",
      "GPU available: True (cuda), used: True\n",
      "TPU available: False, using: 0 TPU cores\n",
      "IPU available: False, using: 0 IPUs\n",
      "HPU available: False, using: 0 HPUs\n",
      "LOCAL_RANK: 0 - CUDA_VISIBLE_DEVICES: [0]\n",
      "\n",
      "  | Name    | Type       | Params\n",
      "---------------------------------------\n",
      "0 | camadas | Sequential | 889   \n",
      "---------------------------------------\n",
      "889       Trainable params\n",
      "0         Non-trainable params\n",
      "889       Total params\n",
      "0.004     Total estimated model params size (MB)\n",
      "SLURM auto-requeueing enabled. Setting signal handlers.\n"
     ]
    },
    {
     "name": "stdout",
     "output_type": "stream",
     "text": [
      "[111] [0.2839505627505019]\n"
     ]
    },
    {
     "name": "stderr",
     "output_type": "stream",
     "text": [
      "`Trainer.fit` stopped: `max_epochs=100` reached.\n",
      "[I 2024-05-21 08:26:21,621] Trial 112 finished with value: 0.0051580737344920635 and parameters: {'n_layers': 1, 'n_units0': 111, 'dropout': 0.2839505627505019}. Best is trial 101 with value: 0.0032901824451982975.\n",
      "GPU available: True (cuda), used: True\n",
      "TPU available: False, using: 0 TPU cores\n",
      "IPU available: False, using: 0 IPUs\n",
      "HPU available: False, using: 0 HPUs\n",
      "LOCAL_RANK: 0 - CUDA_VISIBLE_DEVICES: [0]\n",
      "\n",
      "  | Name    | Type       | Params\n",
      "---------------------------------------\n",
      "0 | camadas | Sequential | 873   \n",
      "---------------------------------------\n",
      "873       Trainable params\n",
      "0         Non-trainable params\n",
      "873       Total params\n",
      "0.003     Total estimated model params size (MB)\n",
      "SLURM auto-requeueing enabled. Setting signal handlers.\n"
     ]
    },
    {
     "name": "stdout",
     "output_type": "stream",
     "text": [
      "[109] [0.24826588863109503]\n"
     ]
    },
    {
     "name": "stderr",
     "output_type": "stream",
     "text": [
      "`Trainer.fit` stopped: `max_epochs=100` reached.\n",
      "[I 2024-05-21 08:26:38,214] Trial 113 finished with value: 0.004693415481597185 and parameters: {'n_layers': 1, 'n_units0': 109, 'dropout': 0.24826588863109503}. Best is trial 101 with value: 0.0032901824451982975.\n",
      "GPU available: True (cuda), used: True\n",
      "TPU available: False, using: 0 TPU cores\n",
      "IPU available: False, using: 0 IPUs\n",
      "HPU available: False, using: 0 HPUs\n",
      "LOCAL_RANK: 0 - CUDA_VISIBLE_DEVICES: [0]\n",
      "\n",
      "  | Name    | Type       | Params\n",
      "---------------------------------------\n",
      "0 | camadas | Sequential | 913   \n",
      "---------------------------------------\n",
      "913       Trainable params\n",
      "0         Non-trainable params\n",
      "913       Total params\n",
      "0.004     Total estimated model params size (MB)\n",
      "SLURM auto-requeueing enabled. Setting signal handlers.\n"
     ]
    },
    {
     "name": "stdout",
     "output_type": "stream",
     "text": [
      "[114] [0.2948120107551802]\n"
     ]
    },
    {
     "name": "stderr",
     "output_type": "stream",
     "text": [
      "`Trainer.fit` stopped: `max_epochs=100` reached.\n",
      "[I 2024-05-21 08:26:54,685] Trial 114 finished with value: 0.007637768983840942 and parameters: {'n_layers': 1, 'n_units0': 114, 'dropout': 0.2948120107551802}. Best is trial 101 with value: 0.0032901824451982975.\n",
      "GPU available: True (cuda), used: True\n",
      "TPU available: False, using: 0 TPU cores\n",
      "IPU available: False, using: 0 IPUs\n",
      "HPU available: False, using: 0 HPUs\n",
      "LOCAL_RANK: 0 - CUDA_VISIBLE_DEVICES: [0]\n",
      "\n",
      "  | Name    | Type       | Params\n",
      "---------------------------------------\n",
      "0 | camadas | Sequential | 793   \n",
      "---------------------------------------\n",
      "793       Trainable params\n",
      "0         Non-trainable params\n",
      "793       Total params\n",
      "0.003     Total estimated model params size (MB)\n",
      "SLURM auto-requeueing enabled. Setting signal handlers.\n"
     ]
    },
    {
     "name": "stdout",
     "output_type": "stream",
     "text": [
      "[99] [0.26353781517548175]\n"
     ]
    },
    {
     "name": "stderr",
     "output_type": "stream",
     "text": [
      "`Trainer.fit` stopped: `max_epochs=100` reached.\n",
      "[I 2024-05-21 08:27:11,013] Trial 115 finished with value: 0.004976494703441858 and parameters: {'n_layers': 1, 'n_units0': 99, 'dropout': 0.26353781517548175}. Best is trial 101 with value: 0.0032901824451982975.\n",
      "GPU available: True (cuda), used: True\n",
      "TPU available: False, using: 0 TPU cores\n",
      "IPU available: False, using: 0 IPUs\n",
      "HPU available: False, using: 0 HPUs\n",
      "LOCAL_RANK: 0 - CUDA_VISIBLE_DEVICES: [0]\n",
      "\n",
      "  | Name    | Type       | Params\n",
      "---------------------------------------\n",
      "0 | camadas | Sequential | 889   \n",
      "---------------------------------------\n",
      "889       Trainable params\n",
      "0         Non-trainable params\n",
      "889       Total params\n",
      "0.004     Total estimated model params size (MB)\n",
      "SLURM auto-requeueing enabled. Setting signal handlers.\n"
     ]
    },
    {
     "name": "stdout",
     "output_type": "stream",
     "text": [
      "[111] [0.3670929517352624]\n"
     ]
    },
    {
     "name": "stderr",
     "output_type": "stream",
     "text": [
      "`Trainer.fit` stopped: `max_epochs=100` reached.\n",
      "[I 2024-05-21 08:27:27,558] Trial 116 finished with value: 0.006619669031351805 and parameters: {'n_layers': 1, 'n_units0': 111, 'dropout': 0.3670929517352624}. Best is trial 101 with value: 0.0032901824451982975.\n",
      "GPU available: True (cuda), used: True\n",
      "TPU available: False, using: 0 TPU cores\n",
      "IPU available: False, using: 0 IPUs\n",
      "HPU available: False, using: 0 HPUs\n",
      "LOCAL_RANK: 0 - CUDA_VISIBLE_DEVICES: [0]\n",
      "\n",
      "  | Name    | Type       | Params\n",
      "---------------------------------------\n",
      "0 | camadas | Sequential | 857   \n",
      "---------------------------------------\n",
      "857       Trainable params\n",
      "0         Non-trainable params\n",
      "857       Total params\n",
      "0.003     Total estimated model params size (MB)\n",
      "SLURM auto-requeueing enabled. Setting signal handlers.\n"
     ]
    },
    {
     "name": "stdout",
     "output_type": "stream",
     "text": [
      "[107] [0.24056219786780855]\n"
     ]
    },
    {
     "name": "stderr",
     "output_type": "stream",
     "text": [
      "`Trainer.fit` stopped: `max_epochs=100` reached.\n",
      "[I 2024-05-21 08:27:44,255] Trial 117 finished with value: 0.005468705669045448 and parameters: {'n_layers': 1, 'n_units0': 107, 'dropout': 0.24056219786780855}. Best is trial 101 with value: 0.0032901824451982975.\n",
      "GPU available: True (cuda), used: True\n",
      "TPU available: False, using: 0 TPU cores\n",
      "IPU available: False, using: 0 IPUs\n",
      "HPU available: False, using: 0 HPUs\n",
      "LOCAL_RANK: 0 - CUDA_VISIBLE_DEVICES: [0]\n",
      "\n",
      "  | Name    | Type       | Params\n",
      "---------------------------------------\n",
      "0 | camadas | Sequential | 929   \n",
      "---------------------------------------\n",
      "929       Trainable params\n",
      "0         Non-trainable params\n",
      "929       Total params\n",
      "0.004     Total estimated model params size (MB)\n",
      "SLURM auto-requeueing enabled. Setting signal handlers.\n"
     ]
    },
    {
     "name": "stdout",
     "output_type": "stream",
     "text": [
      "[116] [0.2721676114682386]\n"
     ]
    },
    {
     "name": "stderr",
     "output_type": "stream",
     "text": [
      "`Trainer.fit` stopped: `max_epochs=100` reached.\n",
      "[I 2024-05-21 08:28:00,090] Trial 118 finished with value: 0.004544899798929691 and parameters: {'n_layers': 1, 'n_units0': 116, 'dropout': 0.2721676114682386}. Best is trial 101 with value: 0.0032901824451982975.\n",
      "GPU available: True (cuda), used: True\n",
      "TPU available: False, using: 0 TPU cores\n",
      "IPU available: False, using: 0 IPUs\n",
      "HPU available: False, using: 0 HPUs\n",
      "LOCAL_RANK: 0 - CUDA_VISIBLE_DEVICES: [0]\n",
      "\n",
      "  | Name    | Type       | Params\n",
      "---------------------------------------\n",
      "0 | camadas | Sequential | 233   \n",
      "---------------------------------------\n",
      "233       Trainable params\n",
      "0         Non-trainable params\n",
      "233       Total params\n",
      "0.001     Total estimated model params size (MB)\n",
      "SLURM auto-requeueing enabled. Setting signal handlers.\n"
     ]
    },
    {
     "name": "stdout",
     "output_type": "stream",
     "text": [
      "[29] [0.2328141867267457]\n"
     ]
    },
    {
     "name": "stderr",
     "output_type": "stream",
     "text": [
      "`Trainer.fit` stopped: `max_epochs=100` reached.\n",
      "[I 2024-05-21 08:28:16,584] Trial 119 finished with value: 0.007076914422214031 and parameters: {'n_layers': 1, 'n_units0': 29, 'dropout': 0.2328141867267457}. Best is trial 101 with value: 0.0032901824451982975.\n",
      "GPU available: True (cuda), used: True\n",
      "TPU available: False, using: 0 TPU cores\n",
      "IPU available: False, using: 0 IPUs\n",
      "HPU available: False, using: 0 HPUs\n",
      "LOCAL_RANK: 0 - CUDA_VISIBLE_DEVICES: [0]\n",
      "\n",
      "  | Name    | Type       | Params\n",
      "---------------------------------------\n",
      "0 | camadas | Sequential | 833   \n",
      "---------------------------------------\n",
      "833       Trainable params\n",
      "0         Non-trainable params\n",
      "833       Total params\n",
      "0.003     Total estimated model params size (MB)\n",
      "SLURM auto-requeueing enabled. Setting signal handlers.\n"
     ]
    },
    {
     "name": "stdout",
     "output_type": "stream",
     "text": [
      "[104] [0.2555541901301756]\n"
     ]
    },
    {
     "name": "stderr",
     "output_type": "stream",
     "text": [
      "`Trainer.fit` stopped: `max_epochs=100` reached.\n",
      "[I 2024-05-21 08:28:32,847] Trial 120 finished with value: 0.005291553679853678 and parameters: {'n_layers': 1, 'n_units0': 104, 'dropout': 0.2555541901301756}. Best is trial 101 with value: 0.0032901824451982975.\n",
      "GPU available: True (cuda), used: True\n",
      "TPU available: False, using: 0 TPU cores\n",
      "IPU available: False, using: 0 IPUs\n",
      "HPU available: False, using: 0 HPUs\n",
      "LOCAL_RANK: 0 - CUDA_VISIBLE_DEVICES: [0]\n",
      "\n",
      "  | Name    | Type       | Params\n",
      "---------------------------------------\n",
      "0 | camadas | Sequential | 961   \n",
      "---------------------------------------\n",
      "961       Trainable params\n",
      "0         Non-trainable params\n",
      "961       Total params\n",
      "0.004     Total estimated model params size (MB)\n",
      "SLURM auto-requeueing enabled. Setting signal handlers.\n"
     ]
    },
    {
     "name": "stdout",
     "output_type": "stream",
     "text": [
      "[120] [0.2594881750339814]\n"
     ]
    },
    {
     "name": "stderr",
     "output_type": "stream",
     "text": [
      "`Trainer.fit` stopped: `max_epochs=100` reached.\n",
      "[I 2024-05-21 08:28:49,089] Trial 121 finished with value: 0.004632194526493549 and parameters: {'n_layers': 1, 'n_units0': 120, 'dropout': 0.2594881750339814}. Best is trial 101 with value: 0.0032901824451982975.\n",
      "GPU available: True (cuda), used: True\n",
      "TPU available: False, using: 0 TPU cores\n",
      "IPU available: False, using: 0 IPUs\n",
      "HPU available: False, using: 0 HPUs\n",
      "LOCAL_RANK: 0 - CUDA_VISIBLE_DEVICES: [0]\n",
      "\n",
      "  | Name    | Type       | Params\n",
      "---------------------------------------\n",
      "0 | camadas | Sequential | 905   \n",
      "---------------------------------------\n",
      "905       Trainable params\n",
      "0         Non-trainable params\n",
      "905       Total params\n",
      "0.004     Total estimated model params size (MB)\n",
      "SLURM auto-requeueing enabled. Setting signal handlers.\n"
     ]
    },
    {
     "name": "stdout",
     "output_type": "stream",
     "text": [
      "[113] [0.250161060886265]\n"
     ]
    },
    {
     "name": "stderr",
     "output_type": "stream",
     "text": [
      "`Trainer.fit` stopped: `max_epochs=100` reached.\n",
      "[I 2024-05-21 08:29:05,641] Trial 122 finished with value: 0.0049463724717497826 and parameters: {'n_layers': 1, 'n_units0': 113, 'dropout': 0.250161060886265}. Best is trial 101 with value: 0.0032901824451982975.\n",
      "GPU available: True (cuda), used: True\n",
      "TPU available: False, using: 0 TPU cores\n",
      "IPU available: False, using: 0 IPUs\n",
      "HPU available: False, using: 0 HPUs\n",
      "LOCAL_RANK: 0 - CUDA_VISIBLE_DEVICES: [0]\n",
      "\n",
      "  | Name    | Type       | Params\n",
      "---------------------------------------\n",
      "0 | camadas | Sequential | 937   \n",
      "---------------------------------------\n",
      "937       Trainable params\n",
      "0         Non-trainable params\n",
      "937       Total params\n",
      "0.004     Total estimated model params size (MB)\n",
      "SLURM auto-requeueing enabled. Setting signal handlers.\n"
     ]
    },
    {
     "name": "stdout",
     "output_type": "stream",
     "text": [
      "[117] [0.2890718092402263]\n"
     ]
    },
    {
     "name": "stderr",
     "output_type": "stream",
     "text": [
      "`Trainer.fit` stopped: `max_epochs=100` reached.\n",
      "[I 2024-05-21 08:29:21,789] Trial 123 finished with value: 0.0054584103636443615 and parameters: {'n_layers': 1, 'n_units0': 117, 'dropout': 0.2890718092402263}. Best is trial 101 with value: 0.0032901824451982975.\n",
      "GPU available: True (cuda), used: True\n",
      "TPU available: False, using: 0 TPU cores\n",
      "IPU available: False, using: 0 IPUs\n",
      "HPU available: False, using: 0 HPUs\n",
      "LOCAL_RANK: 0 - CUDA_VISIBLE_DEVICES: [0]\n",
      "\n",
      "  | Name    | Type       | Params\n",
      "---------------------------------------\n",
      "0 | camadas | Sequential | 945   \n",
      "---------------------------------------\n",
      "945       Trainable params\n",
      "0         Non-trainable params\n",
      "945       Total params\n",
      "0.004     Total estimated model params size (MB)\n",
      "SLURM auto-requeueing enabled. Setting signal handlers.\n"
     ]
    },
    {
     "name": "stdout",
     "output_type": "stream",
     "text": [
      "[118] [0.2433498894193148]\n"
     ]
    },
    {
     "name": "stderr",
     "output_type": "stream",
     "text": [
      "`Trainer.fit` stopped: `max_epochs=100` reached.\n",
      "[I 2024-05-21 08:29:38,246] Trial 124 finished with value: 0.0056798155419528484 and parameters: {'n_layers': 1, 'n_units0': 118, 'dropout': 0.2433498894193148}. Best is trial 101 with value: 0.0032901824451982975.\n",
      "GPU available: True (cuda), used: True\n",
      "TPU available: False, using: 0 TPU cores\n",
      "IPU available: False, using: 0 IPUs\n",
      "HPU available: False, using: 0 HPUs\n",
      "LOCAL_RANK: 0 - CUDA_VISIBLE_DEVICES: [0]\n",
      "\n",
      "  | Name    | Type       | Params\n",
      "---------------------------------------\n",
      "0 | camadas | Sequential | 881   \n",
      "---------------------------------------\n",
      "881       Trainable params\n",
      "0         Non-trainable params\n",
      "881       Total params\n",
      "0.004     Total estimated model params size (MB)\n",
      "SLURM auto-requeueing enabled. Setting signal handlers.\n"
     ]
    },
    {
     "name": "stdout",
     "output_type": "stream",
     "text": [
      "[110] [0.25819065766614774]\n"
     ]
    },
    {
     "name": "stderr",
     "output_type": "stream",
     "text": [
      "`Trainer.fit` stopped: `max_epochs=100` reached.\n",
      "[I 2024-05-21 08:29:54,723] Trial 125 finished with value: 0.006063874810934067 and parameters: {'n_layers': 1, 'n_units0': 110, 'dropout': 0.25819065766614774}. Best is trial 101 with value: 0.0032901824451982975.\n",
      "GPU available: True (cuda), used: True\n",
      "TPU available: False, using: 0 TPU cores\n",
      "IPU available: False, using: 0 IPUs\n",
      "HPU available: False, using: 0 HPUs\n",
      "LOCAL_RANK: 0 - CUDA_VISIBLE_DEVICES: [0]\n",
      "\n",
      "  | Name    | Type       | Params\n",
      "---------------------------------------\n",
      "0 | camadas | Sequential | 921   \n",
      "---------------------------------------\n",
      "921       Trainable params\n",
      "0         Non-trainable params\n",
      "921       Total params\n",
      "0.004     Total estimated model params size (MB)\n",
      "SLURM auto-requeueing enabled. Setting signal handlers.\n"
     ]
    },
    {
     "name": "stdout",
     "output_type": "stream",
     "text": [
      "[115] [0.28149036810296396]\n"
     ]
    },
    {
     "name": "stderr",
     "output_type": "stream",
     "text": [
      "`Trainer.fit` stopped: `max_epochs=100` reached.\n",
      "[I 2024-05-21 08:30:11,508] Trial 126 finished with value: 0.004482408054172993 and parameters: {'n_layers': 1, 'n_units0': 115, 'dropout': 0.28149036810296396}. Best is trial 101 with value: 0.0032901824451982975.\n",
      "GPU available: True (cuda), used: True\n",
      "TPU available: False, using: 0 TPU cores\n",
      "IPU available: False, using: 0 IPUs\n",
      "HPU available: False, using: 0 HPUs\n",
      "LOCAL_RANK: 0 - CUDA_VISIBLE_DEVICES: [0]\n",
      "\n",
      "  | Name    | Type       | Params\n",
      "---------------------------------------\n",
      "0 | camadas | Sequential | 153   \n",
      "---------------------------------------\n",
      "153       Trainable params\n",
      "0         Non-trainable params\n",
      "153       Total params\n",
      "0.001     Total estimated model params size (MB)\n",
      "SLURM auto-requeueing enabled. Setting signal handlers.\n"
     ]
    },
    {
     "name": "stdout",
     "output_type": "stream",
     "text": [
      "[19] [0.2692486798471727]\n"
     ]
    },
    {
     "name": "stderr",
     "output_type": "stream",
     "text": [
      "`Trainer.fit` stopped: `max_epochs=100` reached.\n",
      "[I 2024-05-21 08:30:28,268] Trial 127 finished with value: 0.008484341204166412 and parameters: {'n_layers': 1, 'n_units0': 19, 'dropout': 0.2692486798471727}. Best is trial 101 with value: 0.0032901824451982975.\n",
      "GPU available: True (cuda), used: True\n",
      "TPU available: False, using: 0 TPU cores\n",
      "IPU available: False, using: 0 IPUs\n",
      "HPU available: False, using: 0 HPUs\n",
      "LOCAL_RANK: 0 - CUDA_VISIBLE_DEVICES: [0]\n",
      "\n",
      "  | Name    | Type       | Params\n",
      "---------------------------------------\n",
      "0 | camadas | Sequential | 897   \n",
      "---------------------------------------\n",
      "897       Trainable params\n",
      "0         Non-trainable params\n",
      "897       Total params\n",
      "0.004     Total estimated model params size (MB)\n",
      "SLURM auto-requeueing enabled. Setting signal handlers.\n"
     ]
    },
    {
     "name": "stdout",
     "output_type": "stream",
     "text": [
      "[112] [0.23723430739494694]\n"
     ]
    },
    {
     "name": "stderr",
     "output_type": "stream",
     "text": [
      "`Trainer.fit` stopped: `max_epochs=100` reached.\n",
      "[I 2024-05-21 08:30:45,177] Trial 128 finished with value: 0.006280017551034689 and parameters: {'n_layers': 1, 'n_units0': 112, 'dropout': 0.23723430739494694}. Best is trial 101 with value: 0.0032901824451982975.\n",
      "GPU available: True (cuda), used: True\n",
      "TPU available: False, using: 0 TPU cores\n",
      "IPU available: False, using: 0 IPUs\n",
      "HPU available: False, using: 0 HPUs\n",
      "LOCAL_RANK: 0 - CUDA_VISIBLE_DEVICES: [0]\n",
      "\n",
      "  | Name    | Type       | Params\n",
      "---------------------------------------\n",
      "0 | camadas | Sequential | 857   \n",
      "---------------------------------------\n",
      "857       Trainable params\n",
      "0         Non-trainable params\n",
      "857       Total params\n",
      "0.003     Total estimated model params size (MB)\n",
      "SLURM auto-requeueing enabled. Setting signal handlers.\n"
     ]
    },
    {
     "name": "stdout",
     "output_type": "stream",
     "text": [
      "[107] [0.37885236525277133]\n"
     ]
    },
    {
     "name": "stderr",
     "output_type": "stream",
     "text": [
      "`Trainer.fit` stopped: `max_epochs=100` reached.\n",
      "[I 2024-05-21 08:31:01,760] Trial 129 finished with value: 0.004285374190658331 and parameters: {'n_layers': 1, 'n_units0': 107, 'dropout': 0.37885236525277133}. Best is trial 101 with value: 0.0032901824451982975.\n",
      "GPU available: True (cuda), used: True\n",
      "TPU available: False, using: 0 TPU cores\n",
      "IPU available: False, using: 0 IPUs\n",
      "HPU available: False, using: 0 HPUs\n",
      "LOCAL_RANK: 0 - CUDA_VISIBLE_DEVICES: [0]\n",
      "\n",
      "  | Name    | Type       | Params\n",
      "---------------------------------------\n",
      "0 | camadas | Sequential | 857   \n",
      "---------------------------------------\n",
      "857       Trainable params\n",
      "0         Non-trainable params\n",
      "857       Total params\n",
      "0.003     Total estimated model params size (MB)\n",
      "SLURM auto-requeueing enabled. Setting signal handlers.\n"
     ]
    },
    {
     "name": "stdout",
     "output_type": "stream",
     "text": [
      "[107] [0.39317149688673375]\n"
     ]
    },
    {
     "name": "stderr",
     "output_type": "stream",
     "text": [
      "`Trainer.fit` stopped: `max_epochs=100` reached.\n",
      "[I 2024-05-21 08:31:18,489] Trial 130 finished with value: 0.004990984220057726 and parameters: {'n_layers': 1, 'n_units0': 107, 'dropout': 0.39317149688673375}. Best is trial 101 with value: 0.0032901824451982975.\n",
      "GPU available: True (cuda), used: True\n",
      "TPU available: False, using: 0 TPU cores\n",
      "IPU available: False, using: 0 IPUs\n",
      "HPU available: False, using: 0 HPUs\n",
      "LOCAL_RANK: 0 - CUDA_VISIBLE_DEVICES: [0]\n",
      "\n",
      "  | Name    | Type       | Params\n",
      "---------------------------------------\n",
      "0 | camadas | Sequential | 945   \n",
      "---------------------------------------\n",
      "945       Trainable params\n",
      "0         Non-trainable params\n",
      "945       Total params\n",
      "0.004     Total estimated model params size (MB)\n",
      "SLURM auto-requeueing enabled. Setting signal handlers.\n"
     ]
    },
    {
     "name": "stdout",
     "output_type": "stream",
     "text": [
      "[118] [0.3782187807087252]\n"
     ]
    },
    {
     "name": "stderr",
     "output_type": "stream",
     "text": [
      "`Trainer.fit` stopped: `max_epochs=100` reached.\n",
      "[I 2024-05-21 08:31:34,570] Trial 131 finished with value: 0.005283717531710863 and parameters: {'n_layers': 1, 'n_units0': 118, 'dropout': 0.3782187807087252}. Best is trial 101 with value: 0.0032901824451982975.\n",
      "GPU available: True (cuda), used: True\n",
      "TPU available: False, using: 0 TPU cores\n",
      "IPU available: False, using: 0 IPUs\n",
      "HPU available: False, using: 0 HPUs\n",
      "LOCAL_RANK: 0 - CUDA_VISIBLE_DEVICES: [0]\n",
      "\n",
      "  | Name    | Type       | Params\n",
      "---------------------------------------\n",
      "0 | camadas | Sequential | 961   \n",
      "---------------------------------------\n",
      "961       Trainable params\n",
      "0         Non-trainable params\n",
      "961       Total params\n",
      "0.004     Total estimated model params size (MB)\n",
      "SLURM auto-requeueing enabled. Setting signal handlers.\n"
     ]
    },
    {
     "name": "stdout",
     "output_type": "stream",
     "text": [
      "[120] [0.2752552072009624]\n"
     ]
    },
    {
     "name": "stderr",
     "output_type": "stream",
     "text": [
      "`Trainer.fit` stopped: `max_epochs=100` reached.\n",
      "[I 2024-05-21 08:31:51,109] Trial 132 finished with value: 0.004603688605129719 and parameters: {'n_layers': 1, 'n_units0': 120, 'dropout': 0.2752552072009624}. Best is trial 101 with value: 0.0032901824451982975.\n",
      "GPU available: True (cuda), used: True\n",
      "TPU available: False, using: 0 TPU cores\n",
      "IPU available: False, using: 0 IPUs\n",
      "HPU available: False, using: 0 HPUs\n",
      "LOCAL_RANK: 0 - CUDA_VISIBLE_DEVICES: [0]\n",
      "\n",
      "  | Name    | Type       | Params\n",
      "---------------------------------------\n",
      "0 | camadas | Sequential | 873   \n",
      "---------------------------------------\n",
      "873       Trainable params\n",
      "0         Non-trainable params\n",
      "873       Total params\n",
      "0.003     Total estimated model params size (MB)\n",
      "SLURM auto-requeueing enabled. Setting signal handlers.\n"
     ]
    },
    {
     "name": "stdout",
     "output_type": "stream",
     "text": [
      "[109] [0.3560373653706544]\n"
     ]
    },
    {
     "name": "stderr",
     "output_type": "stream",
     "text": [
      "`Trainer.fit` stopped: `max_epochs=100` reached.\n",
      "[I 2024-05-21 08:32:07,775] Trial 133 finished with value: 0.005572572350502014 and parameters: {'n_layers': 1, 'n_units0': 109, 'dropout': 0.3560373653706544}. Best is trial 101 with value: 0.0032901824451982975.\n",
      "GPU available: True (cuda), used: True\n",
      "TPU available: False, using: 0 TPU cores\n",
      "IPU available: False, using: 0 IPUs\n",
      "HPU available: False, using: 0 HPUs\n",
      "LOCAL_RANK: 0 - CUDA_VISIBLE_DEVICES: [0]\n",
      "\n",
      "  | Name    | Type       | Params\n",
      "---------------------------------------\n",
      "0 | camadas | Sequential | 913   \n",
      "---------------------------------------\n",
      "913       Trainable params\n",
      "0         Non-trainable params\n",
      "913       Total params\n",
      "0.004     Total estimated model params size (MB)\n",
      "SLURM auto-requeueing enabled. Setting signal handlers.\n"
     ]
    },
    {
     "name": "stdout",
     "output_type": "stream",
     "text": [
      "[114] [0.43690246078280254]\n"
     ]
    },
    {
     "name": "stderr",
     "output_type": "stream",
     "text": [
      "`Trainer.fit` stopped: `max_epochs=100` reached.\n",
      "[I 2024-05-21 08:32:24,303] Trial 134 finished with value: 0.005582132376730442 and parameters: {'n_layers': 1, 'n_units0': 114, 'dropout': 0.43690246078280254}. Best is trial 101 with value: 0.0032901824451982975.\n",
      "GPU available: True (cuda), used: True\n",
      "TPU available: False, using: 0 TPU cores\n",
      "IPU available: False, using: 0 IPUs\n",
      "HPU available: False, using: 0 HPUs\n",
      "LOCAL_RANK: 0 - CUDA_VISIBLE_DEVICES: [0]\n",
      "\n",
      "  | Name    | Type       | Params\n",
      "---------------------------------------\n",
      "0 | camadas | Sequential | 841   \n",
      "---------------------------------------\n",
      "841       Trainable params\n",
      "0         Non-trainable params\n",
      "841       Total params\n",
      "0.003     Total estimated model params size (MB)\n",
      "SLURM auto-requeueing enabled. Setting signal handlers.\n"
     ]
    },
    {
     "name": "stdout",
     "output_type": "stream",
     "text": [
      "[105] [0.3269305188652476]\n"
     ]
    },
    {
     "name": "stderr",
     "output_type": "stream",
     "text": [
      "`Trainer.fit` stopped: `max_epochs=100` reached.\n",
      "[I 2024-05-21 08:32:40,535] Trial 135 finished with value: 0.006403537932783365 and parameters: {'n_layers': 1, 'n_units0': 105, 'dropout': 0.3269305188652476}. Best is trial 101 with value: 0.0032901824451982975.\n",
      "GPU available: True (cuda), used: True\n",
      "TPU available: False, using: 0 TPU cores\n",
      "IPU available: False, using: 0 IPUs\n",
      "HPU available: False, using: 0 HPUs\n",
      "LOCAL_RANK: 0 - CUDA_VISIBLE_DEVICES: [0]\n",
      "\n",
      "  | Name    | Type       | Params\n",
      "---------------------------------------\n",
      "0 | camadas | Sequential | 12.1 K\n",
      "---------------------------------------\n",
      "12.1 K    Trainable params\n",
      "0         Non-trainable params\n",
      "12.1 K    Total params\n",
      "0.048     Total estimated model params size (MB)\n",
      "SLURM auto-requeueing enabled. Setting signal handlers.\n"
     ]
    },
    {
     "name": "stdout",
     "output_type": "stream",
     "text": [
      "[116, 70, 20, 74] [0.34198447265964954, 0.34198447265964954, 0.34198447265964954, 0.34198447265964954]\n"
     ]
    },
    {
     "name": "stderr",
     "output_type": "stream",
     "text": [
      "`Trainer.fit` stopped: `max_epochs=100` reached.\n",
      "[I 2024-05-21 08:32:59,570] Trial 136 finished with value: 0.020321201533079147 and parameters: {'n_layers': 4, 'n_units0': 116, 'dropout': 0.34198447265964954, 'n_units1': 70, 'n_units2': 20, 'n_units3': 74}. Best is trial 101 with value: 0.0032901824451982975.\n",
      "GPU available: True (cuda), used: True\n",
      "TPU available: False, using: 0 TPU cores\n",
      "IPU available: False, using: 0 IPUs\n",
      "HPU available: False, using: 0 HPUs\n",
      "LOCAL_RANK: 0 - CUDA_VISIBLE_DEVICES: [0]\n",
      "\n",
      "  | Name    | Type       | Params\n",
      "---------------------------------------\n",
      "0 | camadas | Sequential | 897   \n",
      "---------------------------------------\n",
      "897       Trainable params\n",
      "0         Non-trainable params\n",
      "897       Total params\n",
      "0.004     Total estimated model params size (MB)\n",
      "SLURM auto-requeueing enabled. Setting signal handlers.\n"
     ]
    },
    {
     "name": "stdout",
     "output_type": "stream",
     "text": [
      "[112] [0.41741213977942737]\n"
     ]
    },
    {
     "name": "stderr",
     "output_type": "stream",
     "text": [
      "[I 2024-05-21 08:33:06,359] Trial 137 finished with value: 0.004892901051789522 and parameters: {'n_layers': 1, 'n_units0': 112, 'dropout': 0.41741213977942737}. Best is trial 101 with value: 0.0032901824451982975.\n",
      "GPU available: True (cuda), used: True\n",
      "TPU available: False, using: 0 TPU cores\n",
      "IPU available: False, using: 0 IPUs\n",
      "HPU available: False, using: 0 HPUs\n",
      "LOCAL_RANK: 0 - CUDA_VISIBLE_DEVICES: [0]\n",
      "\n",
      "  | Name    | Type       | Params\n",
      "---------------------------------------\n",
      "0 | camadas | Sequential | 817   \n",
      "---------------------------------------\n",
      "817       Trainable params\n",
      "0         Non-trainable params\n",
      "817       Total params\n",
      "0.003     Total estimated model params size (MB)\n",
      "SLURM auto-requeueing enabled. Setting signal handlers.\n"
     ]
    },
    {
     "name": "stdout",
     "output_type": "stream",
     "text": [
      "[102] [0.22656810599904928]\n"
     ]
    },
    {
     "name": "stderr",
     "output_type": "stream",
     "text": [
      "`Trainer.fit` stopped: `max_epochs=100` reached.\n",
      "[I 2024-05-21 08:33:22,945] Trial 138 finished with value: 0.004593213088810444 and parameters: {'n_layers': 1, 'n_units0': 102, 'dropout': 0.22656810599904928}. Best is trial 101 with value: 0.0032901824451982975.\n",
      "GPU available: True (cuda), used: True\n",
      "TPU available: False, using: 0 TPU cores\n",
      "IPU available: False, using: 0 IPUs\n",
      "HPU available: False, using: 0 HPUs\n",
      "LOCAL_RANK: 0 - CUDA_VISIBLE_DEVICES: [0]\n",
      "\n",
      "  | Name    | Type       | Params\n",
      "---------------------------------------\n",
      "0 | camadas | Sequential | 961   \n",
      "---------------------------------------\n",
      "961       Trainable params\n",
      "0         Non-trainable params\n",
      "961       Total params\n",
      "0.004     Total estimated model params size (MB)\n",
      "SLURM auto-requeueing enabled. Setting signal handlers.\n"
     ]
    },
    {
     "name": "stdout",
     "output_type": "stream",
     "text": [
      "[120] [0.26606391178998434]\n"
     ]
    },
    {
     "name": "stderr",
     "output_type": "stream",
     "text": [
      "`Trainer.fit` stopped: `max_epochs=100` reached.\n",
      "[I 2024-05-21 08:33:39,194] Trial 139 finished with value: 0.003354637883603573 and parameters: {'n_layers': 1, 'n_units0': 120, 'dropout': 0.26606391178998434}. Best is trial 101 with value: 0.0032901824451982975.\n",
      "GPU available: True (cuda), used: True\n",
      "TPU available: False, using: 0 TPU cores\n",
      "IPU available: False, using: 0 IPUs\n",
      "HPU available: False, using: 0 HPUs\n",
      "LOCAL_RANK: 0 - CUDA_VISIBLE_DEVICES: [0]\n",
      "\n",
      "  | Name    | Type       | Params\n",
      "---------------------------------------\n",
      "0 | camadas | Sequential | 865   \n",
      "---------------------------------------\n",
      "865       Trainable params\n",
      "0         Non-trainable params\n",
      "865       Total params\n",
      "0.003     Total estimated model params size (MB)\n",
      "SLURM auto-requeueing enabled. Setting signal handlers.\n"
     ]
    },
    {
     "name": "stdout",
     "output_type": "stream",
     "text": [
      "[108] [0.253378308080119]\n"
     ]
    },
    {
     "name": "stderr",
     "output_type": "stream",
     "text": [
      "`Trainer.fit` stopped: `max_epochs=100` reached.\n",
      "[I 2024-05-21 08:33:55,859] Trial 140 finished with value: 0.004151999484747648 and parameters: {'n_layers': 1, 'n_units0': 108, 'dropout': 0.253378308080119}. Best is trial 101 with value: 0.0032901824451982975.\n",
      "GPU available: True (cuda), used: True\n",
      "TPU available: False, using: 0 TPU cores\n",
      "IPU available: False, using: 0 IPUs\n",
      "HPU available: False, using: 0 HPUs\n",
      "LOCAL_RANK: 0 - CUDA_VISIBLE_DEVICES: [0]\n",
      "\n",
      "  | Name    | Type       | Params\n",
      "---------------------------------------\n",
      "0 | camadas | Sequential | 873   \n",
      "---------------------------------------\n",
      "873       Trainable params\n",
      "0         Non-trainable params\n",
      "873       Total params\n",
      "0.003     Total estimated model params size (MB)\n",
      "SLURM auto-requeueing enabled. Setting signal handlers.\n"
     ]
    },
    {
     "name": "stdout",
     "output_type": "stream",
     "text": [
      "[109] [0.2508264171273597]\n"
     ]
    },
    {
     "name": "stderr",
     "output_type": "stream",
     "text": [
      "`Trainer.fit` stopped: `max_epochs=100` reached.\n",
      "[I 2024-05-21 08:34:12,422] Trial 141 finished with value: 0.003539714030921459 and parameters: {'n_layers': 1, 'n_units0': 109, 'dropout': 0.2508264171273597}. Best is trial 101 with value: 0.0032901824451982975.\n",
      "GPU available: True (cuda), used: True\n",
      "TPU available: False, using: 0 TPU cores\n",
      "IPU available: False, using: 0 IPUs\n",
      "HPU available: False, using: 0 HPUs\n",
      "LOCAL_RANK: 0 - CUDA_VISIBLE_DEVICES: [0]\n",
      "\n",
      "  | Name    | Type       | Params\n",
      "---------------------------------------\n",
      "0 | camadas | Sequential | 6.5 K \n",
      "---------------------------------------\n",
      "6.5 K     Trainable params\n",
      "0         Non-trainable params\n",
      "6.5 K     Total params\n",
      "0.026     Total estimated model params size (MB)\n",
      "SLURM auto-requeueing enabled. Setting signal handlers.\n"
     ]
    },
    {
     "name": "stdout",
     "output_type": "stream",
     "text": [
      "[38, 53, 75] [0.25186537447097684, 0.25186537447097684, 0.25186537447097684]\n"
     ]
    },
    {
     "name": "stderr",
     "output_type": "stream",
     "text": [
      "`Trainer.fit` stopped: `max_epochs=100` reached.\n",
      "[I 2024-05-21 08:34:31,795] Trial 142 finished with value: 0.017660709097981453 and parameters: {'n_layers': 3, 'n_units0': 38, 'dropout': 0.25186537447097684, 'n_units1': 53, 'n_units2': 75}. Best is trial 101 with value: 0.0032901824451982975.\n",
      "GPU available: True (cuda), used: True\n",
      "TPU available: False, using: 0 TPU cores\n",
      "IPU available: False, using: 0 IPUs\n",
      "HPU available: False, using: 0 HPUs\n",
      "LOCAL_RANK: 0 - CUDA_VISIBLE_DEVICES: [0]\n",
      "\n",
      "  | Name    | Type       | Params\n",
      "---------------------------------------\n",
      "0 | camadas | Sequential | 889   \n",
      "---------------------------------------\n",
      "889       Trainable params\n",
      "0         Non-trainable params\n",
      "889       Total params\n",
      "0.004     Total estimated model params size (MB)\n",
      "SLURM auto-requeueing enabled. Setting signal handlers.\n"
     ]
    },
    {
     "name": "stdout",
     "output_type": "stream",
     "text": [
      "[111] [0.26519527393977127]\n"
     ]
    },
    {
     "name": "stderr",
     "output_type": "stream",
     "text": [
      "`Trainer.fit` stopped: `max_epochs=100` reached.\n",
      "[I 2024-05-21 08:34:48,302] Trial 143 finished with value: 0.004808853846043348 and parameters: {'n_layers': 1, 'n_units0': 111, 'dropout': 0.26519527393977127}. Best is trial 101 with value: 0.0032901824451982975.\n",
      "GPU available: True (cuda), used: True\n",
      "TPU available: False, using: 0 TPU cores\n",
      "IPU available: False, using: 0 IPUs\n",
      "HPU available: False, using: 0 HPUs\n",
      "LOCAL_RANK: 0 - CUDA_VISIBLE_DEVICES: [0]\n",
      "\n",
      "  | Name    | Type       | Params\n",
      "---------------------------------------\n",
      "0 | camadas | Sequential | 913   \n",
      "---------------------------------------\n",
      "913       Trainable params\n",
      "0         Non-trainable params\n",
      "913       Total params\n",
      "0.004     Total estimated model params size (MB)\n",
      "SLURM auto-requeueing enabled. Setting signal handlers.\n"
     ]
    },
    {
     "name": "stdout",
     "output_type": "stream",
     "text": [
      "[114] [0.24699218174256996]\n"
     ]
    },
    {
     "name": "stderr",
     "output_type": "stream",
     "text": [
      "`Trainer.fit` stopped: `max_epochs=100` reached.\n",
      "[I 2024-05-21 08:35:05,005] Trial 144 finished with value: 0.007151086814701557 and parameters: {'n_layers': 1, 'n_units0': 114, 'dropout': 0.24699218174256996}. Best is trial 101 with value: 0.0032901824451982975.\n",
      "GPU available: True (cuda), used: True\n",
      "TPU available: False, using: 0 TPU cores\n",
      "IPU available: False, using: 0 IPUs\n",
      "HPU available: False, using: 0 HPUs\n",
      "LOCAL_RANK: 0 - CUDA_VISIBLE_DEVICES: [0]\n",
      "\n",
      "  | Name    | Type       | Params\n",
      "---------------------------------------\n",
      "0 | camadas | Sequential | 937   \n",
      "---------------------------------------\n",
      "937       Trainable params\n",
      "0         Non-trainable params\n",
      "937       Total params\n",
      "0.004     Total estimated model params size (MB)\n",
      "SLURM auto-requeueing enabled. Setting signal handlers.\n"
     ]
    },
    {
     "name": "stdout",
     "output_type": "stream",
     "text": [
      "[117] [0.2675075568888926]\n"
     ]
    },
    {
     "name": "stderr",
     "output_type": "stream",
     "text": [
      "`Trainer.fit` stopped: `max_epochs=100` reached.\n",
      "[I 2024-05-21 08:35:22,478] Trial 145 finished with value: 0.003978574648499489 and parameters: {'n_layers': 1, 'n_units0': 117, 'dropout': 0.2675075568888926}. Best is trial 101 with value: 0.0032901824451982975.\n",
      "GPU available: True (cuda), used: True\n",
      "TPU available: False, using: 0 TPU cores\n",
      "IPU available: False, using: 0 IPUs\n",
      "HPU available: False, using: 0 HPUs\n",
      "LOCAL_RANK: 0 - CUDA_VISIBLE_DEVICES: [0]\n",
      "\n",
      "  | Name    | Type       | Params\n",
      "---------------------------------------\n",
      "0 | camadas | Sequential | 873   \n",
      "---------------------------------------\n",
      "873       Trainable params\n",
      "0         Non-trainable params\n",
      "873       Total params\n",
      "0.003     Total estimated model params size (MB)\n",
      "SLURM auto-requeueing enabled. Setting signal handlers.\n"
     ]
    },
    {
     "name": "stdout",
     "output_type": "stream",
     "text": [
      "[109] [0.233128118456195]\n"
     ]
    },
    {
     "name": "stderr",
     "output_type": "stream",
     "text": [
      "`Trainer.fit` stopped: `max_epochs=100` reached.\n",
      "[I 2024-05-21 08:35:38,855] Trial 146 finished with value: 0.0038591071497648954 and parameters: {'n_layers': 1, 'n_units0': 109, 'dropout': 0.233128118456195}. Best is trial 101 with value: 0.0032901824451982975.\n",
      "GPU available: True (cuda), used: True\n",
      "TPU available: False, using: 0 TPU cores\n",
      "IPU available: False, using: 0 IPUs\n",
      "HPU available: False, using: 0 HPUs\n",
      "LOCAL_RANK: 0 - CUDA_VISIBLE_DEVICES: [0]\n",
      "\n",
      "  | Name    | Type       | Params\n",
      "---------------------------------------\n",
      "0 | camadas | Sequential | 945   \n",
      "---------------------------------------\n",
      "945       Trainable params\n",
      "0         Non-trainable params\n",
      "945       Total params\n",
      "0.004     Total estimated model params size (MB)\n",
      "SLURM auto-requeueing enabled. Setting signal handlers.\n"
     ]
    },
    {
     "name": "stdout",
     "output_type": "stream",
     "text": [
      "[118] [0.23466439960117913]\n"
     ]
    },
    {
     "name": "stderr",
     "output_type": "stream",
     "text": [
      "`Trainer.fit` stopped: `max_epochs=100` reached.\n",
      "[I 2024-05-21 08:35:55,497] Trial 147 finished with value: 0.003714517690241337 and parameters: {'n_layers': 1, 'n_units0': 118, 'dropout': 0.23466439960117913}. Best is trial 101 with value: 0.0032901824451982975.\n",
      "GPU available: True (cuda), used: True\n",
      "TPU available: False, using: 0 TPU cores\n",
      "IPU available: False, using: 0 IPUs\n",
      "HPU available: False, using: 0 HPUs\n",
      "LOCAL_RANK: 0 - CUDA_VISIBLE_DEVICES: [0]\n",
      "\n",
      "  | Name    | Type       | Params\n",
      "---------------------------------------\n",
      "0 | camadas | Sequential | 945   \n",
      "---------------------------------------\n",
      "945       Trainable params\n",
      "0         Non-trainable params\n",
      "945       Total params\n",
      "0.004     Total estimated model params size (MB)\n",
      "SLURM auto-requeueing enabled. Setting signal handlers.\n"
     ]
    },
    {
     "name": "stdout",
     "output_type": "stream",
     "text": [
      "[118] [0.21765857162477525]\n"
     ]
    },
    {
     "name": "stderr",
     "output_type": "stream",
     "text": [
      "`Trainer.fit` stopped: `max_epochs=100` reached.\n",
      "[I 2024-05-21 08:36:12,053] Trial 148 finished with value: 0.004889865405857563 and parameters: {'n_layers': 1, 'n_units0': 118, 'dropout': 0.21765857162477525}. Best is trial 101 with value: 0.0032901824451982975.\n",
      "GPU available: True (cuda), used: True\n",
      "TPU available: False, using: 0 TPU cores\n",
      "IPU available: False, using: 0 IPUs\n",
      "HPU available: False, using: 0 HPUs\n",
      "LOCAL_RANK: 0 - CUDA_VISIBLE_DEVICES: [0]\n",
      "\n",
      "  | Name    | Type       | Params\n",
      "---------------------------------------\n",
      "0 | camadas | Sequential | 929   \n",
      "---------------------------------------\n",
      "929       Trainable params\n",
      "0         Non-trainable params\n",
      "929       Total params\n",
      "0.004     Total estimated model params size (MB)\n",
      "SLURM auto-requeueing enabled. Setting signal handlers.\n"
     ]
    },
    {
     "name": "stdout",
     "output_type": "stream",
     "text": [
      "[116] [0.2427662824789512]\n"
     ]
    },
    {
     "name": "stderr",
     "output_type": "stream",
     "text": [
      "`Trainer.fit` stopped: `max_epochs=100` reached.\n",
      "[I 2024-05-21 08:36:28,339] Trial 149 finished with value: 0.0034536467865109444 and parameters: {'n_layers': 1, 'n_units0': 116, 'dropout': 0.2427662824789512}. Best is trial 101 with value: 0.0032901824451982975.\n"
     ]
    },
    {
     "name": "stdout",
     "output_type": "stream",
     "text": [
      "Best trial:\n",
      "  Value: 0.0032901824451982975\n",
      "  Params: \n",
      "    n_layers: 1\n",
      "    n_units0: 117\n",
      "    dropout: 0.2734006184484247\n"
     ]
    }
   ],
   "source": [
    "N_TRIALS = 150\n",
    "num_dados_entrada = 6\n",
    "num_targets = 1\n",
    "\n",
    "if __name__ == \"__main__\":\n",
    "    study = optuna.create_study(direction=\"minimize\")\n",
    "    study.optimize(objective, n_trials=N_TRIALS)\n",
    "\n",
    "    print(\"Best trial:\")\n",
    "    trial = study.best_trial\n",
    "    print(f\"  Value: {trial.value}\")\n",
    "    print(\"  Params: \")\n",
    "    for key, value in trial.params.items():\n",
    "        print(f\"    {key}: {value}\")"
   ]
  },
  {
   "cell_type": "markdown",
   "id": "aaa7c24f-6a03-4b23-99f5-7bfb0031a5de",
   "metadata": {},
   "source": [
    "Nesta célula, criamos o DataModule modelo e selecionamos os parâmetros com melhor desempenho no estudo de arquiteturas. A partir disso, criamos nosso modelo."
   ]
  },
  {
   "cell_type": "code",
   "execution_count": 36,
   "id": "07f6f3dd-c9ed-4623-9ca8-bc3e88a3e5eb",
   "metadata": {},
   "outputs": [
    {
     "data": {
      "text/plain": [
       "MLP(\n",
       "  (camadas): Sequential(\n",
       "    (0): Linear(in_features=6, out_features=117, bias=True)\n",
       "    (1): ReLU()\n",
       "    (2): Dropout(p=0.2734006184484247, inplace=False)\n",
       "    (3): Linear(in_features=117, out_features=1, bias=True)\n",
       "  )\n",
       ")"
      ]
     },
     "execution_count": 36,
     "metadata": {},
     "output_type": "execute_result"
    }
   ],
   "source": [
    "# Criar DataModule\n",
    "datamodule = DataModule(X_treino, y_treino, X_val, y_val, X_teste, y_teste)\n",
    "     \n",
    "camadas = [key for key in trial.params.keys() if key.startswith('n_units')]\n",
    "    \n",
    "neuronios = []\n",
    "    \n",
    "for k in camadas:\n",
    "    neuronios.append(trial.params[f'{k}'])\n",
    "    \n",
    "dropouts = [trial.params.get('dropout')] * len(camadas)\n",
    "\n",
    "\n",
    "# Criar o modelo com os parâmetros do melhor teste\n",
    "melhor_modelo = MLP(num_dados_entrada, num_targets, neuronios, dropouts)\n",
    "\n",
    "melhor_modelo.train()"
   ]
  },
  {
   "cell_type": "markdown",
   "id": "30be88e5-6eb6-457f-a623-796e270dfa5e",
   "metadata": {},
   "source": [
    "Caracterítiscas da melhor MLP encontrada pelo treino: \n",
    "1. Camada de entrada com 6 neurônios \n",
    "2. Função de ativação: ReLU (obs: não foi um hiperparâmetro)\n",
    "3. Taxa de Dropout de aprox. 27,34% \n",
    "4. Camada oculta com 117 neurônios \n",
    "5. Camada de saída com 1 neurônio"
   ]
  },
  {
   "cell_type": "markdown",
   "id": "5fa5dbf4-dfc1-41c3-a93f-cdb26e5498bd",
   "metadata": {},
   "source": [
    "Nesta etapa, realizamos o treinamento do modelo.\n",
    "Uma definição importante é que o treinamento irá ocorrer até que o número de épocas seja atingido ou até que ocorra uma piora em três épocas consecutivas (Early Stopping)."
   ]
  },
  {
   "cell_type": "code",
   "execution_count": 38,
   "id": "a4cc53c1-c07e-47b5-8dbf-482b85a13b36",
   "metadata": {
    "scrolled": true
   },
   "outputs": [
    {
     "name": "stderr",
     "output_type": "stream",
     "text": [
      "GPU available: True (cuda), used: True\n",
      "TPU available: False, using: 0 TPU cores\n",
      "IPU available: False, using: 0 IPUs\n",
      "HPU available: False, using: 0 HPUs\n",
      "LOCAL_RANK: 0 - CUDA_VISIBLE_DEVICES: [0]\n",
      "\n",
      "  | Name    | Type       | Params\n",
      "---------------------------------------\n",
      "0 | camadas | Sequential | 937   \n",
      "---------------------------------------\n",
      "937       Trainable params\n",
      "0         Non-trainable params\n",
      "937       Total params\n",
      "0.004     Total estimated model params size (MB)\n",
      "SLURM auto-requeueing enabled. Setting signal handlers.\n",
      "`Trainer.fit` stopped: `max_epochs=200` reached.\n"
     ]
    }
   ],
   "source": [
    "# Treinar o modelo com o Trainer\n",
    "MAX_EPOCHS = 200\n",
    "\n",
    "early_stop_callback = EarlyStopping(monitor=\"val_loss\", mode=\"min\", patience=3)\n",
    "treinador= L.Trainer(max_epochs=MAX_EPOCHS, callbacks=[early_stop_callback], enable_progress_bar=False) \n",
    "treinador.fit(melhor_modelo, datamodule=datamodule)"
   ]
  },
  {
   "cell_type": "markdown",
   "id": "93b0f034-312b-4c39-8e28-d7dd0b443efb",
   "metadata": {},
   "source": [
    "### Curva de aprendizado (MLP treino)"
   ]
  },
  {
   "cell_type": "markdown",
   "id": "f4e3c039-2cb5-4350-8a31-64de067f8177",
   "metadata": {},
   "source": [
    "O gráfico abaixo apresenta a curva de aprendizado, comparando o desempenho do treino com a validação, agora do nosso modelo real."
   ]
  },
  {
   "cell_type": "code",
   "execution_count": 39,
   "id": "3b969d97-eaab-4ae2-b44c-88fa9cff652b",
   "metadata": {},
   "outputs": [
    {
     "data": {
      "text/plain": [
       "Text(0, 0.5, 'Loss')"
      ]
     },
     "execution_count": 39,
     "metadata": {},
     "output_type": "execute_result"
    },
    {
     "data": {
      "image/png": "[encoded data removed]",
      "text/plain": [
       "<Figure size 640x480 with 1 Axes>"
      ]
     },
     "metadata": {},
     "output_type": "display_data"
    }
   ],
   "source": [
    "# Plot treino e validação\n",
    "    \n",
    "figura, eixo = plt.subplots()\n",
    "\n",
    "ca_treino_melhor_modelo = melhor_modelo.curva_aprendizado_treino\n",
    "ca_val_melhor_modelo = melhor_modelo.curva_aprendizado_val\n",
    "\n",
    "eixo.plot(ca_treino_melhor_modelo, label=\"Treino\")\n",
    "eixo.plot(ca_val_melhor_modelo, label=\"Validação\")\n",
    "\n",
    "eixo.legend()\n",
    "\n",
    "eixo.set_xlim(left=0)\n",
    "\n",
    "eixo.set_title(\"Curva de aprendizado\")\n",
    "eixo.set_xlabel(\"Época\")\n",
    "eixo.set_ylabel(\"Loss\")"
   ]
  },
  {
   "cell_type": "markdown",
   "id": "6e2c3513-4a5e-4286-b612-2377501aa1fa",
   "metadata": {},
   "source": [
    "A partir do gráfico é possível verificar que, assim como a MLP de teste, ao passar das épocas as curvas de aprendizado de treino e validação tendem a convergir. "
   ]
  },
  {
   "cell_type": "markdown",
   "id": "378fd70e-9f6f-45ac-808a-0d95fd19c5ee",
   "metadata": {},
   "source": [
    "## Testando o melhor modelo encontrado"
   ]
  },
  {
   "cell_type": "markdown",
   "id": "80cd7171-ea51-4c62-91cf-8a090aaa6a81",
   "metadata": {},
   "source": [
    "Novamente, antes de testar a rede neural que treinamos precisamos deixá-la no modo de avaliação."
   ]
  },
  {
   "cell_type": "code",
   "execution_count": 40,
   "id": "69fe9771-04e6-4488-9da3-3c4529e845e5",
   "metadata": {},
   "outputs": [
    {
     "data": {
      "text/plain": [
       "MLP(\n",
       "  (camadas): Sequential(\n",
       "    (0): Linear(in_features=6, out_features=117, bias=True)\n",
       "    (1): ReLU()\n",
       "    (2): Dropout(p=0.2734006184484247, inplace=False)\n",
       "    (3): Linear(in_features=117, out_features=1, bias=True)\n",
       "  )\n",
       ")"
      ]
     },
     "execution_count": 40,
     "metadata": {},
     "output_type": "execute_result"
    }
   ],
   "source": [
    "melhor_modelo.eval()"
   ]
  },
  {
   "cell_type": "markdown",
   "id": "ff09ed16-7e00-46d4-8382-5136c79018f7",
   "metadata": {},
   "source": [
    "Antes de computar a métrica, temos que configurar a instância do `DataModule` no modo teste, criar um ambiente onde não computamos os gradientes locais (ambiente `no_grad`), computar os valores previstos do target e, finalmente, desnormalizar os dados com o `inverse_transform`.\n",
    "\n"
   ]
  },
  {
   "cell_type": "code",
   "execution_count": 41,
   "id": "bc11d536-b329-4876-86dd-14ee9f802a48",
   "metadata": {},
   "outputs": [
    {
     "name": "stdout",
     "output_type": "stream",
     "text": [
      "76.0685088240647\n"
     ]
    },
    {
     "name": "stderr",
     "output_type": "stream",
     "text": [
      "/home/joao23022/anaconda3/envs/redes/lib/python3.12/site-packages/sklearn/metrics/_regression.py:483: FutureWarning: 'squared' is deprecated in version 1.4 and will be removed in 1.6. To calculate the root mean squared error, use the function'root_mean_squared_error'.\n",
      "  warnings.warn(\n"
     ]
    }
   ],
   "source": [
    "datamodule.setup(\"test\")\n",
    "\n",
    "with torch.no_grad():\n",
    "    X_true = datamodule.X_teste\n",
    "\n",
    "    y_true = datamodule.y_teste\n",
    "    y_true = y_scaler.inverse_transform(y_true)\n",
    "\n",
    "    y_pred = melhor_modelo(X_true)\n",
    "    y_pred = y_scaler.inverse_transform(y_pred)\n",
    "\n",
    "    RMSE = mean_squared_error(y_true, y_pred, squared=False)\n",
    "\n",
    "    print(RMSE)"
   ]
  },
  {
   "cell_type": "markdown",
   "id": "57da6797-bee8-480b-80aa-11700ed40423",
   "metadata": {},
   "source": [
    "## Conclusão"
   ]
  },
  {
   "cell_type": "markdown",
   "id": "6356e2bb-ca7d-4eef-8f89-5893c217c013",
   "metadata": {},
   "source": [
    "Após treino e teste podemos perceber que houve uma melhoria significativa no RMSE do primeiro modelo de teste para o real, que foi otimizado. O RMSE era de $199 kg/hec$ e diminuiu para $76 kg/hec$, uma taxa de dimuição de erro de aproximadamente 62%.\n",
    "\n",
    "Dessa forma, com base nos gráficos de curva de aprendizado e através de análises de porcentagem, o modelo pode prever rendimentos de plantação com uma taxa de erro baixa. \n",
    "\n",
    "Embora a rede tenha sido treinada com dados sintéticos, devido à diferença relativamente grande entre os valores de rendimento, pode-se considerar uma boa rede. Vale ressaltar que a rede poderia ser treinada com dados reais, sendo possível melhorar ainda mais o RMSE da rede."
   ]
  },
  {
   "cell_type": "markdown",
   "id": "df88bb9a-b5bf-4a3d-a0d4-a27b55ed2545",
   "metadata": {},
   "source": [
    "## Referências"
   ]
  },
  {
   "cell_type": "markdown",
   "id": "2e96483a-7fa7-48aa-9cb5-781b249535a8",
   "metadata": {},
   "source": [
    "[1] Cassar, Daniel R.; Coletânea de notebooks didáticos  da disciplina de Redes Neurais (NN).\n",
    "\\\n",
    "[2] LOOMIS, C. Using Optuna to Optimize PyTorch Lightning Hyperparameters. Disponível em: <https://medium.com/optuna/using-optuna-to-optimize-pytorch-lightning-hyperparameters-d9e04a481585>.\n",
    "\\\n",
    "[3] optuna-examples/pytorch/pytorch_lightning_simple.py at main · optuna/optuna-examples. Disponível em: <https://github.com/optuna/optuna-examples/blob/main/pytorch/pytorch_lightning_simple.py#L161>.\n",
    "\\\n",
    "[4] optuna.create_study — Optuna 3.6.1 documentation. Disponível em: <https://optuna.readthedocs.io/en/stable/reference/generated/optuna.create_study.html>.\n",
    "\\\n",
    "[5] optuna.trial.Trial — Optuna 3.6.1 documentation. Disponível em: <https://optuna.readthedocs.io/en/stable/reference/generated/optuna.trial.Trial.html>.\n"
   ]
  },
  {
   "cell_type": "markdown",
   "id": "56513e77-ec3d-4b14-8001-9647e8f3a164",
   "metadata": {},
   "source": [
    "### Observação pertinente: \n",
    "O [chatGPT](https://chatgpt.com/share/51a44c37-d3be-4d8b-b7d5-6c2d4866ab1c) foi usado para melhorar e corrigir os comentarios e discuções. "
   ]
  }
 ],
 "metadata": {
  "kernelspec": {
   "display_name": "Python 3 (ipykernel)",
   "language": "python",
   "name": "python3"
  },
  "language_info": {
   "codemirror_mode": {
    "name": "ipython",
    "version": 3
   },
   "file_extension": ".py",
   "mimetype": "text/x-python",
   "name": "python",
   "nbconvert_exporter": "python",
   "pygments_lexer": "ipython3",
   "version": "3.12.3"
  }
 },
 "nbformat": 4,
 "nbformat_minor": 5
}
