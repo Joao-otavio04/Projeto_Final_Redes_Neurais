{
 "cells": [
  {
   "cell_type": "markdown",
   "id": "256d03e0-d373-4468-9f90-907ca268ab63",
   "metadata": {},
   "source": [
    "# Projeto Final Redes Neurais\n",
    "\n",
    "<b> Alunos: </b> João Otávio de Ávila Nascimento, Emelyn Alves e Kayllanny Lara da Silva Oliveira\n",
    "\\\n",
    "<b> Professor: </b> Daniel Cassar"
   ]
  },
  {
   "cell_type": "markdown",
   "id": "216a47e8-002e-430a-8461-65f82337663a",
   "metadata": {},
   "source": [
    "Inicialmente, realizamos a importação de todas as bibliotecas necessárias para o funcionamento do código, garantindo que todas as dependências e ferramentas essenciais estejam disponíveis para execução correta e eficiente do programa."
   ]
  },
  {
   "cell_type": "code",
   "execution_count": 3,
   "id": "cd9a0e90-2997-499e-bfa0-e65cc902c689",
   "metadata": {},
   "outputs": [
    {
     "ename": "ModuleNotFoundError",
     "evalue": "No module named 'lightning'",
     "output_type": "error",
     "traceback": [
      "\u001b[1;31m---------------------------------------------------------------------------\u001b[0m",
      "\u001b[1;31mModuleNotFoundError\u001b[0m                       Traceback (most recent call last)",
      "Cell \u001b[1;32mIn [3], line 6\u001b[0m\n\u001b[0;32m      4\u001b[0m \u001b[38;5;28;01mimport\u001b[39;00m \u001b[38;5;21;01mseaborn\u001b[39;00m \u001b[38;5;28;01mas\u001b[39;00m \u001b[38;5;21;01msns\u001b[39;00m\n\u001b[0;32m      5\u001b[0m \u001b[38;5;28;01mimport\u001b[39;00m \u001b[38;5;21;01mtorch\u001b[39;00m\n\u001b[1;32m----> 6\u001b[0m \u001b[38;5;28;01mfrom\u001b[39;00m \u001b[38;5;21;01mlightning\u001b[39;00m\u001b[38;5;21;01m.\u001b[39;00m\u001b[38;5;21;01mpytorch\u001b[39;00m\u001b[38;5;21;01m.\u001b[39;00m\u001b[38;5;21;01mcallbacks\u001b[39;00m\u001b[38;5;21;01m.\u001b[39;00m\u001b[38;5;21;01mearly_stopping\u001b[39;00m \u001b[38;5;28;01mimport\u001b[39;00m EarlyStopping\n\u001b[0;32m      7\u001b[0m \u001b[38;5;28;01mimport\u001b[39;00m \u001b[38;5;21;01mtorch\u001b[39;00m\u001b[38;5;21;01m.\u001b[39;00m\u001b[38;5;21;01mnn\u001b[39;00m \u001b[38;5;28;01mas\u001b[39;00m \u001b[38;5;21;01mnn\u001b[39;00m\n\u001b[0;32m      8\u001b[0m \u001b[38;5;28;01mimport\u001b[39;00m \u001b[38;5;21;01mtorch\u001b[39;00m\u001b[38;5;21;01m.\u001b[39;00m\u001b[38;5;21;01moptim\u001b[39;00m \u001b[38;5;28;01mas\u001b[39;00m \u001b[38;5;21;01moptim\u001b[39;00m\n",
      "\u001b[1;31mModuleNotFoundError\u001b[0m: No module named 'lightning'"
     ]
    }
   ],
   "source": [
    "import pandas as pd\n",
    "import random\n",
    "import matplotlib.pyplot as plt\n",
    "import seaborn as sns\n",
    "import torch\n",
    "from lightning.pytorch.callbacks.early_stopping import EarlyStopping\n",
    "import torch.nn as nn\n",
    "import torch.optim as optim\n",
    "from sklearn.metrics import mean_squared_error\n",
    "from sklearn.model_selection import train_test_split\n",
    "from sklearn.preprocessing import MaxAbsScaler\n",
    "from torch.nn import functional as F\n",
    "from torch.utils.data import DataLoader, TensorDataset\n",
    "import optuna\n",
    "import lightning as L"
   ]
  },
  {
   "cell_type": "markdown",
   "id": "8ec07d9b-e255-4c2c-81a0-5bf898fbed6d",
   "metadata": {},
   "source": [
    "Após as importações, carregamos nosso dataset, que é um conjunto de dados sintéticos do setor agrícola. Ele relaciona o rendimento em kg por hectare com a qualidade do solo, a variedade das sementes, a quantidade de fertilizante por hectare em kg, a quantidade de dias de sol, de precipitação em mm e os horários de irrigação. Esses dados são importantes, pois permitem prever a colheita de acordo com as condições e identificar as condições ideais para o crescimento das lavouras."
   ]
  },
  {
   "cell_type": "code",
   "execution_count": 2,
   "id": "4c80cd00-527b-4d15-af88-2b7f0b0b4df8",
   "metadata": {},
   "outputs": [],
   "source": [
    "features = ['Soil_Quality', 'Seed_Variety', 'Fertilizer_Amount_kg_per_hectare', 'Sunny_Days', 'Rainfall_mm', 'Irrigation_Schedule']\n",
    "target = ['Yield_kg_per_hectare']\n",
    "\n",
    "df_teste = pd.read_csv(\"agricultural_yield_test.csv\")\n",
    "df_treino = pd.read_csv(\"agricultural_yield_train.csv\")\n",
    "\n",
    "df_teste = df_teste.reindex(features + target, axis=1)\n",
    "df_teste = df_teste.dropna()\n",
    "\n",
    "df_treino = df_treino.reindex(features + target, axis=1)\n",
    "df_treino = df_treino.dropna()"
   ]
  },
  {
   "cell_type": "markdown",
   "id": "93b36c44-f0b1-477a-b315-52185cdfe12d",
   "metadata": {},
   "source": [
    "Aqui, separamos os atributos dos alvos. Como os dados de treino e teste já vieram separados, apenas os carregamos em suas respectivas variáveis, removemos os valores ausentes e imprimimos as variáveis a seguir."
   ]
  },
  {
   "cell_type": "code",
   "execution_count": 3,
   "id": "33dbfa1a-6b52-4ea7-b476-09ffc96188fb",
   "metadata": {},
   "outputs": [
    {
     "data": {
      "text/html": [
       "<div>\n",
       "<style scoped>\n",
       "    .dataframe tbody tr th:only-of-type {\n",
       "        vertical-align: middle;\n",
       "    }\n",
       "\n",
       "    .dataframe tbody tr th {\n",
       "        vertical-align: top;\n",
       "    }\n",
       "\n",
       "    .dataframe thead th {\n",
       "        text-align: right;\n",
       "    }\n",
       "</style>\n",
       "<table border=\"1\" class=\"dataframe\">\n",
       "  <thead>\n",
       "    <tr style=\"text-align: right;\">\n",
       "      <th></th>\n",
       "      <th>Soil_Quality</th>\n",
       "      <th>Seed_Variety</th>\n",
       "      <th>Fertilizer_Amount_kg_per_hectare</th>\n",
       "      <th>Sunny_Days</th>\n",
       "      <th>Rainfall_mm</th>\n",
       "      <th>Irrigation_Schedule</th>\n",
       "      <th>Yield_kg_per_hectare</th>\n",
       "    </tr>\n",
       "  </thead>\n",
       "  <tbody>\n",
       "    <tr>\n",
       "      <th>0</th>\n",
       "      <td>93.304721</td>\n",
       "      <td>0</td>\n",
       "      <td>132.522218</td>\n",
       "      <td>96.670922</td>\n",
       "      <td>602.386237</td>\n",
       "      <td>3</td>\n",
       "      <td>278.986563</td>\n",
       "    </tr>\n",
       "    <tr>\n",
       "      <th>1</th>\n",
       "      <td>83.674653</td>\n",
       "      <td>1</td>\n",
       "      <td>57.283997</td>\n",
       "      <td>99.007556</td>\n",
       "      <td>466.518251</td>\n",
       "      <td>8</td>\n",
       "      <td>836.434840</td>\n",
       "    </tr>\n",
       "    <tr>\n",
       "      <th>2</th>\n",
       "      <td>65.963033</td>\n",
       "      <td>1</td>\n",
       "      <td>227.895479</td>\n",
       "      <td>104.844272</td>\n",
       "      <td>510.320495</td>\n",
       "      <td>4</td>\n",
       "      <td>785.881787</td>\n",
       "    </tr>\n",
       "    <tr>\n",
       "      <th>3</th>\n",
       "      <td>78.692834</td>\n",
       "      <td>1</td>\n",
       "      <td>176.314126</td>\n",
       "      <td>90.136191</td>\n",
       "      <td>354.350914</td>\n",
       "      <td>5</td>\n",
       "      <td>807.884526</td>\n",
       "    </tr>\n",
       "    <tr>\n",
       "      <th>4</th>\n",
       "      <td>72.415684</td>\n",
       "      <td>1</td>\n",
       "      <td>160.070418</td>\n",
       "      <td>101.221668</td>\n",
       "      <td>443.993788</td>\n",
       "      <td>10</td>\n",
       "      <td>1064.542374</td>\n",
       "    </tr>\n",
       "    <tr>\n",
       "      <th>...</th>\n",
       "      <td>...</td>\n",
       "      <td>...</td>\n",
       "      <td>...</td>\n",
       "      <td>...</td>\n",
       "      <td>...</td>\n",
       "      <td>...</td>\n",
       "      <td>...</td>\n",
       "    </tr>\n",
       "    <tr>\n",
       "      <th>3995</th>\n",
       "      <td>95.094714</td>\n",
       "      <td>1</td>\n",
       "      <td>124.108262</td>\n",
       "      <td>98.970659</td>\n",
       "      <td>496.705800</td>\n",
       "      <td>5</td>\n",
       "      <td>802.209345</td>\n",
       "    </tr>\n",
       "    <tr>\n",
       "      <th>3996</th>\n",
       "      <td>53.256984</td>\n",
       "      <td>0</td>\n",
       "      <td>100.310322</td>\n",
       "      <td>111.448947</td>\n",
       "      <td>667.056391</td>\n",
       "      <td>8</td>\n",
       "      <td>509.646540</td>\n",
       "    </tr>\n",
       "    <tr>\n",
       "      <th>3997</th>\n",
       "      <td>94.145522</td>\n",
       "      <td>1</td>\n",
       "      <td>196.473704</td>\n",
       "      <td>110.003474</td>\n",
       "      <td>458.241408</td>\n",
       "      <td>3</td>\n",
       "      <td>776.013634</td>\n",
       "    </tr>\n",
       "    <tr>\n",
       "      <th>3998</th>\n",
       "      <td>61.452120</td>\n",
       "      <td>1</td>\n",
       "      <td>80.618357</td>\n",
       "      <td>97.815517</td>\n",
       "      <td>778.652540</td>\n",
       "      <td>4</td>\n",
       "      <td>502.319484</td>\n",
       "    </tr>\n",
       "    <tr>\n",
       "      <th>3999</th>\n",
       "      <td>55.195906</td>\n",
       "      <td>0</td>\n",
       "      <td>122.473239</td>\n",
       "      <td>90.311720</td>\n",
       "      <td>582.999003</td>\n",
       "      <td>4</td>\n",
       "      <td>257.032544</td>\n",
       "    </tr>\n",
       "  </tbody>\n",
       "</table>\n",
       "<p>4000 rows × 7 columns</p>\n",
       "</div>"
      ],
      "text/plain": [
       "      Soil_Quality  Seed_Variety  Fertilizer_Amount_kg_per_hectare  \\\n",
       "0        93.304721             0                        132.522218   \n",
       "1        83.674653             1                         57.283997   \n",
       "2        65.963033             1                        227.895479   \n",
       "3        78.692834             1                        176.314126   \n",
       "4        72.415684             1                        160.070418   \n",
       "...            ...           ...                               ...   \n",
       "3995     95.094714             1                        124.108262   \n",
       "3996     53.256984             0                        100.310322   \n",
       "3997     94.145522             1                        196.473704   \n",
       "3998     61.452120             1                         80.618357   \n",
       "3999     55.195906             0                        122.473239   \n",
       "\n",
       "      Sunny_Days  Rainfall_mm  Irrigation_Schedule  Yield_kg_per_hectare  \n",
       "0      96.670922   602.386237                    3            278.986563  \n",
       "1      99.007556   466.518251                    8            836.434840  \n",
       "2     104.844272   510.320495                    4            785.881787  \n",
       "3      90.136191   354.350914                    5            807.884526  \n",
       "4     101.221668   443.993788                   10           1064.542374  \n",
       "...          ...          ...                  ...                   ...  \n",
       "3995   98.970659   496.705800                    5            802.209345  \n",
       "3996  111.448947   667.056391                    8            509.646540  \n",
       "3997  110.003474   458.241408                    3            776.013634  \n",
       "3998   97.815517   778.652540                    4            502.319484  \n",
       "3999   90.311720   582.999003                    4            257.032544  \n",
       "\n",
       "[4000 rows x 7 columns]"
      ]
     },
     "execution_count": 3,
     "metadata": {},
     "output_type": "execute_result"
    }
   ],
   "source": [
    "df_teste"
   ]
  },
  {
   "cell_type": "code",
   "execution_count": 4,
   "id": "06febe8a-5d14-441f-8fb0-0b3d2f750a2b",
   "metadata": {},
   "outputs": [
    {
     "data": {
      "text/html": [
       "<div>\n",
       "<style scoped>\n",
       "    .dataframe tbody tr th:only-of-type {\n",
       "        vertical-align: middle;\n",
       "    }\n",
       "\n",
       "    .dataframe tbody tr th {\n",
       "        vertical-align: top;\n",
       "    }\n",
       "\n",
       "    .dataframe thead th {\n",
       "        text-align: right;\n",
       "    }\n",
       "</style>\n",
       "<table border=\"1\" class=\"dataframe\">\n",
       "  <thead>\n",
       "    <tr style=\"text-align: right;\">\n",
       "      <th></th>\n",
       "      <th>Soil_Quality</th>\n",
       "      <th>Seed_Variety</th>\n",
       "      <th>Fertilizer_Amount_kg_per_hectare</th>\n",
       "      <th>Sunny_Days</th>\n",
       "      <th>Rainfall_mm</th>\n",
       "      <th>Irrigation_Schedule</th>\n",
       "      <th>Yield_kg_per_hectare</th>\n",
       "    </tr>\n",
       "  </thead>\n",
       "  <tbody>\n",
       "    <tr>\n",
       "      <th>0</th>\n",
       "      <td>96.415657</td>\n",
       "      <td>1</td>\n",
       "      <td>147.853040</td>\n",
       "      <td>94.593926</td>\n",
       "      <td>444.267569</td>\n",
       "      <td>3</td>\n",
       "      <td>683.759119</td>\n",
       "    </tr>\n",
       "    <tr>\n",
       "      <th>1</th>\n",
       "      <td>92.352626</td>\n",
       "      <td>0</td>\n",
       "      <td>281.565396</td>\n",
       "      <td>90.504644</td>\n",
       "      <td>517.585491</td>\n",
       "      <td>7</td>\n",
       "      <td>678.714861</td>\n",
       "    </tr>\n",
       "    <tr>\n",
       "      <th>2</th>\n",
       "      <td>63.714785</td>\n",
       "      <td>1</td>\n",
       "      <td>137.864940</td>\n",
       "      <td>97.329340</td>\n",
       "      <td>420.310945</td>\n",
       "      <td>8</td>\n",
       "      <td>934.691975</td>\n",
       "    </tr>\n",
       "    <tr>\n",
       "      <th>3</th>\n",
       "      <td>90.084256</td>\n",
       "      <td>1</td>\n",
       "      <td>100.946659</td>\n",
       "      <td>113.404828</td>\n",
       "      <td>547.817646</td>\n",
       "      <td>7</td>\n",
       "      <td>905.842541</td>\n",
       "    </tr>\n",
       "    <tr>\n",
       "      <th>4</th>\n",
       "      <td>81.600341</td>\n",
       "      <td>1</td>\n",
       "      <td>223.088908</td>\n",
       "      <td>83.048176</td>\n",
       "      <td>434.726333</td>\n",
       "      <td>6</td>\n",
       "      <td>897.584665</td>\n",
       "    </tr>\n",
       "    <tr>\n",
       "      <th>...</th>\n",
       "      <td>...</td>\n",
       "      <td>...</td>\n",
       "      <td>...</td>\n",
       "      <td>...</td>\n",
       "      <td>...</td>\n",
       "      <td>...</td>\n",
       "      <td>...</td>\n",
       "    </tr>\n",
       "    <tr>\n",
       "      <th>15995</th>\n",
       "      <td>77.053550</td>\n",
       "      <td>1</td>\n",
       "      <td>154.189768</td>\n",
       "      <td>103.115855</td>\n",
       "      <td>319.915079</td>\n",
       "      <td>7</td>\n",
       "      <td>956.781949</td>\n",
       "    </tr>\n",
       "    <tr>\n",
       "      <th>15996</th>\n",
       "      <td>99.795631</td>\n",
       "      <td>1</td>\n",
       "      <td>282.295839</td>\n",
       "      <td>123.598354</td>\n",
       "      <td>647.292136</td>\n",
       "      <td>4</td>\n",
       "      <td>879.682714</td>\n",
       "    </tr>\n",
       "    <tr>\n",
       "      <th>15997</th>\n",
       "      <td>67.478487</td>\n",
       "      <td>1</td>\n",
       "      <td>120.017122</td>\n",
       "      <td>102.308627</td>\n",
       "      <td>514.372747</td>\n",
       "      <td>8</td>\n",
       "      <td>932.829561</td>\n",
       "    </tr>\n",
       "    <tr>\n",
       "      <th>15998</th>\n",
       "      <td>85.176890</td>\n",
       "      <td>1</td>\n",
       "      <td>247.847389</td>\n",
       "      <td>114.956634</td>\n",
       "      <td>695.035801</td>\n",
       "      <td>6</td>\n",
       "      <td>889.738438</td>\n",
       "    </tr>\n",
       "    <tr>\n",
       "      <th>15999</th>\n",
       "      <td>87.838280</td>\n",
       "      <td>0</td>\n",
       "      <td>244.216536</td>\n",
       "      <td>98.313738</td>\n",
       "      <td>590.794915</td>\n",
       "      <td>6</td>\n",
       "      <td>554.698389</td>\n",
       "    </tr>\n",
       "  </tbody>\n",
       "</table>\n",
       "<p>16000 rows × 7 columns</p>\n",
       "</div>"
      ],
      "text/plain": [
       "       Soil_Quality  Seed_Variety  Fertilizer_Amount_kg_per_hectare  \\\n",
       "0         96.415657             1                        147.853040   \n",
       "1         92.352626             0                        281.565396   \n",
       "2         63.714785             1                        137.864940   \n",
       "3         90.084256             1                        100.946659   \n",
       "4         81.600341             1                        223.088908   \n",
       "...             ...           ...                               ...   \n",
       "15995     77.053550             1                        154.189768   \n",
       "15996     99.795631             1                        282.295839   \n",
       "15997     67.478487             1                        120.017122   \n",
       "15998     85.176890             1                        247.847389   \n",
       "15999     87.838280             0                        244.216536   \n",
       "\n",
       "       Sunny_Days  Rainfall_mm  Irrigation_Schedule  Yield_kg_per_hectare  \n",
       "0       94.593926   444.267569                    3            683.759119  \n",
       "1       90.504644   517.585491                    7            678.714861  \n",
       "2       97.329340   420.310945                    8            934.691975  \n",
       "3      113.404828   547.817646                    7            905.842541  \n",
       "4       83.048176   434.726333                    6            897.584665  \n",
       "...           ...          ...                  ...                   ...  \n",
       "15995  103.115855   319.915079                    7            956.781949  \n",
       "15996  123.598354   647.292136                    4            879.682714  \n",
       "15997  102.308627   514.372747                    8            932.829561  \n",
       "15998  114.956634   695.035801                    6            889.738438  \n",
       "15999   98.313738   590.794915                    6            554.698389  \n",
       "\n",
       "[16000 rows x 7 columns]"
      ]
     },
     "execution_count": 4,
     "metadata": {},
     "output_type": "execute_result"
    }
   ],
   "source": [
    "df_treino"
   ]
  },
  {
   "cell_type": "markdown",
   "id": "d2c090d1-0f40-480f-a6ed-2acf134157e4",
   "metadata": {},
   "source": [
    "Nesta célula, foi gerada uma matriz de correlação para observar a relação entre as colunas do dataset"
   ]
  },
  {
   "cell_type": "code",
   "execution_count": null,
   "id": "c7482f4c-5881-45b8-99b6-01c4faeca22e",
   "metadata": {},
   "outputs": [],
   "source": [
    "correlation_matrix = df_treino.corr()\n",
    "\n",
    "plt.figure(figsize=(10, 8))\n",
    "sns.heatmap(correlation_matrix, annot=True, cmap='coolwarm', fmt=\".2f\", linewidths=.5)\n",
    "plt.title('Mapa de Calor da Matriz de Correlação')\n",
    "plt.show()"
   ]
  },
  {
   "cell_type": "markdown",
   "id": "d7761704-37e4-4849-904a-54444abb6ad5",
   "metadata": {},
   "source": [
    "Aqui estão os parâmetros da validação que serão utilizados posteriormente no código."
   ]
  },
  {
   "cell_type": "code",
   "execution_count": 6,
   "id": "17cfaec4-771d-470a-91a9-b9a707267352",
   "metadata": {},
   "outputs": [],
   "source": [
    "TAMANHO_VALIDACAO = 0.1\n",
    "\n",
    "SEMENTE_ALEATORIA = 61455"
   ]
  },
  {
   "cell_type": "markdown",
   "id": "15fb04c3-a15d-4165-a31f-6138fc968eb6",
   "metadata": {},
   "source": [
    "Agora, finalmente, separamos os dados do dataset em alvo (target) e atributos."
   ]
  },
  {
   "cell_type": "code",
   "execution_count": 7,
   "id": "a929186a-5a9d-464d-8ce2-3934bc857092",
   "metadata": {},
   "outputs": [],
   "source": [
    "X_teste = df_teste.reindex(features, axis=1).values\n",
    "y_teste = df_teste.reindex(target, axis=1).values\n",
    "\n",
    "X_treino = df_treino.reindex(features, axis=1).values\n",
    "y_treino = df_treino.reindex(target, axis=1).values"
   ]
  },
  {
   "cell_type": "markdown",
   "id": "e1ad5df6-4d74-4654-96c9-b6711ad939ec",
   "metadata": {},
   "source": [
    "Agora, dividimos o conjunto de treinamento em subconjuntos de treinamento e validação usando a técnica de divisão (split)."
   ]
  },
  {
   "cell_type": "code",
   "execution_count": 8,
   "id": "81985628-8b4a-489a-bf64-c73a86997d06",
   "metadata": {},
   "outputs": [
    {
     "name": "stdout",
     "output_type": "stream",
     "text": [
      "RangeIndex(start=0, stop=16000, step=1) 16000\n",
      "Index([ 2519, 11035,  3934, 14982,  4078, 12245, 12217,  9147, 11629,  3768,\n",
      "       ...\n",
      "        6255,  7971, 13014,  6321, 12691,  2256, 10672,  6652, 11166, 13937],\n",
      "      dtype='int64', length=14400) 14400\n",
      "\n",
      "Index([ 8987,  4178,  4313,  1666,  6784, 12065, 10246,  8625,  9889,  6176,\n",
      "       ...\n",
      "        4452, 12565, 12620, 13756, 14945,    97,  8368, 10148, 12993,  5542],\n",
      "      dtype='int64', length=1600) 1600\n"
     ]
    }
   ],
   "source": [
    "indices = df_treino.index\n",
    "print(indices, len(indices))\n",
    "indices_treino, indices_val = train_test_split(\n",
    "    indices, test_size=TAMANHO_VALIDACAO, random_state=SEMENTE_ALEATORIA\n",
    ")\n",
    "\n",
    "print(indices_treino, len(indices_treino))\n",
    "print()\n",
    "print(indices_val, len(indices_val))\n",
    "\n",
    "df_val = df_treino.loc[indices_val]\n",
    "df_treino = df_treino.loc[indices_treino]\n",
    "\n",
    "\n",
    "X_treino = df_treino.reindex(features, axis=1).values\n",
    "y_treino = df_treino.reindex(target, axis=1).values\n",
    "\n",
    "X_val = df_val.reindex(features, axis=1).values\n",
    "y_val = df_val.reindex(target, axis=1).values"
   ]
  },
  {
   "cell_type": "markdown",
   "id": "ef89d174-4101-4b27-84c0-c10281999d97",
   "metadata": {},
   "source": [
    "Nas células de código abaixo, realizamos a normalização e a preparação dos dados para treinar e testar a rede neural."
   ]
  },
  {
   "cell_type": "code",
   "execution_count": 9,
   "id": "3013eecc-8daf-45aa-bbc4-12856e5d514d",
   "metadata": {},
   "outputs": [],
   "source": [
    "x_scaler = MaxAbsScaler()\n",
    "x_scaler.fit(X_treino)\n",
    "\n",
    "y_scaler = MaxAbsScaler()\n",
    "y_scaler.fit(y_treino)\n",
    "\n",
    "X_treino = x_scaler.transform(X_treino)\n",
    "y_treino = y_scaler.transform(y_treino)\n",
    "\n",
    "X_val = x_scaler.transform(X_val)\n",
    "y_val = y_scaler.transform(y_val)\n",
    "\n",
    "X_teste = x_scaler.transform(X_teste)\n",
    "y_teste = y_scaler.transform(y_teste)"
   ]
  },
  {
   "cell_type": "code",
   "execution_count": 10,
   "id": "3f409ace-6aff-4971-b0b5-c922900ea9f5",
   "metadata": {},
   "outputs": [],
   "source": [
    "X_treino = torch.tensor(X_treino, dtype=torch.float32)\n",
    "y_treino = torch.tensor(y_treino, dtype=torch.float32)\n",
    "\n",
    "X_val = torch.tensor(X_val, dtype=torch.float32)\n",
    "y_val = torch.tensor(y_val, dtype=torch.float32)\n",
    "\n",
    "X_teste = torch.tensor(X_teste, dtype=torch.float32)\n",
    "y_teste = torch.tensor(y_teste, dtype=torch.float32)"
   ]
  },
  {
   "cell_type": "code",
   "execution_count": 11,
   "id": "7649c343-57d7-4f4e-be34-027770d04625",
   "metadata": {},
   "outputs": [
    {
     "data": {
      "text/plain": [
       "tensor([[0.9331, 0.0000, 0.4418, 0.6788, 0.6905, 0.2000],\n",
       "        [0.8368, 1.0000, 0.1910, 0.6952, 0.5348, 0.5333],\n",
       "        [0.6596, 1.0000, 0.7597, 0.7362, 0.5850, 0.2667],\n",
       "        ...,\n",
       "        [0.9415, 1.0000, 0.6549, 0.7724, 0.5253, 0.2000],\n",
       "        [0.6145, 1.0000, 0.2687, 0.6868, 0.8926, 0.2667],\n",
       "        [0.5520, 0.0000, 0.4083, 0.6341, 0.6683, 0.2667]])"
      ]
     },
     "execution_count": 11,
     "metadata": {},
     "output_type": "execute_result"
    }
   ],
   "source": [
    "X_teste"
   ]
  },
  {
   "cell_type": "code",
   "execution_count": 12,
   "id": "31eba1c4-9937-40be-85b6-46e87456ed3d",
   "metadata": {},
   "outputs": [
    {
     "data": {
      "text/plain": [
       "tensor([[0.2014],\n",
       "        [0.6039],\n",
       "        [0.5674],\n",
       "        ...,\n",
       "        [0.5603],\n",
       "        [0.3627],\n",
       "        [0.1856]])"
      ]
     },
     "execution_count": 12,
     "metadata": {},
     "output_type": "execute_result"
    }
   ],
   "source": [
    "y_teste"
   ]
  },
  {
   "cell_type": "code",
   "execution_count": 13,
   "id": "ab0553d8-586e-4670-b5d5-e4d365b71e97",
   "metadata": {},
   "outputs": [
    {
     "data": {
      "text/plain": [
       "tensor([[0.9795, 0.0000, 0.7640, 0.7867, 0.4237, 0.2000],\n",
       "        [0.9797, 0.0000, 0.9775, 0.5857, 0.6576, 0.2667],\n",
       "        [0.9986, 1.0000, 0.4590, 0.6481, 0.5381, 0.1333],\n",
       "        ...,\n",
       "        [0.6414, 1.0000, 0.9437, 0.7126, 0.5219, 0.3333],\n",
       "        [0.6388, 1.0000, 0.4695, 0.6392, 0.3804, 0.2667],\n",
       "        [0.9902, 1.0000, 0.5284, 0.7755, 0.6688, 0.3333]])"
      ]
     },
     "execution_count": 13,
     "metadata": {},
     "output_type": "execute_result"
    }
   ],
   "source": [
    "X_treino"
   ]
  },
  {
   "cell_type": "code",
   "execution_count": 14,
   "id": "2e45534e-df83-4626-9501-76fbead97e54",
   "metadata": {},
   "outputs": [
    {
     "data": {
      "text/plain": [
       "tensor([[0.3213],\n",
       "        [0.3385],\n",
       "        [0.4438],\n",
       "        ...,\n",
       "        [0.6514],\n",
       "        [0.4705],\n",
       "        [0.5933]])"
      ]
     },
     "execution_count": 14,
     "metadata": {},
     "output_type": "execute_result"
    }
   ],
   "source": [
    "y_treino"
   ]
  },
  {
   "cell_type": "code",
   "execution_count": 15,
   "id": "40d0f187-0813-49e6-99f4-a9b1c09a332a",
   "metadata": {},
   "outputs": [
    {
     "data": {
      "text/plain": [
       "tensor([[0.6182, 1.0000, 0.3226, 0.7208, 0.6738, 0.5333],\n",
       "        [0.9165, 0.0000, 0.1888, 0.6953, 0.4263, 0.0667],\n",
       "        [0.6729, 1.0000, 0.5926, 0.7751, 0.6263, 0.2667],\n",
       "        ...,\n",
       "        [0.7481, 1.0000, 0.2723, 0.6990, 0.4905, 0.4667],\n",
       "        [0.5995, 1.0000, 0.7954, 0.6793, 0.6092, 0.5333],\n",
       "        [0.5068, 1.0000, 0.8737, 0.7273, 0.5378, 0.5333]])"
      ]
     },
     "execution_count": 15,
     "metadata": {},
     "output_type": "execute_result"
    }
   ],
   "source": [
    "X_val"
   ]
  },
  {
   "cell_type": "code",
   "execution_count": 16,
   "id": "8472311b-4833-4f37-81d4-bb53aa3ac334",
   "metadata": {},
   "outputs": [
    {
     "data": {
      "text/plain": [
       "tensor([[0.6336],\n",
       "        [0.1526],\n",
       "        [0.5981],\n",
       "        ...,\n",
       "        [0.5879],\n",
       "        [0.7066],\n",
       "        [0.6803]])"
      ]
     },
     "execution_count": 16,
     "metadata": {},
     "output_type": "execute_result"
    }
   ],
   "source": [
    "y_val"
   ]
  },
  {
   "cell_type": "markdown",
   "id": "762d5e51-fa6f-412d-835a-a9f9c942f2c5",
   "metadata": {},
   "source": [
    "## Treinando a rede com uma arquitetura aleatória"
   ]
  },
  {
   "cell_type": "markdown",
   "id": "b975cda7-679e-4dcb-bf91-15f0566c21ea",
   "metadata": {},
   "source": [
    "Esta célula é o passo inicial para criarmos e treinarmos nosso modelo. Utiliza a classe mãe, o DataModule do Lightning, que encapsula diversas informações necessárias para preparar nossos dados e futuramente usar o Lightning no treinamento."
   ]
  },
  {
   "cell_type": "code",
   "execution_count": 29,
   "id": "fe8e9ebc-f24b-4b74-857c-6f957a345e4f",
   "metadata": {},
   "outputs": [],
   "source": [
    "class DataModule(L.LightningDataModule):\n",
    "    def __init__(\n",
    "        self,\n",
    "        X_treino,\n",
    "        y_treino,\n",
    "        X_val,\n",
    "        y_val,\n",
    "        X_teste,\n",
    "        y_teste,\n",
    "        tamanho_lote = 256,\n",
    "        num_trabalhadores = 8,\n",
    "    ):\n",
    "        super().__init__()\n",
    "\n",
    "        self.tamanho_lote = tamanho_lote\n",
    "        self.num_trabalhadores = num_trabalhadores\n",
    "\n",
    "        self.X_treino = X_treino\n",
    "        self.y_treino = y_treino\n",
    "        self.X_val = X_val\n",
    "        self.y_val = y_val\n",
    "        self.X_teste = X_teste\n",
    "        self.y_teste = y_teste\n",
    "\n",
    "    def train_dataloader(self):\n",
    "        return DataLoader(\n",
    "            TensorDataset(self.X_treino, self.y_treino),\n",
    "            batch_size=self.tamanho_lote,\n",
    "            num_workers=self.num_trabalhadores,\n",
    "            persistent_workers=True\n",
    "        )\n",
    "\n",
    "    def val_dataloader(self):\n",
    "        return DataLoader(\n",
    "            TensorDataset(self.X_val, self.y_val),\n",
    "            batch_size=self.tamanho_lote,\n",
    "            num_workers=self.num_trabalhadores,\n",
    "            persistent_workers=True\n",
    "        )\n",
    "\n",
    "    def test_dataloader(self):\n",
    "        return DataLoader(\n",
    "            TensorDataset(self.X_teste, self.y_teste),\n",
    "            batch_size=self.tamanho_lote,\n",
    "            num_workers=self.num_trabalhadores,\n",
    "            persistent_workers=True\n",
    "        )"
   ]
  },
  {
   "cell_type": "markdown",
   "id": "aec5e5eb-03e7-4875-be46-9a24c2e797ce",
   "metadata": {},
   "source": [
    "Para verificar se os dados estavam devidamente tratados e se funcionariam em nossa MLP, criamos uma MLP de teste com arquitetura aleatória"
   ]
  },
  {
   "cell_type": "code",
   "execution_count": 18,
   "id": "8135d55a-b982-4dc1-a021-5fa41bdba646",
   "metadata": {},
   "outputs": [],
   "source": [
    "class MLP_teste(L.LightningModule):\n",
    "    def __init__(\n",
    "        self, num_dados_entrada, neuronios_c1, neuronios_c2, num_targets\n",
    "    ):\n",
    "        super().__init__()\n",
    "\n",
    "        self.camadas = nn.Sequential(\n",
    "            nn.Linear(num_dados_entrada, neuronios_c1),\n",
    "            nn.Sigmoid(),\n",
    "            nn.Linear(neuronios_c1, neuronios_c2),\n",
    "            nn.Sigmoid(),\n",
    "            nn.Linear(neuronios_c2, num_targets),\n",
    "        )  \n",
    "        \n",
    "\n",
    "        self.fun_perda = F.mse_loss\n",
    "\n",
    "        self.perdas_treino = []\n",
    "        self.perdas_val = []\n",
    "\n",
    "        self.curva_aprendizado_treino = []\n",
    "        self.curva_aprendizado_val = []\n",
    "\n",
    "    def forward(self, x):\n",
    "        x = self.camadas(x)\n",
    "        return x\n",
    "\n",
    "    def training_step(self, batch, batch_idx):\n",
    "        x, y = batch\n",
    "        y_pred = self(x)\n",
    "        loss = self.fun_perda(y, y_pred)\n",
    "\n",
    "        self.log(\"loss\", loss, prog_bar=True)\n",
    "        self.perdas_treino.append(loss)\n",
    "\n",
    "        return loss\n",
    "\n",
    "    def validation_step(self, batch, batch_idx):\n",
    "        x, y = batch\n",
    "        y_pred = self(x)\n",
    "        loss = self.fun_perda(y, y_pred)\n",
    "\n",
    "        self.log(\"val_loss\", loss, prog_bar=True)\n",
    "        self.perdas_val.append(loss)\n",
    "\n",
    "        return loss\n",
    "\n",
    "    def test_step(self, batch, batch_idx):\n",
    "        x, y = batch\n",
    "        y_pred = self(x)\n",
    "        loss = self.fun_perda(y, y_pred)\n",
    "\n",
    "        self.log(\"test_loss\", loss)\n",
    "\n",
    "        return loss\n",
    "\n",
    "    def on_train_epoch_end(self):\n",
    "        # Atualiza curva de aprendizado\n",
    "        perda_media = torch.stack(self.perdas_treino).mean()\n",
    "        self.curva_aprendizado_treino.append(float(perda_media))\n",
    "        self.perdas_treino.clear()\n",
    "\n",
    "    def on_validation_epoch_end(self):\n",
    "        # Atualiza curva de aprendizado\n",
    "        perda_media = torch.stack(self.perdas_val).mean()\n",
    "        self.curva_aprendizado_val.append(float(perda_media))\n",
    "        self.perdas_val.clear()\n",
    "\n",
    "    def configure_optimizers(self):\n",
    "        optimizer = optim.SGD(self.parameters(), lr=1e-3)\n",
    "        return optimizer"
   ]
  },
  {
   "cell_type": "markdown",
   "id": "401e83e4-9a94-4fcb-9884-6a1d36e6a305",
   "metadata": {},
   "source": [
    "Aqui, definimos o número de épocas e criamos o treinador, que executará o treinamento pela quantidade de épocas especificada"
   ]
  },
  {
   "cell_type": "code",
   "execution_count": 19,
   "id": "0b66d44c-22a5-4c32-ab72-268d61cdfec9",
   "metadata": {},
   "outputs": [
    {
     "name": "stderr",
     "output_type": "stream",
     "text": [
      "GPU available: True (cuda), used: True\n",
      "TPU available: False, using: 0 TPU cores\n",
      "IPU available: False, using: 0 IPUs\n",
      "HPU available: False, using: 0 HPUs\n",
      "/home/joao23022/anaconda3/envs/redes/lib/python3.12/site-packages/lightning/pytorch/trainer/connectors/logger_connector/logger_connector.py:75: Starting from v1.9.0, `tensorboardX` has been removed as a dependency of the `lightning.pytorch` package, due to potential conflicts with other packages in the ML ecosystem. For this reason, `logger=True` will use `CSVLogger` as the default logger, unless the `tensorboard` or `tensorboardX` packages are found. Please `pip install lightning[extra]` or one of them to enable TensorBoard support by default\n"
     ]
    }
   ],
   "source": [
    "NUM_EPOCAS = 20\n",
    "\n",
    "treinador = L.Trainer(max_epochs=NUM_EPOCAS)"
   ]
  },
  {
   "cell_type": "markdown",
   "id": "807b12a2-3753-446a-9a7b-26e0e31e53c2",
   "metadata": {},
   "source": [
    "Precisamos também criar uma instância da classe `DataModule` que definimos acima.\n",
    "\n"
   ]
  },
  {
   "cell_type": "code",
   "execution_count": 20,
   "id": "65e1650f-3f20-44c4-a4ad-dc8e02d90595",
   "metadata": {},
   "outputs": [],
   "source": [
    "dm = DataModule(X_treino, y_treino, X_val, y_val, X_teste, y_teste)"
   ]
  },
  {
   "cell_type": "markdown",
   "id": "601d792d-489a-4520-8ca0-5843fbf1cf0f",
   "metadata": {},
   "source": [
    "Antes de treinar, precisamos também criar uma instância da rede neural.\n",
    "\n"
   ]
  },
  {
   "cell_type": "code",
   "execution_count": 21,
   "id": "8048c9b8-04e2-4096-980d-7c70dde1ff08",
   "metadata": {},
   "outputs": [],
   "source": [
    "num_dados_de_entrada = 6\n",
    "num_dados_de_saida = 1\n",
    "neuronios_c1 = random.randint(1, 120)\n",
    "neuronios_c2 = random.randint(1, 120)\n",
    "\n",
    "mlp_teste = MLP_teste(\n",
    "    num_dados_de_entrada, neuronios_c1, neuronios_c2, num_dados_de_saida\n",
    ")"
   ]
  },
  {
   "cell_type": "markdown",
   "id": "59a7c6bf-1dca-4d7a-984c-e4c62978b8cf",
   "metadata": {},
   "source": [
    "Finalmente, temos tudo que precisamos. Podemos rodar o método `fit` do nosso treinador na nossa instância da rede neural, fornecendo também uma instância do `DataModule` como argumento.\n",
    "\n"
   ]
  },
  {
   "cell_type": "code",
   "execution_count": 22,
   "id": "329f537f-7c9c-4ea0-a5c7-e198794bb157",
   "metadata": {},
   "outputs": [
    {
     "name": "stderr",
     "output_type": "stream",
     "text": [
      "LOCAL_RANK: 0 - CUDA_VISIBLE_DEVICES: [0]\n",
      "\n",
      "  | Name    | Type       | Params\n",
      "---------------------------------------\n",
      "0 | camadas | Sequential | 463   \n",
      "---------------------------------------\n",
      "463       Trainable params\n",
      "0         Non-trainable params\n",
      "463       Total params\n",
      "0.002     Total estimated model params size (MB)\n",
      "SLURM auto-requeueing enabled. Setting signal handlers.\n"
     ]
    },
    {
     "name": "stdout",
     "output_type": "stream",
     "text": [
      "Epoch 0: 100%|██████████| 57/57 [00:00<00:00, 205.81it/s, v_num=319, loss=0.0302]\n",
      "Validation: |          | 0/? [00:00<?, ?it/s]\u001b[A\n",
      "Validation:   0%|          | 0/7 [00:00<?, ?it/s]\u001b[A\n",
      "Validation DataLoader 0:   0%|          | 0/7 [00:00<?, ?it/s]\u001b[A\n",
      "Validation DataLoader 0:  14%|█▍        | 1/7 [00:00<00:00, 379.03it/s]\u001b[A\n",
      "Validation DataLoader 0:  29%|██▊       | 2/7 [00:00<00:00, 473.13it/s]\u001b[A\n",
      "Validation DataLoader 0:  43%|████▎     | 3/7 [00:00<00:00, 525.93it/s]\u001b[A\n",
      "Validation DataLoader 0:  57%|█████▋    | 4/7 [00:00<00:00, 550.80it/s]\u001b[A\n",
      "Validation DataLoader 0:  71%|███████▏  | 5/7 [00:00<00:00, 573.10it/s]\u001b[A\n",
      "Validation DataLoader 0:  86%|████████▌ | 6/7 [00:00<00:00, 559.50it/s]\u001b[A\n",
      "Validation DataLoader 0: 100%|██████████| 7/7 [00:00<00:00, 568.86it/s]\u001b[A\n",
      "Epoch 1: 100%|██████████| 57/57 [00:00<00:00, 339.25it/s, v_num=319, loss=0.0172, val_loss=0.0312]\n",
      "Validation: |          | 0/? [00:00<?, ?it/s]\u001b[A\n",
      "Validation:   0%|          | 0/7 [00:00<?, ?it/s]\u001b[A\n",
      "Validation DataLoader 0:   0%|          | 0/7 [00:00<?, ?it/s]\u001b[A\n",
      "Validation DataLoader 0:  14%|█▍        | 1/7 [00:00<00:00, 434.78it/s]\u001b[A\n",
      "Validation DataLoader 0:  29%|██▊       | 2/7 [00:00<00:00, 528.82it/s]\u001b[A\n",
      "Validation DataLoader 0:  43%|████▎     | 3/7 [00:00<00:00, 572.84it/s]\u001b[A\n",
      "Validation DataLoader 0:  57%|█████▋    | 4/7 [00:00<00:00, 597.33it/s]\u001b[A\n",
      "Validation DataLoader 0:  71%|███████▏  | 5/7 [00:00<00:00, 613.40it/s]\u001b[A\n",
      "Validation DataLoader 0:  86%|████████▌ | 6/7 [00:00<00:00, 596.73it/s]\u001b[A\n",
      "Validation DataLoader 0: 100%|██████████| 7/7 [00:00<00:00, 607.63it/s]\u001b[A\n",
      "Epoch 2: 100%|██████████| 57/57 [00:00<00:00, 344.14it/s, v_num=319, loss=0.0166, val_loss=0.0218]\n",
      "Validation: |          | 0/? [00:00<?, ?it/s]\u001b[A\n",
      "Validation:   0%|          | 0/7 [00:00<?, ?it/s]\u001b[A\n",
      "Validation DataLoader 0:   0%|          | 0/7 [00:00<?, ?it/s]\u001b[A\n",
      "Validation DataLoader 0:  14%|█▍        | 1/7 [00:00<00:00, 429.13it/s]\u001b[A\n",
      "Validation DataLoader 0:  29%|██▊       | 2/7 [00:00<00:00, 521.94it/s]\u001b[A\n",
      "Validation DataLoader 0:  43%|████▎     | 3/7 [00:00<00:00, 568.49it/s]\u001b[A\n",
      "Validation DataLoader 0:  57%|█████▋    | 4/7 [00:00<00:00, 594.43it/s]\u001b[A\n",
      "Validation DataLoader 0:  71%|███████▏  | 5/7 [00:00<00:00, 602.44it/s]\u001b[A\n",
      "Validation DataLoader 0:  86%|████████▌ | 6/7 [00:00<00:00, 588.14it/s]\u001b[A\n",
      "Validation DataLoader 0: 100%|██████████| 7/7 [00:00<00:00, 598.66it/s]\u001b[A\n",
      "Epoch 3: 100%|██████████| 57/57 [00:00<00:00, 337.25it/s, v_num=319, loss=0.0165, val_loss=0.0217]\n",
      "Validation: |          | 0/? [00:00<?, ?it/s]\u001b[A\n",
      "Validation:   0%|          | 0/7 [00:00<?, ?it/s]\u001b[A\n",
      "Validation DataLoader 0:   0%|          | 0/7 [00:00<?, ?it/s]\u001b[A\n",
      "Validation DataLoader 0:  14%|█▍        | 1/7 [00:00<00:00, 411.57it/s]\u001b[A\n",
      "Validation DataLoader 0:  29%|██▊       | 2/7 [00:00<00:00, 494.58it/s]\u001b[A\n",
      "Validation DataLoader 0:  43%|████▎     | 3/7 [00:00<00:00, 550.07it/s]\u001b[A\n",
      "Validation DataLoader 0:  57%|█████▋    | 4/7 [00:00<00:00, 578.35it/s]\u001b[A\n",
      "Validation DataLoader 0:  71%|███████▏  | 5/7 [00:00<00:00, 586.94it/s]\u001b[A\n",
      "Validation DataLoader 0:  86%|████████▌ | 6/7 [00:00<00:00, 572.78it/s]\u001b[A\n",
      "Validation DataLoader 0: 100%|██████████| 7/7 [00:00<00:00, 585.25it/s]\u001b[A\n",
      "Epoch 4: 100%|██████████| 57/57 [00:00<00:00, 337.46it/s, v_num=319, loss=0.0165, val_loss=0.0217]\n",
      "Validation: |          | 0/? [00:00<?, ?it/s]\u001b[A\n",
      "Validation:   0%|          | 0/7 [00:00<?, ?it/s]\u001b[A\n",
      "Validation DataLoader 0:   0%|          | 0/7 [00:00<?, ?it/s]\u001b[A\n",
      "Validation DataLoader 0:  14%|█▍        | 1/7 [00:00<00:00, 435.09it/s]\u001b[A\n",
      "Validation DataLoader 0:  29%|██▊       | 2/7 [00:00<00:00, 517.30it/s]\u001b[A\n",
      "Validation DataLoader 0:  43%|████▎     | 3/7 [00:00<00:00, 562.01it/s]\u001b[A\n",
      "Validation DataLoader 0:  57%|█████▋    | 4/7 [00:00<00:00, 523.21it/s]\u001b[A\n",
      "Validation DataLoader 0:  71%|███████▏  | 5/7 [00:00<00:00, 549.55it/s]\u001b[A\n",
      "Validation DataLoader 0:  86%|████████▌ | 6/7 [00:00<00:00, 564.18it/s]\u001b[A\n",
      "Validation DataLoader 0: 100%|██████████| 7/7 [00:00<00:00, 579.34it/s]\u001b[A\n",
      "Epoch 5: 100%|██████████| 57/57 [00:00<00:00, 300.46it/s, v_num=319, loss=0.0165, val_loss=0.0217]\n",
      "Validation: |          | 0/? [00:00<?, ?it/s]\u001b[A\n",
      "Validation:   0%|          | 0/7 [00:00<?, ?it/s]\u001b[A\n",
      "Validation DataLoader 0:   0%|          | 0/7 [00:00<?, ?it/s]\u001b[A\n",
      "Validation DataLoader 0:  14%|█▍        | 1/7 [00:00<00:00, 435.77it/s]\u001b[A\n",
      "Validation DataLoader 0:  29%|██▊       | 2/7 [00:00<00:00, 516.41it/s]\u001b[A\n",
      "Validation DataLoader 0:  43%|████▎     | 3/7 [00:00<00:00, 568.49it/s]\u001b[A\n",
      "Validation DataLoader 0:  57%|█████▋    | 4/7 [00:00<00:00, 593.84it/s]\u001b[A\n",
      "Validation DataLoader 0:  71%|███████▏  | 5/7 [00:00<00:00, 606.25it/s]\u001b[A\n",
      "Validation DataLoader 0:  86%|████████▌ | 6/7 [00:00<00:00, 596.57it/s]\u001b[A\n",
      "Validation DataLoader 0: 100%|██████████| 7/7 [00:00<00:00, 603.58it/s]\u001b[A\n",
      "Epoch 6: 100%|██████████| 57/57 [00:00<00:00, 337.86it/s, v_num=319, loss=0.0165, val_loss=0.0217]\n",
      "Validation: |          | 0/? [00:00<?, ?it/s]\u001b[A\n",
      "Validation:   0%|          | 0/7 [00:00<?, ?it/s]\u001b[A\n",
      "Validation DataLoader 0:   0%|          | 0/7 [00:00<?, ?it/s]\u001b[A\n",
      "Validation DataLoader 0:  14%|█▍        | 1/7 [00:00<00:00, 440.67it/s]\u001b[A\n",
      "Validation DataLoader 0:  29%|██▊       | 2/7 [00:00<00:00, 517.94it/s]\u001b[A\n",
      "Validation DataLoader 0:  43%|████▎     | 3/7 [00:00<00:00, 558.30it/s]\u001b[A\n",
      "Validation DataLoader 0:  57%|█████▋    | 4/7 [00:00<00:00, 574.50it/s]\u001b[A\n",
      "Validation DataLoader 0:  71%|███████▏  | 5/7 [00:00<00:00, 596.54it/s]\u001b[A\n",
      "Validation DataLoader 0:  86%|████████▌ | 6/7 [00:00<00:00, 577.34it/s]\u001b[A\n",
      "Validation DataLoader 0: 100%|██████████| 7/7 [00:00<00:00, 592.82it/s]\u001b[A\n",
      "Epoch 7: 100%|██████████| 57/57 [00:00<00:00, 335.75it/s, v_num=319, loss=0.0165, val_loss=0.0217]\n",
      "Validation: |          | 0/? [00:00<?, ?it/s]\u001b[A\n",
      "Validation:   0%|          | 0/7 [00:00<?, ?it/s]\u001b[A\n",
      "Validation DataLoader 0:   0%|          | 0/7 [00:00<?, ?it/s]\u001b[A\n",
      "Validation DataLoader 0:  14%|█▍        | 1/7 [00:00<00:00, 432.14it/s]\u001b[A\n",
      "Validation DataLoader 0:  29%|██▊       | 2/7 [00:00<00:00, 513.85it/s]\u001b[A\n",
      "Validation DataLoader 0:  43%|████▎     | 3/7 [00:00<00:00, 418.61it/s]\u001b[A\n",
      "Validation DataLoader 0:  57%|█████▋    | 4/7 [00:00<00:00, 461.66it/s]\u001b[A\n",
      "Validation DataLoader 0:  71%|███████▏  | 5/7 [00:00<00:00, 464.65it/s]\u001b[A\n",
      "Validation DataLoader 0:  86%|████████▌ | 6/7 [00:00<00:00, 486.76it/s]\u001b[A\n",
      "Validation DataLoader 0: 100%|██████████| 7/7 [00:00<00:00, 508.99it/s]\u001b[A\n",
      "Epoch 8: 100%|██████████| 57/57 [00:00<00:00, 343.05it/s, v_num=319, loss=0.0165, val_loss=0.0217]\n",
      "Validation: |          | 0/? [00:00<?, ?it/s]\u001b[A\n",
      "Validation:   0%|          | 0/7 [00:00<?, ?it/s]\u001b[A\n",
      "Validation DataLoader 0:   0%|          | 0/7 [00:00<?, ?it/s]\u001b[A\n",
      "Validation DataLoader 0:  14%|█▍        | 1/7 [00:00<00:00, 436.95it/s]\u001b[A\n",
      "Validation DataLoader 0:  29%|██▊       | 2/7 [00:00<00:00, 517.14it/s]\u001b[A\n",
      "Validation DataLoader 0:  43%|████▎     | 3/7 [00:00<00:00, 556.69it/s]\u001b[A\n",
      "Validation DataLoader 0:  57%|█████▋    | 4/7 [00:00<00:00, 586.80it/s]\u001b[A\n",
      "Validation DataLoader 0:  71%|███████▏  | 5/7 [00:00<00:00, 597.99it/s]\u001b[A\n",
      "Validation DataLoader 0:  86%|████████▌ | 6/7 [00:00<00:00, 584.79it/s]\u001b[A\n",
      "Validation DataLoader 0: 100%|██████████| 7/7 [00:00<00:00, 599.32it/s]\u001b[A\n",
      "Epoch 9: 100%|██████████| 57/57 [00:00<00:00, 340.66it/s, v_num=319, loss=0.0165, val_loss=0.0217]\n",
      "Validation: |          | 0/? [00:00<?, ?it/s]\u001b[A\n",
      "Validation:   0%|          | 0/7 [00:00<?, ?it/s]\u001b[A\n",
      "Validation DataLoader 0:   0%|          | 0/7 [00:00<?, ?it/s]\u001b[A\n",
      "Validation DataLoader 0:  14%|█▍        | 1/7 [00:00<00:00, 429.22it/s]\u001b[A\n",
      "Validation DataLoader 0:  29%|██▊       | 2/7 [00:00<00:00, 511.28it/s]\u001b[A\n",
      "Validation DataLoader 0:  43%|████▎     | 3/7 [00:00<00:00, 566.36it/s]\u001b[A\n",
      "Validation DataLoader 0:  57%|█████▋    | 4/7 [00:00<00:00, 580.73it/s]\u001b[A\n",
      "Validation DataLoader 0:  71%|███████▏  | 5/7 [00:00<00:00, 598.40it/s]\u001b[A\n",
      "Validation DataLoader 0:  86%|████████▌ | 6/7 [00:00<00:00, 589.14it/s]\u001b[A\n",
      "Validation DataLoader 0: 100%|██████████| 7/7 [00:00<00:00, 596.56it/s]\u001b[A\n",
      "Epoch 10: 100%|██████████| 57/57 [00:00<00:00, 340.61it/s, v_num=319, loss=0.0165, val_loss=0.0217]\n",
      "Validation: |          | 0/? [00:00<?, ?it/s]\u001b[A\n",
      "Validation:   0%|          | 0/7 [00:00<?, ?it/s]\u001b[A\n",
      "Validation DataLoader 0:   0%|          | 0/7 [00:00<?, ?it/s]\u001b[A\n",
      "Validation DataLoader 0:  14%|█▍        | 1/7 [00:00<00:00, 424.14it/s]\u001b[A\n",
      "Validation DataLoader 0:  29%|██▊       | 2/7 [00:00<00:00, 511.69it/s]\u001b[A\n",
      "Validation DataLoader 0:  43%|████▎     | 3/7 [00:00<00:00, 560.64it/s]\u001b[A\n",
      "Validation DataLoader 0:  57%|█████▋    | 4/7 [00:00<00:00, 579.54it/s]\u001b[A\n",
      "Validation DataLoader 0:  71%|███████▏  | 5/7 [00:00<00:00, 596.15it/s]\u001b[A\n",
      "Validation DataLoader 0:  86%|████████▌ | 6/7 [00:00<00:00, 581.45it/s]\u001b[A\n",
      "Validation DataLoader 0: 100%|██████████| 7/7 [00:00<00:00, 596.56it/s]\u001b[A\n",
      "Epoch 11: 100%|██████████| 57/57 [00:00<00:00, 344.46it/s, v_num=319, loss=0.0164, val_loss=0.0217]\n",
      "Validation: |          | 0/? [00:00<?, ?it/s]\u001b[A\n",
      "Validation:   0%|          | 0/7 [00:00<?, ?it/s]\u001b[A\n",
      "Validation DataLoader 0:   0%|          | 0/7 [00:00<?, ?it/s]\u001b[A\n",
      "Validation DataLoader 0:  14%|█▍        | 1/7 [00:00<00:00, 433.07it/s]\u001b[A\n",
      "Validation DataLoader 0:  29%|██▊       | 2/7 [00:00<00:00, 514.80it/s]\u001b[A\n",
      "Validation DataLoader 0:  43%|████▎     | 3/7 [00:00<00:00, 557.68it/s]\u001b[A\n",
      "Validation DataLoader 0:  57%|█████▋    | 4/7 [00:00<00:00, 588.61it/s]\u001b[A\n",
      "Validation DataLoader 0:  71%|███████▏  | 5/7 [00:00<00:00, 606.31it/s]\u001b[A\n",
      "Validation DataLoader 0:  86%|████████▌ | 6/7 [00:00<00:00, 594.81it/s]\u001b[A\n",
      "Validation DataLoader 0: 100%|██████████| 7/7 [00:00<00:00, 600.67it/s]\u001b[A\n",
      "Epoch 12: 100%|██████████| 57/57 [00:00<00:00, 345.53it/s, v_num=319, loss=0.0164, val_loss=0.0217]\n",
      "Validation: |          | 0/? [00:00<?, ?it/s]\u001b[A\n",
      "Validation:   0%|          | 0/7 [00:00<?, ?it/s]\u001b[A\n",
      "Validation DataLoader 0:   0%|          | 0/7 [00:00<?, ?it/s]\u001b[A\n",
      "Validation DataLoader 0:  14%|█▍        | 1/7 [00:00<00:00, 440.30it/s]\u001b[A\n",
      "Validation DataLoader 0:  29%|██▊       | 2/7 [00:00<00:00, 522.46it/s]\u001b[A\n",
      "Validation DataLoader 0:  43%|████▎     | 3/7 [00:00<00:00, 573.31it/s]\u001b[A\n",
      "Validation DataLoader 0:  57%|█████▋    | 4/7 [00:00<00:00, 598.33it/s]\u001b[A\n",
      "Validation DataLoader 0:  71%|███████▏  | 5/7 [00:00<00:00, 609.99it/s]\u001b[A\n",
      "Validation DataLoader 0:  86%|████████▌ | 6/7 [00:00<00:00, 593.11it/s]\u001b[A\n",
      "Validation DataLoader 0: 100%|██████████| 7/7 [00:00<00:00, 603.53it/s]\u001b[A\n",
      "Epoch 13: 100%|██████████| 57/57 [00:00<00:00, 347.67it/s, v_num=319, loss=0.0164, val_loss=0.0217]\n",
      "Validation: |          | 0/? [00:00<?, ?it/s]\u001b[A\n",
      "Validation:   0%|          | 0/7 [00:00<?, ?it/s]\u001b[A\n",
      "Validation DataLoader 0:   0%|          | 0/7 [00:00<?, ?it/s]\u001b[A\n",
      "Validation DataLoader 0:  14%|█▍        | 1/7 [00:00<00:00, 431.34it/s]\u001b[A\n",
      "Validation DataLoader 0:  29%|██▊       | 2/7 [00:00<00:00, 512.56it/s]\u001b[A\n",
      "Validation DataLoader 0:  43%|████▎     | 3/7 [00:00<00:00, 556.37it/s]\u001b[A\n",
      "Validation DataLoader 0:  57%|█████▋    | 4/7 [00:00<00:00, 525.11it/s]\u001b[A\n",
      "Validation DataLoader 0:  71%|███████▏  | 5/7 [00:00<00:00, 548.94it/s]\u001b[A\n",
      "Validation DataLoader 0:  86%|████████▌ | 6/7 [00:00<00:00, 563.21it/s]\u001b[A\n",
      "Validation DataLoader 0: 100%|██████████| 7/7 [00:00<00:00, 580.09it/s]\u001b[A\n",
      "Epoch 14: 100%|██████████| 57/57 [00:00<00:00, 340.89it/s, v_num=319, loss=0.0164, val_loss=0.0217]\n",
      "Validation: |          | 0/? [00:00<?, ?it/s]\u001b[A\n",
      "Validation:   0%|          | 0/7 [00:00<?, ?it/s]\u001b[A\n",
      "Validation DataLoader 0:   0%|          | 0/7 [00:00<?, ?it/s]\u001b[A\n",
      "Validation DataLoader 0:  14%|█▍        | 1/7 [00:00<00:00, 417.63it/s]\u001b[A\n",
      "Validation DataLoader 0:  29%|██▊       | 2/7 [00:00<00:00, 497.81it/s]\u001b[A\n",
      "Validation DataLoader 0:  43%|████▎     | 3/7 [00:00<00:00, 554.85it/s]\u001b[A\n",
      "Validation DataLoader 0:  57%|█████▋    | 4/7 [00:00<00:00, 567.01it/s]\u001b[A\n",
      "Validation DataLoader 0:  71%|███████▏  | 5/7 [00:00<00:00, 585.85it/s]\u001b[A\n",
      "Validation DataLoader 0:  86%|████████▌ | 6/7 [00:00<00:00, 573.78it/s]\u001b[A\n",
      "Validation DataLoader 0: 100%|██████████| 7/7 [00:00<00:00, 582.46it/s]\u001b[A\n",
      "Epoch 15: 100%|██████████| 57/57 [00:00<00:00, 342.91it/s, v_num=319, loss=0.0164, val_loss=0.0217]\n",
      "Validation: |          | 0/? [00:00<?, ?it/s]\u001b[A\n",
      "Validation:   0%|          | 0/7 [00:00<?, ?it/s]\u001b[A\n",
      "Validation DataLoader 0:   0%|          | 0/7 [00:00<?, ?it/s]\u001b[A\n",
      "Validation DataLoader 0:  14%|█▍        | 1/7 [00:00<00:00, 437.86it/s]\u001b[A\n",
      "Validation DataLoader 0:  29%|██▊       | 2/7 [00:00<00:00, 520.35it/s]\u001b[A\n",
      "Validation DataLoader 0:  43%|████▎     | 3/7 [00:00<00:00, 563.67it/s]\u001b[A\n",
      "Validation DataLoader 0:  57%|█████▋    | 4/7 [00:00<00:00, 590.44it/s]\u001b[A\n",
      "Validation DataLoader 0:  71%|███████▏  | 5/7 [00:00<00:00, 605.48it/s]\u001b[A\n",
      "Validation DataLoader 0:  86%|████████▌ | 6/7 [00:00<00:00, 590.32it/s]\u001b[A\n",
      "Validation DataLoader 0: 100%|██████████| 7/7 [00:00<00:00, 600.57it/s]\u001b[A\n",
      "Epoch 16: 100%|██████████| 57/57 [00:00<00:00, 348.44it/s, v_num=319, loss=0.0164, val_loss=0.0217]\n",
      "Validation: |          | 0/? [00:00<?, ?it/s]\u001b[A\n",
      "Validation:   0%|          | 0/7 [00:00<?, ?it/s]\u001b[A\n",
      "Validation DataLoader 0:   0%|          | 0/7 [00:00<?, ?it/s]\u001b[A\n",
      "Validation DataLoader 0:  14%|█▍        | 1/7 [00:00<00:00, 414.33it/s]\u001b[A\n",
      "Validation DataLoader 0:  29%|██▊       | 2/7 [00:00<00:00, 503.28it/s]\u001b[A\n",
      "Validation DataLoader 0:  43%|████▎     | 3/7 [00:00<00:00, 555.86it/s]\u001b[A\n",
      "Validation DataLoader 0:  57%|█████▋    | 4/7 [00:00<00:00, 578.33it/s]\u001b[A\n",
      "Validation DataLoader 0:  71%|███████▏  | 5/7 [00:00<00:00, 601.87it/s]\u001b[A\n",
      "Validation DataLoader 0:  86%|████████▌ | 6/7 [00:00<00:00, 588.98it/s]\u001b[A\n",
      "Validation DataLoader 0: 100%|██████████| 7/7 [00:00<00:00, 595.52it/s]\u001b[A\n",
      "Epoch 17: 100%|██████████| 57/57 [00:00<00:00, 343.82it/s, v_num=319, loss=0.0164, val_loss=0.0217]\n",
      "Validation: |          | 0/? [00:00<?, ?it/s]\u001b[A\n",
      "Validation:   0%|          | 0/7 [00:00<?, ?it/s]\u001b[A\n",
      "Validation DataLoader 0:   0%|          | 0/7 [00:00<?, ?it/s]\u001b[A\n",
      "Validation DataLoader 0:  14%|█▍        | 1/7 [00:00<00:00, 430.05it/s]\u001b[A\n",
      "Validation DataLoader 0:  29%|██▊       | 2/7 [00:00<00:00, 523.96it/s]\u001b[A\n",
      "Validation DataLoader 0:  43%|████▎     | 3/7 [00:00<00:00, 558.35it/s]\u001b[A\n",
      "Validation DataLoader 0:  57%|█████▋    | 4/7 [00:00<00:00, 588.34it/s]\u001b[A\n",
      "Validation DataLoader 0:  71%|███████▏  | 5/7 [00:00<00:00, 605.27it/s]\u001b[A\n",
      "Validation DataLoader 0:  86%|████████▌ | 6/7 [00:00<00:00, 590.04it/s]\u001b[A\n",
      "Validation DataLoader 0: 100%|██████████| 7/7 [00:00<00:00, 595.19it/s]\u001b[A\n",
      "Epoch 18: 100%|██████████| 57/57 [00:00<00:00, 352.97it/s, v_num=319, loss=0.0164, val_loss=0.0216]\n",
      "Validation: |          | 0/? [00:00<?, ?it/s]\u001b[A\n",
      "Validation:   0%|          | 0/7 [00:00<?, ?it/s]\u001b[A\n",
      "Validation DataLoader 0:   0%|          | 0/7 [00:00<?, ?it/s]\u001b[A\n",
      "Validation DataLoader 0:  14%|█▍        | 1/7 [00:00<00:00, 431.07it/s]\u001b[A\n",
      "Validation DataLoader 0:  29%|██▊       | 2/7 [00:00<00:00, 527.22it/s]\u001b[A\n",
      "Validation DataLoader 0:  43%|████▎     | 3/7 [00:00<00:00, 571.98it/s]\u001b[A\n",
      "Validation DataLoader 0:  57%|█████▋    | 4/7 [00:00<00:00, 592.56it/s]\u001b[A\n",
      "Validation DataLoader 0:  71%|███████▏  | 5/7 [00:00<00:00, 612.93it/s]\u001b[A\n",
      "Validation DataLoader 0:  86%|████████▌ | 6/7 [00:00<00:00, 593.18it/s]\u001b[A\n",
      "Validation DataLoader 0: 100%|██████████| 7/7 [00:00<00:00, 608.65it/s]\u001b[A\n",
      "Epoch 19: 100%|██████████| 57/57 [00:00<00:00, 344.78it/s, v_num=319, loss=0.0164, val_loss=0.0216]\n",
      "Validation: |          | 0/? [00:00<?, ?it/s]\u001b[A\n",
      "Validation:   0%|          | 0/7 [00:00<?, ?it/s]\u001b[A\n",
      "Validation DataLoader 0:   0%|          | 0/7 [00:00<?, ?it/s]\u001b[A\n",
      "Validation DataLoader 0:  14%|█▍        | 1/7 [00:00<00:00, 438.69it/s]\u001b[A\n",
      "Validation DataLoader 0:  29%|██▊       | 2/7 [00:00<00:00, 532.47it/s]\u001b[A\n",
      "Validation DataLoader 0:  43%|████▎     | 3/7 [00:00<00:00, 567.10it/s]\u001b[A\n",
      "Validation DataLoader 0:  57%|█████▋    | 4/7 [00:00<00:00, 598.27it/s]\u001b[A\n",
      "Validation DataLoader 0:  71%|███████▏  | 5/7 [00:00<00:00, 606.76it/s]\u001b[A\n",
      "Validation DataLoader 0:  86%|████████▌ | 6/7 [00:00<00:00, 588.58it/s]\u001b[A\n",
      "Validation DataLoader 0: 100%|██████████| 7/7 [00:00<00:00, 603.47it/s]\u001b[A\n",
      "Epoch 19: 100%|██████████| 57/57 [00:00<00:00, 302.86it/s, v_num=319, loss=0.0164, val_loss=0.0216]"
     ]
    },
    {
     "name": "stderr",
     "output_type": "stream",
     "text": [
      "`Trainer.fit` stopped: `max_epochs=20` reached.\n"
     ]
    },
    {
     "name": "stdout",
     "output_type": "stream",
     "text": [
      "Epoch 19: 100%|██████████| 57/57 [00:00<00:00, 295.98it/s, v_num=319, loss=0.0164, val_loss=0.0216]\n"
     ]
    }
   ],
   "source": [
    "treinador.fit(mlp_teste, dm)"
   ]
  },
  {
   "cell_type": "markdown",
   "id": "e41a9525-8d63-4ccb-b361-a57ac7bf09be",
   "metadata": {},
   "source": [
    "O gráfico abaixo mostra a curva de aprendizado, comparando o treino com a validação."
   ]
  },
  {
   "cell_type": "code",
   "execution_count": 23,
   "id": "445ad222-a14e-494c-9114-4a0c676c4d96",
   "metadata": {},
   "outputs": [
    {
     "data": {
      "text/plain": [
       "Text(0, 0.5, 'Loss')"
      ]
     },
     "execution_count": 23,
     "metadata": {},
     "output_type": "execute_result"
    },
    {
     "data": {
      "image/png": "[encoded data removed]",
      "text/plain": [
       "<Figure size 640x480 with 1 Axes>"
      ]
     },
     "metadata": {},
     "output_type": "display_data"
    }
   ],
   "source": [
    "figura, eixo = plt.subplots()\n",
    "\n",
    "ca_treino = mlp_teste.curva_aprendizado_treino\n",
    "ca_val = mlp_teste.curva_aprendizado_val\n",
    "\n",
    "eixo.plot(ca_treino, label=\"Treino\")\n",
    "eixo.plot(ca_val, label=\"Validação\")\n",
    "\n",
    "eixo.legend()\n",
    "\n",
    "eixo.set_xlim(left=0)\n",
    "\n",
    "eixo.set_title(\"Curva de aprendizado\")\n",
    "eixo.set_xlabel(\"Época\")\n",
    "eixo.set_ylabel(\"Loss\")"
   ]
  },
  {
   "cell_type": "markdown",
   "id": "4996fce8-190f-492a-b517-49043cfe1cef",
   "metadata": {},
   "source": [
    "## Testando a rede com a arquitetura aleatória"
   ]
  },
  {
   "cell_type": "markdown",
   "id": "87f18a02-c1ce-483f-82a9-18a5efc5b0e9",
   "metadata": {},
   "source": [
    "Antes de testar a rede neural que treinamos precisamos deixá-la no modo de avaliação.\n",
    "\n"
   ]
  },
  {
   "cell_type": "code",
   "execution_count": 24,
   "id": "754349b6-49ae-444e-a56b-f2d7fc10b38d",
   "metadata": {},
   "outputs": [
    {
     "data": {
      "text/plain": [
       "MLP_teste(\n",
       "  (camadas): Sequential(\n",
       "    (0): Linear(in_features=6, out_features=5, bias=True)\n",
       "    (1): Sigmoid()\n",
       "    (2): Linear(in_features=5, out_features=61, bias=True)\n",
       "    (3): Sigmoid()\n",
       "    (4): Linear(in_features=61, out_features=1, bias=True)\n",
       "  )\n",
       ")"
      ]
     },
     "execution_count": 24,
     "metadata": {},
     "output_type": "execute_result"
    }
   ],
   "source": [
    "mlp_teste.eval()"
   ]
  },
  {
   "cell_type": "markdown",
   "id": "c7154a3e-5275-4f7c-ac31-07ec39523c81",
   "metadata": {},
   "source": [
    "Antes de computar a métrica, temos que configurar a instância do `DataModule` no modo teste, criar um ambiente onde não computamos os gradientes locais (ambiente `no_grad`), computar os valores previstos do target e, finalmente, desnormalizar os dados com o `inverse_transform`.\n",
    "\n"
   ]
  },
  {
   "cell_type": "code",
   "execution_count": 25,
   "id": "8130a115-b378-41a7-8783-582edad636ed",
   "metadata": {},
   "outputs": [
    {
     "name": "stdout",
     "output_type": "stream",
     "text": [
      "200.79882150446042\n"
     ]
    },
    {
     "name": "stderr",
     "output_type": "stream",
     "text": [
      "/home/joao23022/anaconda3/envs/redes/lib/python3.12/site-packages/sklearn/metrics/_regression.py:483: FutureWarning: 'squared' is deprecated in version 1.4 and will be removed in 1.6. To calculate the root mean squared error, use the function'root_mean_squared_error'.\n",
      "  warnings.warn(\n"
     ]
    }
   ],
   "source": [
    "dm.setup(\"test\")\n",
    "\n",
    "with torch.no_grad():\n",
    "    X_true = dm.X_teste\n",
    "\n",
    "    y_true = dm.y_teste\n",
    "    y_true = y_scaler.inverse_transform(y_true)\n",
    "\n",
    "    y_pred = mlp_teste(X_true)\n",
    "    y_pred = y_scaler.inverse_transform(y_pred)\n",
    "\n",
    "    RMSE = mean_squared_error(y_true, y_pred, squared=False)\n",
    "\n",
    "    print(RMSE)"
   ]
  },
  {
   "cell_type": "markdown",
   "id": "be941091-36c5-450c-9225-e2a23594d15b",
   "metadata": {},
   "source": [
    "Após todos esses passos, podemos observar que os dados estão adequados e podemos partir para o nosso modelo real. Além disso, é possível ver que o RMSD desse modelo de teste ficou alto, pois ninguém deseja um RMSD de 200."
   ]
  },
  {
   "cell_type": "markdown",
   "id": "736a76ac-5aa6-4eb3-9c92-0679a68d665c",
   "metadata": {},
   "source": [
    "## Treinando diferentes MLPs\n",
    "\n",
    "Hiperparâmetros: neurônios (cada camada), camadas e dropout."
   ]
  },
  {
   "cell_type": "markdown",
   "id": "63682ce0-4b82-4cd1-b08a-a0e7f2f21b13",
   "metadata": {},
   "source": [
    "Aqui criamos o Nosso modelo de rede será treinado com diferentes arquiteturas, variando os hiperparâmetros listados acima."
   ]
  },
  {
   "cell_type": "code",
   "execution_count": 26,
   "id": "90cb5c54-4094-49a0-905b-fda5915ba54c",
   "metadata": {},
   "outputs": [],
   "source": [
    "class MLP(L.LightningModule):\n",
    "    def __init__(\n",
    "        self, num_dados_entrada, num_targets, neuronios, dropouts\n",
    "    ):\n",
    "        super().__init__()    \n",
    "        \n",
    "        camadas = []   \n",
    "        \n",
    "        neuronios = [num_dados_entrada]+neuronios\n",
    "    \n",
    "        for k in range(len(neuronios)-1):\n",
    "            camadas.append(nn.Linear(neuronios[k], neuronios[k+1]))\n",
    "            camadas.append(nn.ReLU())\n",
    "            camadas.append(nn.Dropout(dropouts[k]))\n",
    "        \n",
    "        camadas.append(nn.Linear(neuronios[-1], num_targets))\n",
    "        \n",
    "        self.camadas = nn.Sequential(*camadas) \n",
    "        \n",
    "\n",
    "        self.fun_perda = F.mse_loss\n",
    "\n",
    "        self.perdas_treino = []\n",
    "        self.perdas_val = []\n",
    "\n",
    "        self.curva_aprendizado_treino = []\n",
    "        self.curva_aprendizado_val = []\n",
    "\n",
    "    def forward(self, x):\n",
    "        x = self.camadas(x)\n",
    "        return x\n",
    "\n",
    "    def training_step(self, batch, batch_idx):\n",
    "        x, y = batch\n",
    "        y_pred = self(x)\n",
    "        loss = self.fun_perda(y, y_pred)\n",
    "\n",
    "        self.log(\"loss\", loss, prog_bar=True)\n",
    "        self.perdas_treino.append(loss)\n",
    "\n",
    "        return loss\n",
    "\n",
    "    def validation_step(self, batch, batch_idx):\n",
    "        x, y = batch\n",
    "        y_pred = self(x)\n",
    "        loss = self.fun_perda(y, y_pred)\n",
    "\n",
    "        self.log(\"val_loss\", loss, prog_bar=True)\n",
    "        self.perdas_val.append(loss)\n",
    "\n",
    "        return loss\n",
    "\n",
    "    def test_step(self, batch, batch_idx):\n",
    "        x, y = batch\n",
    "        y_pred = self(x)\n",
    "        loss = self.fun_perda(y, y_pred)\n",
    "\n",
    "        self.log(\"test_loss\", loss)\n",
    "\n",
    "        return loss\n",
    "\n",
    "    def on_train_epoch_end(self):\n",
    "        # Atualiza curva de aprendizado\n",
    "        perda_media = torch.stack(self.perdas_treino).mean()\n",
    "        self.curva_aprendizado_treino.append(float(perda_media))\n",
    "        self.perdas_treino.clear()\n",
    "\n",
    "    def on_validation_epoch_end(self):\n",
    "        # Atualiza curva de aprendizado\n",
    "        perda_media = torch.stack(self.perdas_val).mean()\n",
    "        self.curva_aprendizado_val.append(float(perda_media))\n",
    "        self.perdas_val.clear()\n",
    "\n",
    "    def configure_optimizers(self):\n",
    "        optimizer = optim.SGD(self.parameters(), lr=1e-3)\n",
    "        return optimizer"
   ]
  },
  {
   "cell_type": "markdown",
   "id": "68594704-4bb3-4c40-9da8-168e7e2a1abd",
   "metadata": {},
   "source": [
    "A função objective é responsável por explorar as diferentes possíveis arquiteturas, variando esses três hiperparâmetros e utilizando o Optuna para nos ajudar a encontrar o melhor modelo dentre as arquiteturas testadas."
   ]
  },
  {
   "cell_type": "code",
   "execution_count": 27,
   "id": "f99a8e55-cc3a-4df6-ba99-ece7f574bc06",
   "metadata": {},
   "outputs": [],
   "source": [
    "def objective(trial: optuna.trial.Trial) -> float:\n",
    "    \n",
    "    MAX_EPOCHS = 100\n",
    "\n",
    "    # We optimize the number of layers, hidden units in each layer and dropouts.\n",
    "    num_dados_entrada = 6\n",
    "    num_targets = 1\n",
    "    \n",
    "    neuronios = []   \n",
    "    dropouts = []\n",
    "    \n",
    "    n_camadas = trial.suggest_int(\"n_layers\", 1, 5)\n",
    "        \n",
    "    for i in range(n_camadas):\n",
    "        neuronio = trial.suggest_int(f'n_units{i}', 4, 120)\n",
    "        neuronios.append(neuronio)\n",
    "        dropout = trial.suggest_float(\"dropout\", 0.2, 0.5)\n",
    "        dropouts.append(dropout)\n",
    "        \n",
    "    print(neuronios, dropouts)\n",
    "\n",
    "    model = MLP(num_dados_entrada, num_targets, neuronios, dropouts)\n",
    "    datamodule = DataModule(X_treino, y_treino, X_val, y_val, X_teste, y_teste)\n",
    "    \n",
    "    early_stop_callback = EarlyStopping(monitor=\"val_loss\", mode=\"min\", patience=3)\n",
    "    treinador= L.Trainer(max_epochs=MAX_EPOCHS, callbacks=[early_stop_callback], enable_progress_bar=False) \n",
    "    \n",
    "    treinador.fit(model, datamodule=datamodule)\n",
    "\n",
    "    return treinador.callback_metrics[\"val_loss\"].item()"
   ]
  },
  {
   "cell_type": "markdown",
   "id": "ae316c67-e98b-4bb8-8bdc-0834c3e2b0d1",
   "metadata": {},
   "source": [
    "Nesta célula, utilizamos a função e a classe definidas anteriormente para testar diferentes arquiteturas, totalizando 150."
   ]
  },
  {
   "cell_type": "code",
   "execution_count": null,
   "id": "0af1bb7a-baad-4b85-a37c-4a77364850dc",
   "metadata": {},
   "outputs": [],
   "source": [
    "N_TRIALS = 150\n",
    "num_dados_entrada = 6\n",
    "num_targets = 1\n",
    "\n",
    "if __name__ == \"__main__\":\n",
    "    study = optuna.create_study(direction=\"minimize\")\n",
    "    study.optimize(objective, n_trials=N_TRIALS)\n",
    "\n",
    "    print(\"Best trial:\")\n",
    "    trial = study.best_trial\n",
    "    print(f\"  Value: {trial.value}\")\n",
    "    print(\"  Params: \")\n",
    "    for key, value in trial.params.items():\n",
    "        print(f\"    {key}: {value}\")"
   ]
  },
  {
   "cell_type": "markdown",
   "id": "aaa7c24f-6a03-4b23-99f5-7bfb0031a5de",
   "metadata": {},
   "source": [
    "Nesta célula, criamos o DataModule modelo e selecionamos os parâmetros com melhor desempenho no estudo de arquiteturas. A partir disso, criamos nosso modelo."
   ]
  },
  {
   "cell_type": "code",
   "execution_count": 39,
   "id": "07f6f3dd-c9ed-4623-9ca8-bc3e88a3e5eb",
   "metadata": {},
   "outputs": [
    {
     "data": {
      "text/plain": [
       "MLP(\n",
       "  (camadas): Sequential(\n",
       "    (0): Linear(in_features=6, out_features=106, bias=True)\n",
       "    (1): ReLU()\n",
       "    (2): Dropout(p=0.21526056650628722, inplace=False)\n",
       "    (3): Linear(in_features=106, out_features=1, bias=True)\n",
       "  )\n",
       ")"
      ]
     },
     "execution_count": 39,
     "metadata": {},
     "output_type": "execute_result"
    }
   ],
   "source": [
    "# Criar DataModule\n",
    "datamodule = DataModule(X_treino, y_treino, X_val, y_val, X_teste, y_teste)\n",
    "     \n",
    "camadas = [key for key in trial.params.keys() if key.startswith('n_units')]\n",
    "    \n",
    "neuronios = []\n",
    "    \n",
    "for k in camadas:\n",
    "    neuronios.append(trial.params[f'{k}'])\n",
    "    \n",
    "dropouts = [trial.params.get('dropout')] * len(camadas)\n",
    "\n",
    "\n",
    "# Criar o modelo com os parâmetros do melhor teste\n",
    "melhor_modelo = MLP(num_dados_entrada, num_targets, neuronios, dropouts)\n",
    "\n",
    "melhor_modelo.train()"
   ]
  },
  {
   "cell_type": "markdown",
   "id": "5fa5dbf4-dfc1-41c3-a93f-cdb26e5498bd",
   "metadata": {},
   "source": [
    "Nesta etapa, realizamos o treinamento do modelo. Uma definição importante é que o treinamento irá ocorrer até que o número de épocas seja atingido ou até que ocorra uma piora em três épocas consecutivas."
   ]
  },
  {
   "cell_type": "code",
   "execution_count": 40,
   "id": "a4cc53c1-c07e-47b5-8dbf-482b85a13b36",
   "metadata": {
    "scrolled": true
   },
   "outputs": [
    {
     "name": "stderr",
     "output_type": "stream",
     "text": [
      "GPU available: True (cuda), used: True\n",
      "TPU available: False, using: 0 TPU cores\n",
      "IPU available: False, using: 0 IPUs\n",
      "HPU available: False, using: 0 HPUs\n",
      "LOCAL_RANK: 0 - CUDA_VISIBLE_DEVICES: [0]\n",
      "\n",
      "  | Name    | Type       | Params\n",
      "---------------------------------------\n",
      "0 | camadas | Sequential | 849   \n",
      "---------------------------------------\n",
      "849       Trainable params\n",
      "0         Non-trainable params\n",
      "849       Total params\n",
      "0.003     Total estimated model params size (MB)\n",
      "SLURM auto-requeueing enabled. Setting signal handlers.\n",
      "`Trainer.fit` stopped: `max_epochs=100` reached.\n"
     ]
    }
   ],
   "source": [
    "# Treinar o modelo com o Trainer\n",
    "MAX_EPOCHS = 100\n",
    "\n",
    "early_stop_callback = EarlyStopping(monitor=\"val_loss\", mode=\"min\", patience=3)\n",
    "treinador= L.Trainer(max_epochs=MAX_EPOCHS, callbacks=[early_stop_callback], enable_progress_bar=False) \n",
    "treinador.fit(melhor_modelo, datamodule=datamodule)"
   ]
  },
  {
   "cell_type": "markdown",
   "id": "f4e3c039-2cb5-4350-8a31-64de067f8177",
   "metadata": {},
   "source": [
    "O gráfico abaixo apresenta a curva de aprendizado, comparando o desempenho do treino com a validação, agora do nosso modelo real."
   ]
  },
  {
   "cell_type": "code",
   "execution_count": 47,
   "id": "3b969d97-eaab-4ae2-b44c-88fa9cff652b",
   "metadata": {},
   "outputs": [
    {
     "data": {
      "text/plain": [
       "Text(0, 0.5, 'Loss')"
      ]
     },
     "execution_count": 47,
     "metadata": {},
     "output_type": "execute_result"
    },
    {
     "data": {
      "image/png": "[encoded data removed]",
      "text/plain": [
       "<Figure size 640x480 with 1 Axes>"
      ]
     },
     "metadata": {},
     "output_type": "display_data"
    }
   ],
   "source": [
    "# Plot treino e validação\n",
    "    \n",
    "figura, eixo = plt.subplots()\n",
    "\n",
    "ca_treino_melhor_modelo = melhor_modelo.curva_aprendizado_treino\n",
    "ca_val_melhor_modelo = melhor_modelo.curva_aprendizado_val\n",
    "\n",
    "eixo.plot(ca_treino_melhor_modelo, label=\"Treino\")\n",
    "eixo.plot(ca_val_melhor_modelo, label=\"Validação\")\n",
    "\n",
    "eixo.legend()\n",
    "\n",
    "eixo.set_xlim(left=0)\n",
    "\n",
    "eixo.set_title(\"Curva de aprendizado\")\n",
    "eixo.set_xlabel(\"Época\")\n",
    "eixo.set_ylabel(\"Loss\")"
   ]
  },
  {
   "cell_type": "markdown",
   "id": "378fd70e-9f6f-45ac-808a-0d95fd19c5ee",
   "metadata": {},
   "source": [
    "## Testando o melhor modelo encontrado"
   ]
  },
  {
   "cell_type": "markdown",
   "id": "80cd7171-ea51-4c62-91cf-8a090aaa6a81",
   "metadata": {},
   "source": [
    "Antes de testar a rede neural que treinamos precisamos deixá-la no modo de avaliação.\n",
    "\n"
   ]
  },
  {
   "cell_type": "code",
   "execution_count": 48,
   "id": "69fe9771-04e6-4488-9da3-3c4529e845e5",
   "metadata": {},
   "outputs": [
    {
     "data": {
      "text/plain": [
       "MLP(\n",
       "  (camadas): Sequential(\n",
       "    (0): Linear(in_features=6, out_features=106, bias=True)\n",
       "    (1): ReLU()\n",
       "    (2): Dropout(p=0.21526056650628722, inplace=False)\n",
       "    (3): Linear(in_features=106, out_features=1, bias=True)\n",
       "  )\n",
       ")"
      ]
     },
     "execution_count": 48,
     "metadata": {},
     "output_type": "execute_result"
    }
   ],
   "source": [
    "melhor_modelo.eval()"
   ]
  },
  {
   "cell_type": "markdown",
   "id": "ff09ed16-7e00-46d4-8382-5136c79018f7",
   "metadata": {},
   "source": [
    "Antes de computar a métrica, temos que configurar a instância do `DataModule` no modo teste, criar um ambiente onde não computamos os gradientes locais (ambiente `no_grad`), computar os valores previstos do target e, finalmente, desnormalizar os dados com o `inverse_transform`.\n",
    "\n"
   ]
  },
  {
   "cell_type": "code",
   "execution_count": 49,
   "id": "bc11d536-b329-4876-86dd-14ee9f802a48",
   "metadata": {},
   "outputs": [
    {
     "name": "stdout",
     "output_type": "stream",
     "text": [
      "80.65721991248533\n"
     ]
    },
    {
     "name": "stderr",
     "output_type": "stream",
     "text": [
      "/home/joao23022/anaconda3/envs/redes/lib/python3.12/site-packages/sklearn/metrics/_regression.py:483: FutureWarning: 'squared' is deprecated in version 1.4 and will be removed in 1.6. To calculate the root mean squared error, use the function'root_mean_squared_error'.\n",
      "  warnings.warn(\n"
     ]
    }
   ],
   "source": [
    "datamodule.setup(\"test\")\n",
    "\n",
    "with torch.no_grad():\n",
    "    X_true = datamodule.X_teste\n",
    "\n",
    "    y_true = datamodule.y_teste\n",
    "    y_true = y_scaler.inverse_transform(y_true)\n",
    "\n",
    "    y_pred = melhor_modelo(X_true)\n",
    "    y_pred = y_scaler.inverse_transform(y_pred)\n",
    "\n",
    "    RMSE = mean_squared_error(y_true, y_pred, squared=False)\n",
    "\n",
    "    print(RMSE)"
   ]
  },
  {
   "cell_type": "markdown",
   "id": "6356e2bb-ca7d-4eef-8f89-5893c217c013",
   "metadata": {},
   "source": [
    "Agora que concluímos todo o treinamento, podemos perceber que houve uma melhoria significativa no RMSE do primeiro modelo de teste para este, que passou pelo processo de otimização. Antes, o RMSE era de 200 e agora diminuiu para 80. Embora o modelo não seja perfeito, é razoável. Para melhorar ainda mais o RMSE, seria necessário testar mais arquiteturas ou variar outros parâmetros."
   ]
  },
  {
   "cell_type": "code",
   "execution_count": null,
   "id": "ff876557-fa1f-495c-8fc5-a411fc0f2341",
   "metadata": {},
   "outputs": [],
   "source": []
  }
 ],
 "metadata": {
  "kernelspec": {
   "display_name": "ilumpy",
   "language": "python",
   "name": "ilumpy"
  },
  "language_info": {
   "codemirror_mode": {
    "name": "ipython",
    "version": 3
   },
   "file_extension": ".py",
   "mimetype": "text/x-python",
   "name": "python",
   "nbconvert_exporter": "python",
   "pygments_lexer": "ipython3",
   "version": "3.10.8"
  }
 },
 "nbformat": 4,
 "nbformat_minor": 5
}
